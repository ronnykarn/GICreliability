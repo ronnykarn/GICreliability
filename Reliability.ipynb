{
 "cells": [
  {
   "cell_type": "code",
   "execution_count": null,
   "id": "5312fa44",
   "metadata": {
    "pycharm": {
     "name": "#%%\n",
     "is_executing": true
    }
   },
   "outputs": [],
   "source": [
    "import numpy as np\n",
    "import matplotlib.pyplot as plt\n",
    "from numpy import linalg as la\n",
    "import pandas as pd\n",
    "from sklearn.decomposition import PCA\n",
    "from matplotlib.pyplot import figure\n",
    "import matplotlib.colors as mcolors\n",
    "from matplotlib import cm\n",
    "import csv\n",
    "from PIL import Image \n",
    "import PIL\n",
    "import os\n",
    "from scipy.optimize import curve_fit\n",
    "from scipy.fft import fft, ifft\n",
    "import math"
   ]
  },
  {
   "cell_type": "code",
   "execution_count": null,
   "id": "e1cfafa5",
   "metadata": {
    "pycharm": {
     "name": "#%%\n"
    }
   },
   "outputs": [],
   "source": [
    "data = pd.read_csv(\"GMD_data.csv\")"
   ]
  },
  {
   "cell_type": "code",
   "execution_count": 3,
   "id": "9ee35e12",
   "metadata": {
    "pycharm": {
     "name": "#%%\n"
    }
   },
   "outputs": [
    {
     "data": {
      "text/plain": "        YYY  MM  DD   days   days_m   Bsr  dB    Kp1    Kp2    Kp3  ...  ap4  \\\n0      1932   1   1      0      0.5  1352  10  3.333  2.667  2.333  ...   12   \n1      1932   1   2      1      1.5  1352  11  3.667  3.667  3.333  ...   22   \n2      1932   1   3      2      2.5  1352  12  3.333  3.333  3.000  ...    4   \n3      1932   1   4      3      3.5  1352  13  2.000  0.333  1.000  ...    0   \n4      1932   1   5      4      4.5  1352  14  0.000  0.000  0.333  ...    3   \n...     ...  ..  ..    ...      ...   ...  ..    ...    ...    ...  ...  ...   \n33356  2023   4  29  33356  33356.5  2587  21  3.333  3.333  3.667  ...   27   \n33357  2023   4  30  33357  33357.5  2587  22  3.000  3.333  3.000  ...    5   \n33358  2023   5   1  33358  33358.5  2587  23  2.667  1.333  2.333  ...    5   \n33359  2023   5   2  33359  33359.5  2587  24  3.000  3.000  2.000  ...   12   \n33360  2023   5   3  33360  33360.5  2587  25  0.000  0.000  0.333  ...    2   \n\n       ap5  ap6  ap7  ap8  Ap   SN  F10.7obs  F10.7adj  D  \n0       18   12   18   18  15   22        -1        -1  2  \n1       18   39   15   48  26   43        -1        -1  2  \n2        9    6   12    7  11   23        -1        -1  2  \n3        4    5    5    4   4   13        -1        -1  2  \n4        2    5    5    7   3   13        -1        -1  2  \n...    ...  ...  ...  ...  ..  ...       ...       ... ..  \n33356   22   22   15    9  19  108       156       158  0  \n33357    7    6    3    6   9  100       154       156  0  \n33358    5    7    9   18   9  102       148       150  0  \n33359    4    3    5    4   8  119       157       159  0  \n33360    3    3    3    6   2  119       156       159  0  \n\n[33361 rows x 28 columns]",
      "text/html": "<div>\n<style scoped>\n    .dataframe tbody tr th:only-of-type {\n        vertical-align: middle;\n    }\n\n    .dataframe tbody tr th {\n        vertical-align: top;\n    }\n\n    .dataframe thead th {\n        text-align: right;\n    }\n</style>\n<table border=\"1\" class=\"dataframe\">\n  <thead>\n    <tr style=\"text-align: right;\">\n      <th></th>\n      <th>YYY</th>\n      <th>MM</th>\n      <th>DD</th>\n      <th>days</th>\n      <th>days_m</th>\n      <th>Bsr</th>\n      <th>dB</th>\n      <th>Kp1</th>\n      <th>Kp2</th>\n      <th>Kp3</th>\n      <th>...</th>\n      <th>ap4</th>\n      <th>ap5</th>\n      <th>ap6</th>\n      <th>ap7</th>\n      <th>ap8</th>\n      <th>Ap</th>\n      <th>SN</th>\n      <th>F10.7obs</th>\n      <th>F10.7adj</th>\n      <th>D</th>\n    </tr>\n  </thead>\n  <tbody>\n    <tr>\n      <th>0</th>\n      <td>1932</td>\n      <td>1</td>\n      <td>1</td>\n      <td>0</td>\n      <td>0.5</td>\n      <td>1352</td>\n      <td>10</td>\n      <td>3.333</td>\n      <td>2.667</td>\n      <td>2.333</td>\n      <td>...</td>\n      <td>12</td>\n      <td>18</td>\n      <td>12</td>\n      <td>18</td>\n      <td>18</td>\n      <td>15</td>\n      <td>22</td>\n      <td>-1</td>\n      <td>-1</td>\n      <td>2</td>\n    </tr>\n    <tr>\n      <th>1</th>\n      <td>1932</td>\n      <td>1</td>\n      <td>2</td>\n      <td>1</td>\n      <td>1.5</td>\n      <td>1352</td>\n      <td>11</td>\n      <td>3.667</td>\n      <td>3.667</td>\n      <td>3.333</td>\n      <td>...</td>\n      <td>22</td>\n      <td>18</td>\n      <td>39</td>\n      <td>15</td>\n      <td>48</td>\n      <td>26</td>\n      <td>43</td>\n      <td>-1</td>\n      <td>-1</td>\n      <td>2</td>\n    </tr>\n    <tr>\n      <th>2</th>\n      <td>1932</td>\n      <td>1</td>\n      <td>3</td>\n      <td>2</td>\n      <td>2.5</td>\n      <td>1352</td>\n      <td>12</td>\n      <td>3.333</td>\n      <td>3.333</td>\n      <td>3.000</td>\n      <td>...</td>\n      <td>4</td>\n      <td>9</td>\n      <td>6</td>\n      <td>12</td>\n      <td>7</td>\n      <td>11</td>\n      <td>23</td>\n      <td>-1</td>\n      <td>-1</td>\n      <td>2</td>\n    </tr>\n    <tr>\n      <th>3</th>\n      <td>1932</td>\n      <td>1</td>\n      <td>4</td>\n      <td>3</td>\n      <td>3.5</td>\n      <td>1352</td>\n      <td>13</td>\n      <td>2.000</td>\n      <td>0.333</td>\n      <td>1.000</td>\n      <td>...</td>\n      <td>0</td>\n      <td>4</td>\n      <td>5</td>\n      <td>5</td>\n      <td>4</td>\n      <td>4</td>\n      <td>13</td>\n      <td>-1</td>\n      <td>-1</td>\n      <td>2</td>\n    </tr>\n    <tr>\n      <th>4</th>\n      <td>1932</td>\n      <td>1</td>\n      <td>5</td>\n      <td>4</td>\n      <td>4.5</td>\n      <td>1352</td>\n      <td>14</td>\n      <td>0.000</td>\n      <td>0.000</td>\n      <td>0.333</td>\n      <td>...</td>\n      <td>3</td>\n      <td>2</td>\n      <td>5</td>\n      <td>5</td>\n      <td>7</td>\n      <td>3</td>\n      <td>13</td>\n      <td>-1</td>\n      <td>-1</td>\n      <td>2</td>\n    </tr>\n    <tr>\n      <th>...</th>\n      <td>...</td>\n      <td>...</td>\n      <td>...</td>\n      <td>...</td>\n      <td>...</td>\n      <td>...</td>\n      <td>...</td>\n      <td>...</td>\n      <td>...</td>\n      <td>...</td>\n      <td>...</td>\n      <td>...</td>\n      <td>...</td>\n      <td>...</td>\n      <td>...</td>\n      <td>...</td>\n      <td>...</td>\n      <td>...</td>\n      <td>...</td>\n      <td>...</td>\n      <td>...</td>\n    </tr>\n    <tr>\n      <th>33356</th>\n      <td>2023</td>\n      <td>4</td>\n      <td>29</td>\n      <td>33356</td>\n      <td>33356.5</td>\n      <td>2587</td>\n      <td>21</td>\n      <td>3.333</td>\n      <td>3.333</td>\n      <td>3.667</td>\n      <td>...</td>\n      <td>27</td>\n      <td>22</td>\n      <td>22</td>\n      <td>15</td>\n      <td>9</td>\n      <td>19</td>\n      <td>108</td>\n      <td>156</td>\n      <td>158</td>\n      <td>0</td>\n    </tr>\n    <tr>\n      <th>33357</th>\n      <td>2023</td>\n      <td>4</td>\n      <td>30</td>\n      <td>33357</td>\n      <td>33357.5</td>\n      <td>2587</td>\n      <td>22</td>\n      <td>3.000</td>\n      <td>3.333</td>\n      <td>3.000</td>\n      <td>...</td>\n      <td>5</td>\n      <td>7</td>\n      <td>6</td>\n      <td>3</td>\n      <td>6</td>\n      <td>9</td>\n      <td>100</td>\n      <td>154</td>\n      <td>156</td>\n      <td>0</td>\n    </tr>\n    <tr>\n      <th>33358</th>\n      <td>2023</td>\n      <td>5</td>\n      <td>1</td>\n      <td>33358</td>\n      <td>33358.5</td>\n      <td>2587</td>\n      <td>23</td>\n      <td>2.667</td>\n      <td>1.333</td>\n      <td>2.333</td>\n      <td>...</td>\n      <td>5</td>\n      <td>5</td>\n      <td>7</td>\n      <td>9</td>\n      <td>18</td>\n      <td>9</td>\n      <td>102</td>\n      <td>148</td>\n      <td>150</td>\n      <td>0</td>\n    </tr>\n    <tr>\n      <th>33359</th>\n      <td>2023</td>\n      <td>5</td>\n      <td>2</td>\n      <td>33359</td>\n      <td>33359.5</td>\n      <td>2587</td>\n      <td>24</td>\n      <td>3.000</td>\n      <td>3.000</td>\n      <td>2.000</td>\n      <td>...</td>\n      <td>12</td>\n      <td>4</td>\n      <td>3</td>\n      <td>5</td>\n      <td>4</td>\n      <td>8</td>\n      <td>119</td>\n      <td>157</td>\n      <td>159</td>\n      <td>0</td>\n    </tr>\n    <tr>\n      <th>33360</th>\n      <td>2023</td>\n      <td>5</td>\n      <td>3</td>\n      <td>33360</td>\n      <td>33360.5</td>\n      <td>2587</td>\n      <td>25</td>\n      <td>0.000</td>\n      <td>0.000</td>\n      <td>0.333</td>\n      <td>...</td>\n      <td>2</td>\n      <td>3</td>\n      <td>3</td>\n      <td>3</td>\n      <td>6</td>\n      <td>2</td>\n      <td>119</td>\n      <td>156</td>\n      <td>159</td>\n      <td>0</td>\n    </tr>\n  </tbody>\n</table>\n<p>33361 rows × 28 columns</p>\n</div>"
     },
     "execution_count": 3,
     "metadata": {},
     "output_type": "execute_result"
    }
   ],
   "source": [
    "data"
   ]
  },
  {
   "cell_type": "code",
   "execution_count": 4,
   "id": "95df4fe0",
   "metadata": {
    "pycharm": {
     "name": "#%%\n"
    }
   },
   "outputs": [],
   "source": [
    "G1 = []\n",
    "G2 = []\n",
    "G3 = []\n",
    "G34 = []\n",
    "G4 = []\n",
    "G5 = []"
   ]
  },
  {
   "cell_type": "code",
   "execution_count": 4,
   "id": "254a2b50",
   "metadata": {
    "pycharm": {
     "name": "#%%\n"
    }
   },
   "outputs": [],
   "source": []
  },
  {
   "cell_type": "code",
   "execution_count": 5,
   "id": "cbcab355",
   "metadata": {
    "pycharm": {
     "name": "#%%\n"
    }
   },
   "outputs": [],
   "source": [
    "for i in range(len(data)):\n",
    "    kp1_G1 = (data['Kp1'][i] >= 5) & (data['Kp1'][i]<6)\n",
    "    kp2_G1 = (data['Kp2'][i] >= 5) & (data['Kp2'][i]<6)\n",
    "    kp3_G1 = (data['Kp3'][i] >= 5) & (data['Kp3'][i]<6)\n",
    "    kp4_G1 = (data['Kp4'][i] >= 5) & (data['Kp4'][i]<6)\n",
    "    kp5_G1 = (data['Kp5'][i] >= 5) & (data['Kp5'][i]<6)\n",
    "    kp6_G1 = (data['Kp6'][i] >= 5) & (data['Kp6'][i]<6)\n",
    "    kp7_G1 = (data['Kp7'][i] >= 5) & (data['Kp7'][i]<6)\n",
    "    kp8_G1 = (data['Kp8'][i] >= 5) & (data['Kp8'][i]<6)\n",
    "    \n",
    "    kp1_G2 = (data['Kp1'][i] >= 6) & (data['Kp1'][i]<7)\n",
    "    kp2_G2 = (data['Kp2'][i] >= 6) & (data['Kp2'][i]<7)\n",
    "    kp3_G2 = (data['Kp3'][i] >= 6) & (data['Kp3'][i]<7)\n",
    "    kp4_G2 = (data['Kp4'][i] >= 6) & (data['Kp4'][i]<7)\n",
    "    kp5_G2 = (data['Kp5'][i] >= 6) & (data['Kp5'][i]<7)\n",
    "    kp6_G2 = (data['Kp6'][i] >= 6) & (data['Kp6'][i]<7)\n",
    "    kp7_G2 = (data['Kp7'][i] >= 6) & (data['Kp7'][i]<7)\n",
    "    kp8_G2 = (data['Kp8'][i] >= 6) & (data['Kp8'][i]<7)\n",
    "    \n",
    "    kp1_G3 = (data['Kp1'][i] >= 7) & (data['Kp1'][i]<8)\n",
    "    kp2_G3 = (data['Kp2'][i] >= 7) & (data['Kp2'][i]<8)\n",
    "    kp3_G3 = (data['Kp3'][i] >= 7) & (data['Kp3'][i]<8)\n",
    "    kp4_G3 = (data['Kp4'][i] >= 7) & (data['Kp4'][i]<8)\n",
    "    kp5_G3 = (data['Kp5'][i] >= 7) & (data['Kp5'][i]<8)\n",
    "    kp6_G3 = (data['Kp6'][i] >= 7) & (data['Kp6'][i]<8)\n",
    "    kp7_G3 = (data['Kp7'][i] >= 7) & (data['Kp7'][i]<8)\n",
    "    kp8_G3 = (data['Kp8'][i] >= 7) & (data['Kp8'][i]<8)\n",
    "    \n",
    "    kp1_G34 = (data['Kp1'][i] >= 7.5) & (data['Kp1'][i]<8)\n",
    "    kp2_G34 = (data['Kp2'][i] >= 7.5) & (data['Kp2'][i]<8)\n",
    "    kp3_G34 = (data['Kp3'][i] >= 7.5) & (data['Kp3'][i]<8)\n",
    "    kp4_G34 = (data['Kp4'][i] >= 7.5) & (data['Kp4'][i]<8)\n",
    "    kp5_G34 = (data['Kp5'][i] >= 7.5) & (data['Kp5'][i]<8)\n",
    "    kp6_G34 = (data['Kp6'][i] >= 7.5) & (data['Kp6'][i]<8)\n",
    "    kp7_G34 = (data['Kp7'][i] >= 7.5) & (data['Kp7'][i]<8)\n",
    "    kp8_G34 = (data['Kp8'][i] >= 7.5) & (data['Kp8'][i]<8)\n",
    "    \n",
    "    kp1_G4 = (data['Kp1'][i] >= 8) & (data['Kp1'][i]<=9)\n",
    "    kp2_G4 = (data['Kp2'][i] >= 8) & (data['Kp2'][i]<=9)\n",
    "    kp3_G4 = (data['Kp3'][i] >= 8) & (data['Kp3'][i]<=9)\n",
    "    kp4_G4 = (data['Kp4'][i] >= 8) & (data['Kp4'][i]<=9)\n",
    "    kp5_G4 = (data['Kp5'][i] >= 8) & (data['Kp5'][i]<=9)\n",
    "    kp6_G4 = (data['Kp6'][i] >= 8) & (data['Kp6'][i]<=9)\n",
    "    kp7_G4 = (data['Kp7'][i] >= 8) & (data['Kp7'][i]<=9)\n",
    "    kp8_G4 = (data['Kp8'][i] >= 8) & (data['Kp8'][i]<=9)\n",
    "    \n",
    "    kp1_G5 = (data['Kp1'][i] > 9)\n",
    "    kp2_G5 = (data['Kp2'][i] > 9)\n",
    "    kp3_G5 = (data['Kp3'][i] > 9)\n",
    "    kp4_G5 = (data['Kp4'][i] > 9)\n",
    "    kp5_G5 = (data['Kp5'][i] > 9)\n",
    "    kp6_G5 = (data['Kp6'][i] > 9)\n",
    "    kp7_G5 = (data['Kp7'][i] > 9)\n",
    "    kp8_G5 = (data['Kp8'][i] > 9)\n",
    "    \n",
    "    if(kp1_G5 | kp2_G5 | kp3_G5 | kp4_G5 | kp5_G5 | kp6_G5 | kp7_G5 | kp8_G5):\n",
    "        G5.append([data['YYY'][i],data['MM'][i],data['DD'][i],data['Kp1'][i],data['Kp2'][i],data['Kp3'][i],data['Kp4'][i], \\\n",
    "                  data['Kp5'][i],data['Kp6'][i],data['Kp7'][i],data['Kp8'][i]])\n",
    "    elif(kp1_G4 | kp2_G4 | kp3_G4 | kp4_G4 | kp5_G4 | kp6_G4 | kp7_G4 | kp8_G4):\n",
    "        G4.append([data['YYY'][i],data['MM'][i],data['DD'][i],data['Kp1'][i],data['Kp2'][i],data['Kp3'][i],data['Kp4'][i], \\\n",
    "                  data['Kp5'][i],data['Kp6'][i],data['Kp7'][i],data['Kp8'][i]])\n",
    "    elif kp1_G34 | kp2_G34 | kp3_G34 | kp4_G34 | kp5_G34 | kp6_G34 | kp7_G34 | kp8_G34:\n",
    "        G34.append([data['YYY'][i],data['MM'][i],data['DD'][i],data['Kp1'][i],data['Kp2'][i],data['Kp3'][i],data['Kp4'][i], \\\n",
    "                  data['Kp5'][i],data['Kp6'][i],data['Kp7'][i],data['Kp8'][i]])\n",
    "    elif(kp1_G3 | kp2_G3 | kp3_G3 | kp4_G3 | kp5_G3 | kp6_G3 | kp7_G3 | kp8_G3):\n",
    "        G3.append([data['YYY'][i],data['MM'][i],data['DD'][i],data['Kp1'][i],data['Kp2'][i],data['Kp3'][i],data['Kp4'][i], \\\n",
    "                  data['Kp5'][i],data['Kp6'][i],data['Kp7'][i],data['Kp8'][i]])\n",
    "    elif(kp1_G2 | kp2_G2 | kp3_G2 | kp4_G2 | kp5_G2 | kp6_G2 | kp7_G2 | kp8_G2):\n",
    "        G2.append([data['YYY'][i],data['MM'][i],data['DD'][i],data['Kp1'][i],data['Kp2'][i],data['Kp3'][i],data['Kp4'][i], \\\n",
    "                  data['Kp5'][i],data['Kp6'][i],data['Kp7'][i],data['Kp8'][i]])\n",
    "    elif(kp1_G1 | kp2_G1 | kp3_G1 | kp4_G1 | kp5_G1 | kp6_G1 | kp7_G1 | kp8_G1):\n",
    "        G1.append([data['YYY'][i],data['MM'][i],data['DD'][i],data['Kp1'][i],data['Kp2'][i],data['Kp3'][i],data['Kp4'][i], \\\n",
    "                  data['Kp5'][i],data['Kp6'][i],data['Kp7'][i],data['Kp8'][i]])"
   ]
  },
  {
   "cell_type": "code",
   "execution_count": 6,
   "id": "7d0d46d6",
   "metadata": {
    "pycharm": {
     "name": "#%%\n"
    }
   },
   "outputs": [],
   "source": [
    "number_G1 = len(G1)\n",
    "number_G2 = len(G2)\n",
    "number_G3 = len(G3)\n",
    "number_G34 = len(G34)\n",
    "number_G4 = len(G4)\n",
    "number_G5 = len(G5)"
   ]
  },
  {
   "cell_type": "code",
   "execution_count": 7,
   "id": "ffe28823",
   "metadata": {
    "pycharm": {
     "name": "#%%\n"
    }
   },
   "outputs": [
    {
     "name": "stdout",
     "output_type": "stream",
     "text": [
      "3332\n",
      "1345\n",
      "502\n",
      "238\n",
      "0\n"
     ]
    }
   ],
   "source": [
    "print(number_G1)\n",
    "print(number_G2)\n",
    "print(number_G3+number_G34)\n",
    "print(number_G4)\n",
    "print(number_G5)"
   ]
  },
  {
   "cell_type": "code",
   "execution_count": 8,
   "id": "42f17572",
   "metadata": {
    "pycharm": {
     "name": "#%%\n"
    }
   },
   "outputs": [],
   "source": [
    "#Currently broken need to fix and include month & day, not just day\n",
    "Reduce_G1 = []\n",
    "count_G1 = 0\n",
    "for i in range(len(G1)-1):\n",
    "    year_diff = abs(G1[i+1][0]-G1[i][0])\n",
    "    month_diff = abs(G1[i+1][1]-G1[i][1])\n",
    "    day_diff = abs(G1[i+1][2]-G1[i][2])\n",
    "    if((day_diff>5) | (month_diff > 0)):\n",
    "        count_G1 += 1\n",
    "        Reduce_G1.append(G1[i])"
   ]
  },
  {
   "cell_type": "code",
   "execution_count": 9,
   "id": "63ecc9d8",
   "metadata": {
    "pycharm": {
     "name": "#%%\n"
    }
   },
   "outputs": [],
   "source": [
    "Reduce_G2 = []\n",
    "count_G2 = 0\n",
    "for i in range(len(G2)-1):\n",
    "    year_diff = abs(G2[i+1][0]-G2[i][0])\n",
    "    month_diff = abs(G2[i+1][1]-G2[i][1])\n",
    "    day_diff = abs(G2[i+1][2]-G2[i][2])\n",
    "    if((day_diff>5) | (month_diff > 0) | (year_diff > 0)):\n",
    "        count_G2 += 1\n",
    "        Reduce_G2.append(G2[i])"
   ]
  },
  {
   "cell_type": "code",
   "execution_count": 10,
   "id": "26d8be7b",
   "metadata": {
    "pycharm": {
     "name": "#%%\n"
    }
   },
   "outputs": [],
   "source": [
    "Reduce_G3 = []\n",
    "count_G3 = 0\n",
    "for i in range(len(G3)-1):\n",
    "    year_diff = abs(G3[i+1][0]-G3[i][0])\n",
    "    month_diff = abs(G3[i+1][1]-G3[i][1])\n",
    "    day_diff = abs(G3[i+1][2]-G3[i][2])\n",
    "    if((day_diff>5) | (month_diff > 0) | (year_diff > 0)):\n",
    "        count_G3 += 1\n",
    "        Reduce_G3.append(G3[i])"
   ]
  },
  {
   "cell_type": "code",
   "execution_count": 11,
   "id": "80e4eb00",
   "metadata": {
    "pycharm": {
     "name": "#%%\n"
    }
   },
   "outputs": [],
   "source": [
    "Reduce_G34 = []\n",
    "count_G34 = 0\n",
    "for i in range(len(G34)-1):\n",
    "    year_diff = abs(G34[i+1][0]-G34[i][0])\n",
    "    month_diff = abs(G34[i+1][1]-G34[i][1])\n",
    "    day_diff = abs(G34[i+1][2]-G34[i][2])\n",
    "    if((day_diff>5) | (month_diff > 0) | (year_diff > 0)):\n",
    "        count_G34 += 1\n",
    "        Reduce_G34.append(G34[i])"
   ]
  },
  {
   "cell_type": "code",
   "execution_count": 12,
   "id": "436fdbbe",
   "metadata": {
    "pycharm": {
     "name": "#%%\n"
    }
   },
   "outputs": [],
   "source": [
    "Reduce_G4 = []\n",
    "count_G4 = 0\n",
    "for i in range(len(G4)-1):\n",
    "    year_diff = abs(G4[i+1][0]-G4[i][0])\n",
    "    month_diff = abs(G4[i+1][1]-G4[i][1])\n",
    "    day_diff = abs(G4[i+1][2]-G4[i][2])\n",
    "    if((day_diff>5) | (month_diff > 0) | (year_diff > 0)):\n",
    "        count_G4 += 1\n",
    "        Reduce_G4.append(G4[i])"
   ]
  },
  {
   "cell_type": "code",
   "execution_count": 13,
   "id": "ee63ea39",
   "metadata": {
    "pycharm": {
     "name": "#%%\n"
    }
   },
   "outputs": [],
   "source": [
    "G4_G34 = G34 + G4"
   ]
  },
  {
   "cell_type": "code",
   "execution_count": 14,
   "id": "b9044e86",
   "metadata": {
    "pycharm": {
     "name": "#%%\n"
    }
   },
   "outputs": [],
   "source": [
    "G4_G34.sort()"
   ]
  },
  {
   "cell_type": "code",
   "execution_count": 15,
   "id": "511a42a7",
   "metadata": {
    "pycharm": {
     "name": "#%%\n"
    }
   },
   "outputs": [],
   "source": [
    "Reduce_G4_G34 = []\n",
    "count_G4_G34 = 0\n",
    "for i in range(len(G4_G34)-1):\n",
    "    year_diff = abs(G4_G34[i+1][0]-G4_G34[i][0])\n",
    "    month_diff = abs(G4_G34[i+1][1]-G4_G34[i][1])\n",
    "    day_diff = abs(G4_G34[i+1][2]-G4_G34[i][2])\n",
    "    if((day_diff>5) | (month_diff > 0) | (year_diff > 0)):\n",
    "        count_G4_G34 += 1\n",
    "        Reduce_G4_G34.append(G4_G34[i])"
   ]
  },
  {
   "cell_type": "code",
   "execution_count": 16,
   "id": "82d3f0a7",
   "metadata": {
    "pycharm": {
     "name": "#%%\n"
    }
   },
   "outputs": [
    {
     "name": "stdout",
     "output_type": "stream",
     "text": [
      "363\n"
     ]
    },
    {
     "data": {
      "text/plain": "258"
     },
     "execution_count": 16,
     "metadata": {},
     "output_type": "execute_result"
    }
   ],
   "source": [
    "print(len(G4_G34))\n",
    "count_G4_G34"
   ]
  },
  {
   "cell_type": "code",
   "execution_count": 17,
   "id": "3d02ed78",
   "metadata": {
    "pycharm": {
     "name": "#%%\n"
    }
   },
   "outputs": [],
   "source": [
    "different_yearsG4 = 1\n",
    "temp = Reduce_G4[0][0]\n",
    "G4_years = []\n",
    "G4_years.append(temp)\n",
    "for i in range(len(Reduce_G4)):\n",
    "    if(Reduce_G4[i][0]>temp):\n",
    "        temp = Reduce_G4[i][0]\n",
    "        G4_years.append(Reduce_G4[i][0])\n",
    "        different_yearsG4 += 1"
   ]
  },
  {
   "cell_type": "code",
   "execution_count": 18,
   "id": "3a9fff73",
   "metadata": {
    "pycharm": {
     "name": "#%%\n"
    }
   },
   "outputs": [],
   "source": [
    "different_yearsG34 = 1\n",
    "temp = Reduce_G34[0][0]\n",
    "G34_years = []\n",
    "G34_years.append(temp)\n",
    "for i in range(len(Reduce_G34)):\n",
    "    if(Reduce_G34[i][0]>temp):\n",
    "        temp = Reduce_G34[i][0]\n",
    "        G34_years.append(Reduce_G34[i][0])\n",
    "        different_yearsG34 += 1"
   ]
  },
  {
   "cell_type": "code",
   "execution_count": 19,
   "id": "e2c3ae91",
   "metadata": {
    "pycharm": {
     "name": "#%%\n"
    }
   },
   "outputs": [],
   "source": [
    "different_yearsG4_G34 = 1\n",
    "temp = Reduce_G4_G34[0][0]\n",
    "G4_G34_years = []\n",
    "G4_G34_years.append(temp)\n",
    "for i in range(len(Reduce_G4_G34)):\n",
    "    if(Reduce_G4_G34[i][0]>temp):\n",
    "        temp = Reduce_G4_G34[i][0]\n",
    "        G4_G34_years.append(Reduce_G4_G34[i][0])\n",
    "        different_yearsG4_G34 += 1"
   ]
  },
  {
   "cell_type": "code",
   "execution_count": 20,
   "id": "b46b525a",
   "metadata": {
    "pycharm": {
     "name": "#%%\n"
    }
   },
   "outputs": [],
   "source": [
    "count_G4_G34_peryear = []\n",
    "for i in range(len(G4_G34_years)):\n",
    "    count1 = 0\n",
    "    for j in range(len(Reduce_G4_G34)):\n",
    "        if((Reduce_G4_G34[j][0] == G4_G34_years[i])):\n",
    "            count1 += 1\n",
    "    count_G4_G34_peryear.append([G4_G34_years[i], count1])"
   ]
  },
  {
   "cell_type": "code",
   "execution_count": 21,
   "id": "1210ba11",
   "metadata": {
    "pycharm": {
     "name": "#%%\n"
    }
   },
   "outputs": [],
   "source": [
    "count_G34_peryear = []\n",
    "for i in range(len(G34_years)):\n",
    "    count1 = 0\n",
    "    for j in range(len(Reduce_G34)):\n",
    "        if((Reduce_G34[j][0] == G34_years[i])):\n",
    "            count1 += 1\n",
    "    count_G34_peryear.append([G34_years[i], count1])"
   ]
  },
  {
   "cell_type": "code",
   "execution_count": 22,
   "id": "c618235c",
   "metadata": {
    "pycharm": {
     "name": "#%%\n"
    }
   },
   "outputs": [],
   "source": [
    "count_G4_peryear = []\n",
    "for i in range(len(G4_years)):\n",
    "    count1 = 0\n",
    "    for j in range(len(Reduce_G4)):\n",
    "        if((Reduce_G4[j][0] == G4_years[i])):\n",
    "            count1 += 1\n",
    "    count_G4_peryear.append([G4_years[i], count1])"
   ]
  },
  {
   "cell_type": "code",
   "execution_count": 23,
   "id": "81f59bee",
   "metadata": {
    "pycharm": {
     "name": "#%%\n"
    }
   },
   "outputs": [
    {
     "data": {
      "text/plain": "[<matplotlib.lines.Line2D at 0x205f0374940>]"
     },
     "execution_count": 23,
     "metadata": {},
     "output_type": "execute_result"
    },
    {
     "data": {
      "text/plain": "<Figure size 432x288 with 1 Axes>",
      "image/png": "[encoded data removed]"
     },
     "metadata": {
      "needs_background": "light"
     },
     "output_type": "display_data"
    }
   ],
   "source": [
    "years = []\n",
    "G4_count = []\n",
    "for i in range(len(count_G4_peryear)):\n",
    "    years.append(count_G4_peryear[i][0])\n",
    "    G4_count.append(count_G4_peryear[i][1])\n",
    "    #plt.scatter(count_G4_peryear[i][0],count_G4_peryear[i][1], c = 'blue')\n",
    "plt.plot(years,G4_count)"
   ]
  },
  {
   "cell_type": "code",
   "execution_count": 24,
   "id": "fe6aafa7",
   "metadata": {
    "pycharm": {
     "name": "#%%\n"
    }
   },
   "outputs": [
    {
     "data": {
      "text/plain": "[[1932, 5, 30, 7.0, 8.0, 6.332999999999999, 3.0, 2.667, 3.667, 4.333, 3.0],\n [1937,\n  4,\n  24,\n  1.6669999999999998,\n  2.333,\n  2.0,\n  2.667,\n  4.0,\n  4.667,\n  5.332999999999999,\n  8.0],\n [1937,\n  4,\n  26,\n  5.667000000000001,\n  4.667,\n  3.333,\n  2.333,\n  2.0,\n  5.0,\n  6.667000000000001,\n  8.333],\n [1937,\n  4,\n  28,\n  7.0,\n  8.0,\n  8.0,\n  7.332999999999999,\n  6.667000000000001,\n  6.667000000000001,\n  5.0,\n  5.332999999999999],\n [1937,\n  8,\n  22,\n  1.3330000000000002,\n  6.0,\n  8.0,\n  7.667000000000001,\n  5.667000000000001,\n  3.0,\n  4.333,\n  2.333],\n [1938,\n  1,\n  17,\n  6.667000000000001,\n  6.332999999999999,\n  6.667000000000001,\n  6.332999999999999,\n  8.333,\n  7.667000000000001,\n  4.667,\n  6.332999999999999],\n [1938,\n  1,\n  22,\n  5.667000000000001,\n  7.332999999999999,\n  8.333,\n  8.333,\n  6.667000000000001,\n  7.0,\n  5.332999999999999,\n  4.333],\n [1938,\n  1,\n  25,\n  4.0,\n  2.667,\n  1.6669999999999998,\n  4.667,\n  6.0,\n  7.332999999999999,\n  8.667,\n  8.333],\n [1938, 1, 26, 8.333, 6.332999999999999, 4.333, 4.667, 4.0, 4.333, 4.0, 2.0],\n [1938,\n  4,\n  16,\n  3.333,\n  7.0,\n  9.0,\n  8.0,\n  7.667000000000001,\n  5.667000000000001,\n  4.333,\n  5.332999999999999],\n [1938, 5, 11, 2.667, 2.667, 2.0, 2.333, 2.0, 7.667000000000001, 8.667, 8.667],\n [1939,\n  4,\n  17,\n  5.667000000000001,\n  7.332999999999999,\n  8.0,\n  6.667000000000001,\n  7.667000000000001,\n  7.332999999999999,\n  6.667000000000001,\n  6.332999999999999],\n [1939,\n  4,\n  24,\n  3.333,\n  2.333,\n  2.0,\n  2.333,\n  1.3330000000000002,\n  7.0,\n  8.667,\n  7.332999999999999],\n [1939,\n  10,\n  13,\n  5.0,\n  5.667000000000001,\n  6.332999999999999,\n  4.0,\n  3.667,\n  5.667000000000001,\n  7.667000000000001,\n  8.0],\n [1939,\n  10,\n  15,\n  6.667000000000001,\n  8.0,\n  6.667000000000001,\n  3.333,\n  3.333,\n  4.667,\n  4.0,\n  3.0],\n [1940, 3, 24, 6.332999999999999, 6.0, 5.0, 4.333, 8.0, 9.0, 9.0, 8.333],\n [1940, 3, 25, 8.667, 8.333, 8.333, 8.0, 7.0, 4.667, 6.667000000000001, 8.0],\n [1940, 3, 29, 2.667, 1.6669999999999998, 2.333, 5.0, 5.0, 8.333, 8.0, 8.333],\n [1940,\n  3,\n  30,\n  8.667,\n  8.333,\n  8.333,\n  8.0,\n  7.332999999999999,\n  7.667000000000001,\n  7.0,\n  5.667000000000001],\n [1940,\n  3,\n  31,\n  7.0,\n  5.332999999999999,\n  4.667,\n  8.333,\n  8.0,\n  7.667000000000001,\n  6.0,\n  6.332999999999999],\n [1940, 4, 3, 8.0, 8.0, 7.0, 4.667, 4.667, 5.0, 6.332999999999999, 3.667],\n [1940,\n  4,\n  25,\n  4.667,\n  8.0,\n  4.0,\n  1.6669999999999998,\n  2.333,\n  5.0,\n  6.667000000000001,\n  6.667000000000001],\n [1940,\n  6,\n  25,\n  4.667,\n  7.0,\n  5.332999999999999,\n  7.332999999999999,\n  8.333,\n  7.667000000000001,\n  7.332999999999999,\n  5.332999999999999],\n [1941, 3, 1, 3.0, 6.332999999999999, 8.0, 8.0, 8.667, 9.0, 8.667, 7.0],\n [1941,\n  7,\n  5,\n  6.332999999999999,\n  6.332999999999999,\n  8.667,\n  8.667,\n  9.0,\n  8.667,\n  6.667000000000001,\n  7.667000000000001],\n [1941,\n  8,\n  4,\n  5.0,\n  7.0,\n  6.0,\n  5.667000000000001,\n  8.333,\n  6.667000000000001,\n  6.332999999999999,\n  6.667000000000001],\n [1941,\n  9,\n  18,\n  2.0,\n  6.667000000000001,\n  8.333,\n  8.667,\n  8.667,\n  8.667,\n  8.667,\n  8.667],\n [1941,\n  9,\n  19,\n  8.667,\n  9.0,\n  8.667,\n  7.332999999999999,\n  4.0,\n  5.0,\n  7.332999999999999,\n  4.0],\n [1942,\n  3,\n  1,\n  3.333,\n  2.667,\n  8.0,\n  8.0,\n  7.332999999999999,\n  5.667000000000001,\n  6.667000000000001,\n  6.667000000000001],\n [1943,\n  8,\n  31,\n  7.0,\n  8.333,\n  7.332999999999999,\n  7.332999999999999,\n  7.667000000000001,\n  7.0,\n  6.332999999999999,\n  4.667],\n [1944, 4, 2, 4.333, 5.0, 8.0, 8.333, 6.0, 4.0, 5.0, 4.0],\n [1944, 12, 16, 4.0, 3.667, 4.333, 6.0, 8.0, 8.333, 5.0, 3.0],\n [1946, 2, 7, 3.667, 2.0, 4.0, 8.333, 7.667000000000001, 8.0, 7.0, 8.0],\n [1946,\n  2,\n  8,\n  8.667,\n  7.667000000000001,\n  7.332999999999999,\n  7.0,\n  5.667000000000001,\n  5.667000000000001,\n  4.0,\n  3.0],\n [1946,\n  3,\n  24,\n  8.0,\n  7.667000000000001,\n  5.0,\n  5.667000000000001,\n  7.332999999999999,\n  8.0,\n  3.333,\n  5.332999999999999],\n [1946,\n  3,\n  25,\n  7.667000000000001,\n  7.332999999999999,\n  7.332999999999999,\n  7.667000000000001,\n  8.333,\n  8.667,\n  7.667000000000001,\n  7.667000000000001],\n [1946, 3, 28, 5.0, 6.0, 8.333, 8.667, 8.667, 8.667, 8.333, 8.0],\n [1946,\n  4,\n  23,\n  3.667,\n  4.0,\n  5.332999999999999,\n  6.0,\n  6.332999999999999,\n  7.667000000000001,\n  7.667000000000001,\n  8.667],\n [1946,\n  4,\n  24,\n  8.333,\n  7.332999999999999,\n  6.667000000000001,\n  6.332999999999999,\n  4.333,\n  6.667000000000001,\n  4.667,\n  3.333],\n [1946, 7, 26, 3.667, 4.0, 3.0, 3.667, 3.333, 3.333, 8.667, 8.0],\n [1946,\n  7,\n  27,\n  8.667,\n  8.667,\n  9.0,\n  6.667000000000001,\n  5.332999999999999,\n  3.667,\n  3.667,\n  2.333],\n [1946, 9, 22, 3.667, 8.333, 7.667000000000001, 8.667, 9.0, 8.333, 7.0, 6.0],\n [1946,\n  9,\n  23,\n  7.332999999999999,\n  7.667000000000001,\n  8.0,\n  6.332999999999999,\n  7.0,\n  8.0,\n  6.0,\n  6.667000000000001],\n [1947,\n  3,\n  3,\n  7.0,\n  5.0,\n  6.667000000000001,\n  7.0,\n  6.332999999999999,\n  5.667000000000001,\n  8.333,\n  8.0],\n [1947,\n  4,\n  17,\n  3.667,\n  3.667,\n  1.6669999999999998,\n  1.6669999999999998,\n  6.332999999999999,\n  6.667000000000001,\n  8.667,\n  8.333],\n [1947,\n  7,\n  17,\n  1.0,\n  0.667,\n  0.667,\n  2.0,\n  1.3330000000000002,\n  7.0,\n  8.0,\n  7.667000000000001],\n [1947, 8, 22, 2.667, 4.0, 5.0, 8.333, 6.332999999999999, 6.0, 4.667, 4.333],\n [1948,\n  3,\n  15,\n  5.667000000000001,\n  8.333,\n  8.0,\n  7.332999999999999,\n  6.332999999999999,\n  7.0,\n  7.667000000000001,\n  5.0],\n [1948,\n  10,\n  17,\n  1.0,\n  0.33299999999999996,\n  3.333,\n  1.3330000000000002,\n  0.33299999999999996,\n  0.33299999999999996,\n  2.333,\n  8.333],\n [1948,\n  10,\n  18,\n  8.333,\n  6.667000000000001,\n  5.332999999999999,\n  3.667,\n  3.667,\n  4.0,\n  5.332999999999999,\n  7.332999999999999],\n [1949, 1, 25, 8.667, 8.0, 6.667000000000001, 4.333, 5.0, 6.0, 8.333, 8.333],\n [1949, 1, 26, 8.333, 8.0, 7.0, 5.667000000000001, 5.0, 5.0, 4.667, 4.0],\n [1949,\n  5,\n  12,\n  2.0,\n  2.0,\n  7.332999999999999,\n  7.332999999999999,\n  8.333,\n  8.667,\n  8.333,\n  7.0],\n [1949,\n  5,\n  13,\n  8.0,\n  7.332999999999999,\n  3.333,\n  2.0,\n  5.332999999999999,\n  3.333,\n  1.0,\n  2.333],\n [1949,\n  10,\n  15,\n  6.0,\n  6.0,\n  7.332999999999999,\n  8.0,\n  7.332999999999999,\n  7.332999999999999,\n  8.333,\n  7.667000000000001],\n [1950,\n  2,\n  20,\n  2.333,\n  2.667,\n  1.6669999999999998,\n  2.333,\n  3.0,\n  5.0,\n  8.667,\n  8.333],\n [1950,\n  8,\n  19,\n  5.667000000000001,\n  4.333,\n  5.667000000000001,\n  6.332999999999999,\n  8.0,\n  8.333,\n  7.667000000000001,\n  8.0],\n [1950,\n  8,\n  20,\n  8.333,\n  8.0,\n  7.667000000000001,\n  7.667000000000001,\n  4.0,\n  3.333,\n  2.333,\n  2.0],\n [1951,\n  6,\n  17,\n  2.333,\n  1.3330000000000002,\n  1.6669999999999998,\n  1.0,\n  0.667,\n  4.667,\n  4.333,\n  8.0],\n [1951,\n  9,\n  25,\n  3.667,\n  4.667,\n  4.667,\n  5.332999999999999,\n  7.332999999999999,\n  7.667000000000001,\n  8.0,\n  8.333],\n [1951,\n  9,\n  26,\n  8.667,\n  7.667000000000001,\n  4.333,\n  3.667,\n  2.667,\n  3.333,\n  2.333,\n  2.667],\n [1951,\n  10,\n  28,\n  0.33299999999999996,\n  3.667,\n  3.333,\n  5.332999999999999,\n  7.0,\n  8.0,\n  8.667,\n  5.0],\n [1952,\n  3,\n  6,\n  8.0,\n  7.332999999999999,\n  6.332999999999999,\n  4.667,\n  4.333,\n  4.0,\n  5.0,\n  5.332999999999999],\n [1952, 4, 21, 2.667, 3.333, 4.0, 4.0, 8.333, 8.0, 7.0, 6.332999999999999],\n [1952,\n  5,\n  27,\n  8.0,\n  5.667000000000001,\n  4.667,\n  5.332999999999999,\n  4.333,\n  5.332999999999999,\n  5.667000000000001,\n  5.0],\n [1952,\n  6,\n  30,\n  5.332999999999999,\n  8.0,\n  7.667000000000001,\n  7.0,\n  3.667,\n  2.333,\n  1.6669999999999998,\n  2.333],\n [1956,\n  2,\n  25,\n  0.667,\n  6.0,\n  8.333,\n  7.332999999999999,\n  6.667000000000001,\n  6.667000000000001,\n  6.667000000000001,\n  3.333],\n [1956,\n  4,\n  27,\n  8.667,\n  8.667,\n  7.667000000000001,\n  7.667000000000001,\n  6.667000000000001,\n  6.667000000000001,\n  7.0,\n  5.667000000000001],\n [1956,\n  5,\n  16,\n  5.332999999999999,\n  7.332999999999999,\n  7.667000000000001,\n  7.0,\n  8.333,\n  7.667000000000001,\n  7.0,\n  7.667000000000001],\n [1956,\n  9,\n  2,\n  5.0,\n  7.667000000000001,\n  8.0,\n  6.667000000000001,\n  4.667,\n  4.0,\n  4.0,\n  3.0],\n [1956, 9, 8, 1.0, 1.0, 3.667, 5.332999999999999, 8.333, 8.0, 6.0, 3.333],\n [1957,\n  1,\n  21,\n  1.6669999999999998,\n  3.333,\n  3.667,\n  3.667,\n  4.667,\n  5.667000000000001,\n  7.667000000000001,\n  8.667],\n [1957,\n  1,\n  22,\n  8.333,\n  6.667000000000001,\n  6.332999999999999,\n  4.667,\n  4.0,\n  4.0,\n  3.0,\n  2.333],\n [1957,\n  3,\n  2,\n  6.0,\n  8.333,\n  8.333,\n  7.0,\n  6.667000000000001,\n  5.332999999999999,\n  6.332999999999999,\n  6.667000000000001],\n [1957,\n  6,\n  30,\n  3.0,\n  6.332999999999999,\n  5.332999999999999,\n  7.667000000000001,\n  8.0,\n  8.0,\n  8.0,\n  8.333],\n [1957,\n  7,\n  2,\n  1.6669999999999998,\n  1.0,\n  2.667,\n  4.667,\n  8.0,\n  6.332999999999999,\n  5.667000000000001,\n  2.333],\n [1957,\n  9,\n  3,\n  6.667000000000001,\n  6.332999999999999,\n  6.332999999999999,\n  7.332999999999999,\n  8.0,\n  8.667,\n  6.0,\n  4.667],\n [1957, 9, 4, 3.667, 4.667, 2.333, 2.667, 8.333, 9.0, 8.0, 8.333],\n [1957,\n  9,\n  5,\n  8.333,\n  8.667,\n  6.667000000000001,\n  5.0,\n  4.667,\n  4.0,\n  5.332999999999999,\n  6.0],\n [1957, 9, 13, 7.667000000000001, 8.333, 8.667, 8.667, 7.0, 6.0, 4.0, 4.0],\n [1957,\n  9,\n  22,\n  4.667,\n  5.667000000000001,\n  5.667000000000001,\n  4.667,\n  8.0,\n  8.333,\n  5.0,\n  7.0],\n [1957,\n  9,\n  23,\n  8.0,\n  8.667,\n  7.667000000000001,\n  7.667000000000001,\n  7.667000000000001,\n  6.667000000000001,\n  6.667000000000001,\n  5.0],\n [1957, 9, 29, 4.0, 5.332999999999999, 5.0, 4.333, 8.0, 8.667, 8.333, 8.0],\n [1958, 2, 11, 9.0, 8.333, 8.667, 8.333, 8.0, 5.332999999999999, 6.0, 6.0],\n [1958,\n  5,\n  31,\n  2.333,\n  4.0,\n  2.0,\n  3.333,\n  4.333,\n  6.332999999999999,\n  7.667000000000001,\n  8.0],\n [1958,\n  6,\n  29,\n  7.0,\n  8.0,\n  6.667000000000001,\n  5.332999999999999,\n  7.667000000000001,\n  6.332999999999999,\n  4.333,\n  2.667],\n [1958,\n  7,\n  8,\n  3.0,\n  2.667,\n  7.332999999999999,\n  7.667000000000001,\n  8.333,\n  9.0,\n  8.667,\n  8.667],\n [1958,\n  9,\n  4,\n  5.0,\n  4.333,\n  3.333,\n  3.667,\n  7.332999999999999,\n  8.667,\n  8.333,\n  8.333],\n [1958,\n  9,\n  5,\n  8.0,\n  7.667000000000001,\n  4.333,\n  4.0,\n  3.333,\n  3.667,\n  5.667000000000001,\n  3.0],\n [1959,\n  3,\n  26,\n  2.333,\n  1.3330000000000002,\n  4.0,\n  6.332999999999999,\n  8.0,\n  5.332999999999999,\n  6.332999999999999,\n  7.332999999999999],\n [1959,\n  3,\n  27,\n  7.332999999999999,\n  7.667000000000001,\n  8.333,\n  6.667000000000001,\n  8.333,\n  8.333,\n  7.667000000000001,\n  6.332999999999999],\n [1959,\n  5,\n  12,\n  7.0,\n  6.667000000000001,\n  6.667000000000001,\n  5.667000000000001,\n  6.667000000000001,\n  8.333,\n  5.332999999999999,\n  4.667],\n [1959, 7, 15, 4.333, 5.0, 8.0, 8.667, 8.667, 9.0, 8.667, 8.667],\n [1959, 7, 17, 3.333, 4.333, 3.333, 3.667, 3.333, 8.333, 8.667, 8.333],\n [1959,\n  7,\n  18,\n  8.0,\n  7.667000000000001,\n  8.0,\n  5.667000000000001,\n  4.667,\n  7.0,\n  4.667,\n  6.0],\n [1959,\n  8,\n  16,\n  4.333,\n  4.333,\n  6.667000000000001,\n  7.332999999999999,\n  8.333,\n  8.0,\n  6.667000000000001,\n  7.332999999999999],\n [1959,\n  8,\n  17,\n  7.667000000000001,\n  8.333,\n  6.667000000000001,\n  6.332999999999999,\n  5.332999999999999,\n  7.0,\n  5.0,\n  5.332999999999999],\n [1959,\n  11,\n  28,\n  6.0,\n  8.0,\n  7.332999999999999,\n  6.667000000000001,\n  4.333,\n  3.667,\n  4.0,\n  4.0],\n [1960,\n  3,\n  31,\n  4.333,\n  4.667,\n  5.0,\n  7.667000000000001,\n  6.667000000000001,\n  8.0,\n  7.667000000000001,\n  8.333],\n [1960, 4, 1, 8.667, 8.667, 7.0, 8.0, 8.333, 8.667, 8.667, 7.332999999999999],\n [1960,\n  4,\n  30,\n  6.667000000000001,\n  6.667000000000001,\n  5.667000000000001,\n  5.667000000000001,\n  8.667,\n  9.0,\n  8.0,\n  7.0],\n [1960,\n  5,\n  8,\n  3.333,\n  6.332999999999999,\n  6.667000000000001,\n  7.332999999999999,\n  8.0,\n  8.333,\n  6.332999999999999,\n  6.667000000000001],\n [1960,\n  7,\n  15,\n  3.0,\n  3.667,\n  3.667,\n  5.0,\n  6.332999999999999,\n  7.332999999999999,\n  7.667000000000001,\n  8.0],\n [1960,\n  7,\n  16,\n  8.333,\n  6.667000000000001,\n  5.667000000000001,\n  5.0,\n  4.333,\n  5.332999999999999,\n  4.667,\n  4.0],\n [1960,\n  9,\n  4,\n  3.667,\n  4.667,\n  6.667000000000001,\n  6.0,\n  6.667000000000001,\n  6.0,\n  6.667000000000001,\n  8.0],\n [1960, 10, 6, 6.0, 8.0, 7.332999999999999, 8.0, 8.0, 8.333, 8.333, 8.667],\n [1960,\n  10,\n  7,\n  9.0,\n  8.667,\n  7.667000000000001,\n  7.667000000000001,\n  7.332999999999999,\n  7.0,\n  5.667000000000001,\n  6.0],\n [1960,\n  11,\n  12,\n  2.0,\n  1.0,\n  2.0,\n  1.6669999999999998,\n  5.0,\n  6.0,\n  7.667000000000001,\n  8.0],\n [1960, 11, 13, 8.667, 8.667, 9.0, 9.0, 8.667, 8.333, 8.0, 6.332999999999999],\n [1960,\n  11,\n  16,\n  8.333,\n  8.333,\n  6.0,\n  5.332999999999999,\n  5.667000000000001,\n  4.667,\n  3.333,\n  3.333],\n [1960,\n  12,\n  1,\n  6.332999999999999,\n  8.0,\n  6.667000000000001,\n  5.0,\n  5.332999999999999,\n  6.0,\n  5.667000000000001,\n  6.0],\n [1961,\n  7,\n  13,\n  0.33299999999999996,\n  1.0,\n  0.667,\n  6.332999999999999,\n  8.0,\n  8.333,\n  7.667000000000001,\n  6.332999999999999],\n [1961,\n  7,\n  14,\n  4.667,\n  3.0,\n  6.667000000000001,\n  8.333,\n  7.332999999999999,\n  6.667000000000001,\n  6.332999999999999,\n  4.0],\n [1961,\n  7,\n  27,\n  4.0,\n  4.333,\n  8.333,\n  8.333,\n  6.0,\n  5.332999999999999,\n  6.332999999999999,\n  7.332999999999999],\n [1961,\n  9,\n  30,\n  2.0,\n  3.0,\n  1.6669999999999998,\n  1.6669999999999998,\n  2.0,\n  0.33299999999999996,\n  4.667,\n  8.0],\n [1961, 10, 1, 8.667, 8.333, 7.0, 7.667000000000001, 4.667, 2.0, 2.0, 2.333],\n [1961,\n  10,\n  28,\n  2.333,\n  2.333,\n  5.0,\n  6.332999999999999,\n  8.0,\n  8.0,\n  8.667,\n  7.332999999999999],\n [1963,\n  9,\n  22,\n  4.333,\n  8.333,\n  7.667000000000001,\n  4.667,\n  4.0,\n  4.667,\n  7.332999999999999,\n  8.667],\n [1963,\n  9,\n  23,\n  8.667,\n  8.0,\n  4.333,\n  4.333,\n  3.333,\n  3.333,\n  3.0,\n  1.6669999999999998],\n [1963,\n  10,\n  29,\n  3.333,\n  2.667,\n  2.333,\n  1.6669999999999998,\n  4.0,\n  7.0,\n  7.667000000000001,\n  8.0],\n [1966,\n  9,\n  3,\n  3.0,\n  3.333,\n  3.667,\n  5.667000000000001,\n  6.0,\n  6.0,\n  7.332999999999999,\n  8.667],\n [1966,\n  9,\n  4,\n  8.667,\n  8.333,\n  7.332999999999999,\n  6.0,\n  5.667000000000001,\n  4.0,\n  3.333,\n  3.0],\n [1967, 2, 16, 3.667, 3.333, 5.0, 8.0, 7.0, 4.0, 4.667, 3.667],\n [1967,\n  5,\n  25,\n  1.6669999999999998,\n  2.0,\n  1.0,\n  5.332999999999999,\n  8.333,\n  7.332999999999999,\n  7.667000000000001,\n  9.0],\n [1967,\n  5,\n  26,\n  9.0,\n  8.667,\n  7.332999999999999,\n  6.667000000000001,\n  6.667000000000001,\n  3.667,\n  4.0,\n  4.667],\n [1967, 6, 6, 8.0, 5.0, 2.0, 1.6669999999999998, 2.333, 2.0, 4.333, 5.0],\n [1968,\n  6,\n  11,\n  7.0,\n  8.0,\n  7.0,\n  6.332999999999999,\n  6.667000000000001,\n  5.0,\n  5.667000000000001,\n  4.333],\n [1968, 10, 31, 4.667, 4.333, 5.0, 7.332999999999999, 8.0, 8.0, 7.0, 6.0],\n [1968, 11, 1, 5.332999999999999, 3.0, 2.667, 6.0, 8.333, 8.0, 7.0, 8.333],\n [1969,\n  2,\n  2,\n  0.0,\n  0.0,\n  1.6669999999999998,\n  2.0,\n  2.0,\n  4.667,\n  8.0,\n  6.667000000000001],\n [1969,\n  3,\n  23,\n  2.0,\n  1.0,\n  1.6669999999999998,\n  2.333,\n  2.333,\n  3.667,\n  6.667000000000001,\n  8.0],\n [1969,\n  3,\n  24,\n  8.0,\n  6.332999999999999,\n  6.667000000000001,\n  7.0,\n  5.332999999999999,\n  3.333,\n  1.6669999999999998,\n  1.6669999999999998],\n [1969,\n  9,\n  30,\n  8.0,\n  7.0,\n  6.332999999999999,\n  6.667000000000001,\n  6.0,\n  4.0,\n  5.332999999999999,\n  2.667],\n [1970,\n  3,\n  8,\n  4.333,\n  5.0,\n  5.667000000000001,\n  5.0,\n  7.332999999999999,\n  8.0,\n  9.0,\n  8.333],\n [1970,\n  4,\n  21,\n  3.667,\n  4.0,\n  5.0,\n  5.667000000000001,\n  6.0,\n  6.667000000000001,\n  8.333,\n  7.0],\n [1970,\n  8,\n  17,\n  5.332999999999999,\n  8.667,\n  8.0,\n  6.0,\n  5.332999999999999,\n  6.667000000000001,\n  5.332999999999999,\n  5.332999999999999],\n [1970, 12, 14, 3.667, 6.0, 8.333, 5.0, 4.333, 3.0, 4.333, 5.332999999999999],\n [1972,\n  6,\n  18,\n  8.333,\n  7.332999999999999,\n  7.0,\n  6.332999999999999,\n  7.0,\n  7.332999999999999,\n  6.0,\n  4.0],\n [1972,\n  8,\n  4,\n  5.667000000000001,\n  8.333,\n  7.0,\n  4.0,\n  5.332999999999999,\n  4.0,\n  6.667000000000001,\n  9.0],\n [1972,\n  8,\n  5,\n  8.333,\n  8.333,\n  7.0,\n  7.332999999999999,\n  7.667000000000001,\n  8.667,\n  7.332999999999999,\n  5.667000000000001],\n [1972,\n  8,\n  9,\n  4.667,\n  6.667000000000001,\n  6.667000000000001,\n  8.333,\n  4.0,\n  4.333,\n  3.333,\n  3.333],\n [1972,\n  9,\n  14,\n  6.667000000000001,\n  8.0,\n  4.667,\n  1.3330000000000002,\n  1.6669999999999998,\n  3.333,\n  4.0,\n  3.333],\n [1972,\n  11,\n  1,\n  7.667000000000001,\n  8.0,\n  7.667000000000001,\n  6.332999999999999,\n  5.332999999999999,\n  2.0,\n  4.667,\n  4.0],\n [1973,\n  4,\n  1,\n  4.0,\n  2.667,\n  3.0,\n  4.0,\n  5.332999999999999,\n  7.667000000000001,\n  8.333,\n  7.667000000000001],\n [1974,\n  7,\n  6,\n  6.667000000000001,\n  8.333,\n  8.667,\n  6.0,\n  7.332999999999999,\n  6.332999999999999,\n  5.0,\n  3.0],\n [1974,\n  9,\n  16,\n  8.0,\n  7.667000000000001,\n  6.0,\n  6.667000000000001,\n  6.332999999999999,\n  2.667,\n  2.667,\n  2.0],\n [1976,\n  3,\n  26,\n  4.333,\n  7.332999999999999,\n  8.0,\n  7.332999999999999,\n  8.0,\n  8.0,\n  7.0,\n  5.667000000000001],\n [1976,\n  4,\n  1,\n  6.332999999999999,\n  8.333,\n  8.333,\n  8.333,\n  6.0,\n  4.333,\n  3.333,\n  2.667],\n [1976,\n  5,\n  3,\n  8.333,\n  7.667000000000001,\n  6.667000000000001,\n  7.0,\n  5.332999999999999,\n  4.333,\n  3.667,\n  2.333],\n [1978, 4, 30, 3.333, 2.667, 2.0, 5.0, 6.667000000000001, 8.0, 3.667, 4.667],\n [1978,\n  5,\n  1,\n  2.667,\n  4.667,\n  5.667000000000001,\n  5.332999999999999,\n  7.332999999999999,\n  4.333,\n  6.667000000000001,\n  8.333],\n [1978, 7, 4, 6.0, 3.667, 4.0, 4.0, 7.667000000000001, 8.0, 3.667, 6.0],\n [1978,\n  8,\n  28,\n  4.333,\n  7.332999999999999,\n  8.333,\n  7.667000000000001,\n  8.0,\n  6.332999999999999,\n  4.667,\n  5.0],\n [1978,\n  9,\n  29,\n  4.333,\n  6.667000000000001,\n  7.667000000000001,\n  8.0,\n  8.0,\n  6.667000000000001,\n  3.667,\n  1.6669999999999998],\n [1979,\n  4,\n  3,\n  3.0,\n  2.333,\n  2.667,\n  2.667,\n  2.667,\n  5.332999999999999,\n  6.667000000000001,\n  8.0],\n [1979,\n  4,\n  25,\n  7.667000000000001,\n  8.0,\n  7.667000000000001,\n  7.0,\n  7.0,\n  5.0,\n  5.667000000000001,\n  5.667000000000001],\n [1981,\n  4,\n  13,\n  8.0,\n  8.333,\n  7.667000000000001,\n  5.667000000000001,\n  6.332999999999999,\n  5.667000000000001,\n  5.667000000000001,\n  5.0],\n [1981,\n  7,\n  25,\n  4.333,\n  5.667000000000001,\n  6.667000000000001,\n  4.333,\n  8.333,\n  8.333,\n  7.667000000000001,\n  7.667000000000001],\n [1981,\n  7,\n  26,\n  8.0,\n  6.667000000000001,\n  6.0,\n  5.0,\n  5.667000000000001,\n  5.667000000000001,\n  4.0,\n  3.333],\n [1981,\n  10,\n  14,\n  8.0,\n  7.667000000000001,\n  4.333,\n  3.667,\n  3.333,\n  3.667,\n  4.667,\n  5.667000000000001],\n [1982, 3, 1, 2.333, 2.333, 3.333, 4.667, 6.332999999999999, 7.0, 4.667, 8.0],\n [1982,\n  3,\n  2,\n  8.0,\n  7.667000000000001,\n  6.667000000000001,\n  7.332999999999999,\n  6.0,\n  5.332999999999999,\n  4.667,\n  4.0],\n [1982, 7, 13, 4.667, 5.667000000000001, 5.0, 4.333, 4.333, 8.333, 8.667, 9.0],\n [1982,\n  7,\n  14,\n  9.0,\n  7.667000000000001,\n  6.667000000000001,\n  7.0,\n  6.0,\n  7.0,\n  6.667000000000001,\n  6.0],\n [1982,\n  9,\n  6,\n  8.0,\n  8.333,\n  8.333,\n  8.333,\n  8.667,\n  7.332999999999999,\n  7.0,\n  6.332999999999999],\n [1982,\n  9,\n  22,\n  7.667000000000001,\n  8.333,\n  8.0,\n  7.667000000000001,\n  6.667000000000001,\n  6.0,\n  4.333,\n  5.332999999999999],\n [1983, 1, 10, 7.332999999999999, 8.333, 7.0, 5.0, 3.333, 2.667, 2.333, 3.0],\n [1983,\n  2,\n  5,\n  7.332999999999999,\n  8.0,\n  7.332999999999999,\n  7.332999999999999,\n  7.332999999999999,\n  6.0,\n  7.0,\n  6.667000000000001],\n [1983,\n  5,\n  24,\n  4.0,\n  4.0,\n  3.0,\n  2.667,\n  4.667,\n  8.0,\n  7.667000000000001,\n  6.667000000000001],\n [1984,\n  11,\n  16,\n  7.667000000000001,\n  8.0,\n  7.0,\n  6.667000000000001,\n  6.332999999999999,\n  5.332999999999999,\n  5.667000000000001,\n  5.0],\n [1985,\n  4,\n  21,\n  8.333,\n  7.332999999999999,\n  8.0,\n  5.667000000000001,\n  4.667,\n  5.667000000000001,\n  4.333,\n  3.667],\n [1986,\n  2,\n  8,\n  7.0,\n  7.0,\n  7.332999999999999,\n  6.667000000000001,\n  8.0,\n  7.667000000000001,\n  9.0,\n  8.667],\n [1986,\n  2,\n  9,\n  8.667,\n  7.667000000000001,\n  5.332999999999999,\n  4.667,\n  5.0,\n  6.332999999999999,\n  5.332999999999999,\n  4.0],\n [1986,\n  9,\n  12,\n  5.332999999999999,\n  8.667,\n  7.332999999999999,\n  5.667000000000001,\n  4.333,\n  4.0,\n  4.667,\n  4.667],\n [1988, 4, 3, 2.667, 2.667, 5.0, 4.667, 1.6669999999999998, 4.333, 8.0, 4.333],\n [1989, 3, 13, 6.0, 7.667000000000001, 8.667, 8.333, 8.333, 8.333, 8.667, 9.0],\n [1989,\n  3,\n  14,\n  9.0,\n  7.667000000000001,\n  7.667000000000001,\n  5.667000000000001,\n  5.0,\n  5.332999999999999,\n  7.667000000000001,\n  7.332999999999999],\n [1989,\n  9,\n  19,\n  6.667000000000001,\n  8.0,\n  7.0,\n  5.0,\n  4.0,\n  3.0,\n  2.667,\n  1.3330000000000002],\n [1989,\n  10,\n  20,\n  2.333,\n  3.0,\n  4.333,\n  6.667000000000001,\n  7.667000000000001,\n  7.667000000000001,\n  8.333,\n  7.0],\n [1989,\n  10,\n  21,\n  6.332999999999999,\n  6.667000000000001,\n  7.0,\n  8.333,\n  7.667000000000001,\n  6.667000000000001,\n  8.0,\n  6.332999999999999],\n [1989,\n  11,\n  17,\n  3.667,\n  3.0,\n  4.0,\n  7.0,\n  6.667000000000001,\n  7.667000000000001,\n  8.0,\n  7.667000000000001],\n [1990,\n  3,\n  30,\n  4.333,\n  4.667,\n  8.0,\n  7.0,\n  5.332999999999999,\n  5.332999999999999,\n  3.333,\n  2.333],\n [1990,\n  4,\n  10,\n  4.0,\n  5.332999999999999,\n  7.0,\n  7.667000000000001,\n  8.0,\n  7.332999999999999,\n  7.332999999999999,\n  6.0],\n [1990,\n  6,\n  12,\n  4.0,\n  3.0,\n  4.333,\n  4.333,\n  5.332999999999999,\n  7.0,\n  7.667000000000001,\n  8.333],\n [1991,\n  3,\n  24,\n  3.0,\n  8.667,\n  8.0,\n  7.332999999999999,\n  5.332999999999999,\n  5.0,\n  8.0,\n  8.667],\n [1991,\n  3,\n  25,\n  7.667000000000001,\n  8.667,\n  5.0,\n  6.0,\n  7.667000000000001,\n  5.667000000000001,\n  5.332999999999999,\n  7.0],\n [1991,\n  3,\n  26,\n  7.0,\n  7.332999999999999,\n  7.0,\n  6.667000000000001,\n  8.0,\n  6.0,\n  5.332999999999999,\n  4.667],\n [1991,\n  6,\n  5,\n  6.667000000000001,\n  7.332999999999999,\n  8.0,\n  8.0,\n  8.0,\n  8.667,\n  8.0,\n  7.667000000000001],\n [1991,\n  7,\n  8,\n  2.333,\n  2.667,\n  3.667,\n  4.333,\n  4.667,\n  8.0,\n  7.332999999999999,\n  5.667000000000001],\n [1991,\n  7,\n  9,\n  3.333,\n  4.667,\n  8.0,\n  7.0,\n  8.0,\n  7.332999999999999,\n  6.667000000000001,\n  5.667000000000001],\n [1991,\n  7,\n  13,\n  4.667,\n  5.0,\n  6.667000000000001,\n  7.0,\n  8.0,\n  8.667,\n  6.0,\n  7.332999999999999],\n [1991,\n  10,\n  28,\n  5.332999999999999,\n  5.332999999999999,\n  4.667,\n  6.332999999999999,\n  7.667000000000001,\n  8.333,\n  5.332999999999999,\n  5.667000000000001],\n [1991,\n  10,\n  29,\n  7.667000000000001,\n  8.333,\n  8.0,\n  6.332999999999999,\n  4.667,\n  6.0,\n  7.0,\n  5.332999999999999],\n [1991,\n  11,\n  1,\n  5.332999999999999,\n  3.333,\n  5.332999999999999,\n  5.332999999999999,\n  6.667000000000001,\n  8.0,\n  8.333,\n  7.0],\n [1991,\n  11,\n  8,\n  2.667,\n  3.0,\n  4.0,\n  4.0,\n  6.667000000000001,\n  6.667000000000001,\n  7.667000000000001,\n  8.667],\n [1991,\n  11,\n  9,\n  8.333,\n  8.333,\n  7.332999999999999,\n  6.667000000000001,\n  6.0,\n  5.0,\n  5.332999999999999,\n  4.333],\n [1992,\n  2,\n  26,\n  3.333,\n  3.333,\n  3.667,\n  3.667,\n  4.0,\n  6.332999999999999,\n  8.0,\n  6.667000000000001],\n [1992,\n  5,\n  10,\n  5.332999999999999,\n  6.332999999999999,\n  8.0,\n  8.667,\n  8.333,\n  7.667000000000001,\n  8.0,\n  7.332999999999999],\n [1992,\n  8,\n  23,\n  7.667000000000001,\n  8.0,\n  6.332999999999999,\n  3.0,\n  4.333,\n  2.333,\n  4.0,\n  3.667],\n [1994, 4, 17, 6.667000000000001, 8.333, 8.333, 7.0, 4.667, 3.0, 3.0, 3.333],\n [1995,\n  4,\n  7,\n  4.0,\n  5.667000000000001,\n  6.0,\n  5.332999999999999,\n  7.0,\n  8.0,\n  7.332999999999999,\n  6.0],\n [1998, 5, 4, 6.0, 8.667, 8.333, 5.667000000000001, 6.0, 3.667, 2.333, 3.0],\n [1998,\n  8,\n  27,\n  8.0,\n  8.0,\n  7.667000000000001,\n  6.667000000000001,\n  6.667000000000001,\n  6.667000000000001,\n  7.0,\n  6.332999999999999],\n [1998,\n  9,\n  25,\n  7.667000000000001,\n  8.0,\n  8.333,\n  7.0,\n  6.332999999999999,\n  5.667000000000001,\n  2.667,\n  2.333],\n [1999, 9, 22, 3.0, 2.0, 2.0, 2.667, 5.0, 3.667, 6.0, 8.0],\n [1999,\n  10,\n  22,\n  7.0,\n  7.667000000000001,\n  8.0,\n  5.332999999999999,\n  4.667,\n  4.333,\n  5.667000000000001,\n  3.333],\n [2000,\n  4,\n  6,\n  1.6669999999999998,\n  4.333,\n  2.667,\n  2.333,\n  3.333,\n  6.667000000000001,\n  8.333,\n  8.333],\n [2000, 4, 7, 8.667, 6.0, 6.0, 4.0, 4.0, 4.333, 3.667, 3.667],\n [2000,\n  5,\n  24,\n  8.0,\n  7.667000000000001,\n  6.0,\n  5.667000000000001,\n  5.0,\n  5.0,\n  6.0,\n  4.333],\n [2000, 7, 15, 3.0, 3.667, 4.667, 4.333, 8.0, 8.667, 9.0, 8.667],\n [2000, 9, 17, 4.667, 4.0, 2.333, 3.0, 4.0, 4.667, 5.332999999999999, 8.333],\n [2001,\n  3,\n  31,\n  6.667000000000001,\n  8.667,\n  8.667,\n  6.332999999999999,\n  7.0,\n  8.0,\n  8.333,\n  7.332999999999999],\n [2001, 4, 11, 3.0, 2.333, 2.0, 2.0, 3.667, 8.0, 7.667000000000001, 8.333],\n [2001,\n  11,\n  6,\n  8.667,\n  8.667,\n  7.0,\n  5.0,\n  5.332999999999999,\n  6.667000000000001,\n  6.332999999999999,\n  6.332999999999999],\n [2001,\n  11,\n  24,\n  3.333,\n  5.332999999999999,\n  8.333,\n  7.0,\n  7.667000000000001,\n  7.332999999999999,\n  3.0,\n  4.667],\n [2002,\n  5,\n  23,\n  2.667,\n  2.667,\n  2.0,\n  6.667000000000001,\n  7.667000000000001,\n  8.333,\n  5.0,\n  3.333],\n [2003, 5, 29, 4.0, 3.667, 3.667, 3.0, 7.0, 7.667000000000001, 8.333, 8.333],\n [2003,\n  10,\n  29,\n  4.667,\n  4.0,\n  9.0,\n  8.0,\n  7.667000000000001,\n  7.667000000000001,\n  8.667,\n  8.667],\n [2003,\n  10,\n  30,\n  8.667,\n  7.332999999999999,\n  5.332999999999999,\n  4.667,\n  5.0,\n  7.0,\n  9.0,\n  9.0],\n [2003,\n  10,\n  31,\n  8.333,\n  7.667000000000001,\n  7.332999999999999,\n  6.667000000000001,\n  7.332999999999999,\n  4.667,\n  4.0,\n  4.333],\n [2003,\n  11,\n  20,\n  1.0,\n  3.667,\n  6.332999999999999,\n  6.332999999999999,\n  7.667000000000001,\n  8.667,\n  8.667,\n  8.0],\n [2004,\n  7,\n  25,\n  7.0,\n  7.332999999999999,\n  6.332999999999999,\n  7.667000000000001,\n  7.332999999999999,\n  8.0,\n  7.332999999999999,\n  7.332999999999999],\n [2004,\n  7,\n  27,\n  8.333,\n  7.667000000000001,\n  7.332999999999999,\n  8.0,\n  8.667,\n  8.333,\n  6.332999999999999,\n  6.0],\n [2004,\n  11,\n  7,\n  1.6669999999999998,\n  3.0,\n  0.667,\n  3.333,\n  3.0,\n  4.667,\n  6.332999999999999,\n  8.0],\n [2004, 11, 8, 8.667, 8.667, 8.333, 7.0, 5.0, 2.667, 4.333, 5.332999999999999],\n [2004,\n  11,\n  9,\n  5.667000000000001,\n  6.0,\n  5.0,\n  6.0,\n  7.0,\n  6.667000000000001,\n  8.667,\n  7.0],\n [2004,\n  11,\n  10,\n  7.667000000000001,\n  8.333,\n  8.667,\n  8.333,\n  7.332999999999999,\n  6.332999999999999,\n  5.332999999999999,\n  4.333],\n [2005,\n  1,\n  21,\n  3.333,\n  2.0,\n  2.333,\n  2.333,\n  2.667,\n  6.667000000000001,\n  8.0,\n  7.332999999999999],\n [2005,\n  5,\n  8,\n  6.0,\n  5.332999999999999,\n  3.667,\n  6.0,\n  8.333,\n  7.667000000000001,\n  5.332999999999999,\n  3.667],\n [2005,\n  5,\n  15,\n  5.667000000000001,\n  5.667000000000001,\n  8.333,\n  7.667000000000001,\n  4.0,\n  4.0,\n  5.0,\n  5.0],\n [2005,\n  8,\n  24,\n  2.667,\n  3.333,\n  6.332999999999999,\n  8.667,\n  7.332999999999999,\n  6.667000000000001,\n  6.332999999999999,\n  4.333],\n [2006,\n  12,\n  15,\n  8.333,\n  7.667000000000001,\n  6.667000000000001,\n  5.667000000000001,\n  6.0,\n  4.0,\n  4.0,\n  3.667],\n [2012,\n  3,\n  9,\n  4.667,\n  6.332999999999999,\n  8.0,\n  7.332999999999999,\n  6.667000000000001,\n  5.667000000000001,\n  3.0,\n  2.333],\n [2015,\n  6,\n  22,\n  1.0,\n  3.333,\n  4.333,\n  3.0,\n  4.667,\n  5.332999999999999,\n  8.333,\n  5.332999999999999],\n [2017,\n  9,\n  8,\n  8.0,\n  4.667,\n  4.333,\n  5.0,\n  8.333,\n  7.332999999999999,\n  6.332999999999999,\n  4.667],\n [2023,\n  3,\n  24,\n  7.332999999999999,\n  8.0,\n  6.332999999999999,\n  4.0,\n  2.333,\n  3.667,\n  4.667,\n  4.333],\n [2023,\n  4,\n  23,\n  2.333,\n  2.0,\n  1.6669999999999998,\n  3.333,\n  4.667,\n  5.332999999999999,\n  8.0,\n  7.332999999999999],\n [2023,\n  4,\n  24,\n  6.667000000000001,\n  8.0,\n  6.667000000000001,\n  5.332999999999999,\n  3.667,\n  2.667,\n  2.0,\n  3.333]]"
     },
     "execution_count": 24,
     "metadata": {},
     "output_type": "execute_result"
    }
   ],
   "source": [
    "G4"
   ]
  },
  {
   "cell_type": "code",
   "execution_count": 25,
   "id": "2bb64f9c",
   "metadata": {
    "pycharm": {
     "name": "#%%\n"
    }
   },
   "outputs": [
    {
     "data": {
      "text/plain": "[[1932, 5, 30, 7.0, 8.0, 6.332999999999999, 3.0, 2.667, 3.667, 4.333, 3.0],\n [1937,\n  4,\n  28,\n  7.0,\n  8.0,\n  8.0,\n  7.332999999999999,\n  6.667000000000001,\n  6.667000000000001,\n  5.0,\n  5.332999999999999],\n [1937,\n  8,\n  22,\n  1.3330000000000002,\n  6.0,\n  8.0,\n  7.667000000000001,\n  5.667000000000001,\n  3.0,\n  4.333,\n  2.333],\n [1938, 1, 26, 8.333, 6.332999999999999, 4.333, 4.667, 4.0, 4.333, 4.0, 2.0],\n [1938,\n  4,\n  16,\n  3.333,\n  7.0,\n  9.0,\n  8.0,\n  7.667000000000001,\n  5.667000000000001,\n  4.333,\n  5.332999999999999],\n [1938, 5, 11, 2.667, 2.667, 2.0, 2.333, 2.0, 7.667000000000001, 8.667, 8.667],\n [1939,\n  4,\n  17,\n  5.667000000000001,\n  7.332999999999999,\n  8.0,\n  6.667000000000001,\n  7.667000000000001,\n  7.332999999999999,\n  6.667000000000001,\n  6.332999999999999],\n [1939,\n  4,\n  24,\n  3.333,\n  2.333,\n  2.0,\n  2.333,\n  1.3330000000000002,\n  7.0,\n  8.667,\n  7.332999999999999],\n [1939,\n  10,\n  15,\n  6.667000000000001,\n  8.0,\n  6.667000000000001,\n  3.333,\n  3.333,\n  4.667,\n  4.0,\n  3.0],\n [1940,\n  3,\n  31,\n  7.0,\n  5.332999999999999,\n  4.667,\n  8.333,\n  8.0,\n  7.667000000000001,\n  6.0,\n  6.332999999999999],\n [1940, 4, 3, 8.0, 8.0, 7.0, 4.667, 4.667, 5.0, 6.332999999999999, 3.667],\n [1940,\n  4,\n  25,\n  4.667,\n  8.0,\n  4.0,\n  1.6669999999999998,\n  2.333,\n  5.0,\n  6.667000000000001,\n  6.667000000000001],\n [1940,\n  6,\n  25,\n  4.667,\n  7.0,\n  5.332999999999999,\n  7.332999999999999,\n  8.333,\n  7.667000000000001,\n  7.332999999999999,\n  5.332999999999999],\n [1941, 3, 1, 3.0, 6.332999999999999, 8.0, 8.0, 8.667, 9.0, 8.667, 7.0],\n [1941,\n  7,\n  5,\n  6.332999999999999,\n  6.332999999999999,\n  8.667,\n  8.667,\n  9.0,\n  8.667,\n  6.667000000000001,\n  7.667000000000001],\n [1941,\n  8,\n  4,\n  5.0,\n  7.0,\n  6.0,\n  5.667000000000001,\n  8.333,\n  6.667000000000001,\n  6.332999999999999,\n  6.667000000000001],\n [1941,\n  9,\n  19,\n  8.667,\n  9.0,\n  8.667,\n  7.332999999999999,\n  4.0,\n  5.0,\n  7.332999999999999,\n  4.0],\n [1942,\n  3,\n  1,\n  3.333,\n  2.667,\n  8.0,\n  8.0,\n  7.332999999999999,\n  5.667000000000001,\n  6.667000000000001,\n  6.667000000000001],\n [1943,\n  8,\n  31,\n  7.0,\n  8.333,\n  7.332999999999999,\n  7.332999999999999,\n  7.667000000000001,\n  7.0,\n  6.332999999999999,\n  4.667],\n [1944, 4, 2, 4.333, 5.0, 8.0, 8.333, 6.0, 4.0, 5.0, 4.0],\n [1944, 12, 16, 4.0, 3.667, 4.333, 6.0, 8.0, 8.333, 5.0, 3.0],\n [1946,\n  2,\n  8,\n  8.667,\n  7.667000000000001,\n  7.332999999999999,\n  7.0,\n  5.667000000000001,\n  5.667000000000001,\n  4.0,\n  3.0],\n [1946, 3, 28, 5.0, 6.0, 8.333, 8.667, 8.667, 8.667, 8.333, 8.0],\n [1946,\n  4,\n  24,\n  8.333,\n  7.332999999999999,\n  6.667000000000001,\n  6.332999999999999,\n  4.333,\n  6.667000000000001,\n  4.667,\n  3.333],\n [1946,\n  7,\n  27,\n  8.667,\n  8.667,\n  9.0,\n  6.667000000000001,\n  5.332999999999999,\n  3.667,\n  3.667,\n  2.333],\n [1946,\n  9,\n  23,\n  7.332999999999999,\n  7.667000000000001,\n  8.0,\n  6.332999999999999,\n  7.0,\n  8.0,\n  6.0,\n  6.667000000000001],\n [1947,\n  3,\n  3,\n  7.0,\n  5.0,\n  6.667000000000001,\n  7.0,\n  6.332999999999999,\n  5.667000000000001,\n  8.333,\n  8.0],\n [1947,\n  4,\n  17,\n  3.667,\n  3.667,\n  1.6669999999999998,\n  1.6669999999999998,\n  6.332999999999999,\n  6.667000000000001,\n  8.667,\n  8.333],\n [1947,\n  7,\n  17,\n  1.0,\n  0.667,\n  0.667,\n  2.0,\n  1.3330000000000002,\n  7.0,\n  8.0,\n  7.667000000000001],\n [1947, 8, 22, 2.667, 4.0, 5.0, 8.333, 6.332999999999999, 6.0, 4.667, 4.333],\n [1948,\n  3,\n  15,\n  5.667000000000001,\n  8.333,\n  8.0,\n  7.332999999999999,\n  6.332999999999999,\n  7.0,\n  7.667000000000001,\n  5.0],\n [1948,\n  10,\n  18,\n  8.333,\n  6.667000000000001,\n  5.332999999999999,\n  3.667,\n  3.667,\n  4.0,\n  5.332999999999999,\n  7.332999999999999],\n [1949, 1, 26, 8.333, 8.0, 7.0, 5.667000000000001, 5.0, 5.0, 4.667, 4.0],\n [1949,\n  5,\n  13,\n  8.0,\n  7.332999999999999,\n  3.333,\n  2.0,\n  5.332999999999999,\n  3.333,\n  1.0,\n  2.333],\n [1949,\n  10,\n  15,\n  6.0,\n  6.0,\n  7.332999999999999,\n  8.0,\n  7.332999999999999,\n  7.332999999999999,\n  8.333,\n  7.667000000000001],\n [1950,\n  2,\n  20,\n  2.333,\n  2.667,\n  1.6669999999999998,\n  2.333,\n  3.0,\n  5.0,\n  8.667,\n  8.333],\n [1950,\n  8,\n  20,\n  8.333,\n  8.0,\n  7.667000000000001,\n  7.667000000000001,\n  4.0,\n  3.333,\n  2.333,\n  2.0],\n [1951,\n  6,\n  17,\n  2.333,\n  1.3330000000000002,\n  1.6669999999999998,\n  1.0,\n  0.667,\n  4.667,\n  4.333,\n  8.0],\n [1951,\n  9,\n  26,\n  8.667,\n  7.667000000000001,\n  4.333,\n  3.667,\n  2.667,\n  3.333,\n  2.333,\n  2.667],\n [1951,\n  10,\n  28,\n  0.33299999999999996,\n  3.667,\n  3.333,\n  5.332999999999999,\n  7.0,\n  8.0,\n  8.667,\n  5.0],\n [1952,\n  3,\n  6,\n  8.0,\n  7.332999999999999,\n  6.332999999999999,\n  4.667,\n  4.333,\n  4.0,\n  5.0,\n  5.332999999999999],\n [1952, 4, 21, 2.667, 3.333, 4.0, 4.0, 8.333, 8.0, 7.0, 6.332999999999999],\n [1952,\n  5,\n  27,\n  8.0,\n  5.667000000000001,\n  4.667,\n  5.332999999999999,\n  4.333,\n  5.332999999999999,\n  5.667000000000001,\n  5.0],\n [1952,\n  6,\n  30,\n  5.332999999999999,\n  8.0,\n  7.667000000000001,\n  7.0,\n  3.667,\n  2.333,\n  1.6669999999999998,\n  2.333],\n [1956,\n  2,\n  25,\n  0.667,\n  6.0,\n  8.333,\n  7.332999999999999,\n  6.667000000000001,\n  6.667000000000001,\n  6.667000000000001,\n  3.333],\n [1956,\n  4,\n  27,\n  8.667,\n  8.667,\n  7.667000000000001,\n  7.667000000000001,\n  6.667000000000001,\n  6.667000000000001,\n  7.0,\n  5.667000000000001],\n [1956,\n  5,\n  16,\n  5.332999999999999,\n  7.332999999999999,\n  7.667000000000001,\n  7.0,\n  8.333,\n  7.667000000000001,\n  7.0,\n  7.667000000000001],\n [1956,\n  9,\n  2,\n  5.0,\n  7.667000000000001,\n  8.0,\n  6.667000000000001,\n  4.667,\n  4.0,\n  4.0,\n  3.0],\n [1956, 9, 8, 1.0, 1.0, 3.667, 5.332999999999999, 8.333, 8.0, 6.0, 3.333],\n [1957,\n  1,\n  22,\n  8.333,\n  6.667000000000001,\n  6.332999999999999,\n  4.667,\n  4.0,\n  4.0,\n  3.0,\n  2.333],\n [1957,\n  3,\n  2,\n  6.0,\n  8.333,\n  8.333,\n  7.0,\n  6.667000000000001,\n  5.332999999999999,\n  6.332999999999999,\n  6.667000000000001],\n [1957,\n  6,\n  30,\n  3.0,\n  6.332999999999999,\n  5.332999999999999,\n  7.667000000000001,\n  8.0,\n  8.0,\n  8.0,\n  8.333],\n [1957,\n  7,\n  2,\n  1.6669999999999998,\n  1.0,\n  2.667,\n  4.667,\n  8.0,\n  6.332999999999999,\n  5.667000000000001,\n  2.333],\n [1957,\n  9,\n  5,\n  8.333,\n  8.667,\n  6.667000000000001,\n  5.0,\n  4.667,\n  4.0,\n  5.332999999999999,\n  6.0],\n [1957, 9, 13, 7.667000000000001, 8.333, 8.667, 8.667, 7.0, 6.0, 4.0, 4.0],\n [1957,\n  9,\n  23,\n  8.0,\n  8.667,\n  7.667000000000001,\n  7.667000000000001,\n  7.667000000000001,\n  6.667000000000001,\n  6.667000000000001,\n  5.0],\n [1957, 9, 29, 4.0, 5.332999999999999, 5.0, 4.333, 8.0, 8.667, 8.333, 8.0],\n [1958, 2, 11, 9.0, 8.333, 8.667, 8.333, 8.0, 5.332999999999999, 6.0, 6.0],\n [1958,\n  5,\n  31,\n  2.333,\n  4.0,\n  2.0,\n  3.333,\n  4.333,\n  6.332999999999999,\n  7.667000000000001,\n  8.0],\n [1958,\n  6,\n  29,\n  7.0,\n  8.0,\n  6.667000000000001,\n  5.332999999999999,\n  7.667000000000001,\n  6.332999999999999,\n  4.333,\n  2.667],\n [1958,\n  7,\n  8,\n  3.0,\n  2.667,\n  7.332999999999999,\n  7.667000000000001,\n  8.333,\n  9.0,\n  8.667,\n  8.667],\n [1958,\n  9,\n  5,\n  8.0,\n  7.667000000000001,\n  4.333,\n  4.0,\n  3.333,\n  3.667,\n  5.667000000000001,\n  3.0],\n [1959,\n  3,\n  27,\n  7.332999999999999,\n  7.667000000000001,\n  8.333,\n  6.667000000000001,\n  8.333,\n  8.333,\n  7.667000000000001,\n  6.332999999999999],\n [1959,\n  5,\n  12,\n  7.0,\n  6.667000000000001,\n  6.667000000000001,\n  5.667000000000001,\n  6.667000000000001,\n  8.333,\n  5.332999999999999,\n  4.667],\n [1959,\n  7,\n  18,\n  8.0,\n  7.667000000000001,\n  8.0,\n  5.667000000000001,\n  4.667,\n  7.0,\n  4.667,\n  6.0],\n [1959,\n  8,\n  17,\n  7.667000000000001,\n  8.333,\n  6.667000000000001,\n  6.332999999999999,\n  5.332999999999999,\n  7.0,\n  5.0,\n  5.332999999999999],\n [1959,\n  11,\n  28,\n  6.0,\n  8.0,\n  7.332999999999999,\n  6.667000000000001,\n  4.333,\n  3.667,\n  4.0,\n  4.0],\n [1960,\n  3,\n  31,\n  4.333,\n  4.667,\n  5.0,\n  7.667000000000001,\n  6.667000000000001,\n  8.0,\n  7.667000000000001,\n  8.333],\n [1960, 4, 1, 8.667, 8.667, 7.0, 8.0, 8.333, 8.667, 8.667, 7.332999999999999],\n [1960,\n  4,\n  30,\n  6.667000000000001,\n  6.667000000000001,\n  5.667000000000001,\n  5.667000000000001,\n  8.667,\n  9.0,\n  8.0,\n  7.0],\n [1960,\n  5,\n  8,\n  3.333,\n  6.332999999999999,\n  6.667000000000001,\n  7.332999999999999,\n  8.0,\n  8.333,\n  6.332999999999999,\n  6.667000000000001],\n [1960,\n  7,\n  16,\n  8.333,\n  6.667000000000001,\n  5.667000000000001,\n  5.0,\n  4.333,\n  5.332999999999999,\n  4.667,\n  4.0],\n [1960,\n  9,\n  4,\n  3.667,\n  4.667,\n  6.667000000000001,\n  6.0,\n  6.667000000000001,\n  6.0,\n  6.667000000000001,\n  8.0],\n [1960,\n  10,\n  7,\n  9.0,\n  8.667,\n  7.667000000000001,\n  7.667000000000001,\n  7.332999999999999,\n  7.0,\n  5.667000000000001,\n  6.0],\n [1960,\n  11,\n  16,\n  8.333,\n  8.333,\n  6.0,\n  5.332999999999999,\n  5.667000000000001,\n  4.667,\n  3.333,\n  3.333],\n [1960,\n  12,\n  1,\n  6.332999999999999,\n  8.0,\n  6.667000000000001,\n  5.0,\n  5.332999999999999,\n  6.0,\n  5.667000000000001,\n  6.0],\n [1961,\n  7,\n  14,\n  4.667,\n  3.0,\n  6.667000000000001,\n  8.333,\n  7.332999999999999,\n  6.667000000000001,\n  6.332999999999999,\n  4.0],\n [1961,\n  7,\n  27,\n  4.0,\n  4.333,\n  8.333,\n  8.333,\n  6.0,\n  5.332999999999999,\n  6.332999999999999,\n  7.332999999999999],\n [1961,\n  9,\n  30,\n  2.0,\n  3.0,\n  1.6669999999999998,\n  1.6669999999999998,\n  2.0,\n  0.33299999999999996,\n  4.667,\n  8.0],\n [1961, 10, 1, 8.667, 8.333, 7.0, 7.667000000000001, 4.667, 2.0, 2.0, 2.333],\n [1961,\n  10,\n  28,\n  2.333,\n  2.333,\n  5.0,\n  6.332999999999999,\n  8.0,\n  8.0,\n  8.667,\n  7.332999999999999],\n [1963,\n  9,\n  23,\n  8.667,\n  8.0,\n  4.333,\n  4.333,\n  3.333,\n  3.333,\n  3.0,\n  1.6669999999999998],\n [1963,\n  10,\n  29,\n  3.333,\n  2.667,\n  2.333,\n  1.6669999999999998,\n  4.0,\n  7.0,\n  7.667000000000001,\n  8.0],\n [1966,\n  9,\n  4,\n  8.667,\n  8.333,\n  7.332999999999999,\n  6.0,\n  5.667000000000001,\n  4.0,\n  3.333,\n  3.0],\n [1967, 2, 16, 3.667, 3.333, 5.0, 8.0, 7.0, 4.0, 4.667, 3.667],\n [1967,\n  5,\n  26,\n  9.0,\n  8.667,\n  7.332999999999999,\n  6.667000000000001,\n  6.667000000000001,\n  3.667,\n  4.0,\n  4.667],\n [1967, 6, 6, 8.0, 5.0, 2.0, 1.6669999999999998, 2.333, 2.0, 4.333, 5.0],\n [1968,\n  6,\n  11,\n  7.0,\n  8.0,\n  7.0,\n  6.332999999999999,\n  6.667000000000001,\n  5.0,\n  5.667000000000001,\n  4.333],\n [1968, 10, 31, 4.667, 4.333, 5.0, 7.332999999999999, 8.0, 8.0, 7.0, 6.0],\n [1968, 11, 1, 5.332999999999999, 3.0, 2.667, 6.0, 8.333, 8.0, 7.0, 8.333],\n [1969,\n  2,\n  2,\n  0.0,\n  0.0,\n  1.6669999999999998,\n  2.0,\n  2.0,\n  4.667,\n  8.0,\n  6.667000000000001],\n [1969,\n  3,\n  24,\n  8.0,\n  6.332999999999999,\n  6.667000000000001,\n  7.0,\n  5.332999999999999,\n  3.333,\n  1.6669999999999998,\n  1.6669999999999998],\n [1969,\n  9,\n  30,\n  8.0,\n  7.0,\n  6.332999999999999,\n  6.667000000000001,\n  6.0,\n  4.0,\n  5.332999999999999,\n  2.667],\n [1970,\n  3,\n  8,\n  4.333,\n  5.0,\n  5.667000000000001,\n  5.0,\n  7.332999999999999,\n  8.0,\n  9.0,\n  8.333],\n [1970,\n  4,\n  21,\n  3.667,\n  4.0,\n  5.0,\n  5.667000000000001,\n  6.0,\n  6.667000000000001,\n  8.333,\n  7.0],\n [1970,\n  8,\n  17,\n  5.332999999999999,\n  8.667,\n  8.0,\n  6.0,\n  5.332999999999999,\n  6.667000000000001,\n  5.332999999999999,\n  5.332999999999999],\n [1970, 12, 14, 3.667, 6.0, 8.333, 5.0, 4.333, 3.0, 4.333, 5.332999999999999],\n [1972,\n  6,\n  18,\n  8.333,\n  7.332999999999999,\n  7.0,\n  6.332999999999999,\n  7.0,\n  7.332999999999999,\n  6.0,\n  4.0],\n [1972,\n  8,\n  9,\n  4.667,\n  6.667000000000001,\n  6.667000000000001,\n  8.333,\n  4.0,\n  4.333,\n  3.333,\n  3.333],\n [1972,\n  9,\n  14,\n  6.667000000000001,\n  8.0,\n  4.667,\n  1.3330000000000002,\n  1.6669999999999998,\n  3.333,\n  4.0,\n  3.333],\n [1972,\n  11,\n  1,\n  7.667000000000001,\n  8.0,\n  7.667000000000001,\n  6.332999999999999,\n  5.332999999999999,\n  2.0,\n  4.667,\n  4.0],\n [1973,\n  4,\n  1,\n  4.0,\n  2.667,\n  3.0,\n  4.0,\n  5.332999999999999,\n  7.667000000000001,\n  8.333,\n  7.667000000000001],\n [1974,\n  7,\n  6,\n  6.667000000000001,\n  8.333,\n  8.667,\n  6.0,\n  7.332999999999999,\n  6.332999999999999,\n  5.0,\n  3.0],\n [1974,\n  9,\n  16,\n  8.0,\n  7.667000000000001,\n  6.0,\n  6.667000000000001,\n  6.332999999999999,\n  2.667,\n  2.667,\n  2.0],\n [1976,\n  3,\n  26,\n  4.333,\n  7.332999999999999,\n  8.0,\n  7.332999999999999,\n  8.0,\n  8.0,\n  7.0,\n  5.667000000000001],\n [1976,\n  4,\n  1,\n  6.332999999999999,\n  8.333,\n  8.333,\n  8.333,\n  6.0,\n  4.333,\n  3.333,\n  2.667],\n [1976,\n  5,\n  3,\n  8.333,\n  7.667000000000001,\n  6.667000000000001,\n  7.0,\n  5.332999999999999,\n  4.333,\n  3.667,\n  2.333],\n [1978, 4, 30, 3.333, 2.667, 2.0, 5.0, 6.667000000000001, 8.0, 3.667, 4.667],\n [1978,\n  5,\n  1,\n  2.667,\n  4.667,\n  5.667000000000001,\n  5.332999999999999,\n  7.332999999999999,\n  4.333,\n  6.667000000000001,\n  8.333],\n [1978, 7, 4, 6.0, 3.667, 4.0, 4.0, 7.667000000000001, 8.0, 3.667, 6.0],\n [1978,\n  8,\n  28,\n  4.333,\n  7.332999999999999,\n  8.333,\n  7.667000000000001,\n  8.0,\n  6.332999999999999,\n  4.667,\n  5.0],\n [1978,\n  9,\n  29,\n  4.333,\n  6.667000000000001,\n  7.667000000000001,\n  8.0,\n  8.0,\n  6.667000000000001,\n  3.667,\n  1.6669999999999998],\n [1979,\n  4,\n  3,\n  3.0,\n  2.333,\n  2.667,\n  2.667,\n  2.667,\n  5.332999999999999,\n  6.667000000000001,\n  8.0],\n [1979,\n  4,\n  25,\n  7.667000000000001,\n  8.0,\n  7.667000000000001,\n  7.0,\n  7.0,\n  5.0,\n  5.667000000000001,\n  5.667000000000001],\n [1981,\n  4,\n  13,\n  8.0,\n  8.333,\n  7.667000000000001,\n  5.667000000000001,\n  6.332999999999999,\n  5.667000000000001,\n  5.667000000000001,\n  5.0],\n [1981,\n  7,\n  26,\n  8.0,\n  6.667000000000001,\n  6.0,\n  5.0,\n  5.667000000000001,\n  5.667000000000001,\n  4.0,\n  3.333],\n [1981,\n  10,\n  14,\n  8.0,\n  7.667000000000001,\n  4.333,\n  3.667,\n  3.333,\n  3.667,\n  4.667,\n  5.667000000000001],\n [1982,\n  3,\n  2,\n  8.0,\n  7.667000000000001,\n  6.667000000000001,\n  7.332999999999999,\n  6.0,\n  5.332999999999999,\n  4.667,\n  4.0],\n [1982,\n  7,\n  14,\n  9.0,\n  7.667000000000001,\n  6.667000000000001,\n  7.0,\n  6.0,\n  7.0,\n  6.667000000000001,\n  6.0],\n [1982,\n  9,\n  6,\n  8.0,\n  8.333,\n  8.333,\n  8.333,\n  8.667,\n  7.332999999999999,\n  7.0,\n  6.332999999999999],\n [1982,\n  9,\n  22,\n  7.667000000000001,\n  8.333,\n  8.0,\n  7.667000000000001,\n  6.667000000000001,\n  6.0,\n  4.333,\n  5.332999999999999],\n [1983, 1, 10, 7.332999999999999, 8.333, 7.0, 5.0, 3.333, 2.667, 2.333, 3.0],\n [1983,\n  2,\n  5,\n  7.332999999999999,\n  8.0,\n  7.332999999999999,\n  7.332999999999999,\n  7.332999999999999,\n  6.0,\n  7.0,\n  6.667000000000001],\n [1983,\n  5,\n  24,\n  4.0,\n  4.0,\n  3.0,\n  2.667,\n  4.667,\n  8.0,\n  7.667000000000001,\n  6.667000000000001],\n [1984,\n  11,\n  16,\n  7.667000000000001,\n  8.0,\n  7.0,\n  6.667000000000001,\n  6.332999999999999,\n  5.332999999999999,\n  5.667000000000001,\n  5.0],\n [1985,\n  4,\n  21,\n  8.333,\n  7.332999999999999,\n  8.0,\n  5.667000000000001,\n  4.667,\n  5.667000000000001,\n  4.333,\n  3.667],\n [1986,\n  2,\n  9,\n  8.667,\n  7.667000000000001,\n  5.332999999999999,\n  4.667,\n  5.0,\n  6.332999999999999,\n  5.332999999999999,\n  4.0],\n [1986,\n  9,\n  12,\n  5.332999999999999,\n  8.667,\n  7.332999999999999,\n  5.667000000000001,\n  4.333,\n  4.0,\n  4.667,\n  4.667],\n [1988, 4, 3, 2.667, 2.667, 5.0, 4.667, 1.6669999999999998, 4.333, 8.0, 4.333],\n [1989,\n  3,\n  14,\n  9.0,\n  7.667000000000001,\n  7.667000000000001,\n  5.667000000000001,\n  5.0,\n  5.332999999999999,\n  7.667000000000001,\n  7.332999999999999],\n [1989,\n  9,\n  19,\n  6.667000000000001,\n  8.0,\n  7.0,\n  5.0,\n  4.0,\n  3.0,\n  2.667,\n  1.3330000000000002],\n [1989,\n  10,\n  21,\n  6.332999999999999,\n  6.667000000000001,\n  7.0,\n  8.333,\n  7.667000000000001,\n  6.667000000000001,\n  8.0,\n  6.332999999999999],\n [1989,\n  11,\n  17,\n  3.667,\n  3.0,\n  4.0,\n  7.0,\n  6.667000000000001,\n  7.667000000000001,\n  8.0,\n  7.667000000000001],\n [1990,\n  3,\n  30,\n  4.333,\n  4.667,\n  8.0,\n  7.0,\n  5.332999999999999,\n  5.332999999999999,\n  3.333,\n  2.333],\n [1990,\n  4,\n  10,\n  4.0,\n  5.332999999999999,\n  7.0,\n  7.667000000000001,\n  8.0,\n  7.332999999999999,\n  7.332999999999999,\n  6.0],\n [1990,\n  6,\n  12,\n  4.0,\n  3.0,\n  4.333,\n  4.333,\n  5.332999999999999,\n  7.0,\n  7.667000000000001,\n  8.333],\n [1991,\n  3,\n  26,\n  7.0,\n  7.332999999999999,\n  7.0,\n  6.667000000000001,\n  8.0,\n  6.0,\n  5.332999999999999,\n  4.667],\n [1991,\n  6,\n  5,\n  6.667000000000001,\n  7.332999999999999,\n  8.0,\n  8.0,\n  8.0,\n  8.667,\n  8.0,\n  7.667000000000001],\n [1991,\n  7,\n  13,\n  4.667,\n  5.0,\n  6.667000000000001,\n  7.0,\n  8.0,\n  8.667,\n  6.0,\n  7.332999999999999],\n [1991,\n  10,\n  29,\n  7.667000000000001,\n  8.333,\n  8.0,\n  6.332999999999999,\n  4.667,\n  6.0,\n  7.0,\n  5.332999999999999],\n [1991,\n  11,\n  1,\n  5.332999999999999,\n  3.333,\n  5.332999999999999,\n  5.332999999999999,\n  6.667000000000001,\n  8.0,\n  8.333,\n  7.0],\n [1991,\n  11,\n  9,\n  8.333,\n  8.333,\n  7.332999999999999,\n  6.667000000000001,\n  6.0,\n  5.0,\n  5.332999999999999,\n  4.333],\n [1992,\n  2,\n  26,\n  3.333,\n  3.333,\n  3.667,\n  3.667,\n  4.0,\n  6.332999999999999,\n  8.0,\n  6.667000000000001],\n [1992,\n  5,\n  10,\n  5.332999999999999,\n  6.332999999999999,\n  8.0,\n  8.667,\n  8.333,\n  7.667000000000001,\n  8.0,\n  7.332999999999999],\n [1992,\n  8,\n  23,\n  7.667000000000001,\n  8.0,\n  6.332999999999999,\n  3.0,\n  4.333,\n  2.333,\n  4.0,\n  3.667],\n [1994, 4, 17, 6.667000000000001, 8.333, 8.333, 7.0, 4.667, 3.0, 3.0, 3.333],\n [1995,\n  4,\n  7,\n  4.0,\n  5.667000000000001,\n  6.0,\n  5.332999999999999,\n  7.0,\n  8.0,\n  7.332999999999999,\n  6.0],\n [1998, 5, 4, 6.0, 8.667, 8.333, 5.667000000000001, 6.0, 3.667, 2.333, 3.0],\n [1998,\n  8,\n  27,\n  8.0,\n  8.0,\n  7.667000000000001,\n  6.667000000000001,\n  6.667000000000001,\n  6.667000000000001,\n  7.0,\n  6.332999999999999],\n [1998,\n  9,\n  25,\n  7.667000000000001,\n  8.0,\n  8.333,\n  7.0,\n  6.332999999999999,\n  5.667000000000001,\n  2.667,\n  2.333],\n [1999, 9, 22, 3.0, 2.0, 2.0, 2.667, 5.0, 3.667, 6.0, 8.0],\n [1999,\n  10,\n  22,\n  7.0,\n  7.667000000000001,\n  8.0,\n  5.332999999999999,\n  4.667,\n  4.333,\n  5.667000000000001,\n  3.333],\n [2000, 4, 7, 8.667, 6.0, 6.0, 4.0, 4.0, 4.333, 3.667, 3.667],\n [2000,\n  5,\n  24,\n  8.0,\n  7.667000000000001,\n  6.0,\n  5.667000000000001,\n  5.0,\n  5.0,\n  6.0,\n  4.333],\n [2000, 7, 15, 3.0, 3.667, 4.667, 4.333, 8.0, 8.667, 9.0, 8.667],\n [2000, 9, 17, 4.667, 4.0, 2.333, 3.0, 4.0, 4.667, 5.332999999999999, 8.333],\n [2001,\n  3,\n  31,\n  6.667000000000001,\n  8.667,\n  8.667,\n  6.332999999999999,\n  7.0,\n  8.0,\n  8.333,\n  7.332999999999999],\n [2001, 4, 11, 3.0, 2.333, 2.0, 2.0, 3.667, 8.0, 7.667000000000001, 8.333],\n [2001,\n  11,\n  6,\n  8.667,\n  8.667,\n  7.0,\n  5.0,\n  5.332999999999999,\n  6.667000000000001,\n  6.332999999999999,\n  6.332999999999999],\n [2001,\n  11,\n  24,\n  3.333,\n  5.332999999999999,\n  8.333,\n  7.0,\n  7.667000000000001,\n  7.332999999999999,\n  3.0,\n  4.667],\n [2002,\n  5,\n  23,\n  2.667,\n  2.667,\n  2.0,\n  6.667000000000001,\n  7.667000000000001,\n  8.333,\n  5.0,\n  3.333],\n [2003, 5, 29, 4.0, 3.667, 3.667, 3.0, 7.0, 7.667000000000001, 8.333, 8.333],\n [2003,\n  10,\n  31,\n  8.333,\n  7.667000000000001,\n  7.332999999999999,\n  6.667000000000001,\n  7.332999999999999,\n  4.667,\n  4.0,\n  4.333],\n [2003,\n  11,\n  20,\n  1.0,\n  3.667,\n  6.332999999999999,\n  6.332999999999999,\n  7.667000000000001,\n  8.667,\n  8.667,\n  8.0],\n [2004,\n  7,\n  27,\n  8.333,\n  7.667000000000001,\n  7.332999999999999,\n  8.0,\n  8.667,\n  8.333,\n  6.332999999999999,\n  6.0],\n [2004,\n  11,\n  10,\n  7.667000000000001,\n  8.333,\n  8.667,\n  8.333,\n  7.332999999999999,\n  6.332999999999999,\n  5.332999999999999,\n  4.333],\n [2005,\n  1,\n  21,\n  3.333,\n  2.0,\n  2.333,\n  2.333,\n  2.667,\n  6.667000000000001,\n  8.0,\n  7.332999999999999],\n [2005,\n  5,\n  8,\n  6.0,\n  5.332999999999999,\n  3.667,\n  6.0,\n  8.333,\n  7.667000000000001,\n  5.332999999999999,\n  3.667],\n [2005,\n  5,\n  15,\n  5.667000000000001,\n  5.667000000000001,\n  8.333,\n  7.667000000000001,\n  4.0,\n  4.0,\n  5.0,\n  5.0],\n [2005,\n  8,\n  24,\n  2.667,\n  3.333,\n  6.332999999999999,\n  8.667,\n  7.332999999999999,\n  6.667000000000001,\n  6.332999999999999,\n  4.333],\n [2006,\n  12,\n  15,\n  8.333,\n  7.667000000000001,\n  6.667000000000001,\n  5.667000000000001,\n  6.0,\n  4.0,\n  4.0,\n  3.667],\n [2012,\n  3,\n  9,\n  4.667,\n  6.332999999999999,\n  8.0,\n  7.332999999999999,\n  6.667000000000001,\n  5.667000000000001,\n  3.0,\n  2.333],\n [2015,\n  6,\n  22,\n  1.0,\n  3.333,\n  4.333,\n  3.0,\n  4.667,\n  5.332999999999999,\n  8.333,\n  5.332999999999999],\n [2017,\n  9,\n  8,\n  8.0,\n  4.667,\n  4.333,\n  5.0,\n  8.333,\n  7.332999999999999,\n  6.332999999999999,\n  4.667],\n [2023,\n  3,\n  24,\n  7.332999999999999,\n  8.0,\n  6.332999999999999,\n  4.0,\n  2.333,\n  3.667,\n  4.667,\n  4.333]]"
     },
     "execution_count": 25,
     "metadata": {},
     "output_type": "execute_result"
    }
   ],
   "source": [
    "Reduce_G4"
   ]
  },
  {
   "cell_type": "code",
   "execution_count": 26,
   "id": "5d8648df",
   "metadata": {
    "pycharm": {
     "name": "#%%\n"
    }
   },
   "outputs": [
    {
     "data": {
      "text/plain": "[<matplotlib.lines.Line2D at 0x205f06948b0>]"
     },
     "execution_count": 26,
     "metadata": {},
     "output_type": "execute_result"
    },
    {
     "data": {
      "text/plain": "<Figure size 432x288 with 1 Axes>",
      "image/png": "[encoded data removed]"
     },
     "metadata": {
      "needs_background": "light"
     },
     "output_type": "display_data"
    }
   ],
   "source": [
    "years = []\n",
    "G34_count = []\n",
    "for i in range(len(count_G34_peryear)):\n",
    "    years.append(count_G34_peryear[i][0])\n",
    "    G34_count.append(count_G34_peryear[i][1])\n",
    "    #plt.scatter(count_G34_peryear[i][0],count_G34_peryear[i][1], c = 'blue')\n",
    "plt.plot(years,G34_count)"
   ]
  },
  {
   "cell_type": "code",
   "execution_count": 27,
   "id": "4e9ae445",
   "metadata": {
    "pycharm": {
     "name": "#%%\n"
    }
   },
   "outputs": [
    {
     "data": {
      "text/plain": "[<matplotlib.lines.Line2D at 0x205f06fd2b0>]"
     },
     "execution_count": 27,
     "metadata": {},
     "output_type": "execute_result"
    },
    {
     "data": {
      "text/plain": "<Figure size 432x288 with 1 Axes>",
      "image/png": "[encoded data removed]"
     },
     "metadata": {
      "needs_background": "light"
     },
     "output_type": "display_data"
    }
   ],
   "source": [
    "years = []\n",
    "G4_G34_count = []\n",
    "for i in range(len(count_G4_G34_peryear)):\n",
    "    years.append(count_G4_G34_peryear[i][0])\n",
    "    G4_G34_count.append(count_G4_G34_peryear[i][1])\n",
    "    #plt.scatter(count_G4_G34_peryear[i][0],count_G4_G34_peryear[i][1], c = 'blue')\n",
    "plt.plot(years,G4_G34_count)"
   ]
  },
  {
   "cell_type": "code",
   "execution_count": 28,
   "id": "3dd03312",
   "metadata": {
    "pycharm": {
     "name": "#%%\n"
    }
   },
   "outputs": [
    {
     "data": {
      "text/plain": "Text(0.5, 0, 'G3_Storm')"
     },
     "execution_count": 28,
     "metadata": {},
     "output_type": "execute_result"
    },
    {
     "data": {
      "text/plain": "<Figure size 1008x792 with 1 Axes>",
      "image/png": "[encoded data removed]"
     },
     "metadata": {},
     "output_type": "display_data"
    }
   ],
   "source": [
    "plt.figure(figsize = (14,11),facecolor=(1, 1, 1))\n",
    "bin1 = 1000\n",
    "s, bins, patches = plt.hist(G4_G34_count, bins=bin1, alpha = 1)\n",
    "plt.xlabel('G3_Storm', fontsize = 20)"
   ]
  },
  {
   "cell_type": "code",
   "execution_count": 33,
   "id": "2dad5b87",
   "metadata": {
    "pycharm": {
     "name": "#%%\n"
    }
   },
   "outputs": [
    {
     "data": {
      "text/plain": "Text(0.5, 0, 'Temperature')"
     },
     "execution_count": 33,
     "metadata": {},
     "output_type": "execute_result"
    },
    {
     "data": {
      "text/plain": "<Figure size 1008x792 with 1 Axes>",
      "image/png": "[encoded data removed]"
     },
     "metadata": {},
     "output_type": "display_data"
    }
   ],
   "source": [
    "import math\n",
    "from scipy.stats import gaussian_kde\n",
    "plt.figure(figsize = (14,11),facecolor=(1, 1, 1))\n",
    "\n",
    "kde = gaussian_kde(G4_G34_count)\n",
    "x = np.linspace(min(G4_G34_count),max(G4_G34_count), num=1000)\n",
    "\n",
    "pdf = kde(x)\n",
    "\n",
    "plt.plot(x,pdf,color='red',linewidth=2)\n",
    "plt.xlabel('Temperature', fontsize = 20)"
   ]
  },
  {
   "cell_type": "code",
   "execution_count": 34,
   "id": "54d7e761",
   "metadata": {
    "pycharm": {
     "name": "#%%\n"
    }
   },
   "outputs": [
    {
     "data": {
      "text/plain": "<Figure size 1008x792 with 1 Axes>",
      "image/png": "[encoded data removed]"
     },
     "metadata": {},
     "output_type": "display_data"
    }
   ],
   "source": [
    "# Create histogram and calculate PDF\n",
    "plt.figure(figsize = (14,11),facecolor=(1, 1, 1))\n",
    "num_bins = 1000\n",
    "bin_widths = np.diff(bins)\n",
    "bin_centers = bins[:-1] + bin_widths / 2\n",
    "pdf_T24 = s / (sum(s) * bin_widths)\n",
    "\n",
    "# Calculate CDF from PDF\n",
    "cdf_T24 = np.cumsum(pdf_T24 * bin_widths)\n",
    "\n",
    "# Plot the CDF\n",
    "plt.plot(bin_centers, cdf_T24, color='red', linewidth=2)\n",
    "\n",
    "# Add labels and title\n",
    "plt.xlabel('Temperature',fontsize = 20)\n",
    "plt.ylabel('Cumulative Probability',fontsize = 20)\n",
    "\n",
    "# Show the plot\n",
    "plt.show()"
   ]
  },
  {
   "cell_type": "code",
   "execution_count": 34,
   "id": "eabde9f1",
   "metadata": {
    "pycharm": {
     "name": "#%%\n"
    }
   },
   "outputs": [],
   "source": []
  },
  {
   "cell_type": "code",
   "execution_count": 35,
   "id": "560d7daa",
   "metadata": {
    "pycharm": {
     "name": "#%%\n"
    }
   },
   "outputs": [],
   "source": [
    "All_Gs = G5 + G4 + G34 + G3 + G2 + G1"
   ]
  },
  {
   "cell_type": "code",
   "execution_count": 36,
   "id": "20576a7f",
   "metadata": {
    "pycharm": {
     "name": "#%%\n"
    }
   },
   "outputs": [
    {
     "data": {
      "text/plain": "[[1932, 5, 30, 7.0, 8.0, 6.332999999999999, 3.0, 2.667, 3.667, 4.333, 3.0],\n [1937,\n  4,\n  24,\n  1.6669999999999998,\n  2.333,\n  2.0,\n  2.667,\n  4.0,\n  4.667,\n  5.332999999999999,\n  8.0],\n [1937,\n  4,\n  26,\n  5.667000000000001,\n  4.667,\n  3.333,\n  2.333,\n  2.0,\n  5.0,\n  6.667000000000001,\n  8.333],\n [1937,\n  4,\n  28,\n  7.0,\n  8.0,\n  8.0,\n  7.332999999999999,\n  6.667000000000001,\n  6.667000000000001,\n  5.0,\n  5.332999999999999],\n [1937,\n  8,\n  22,\n  1.3330000000000002,\n  6.0,\n  8.0,\n  7.667000000000001,\n  5.667000000000001,\n  3.0,\n  4.333,\n  2.333],\n [1938,\n  1,\n  17,\n  6.667000000000001,\n  6.332999999999999,\n  6.667000000000001,\n  6.332999999999999,\n  8.333,\n  7.667000000000001,\n  4.667,\n  6.332999999999999],\n [1938,\n  1,\n  22,\n  5.667000000000001,\n  7.332999999999999,\n  8.333,\n  8.333,\n  6.667000000000001,\n  7.0,\n  5.332999999999999,\n  4.333],\n [1938,\n  1,\n  25,\n  4.0,\n  2.667,\n  1.6669999999999998,\n  4.667,\n  6.0,\n  7.332999999999999,\n  8.667,\n  8.333],\n [1938, 1, 26, 8.333, 6.332999999999999, 4.333, 4.667, 4.0, 4.333, 4.0, 2.0],\n [1938,\n  4,\n  16,\n  3.333,\n  7.0,\n  9.0,\n  8.0,\n  7.667000000000001,\n  5.667000000000001,\n  4.333,\n  5.332999999999999],\n [1938, 5, 11, 2.667, 2.667, 2.0, 2.333, 2.0, 7.667000000000001, 8.667, 8.667],\n [1939,\n  4,\n  17,\n  5.667000000000001,\n  7.332999999999999,\n  8.0,\n  6.667000000000001,\n  7.667000000000001,\n  7.332999999999999,\n  6.667000000000001,\n  6.332999999999999],\n [1939,\n  4,\n  24,\n  3.333,\n  2.333,\n  2.0,\n  2.333,\n  1.3330000000000002,\n  7.0,\n  8.667,\n  7.332999999999999],\n [1939,\n  10,\n  13,\n  5.0,\n  5.667000000000001,\n  6.332999999999999,\n  4.0,\n  3.667,\n  5.667000000000001,\n  7.667000000000001,\n  8.0],\n [1939,\n  10,\n  15,\n  6.667000000000001,\n  8.0,\n  6.667000000000001,\n  3.333,\n  3.333,\n  4.667,\n  4.0,\n  3.0],\n [1940, 3, 24, 6.332999999999999, 6.0, 5.0, 4.333, 8.0, 9.0, 9.0, 8.333],\n [1940, 3, 25, 8.667, 8.333, 8.333, 8.0, 7.0, 4.667, 6.667000000000001, 8.0],\n [1940, 3, 29, 2.667, 1.6669999999999998, 2.333, 5.0, 5.0, 8.333, 8.0, 8.333],\n [1940,\n  3,\n  30,\n  8.667,\n  8.333,\n  8.333,\n  8.0,\n  7.332999999999999,\n  7.667000000000001,\n  7.0,\n  5.667000000000001],\n [1940,\n  3,\n  31,\n  7.0,\n  5.332999999999999,\n  4.667,\n  8.333,\n  8.0,\n  7.667000000000001,\n  6.0,\n  6.332999999999999],\n [1940, 4, 3, 8.0, 8.0, 7.0, 4.667, 4.667, 5.0, 6.332999999999999, 3.667],\n [1940,\n  4,\n  25,\n  4.667,\n  8.0,\n  4.0,\n  1.6669999999999998,\n  2.333,\n  5.0,\n  6.667000000000001,\n  6.667000000000001],\n [1940,\n  6,\n  25,\n  4.667,\n  7.0,\n  5.332999999999999,\n  7.332999999999999,\n  8.333,\n  7.667000000000001,\n  7.332999999999999,\n  5.332999999999999],\n [1941, 3, 1, 3.0, 6.332999999999999, 8.0, 8.0, 8.667, 9.0, 8.667, 7.0],\n [1941,\n  7,\n  5,\n  6.332999999999999,\n  6.332999999999999,\n  8.667,\n  8.667,\n  9.0,\n  8.667,\n  6.667000000000001,\n  7.667000000000001],\n [1941,\n  8,\n  4,\n  5.0,\n  7.0,\n  6.0,\n  5.667000000000001,\n  8.333,\n  6.667000000000001,\n  6.332999999999999,\n  6.667000000000001],\n [1941,\n  9,\n  18,\n  2.0,\n  6.667000000000001,\n  8.333,\n  8.667,\n  8.667,\n  8.667,\n  8.667,\n  8.667],\n [1941,\n  9,\n  19,\n  8.667,\n  9.0,\n  8.667,\n  7.332999999999999,\n  4.0,\n  5.0,\n  7.332999999999999,\n  4.0],\n [1942,\n  3,\n  1,\n  3.333,\n  2.667,\n  8.0,\n  8.0,\n  7.332999999999999,\n  5.667000000000001,\n  6.667000000000001,\n  6.667000000000001],\n [1943,\n  8,\n  31,\n  7.0,\n  8.333,\n  7.332999999999999,\n  7.332999999999999,\n  7.667000000000001,\n  7.0,\n  6.332999999999999,\n  4.667],\n [1944, 4, 2, 4.333, 5.0, 8.0, 8.333, 6.0, 4.0, 5.0, 4.0],\n [1944, 12, 16, 4.0, 3.667, 4.333, 6.0, 8.0, 8.333, 5.0, 3.0],\n [1946, 2, 7, 3.667, 2.0, 4.0, 8.333, 7.667000000000001, 8.0, 7.0, 8.0],\n [1946,\n  2,\n  8,\n  8.667,\n  7.667000000000001,\n  7.332999999999999,\n  7.0,\n  5.667000000000001,\n  5.667000000000001,\n  4.0,\n  3.0],\n [1946,\n  3,\n  24,\n  8.0,\n  7.667000000000001,\n  5.0,\n  5.667000000000001,\n  7.332999999999999,\n  8.0,\n  3.333,\n  5.332999999999999],\n [1946,\n  3,\n  25,\n  7.667000000000001,\n  7.332999999999999,\n  7.332999999999999,\n  7.667000000000001,\n  8.333,\n  8.667,\n  7.667000000000001,\n  7.667000000000001],\n [1946, 3, 28, 5.0, 6.0, 8.333, 8.667, 8.667, 8.667, 8.333, 8.0],\n [1946,\n  4,\n  23,\n  3.667,\n  4.0,\n  5.332999999999999,\n  6.0,\n  6.332999999999999,\n  7.667000000000001,\n  7.667000000000001,\n  8.667],\n [1946,\n  4,\n  24,\n  8.333,\n  7.332999999999999,\n  6.667000000000001,\n  6.332999999999999,\n  4.333,\n  6.667000000000001,\n  4.667,\n  3.333],\n [1946, 7, 26, 3.667, 4.0, 3.0, 3.667, 3.333, 3.333, 8.667, 8.0],\n [1946,\n  7,\n  27,\n  8.667,\n  8.667,\n  9.0,\n  6.667000000000001,\n  5.332999999999999,\n  3.667,\n  3.667,\n  2.333],\n [1946, 9, 22, 3.667, 8.333, 7.667000000000001, 8.667, 9.0, 8.333, 7.0, 6.0],\n [1946,\n  9,\n  23,\n  7.332999999999999,\n  7.667000000000001,\n  8.0,\n  6.332999999999999,\n  7.0,\n  8.0,\n  6.0,\n  6.667000000000001],\n [1947,\n  3,\n  3,\n  7.0,\n  5.0,\n  6.667000000000001,\n  7.0,\n  6.332999999999999,\n  5.667000000000001,\n  8.333,\n  8.0],\n [1947,\n  4,\n  17,\n  3.667,\n  3.667,\n  1.6669999999999998,\n  1.6669999999999998,\n  6.332999999999999,\n  6.667000000000001,\n  8.667,\n  8.333],\n [1947,\n  7,\n  17,\n  1.0,\n  0.667,\n  0.667,\n  2.0,\n  1.3330000000000002,\n  7.0,\n  8.0,\n  7.667000000000001],\n [1947, 8, 22, 2.667, 4.0, 5.0, 8.333, 6.332999999999999, 6.0, 4.667, 4.333],\n [1948,\n  3,\n  15,\n  5.667000000000001,\n  8.333,\n  8.0,\n  7.332999999999999,\n  6.332999999999999,\n  7.0,\n  7.667000000000001,\n  5.0],\n [1948,\n  10,\n  17,\n  1.0,\n  0.33299999999999996,\n  3.333,\n  1.3330000000000002,\n  0.33299999999999996,\n  0.33299999999999996,\n  2.333,\n  8.333],\n [1948,\n  10,\n  18,\n  8.333,\n  6.667000000000001,\n  5.332999999999999,\n  3.667,\n  3.667,\n  4.0,\n  5.332999999999999,\n  7.332999999999999],\n [1949, 1, 25, 8.667, 8.0, 6.667000000000001, 4.333, 5.0, 6.0, 8.333, 8.333],\n [1949, 1, 26, 8.333, 8.0, 7.0, 5.667000000000001, 5.0, 5.0, 4.667, 4.0],\n [1949,\n  5,\n  12,\n  2.0,\n  2.0,\n  7.332999999999999,\n  7.332999999999999,\n  8.333,\n  8.667,\n  8.333,\n  7.0],\n [1949,\n  5,\n  13,\n  8.0,\n  7.332999999999999,\n  3.333,\n  2.0,\n  5.332999999999999,\n  3.333,\n  1.0,\n  2.333],\n [1949,\n  10,\n  15,\n  6.0,\n  6.0,\n  7.332999999999999,\n  8.0,\n  7.332999999999999,\n  7.332999999999999,\n  8.333,\n  7.667000000000001],\n [1950,\n  2,\n  20,\n  2.333,\n  2.667,\n  1.6669999999999998,\n  2.333,\n  3.0,\n  5.0,\n  8.667,\n  8.333],\n [1950,\n  8,\n  19,\n  5.667000000000001,\n  4.333,\n  5.667000000000001,\n  6.332999999999999,\n  8.0,\n  8.333,\n  7.667000000000001,\n  8.0],\n [1950,\n  8,\n  20,\n  8.333,\n  8.0,\n  7.667000000000001,\n  7.667000000000001,\n  4.0,\n  3.333,\n  2.333,\n  2.0],\n [1951,\n  6,\n  17,\n  2.333,\n  1.3330000000000002,\n  1.6669999999999998,\n  1.0,\n  0.667,\n  4.667,\n  4.333,\n  8.0],\n [1951,\n  9,\n  25,\n  3.667,\n  4.667,\n  4.667,\n  5.332999999999999,\n  7.332999999999999,\n  7.667000000000001,\n  8.0,\n  8.333],\n [1951,\n  9,\n  26,\n  8.667,\n  7.667000000000001,\n  4.333,\n  3.667,\n  2.667,\n  3.333,\n  2.333,\n  2.667],\n [1951,\n  10,\n  28,\n  0.33299999999999996,\n  3.667,\n  3.333,\n  5.332999999999999,\n  7.0,\n  8.0,\n  8.667,\n  5.0],\n [1952,\n  3,\n  6,\n  8.0,\n  7.332999999999999,\n  6.332999999999999,\n  4.667,\n  4.333,\n  4.0,\n  5.0,\n  5.332999999999999],\n [1952, 4, 21, 2.667, 3.333, 4.0, 4.0, 8.333, 8.0, 7.0, 6.332999999999999],\n [1952,\n  5,\n  27,\n  8.0,\n  5.667000000000001,\n  4.667,\n  5.332999999999999,\n  4.333,\n  5.332999999999999,\n  5.667000000000001,\n  5.0],\n [1952,\n  6,\n  30,\n  5.332999999999999,\n  8.0,\n  7.667000000000001,\n  7.0,\n  3.667,\n  2.333,\n  1.6669999999999998,\n  2.333],\n [1956,\n  2,\n  25,\n  0.667,\n  6.0,\n  8.333,\n  7.332999999999999,\n  6.667000000000001,\n  6.667000000000001,\n  6.667000000000001,\n  3.333],\n [1956,\n  4,\n  27,\n  8.667,\n  8.667,\n  7.667000000000001,\n  7.667000000000001,\n  6.667000000000001,\n  6.667000000000001,\n  7.0,\n  5.667000000000001],\n [1956,\n  5,\n  16,\n  5.332999999999999,\n  7.332999999999999,\n  7.667000000000001,\n  7.0,\n  8.333,\n  7.667000000000001,\n  7.0,\n  7.667000000000001],\n [1956,\n  9,\n  2,\n  5.0,\n  7.667000000000001,\n  8.0,\n  6.667000000000001,\n  4.667,\n  4.0,\n  4.0,\n  3.0],\n [1956, 9, 8, 1.0, 1.0, 3.667, 5.332999999999999, 8.333, 8.0, 6.0, 3.333],\n [1957,\n  1,\n  21,\n  1.6669999999999998,\n  3.333,\n  3.667,\n  3.667,\n  4.667,\n  5.667000000000001,\n  7.667000000000001,\n  8.667],\n [1957,\n  1,\n  22,\n  8.333,\n  6.667000000000001,\n  6.332999999999999,\n  4.667,\n  4.0,\n  4.0,\n  3.0,\n  2.333],\n [1957,\n  3,\n  2,\n  6.0,\n  8.333,\n  8.333,\n  7.0,\n  6.667000000000001,\n  5.332999999999999,\n  6.332999999999999,\n  6.667000000000001],\n [1957,\n  6,\n  30,\n  3.0,\n  6.332999999999999,\n  5.332999999999999,\n  7.667000000000001,\n  8.0,\n  8.0,\n  8.0,\n  8.333],\n [1957,\n  7,\n  2,\n  1.6669999999999998,\n  1.0,\n  2.667,\n  4.667,\n  8.0,\n  6.332999999999999,\n  5.667000000000001,\n  2.333],\n [1957,\n  9,\n  3,\n  6.667000000000001,\n  6.332999999999999,\n  6.332999999999999,\n  7.332999999999999,\n  8.0,\n  8.667,\n  6.0,\n  4.667],\n [1957, 9, 4, 3.667, 4.667, 2.333, 2.667, 8.333, 9.0, 8.0, 8.333],\n [1957,\n  9,\n  5,\n  8.333,\n  8.667,\n  6.667000000000001,\n  5.0,\n  4.667,\n  4.0,\n  5.332999999999999,\n  6.0],\n [1957, 9, 13, 7.667000000000001, 8.333, 8.667, 8.667, 7.0, 6.0, 4.0, 4.0],\n [1957,\n  9,\n  22,\n  4.667,\n  5.667000000000001,\n  5.667000000000001,\n  4.667,\n  8.0,\n  8.333,\n  5.0,\n  7.0],\n [1957,\n  9,\n  23,\n  8.0,\n  8.667,\n  7.667000000000001,\n  7.667000000000001,\n  7.667000000000001,\n  6.667000000000001,\n  6.667000000000001,\n  5.0],\n [1957, 9, 29, 4.0, 5.332999999999999, 5.0, 4.333, 8.0, 8.667, 8.333, 8.0],\n [1958, 2, 11, 9.0, 8.333, 8.667, 8.333, 8.0, 5.332999999999999, 6.0, 6.0],\n [1958,\n  5,\n  31,\n  2.333,\n  4.0,\n  2.0,\n  3.333,\n  4.333,\n  6.332999999999999,\n  7.667000000000001,\n  8.0],\n [1958,\n  6,\n  29,\n  7.0,\n  8.0,\n  6.667000000000001,\n  5.332999999999999,\n  7.667000000000001,\n  6.332999999999999,\n  4.333,\n  2.667],\n [1958,\n  7,\n  8,\n  3.0,\n  2.667,\n  7.332999999999999,\n  7.667000000000001,\n  8.333,\n  9.0,\n  8.667,\n  8.667],\n [1958,\n  9,\n  4,\n  5.0,\n  4.333,\n  3.333,\n  3.667,\n  7.332999999999999,\n  8.667,\n  8.333,\n  8.333],\n [1958,\n  9,\n  5,\n  8.0,\n  7.667000000000001,\n  4.333,\n  4.0,\n  3.333,\n  3.667,\n  5.667000000000001,\n  3.0],\n [1959,\n  3,\n  26,\n  2.333,\n  1.3330000000000002,\n  4.0,\n  6.332999999999999,\n  8.0,\n  5.332999999999999,\n  6.332999999999999,\n  7.332999999999999],\n [1959,\n  3,\n  27,\n  7.332999999999999,\n  7.667000000000001,\n  8.333,\n  6.667000000000001,\n  8.333,\n  8.333,\n  7.667000000000001,\n  6.332999999999999],\n [1959,\n  5,\n  12,\n  7.0,\n  6.667000000000001,\n  6.667000000000001,\n  5.667000000000001,\n  6.667000000000001,\n  8.333,\n  5.332999999999999,\n  4.667],\n [1959, 7, 15, 4.333, 5.0, 8.0, 8.667, 8.667, 9.0, 8.667, 8.667],\n [1959, 7, 17, 3.333, 4.333, 3.333, 3.667, 3.333, 8.333, 8.667, 8.333],\n [1959,\n  7,\n  18,\n  8.0,\n  7.667000000000001,\n  8.0,\n  5.667000000000001,\n  4.667,\n  7.0,\n  4.667,\n  6.0],\n [1959,\n  8,\n  16,\n  4.333,\n  4.333,\n  6.667000000000001,\n  7.332999999999999,\n  8.333,\n  8.0,\n  6.667000000000001,\n  7.332999999999999],\n [1959,\n  8,\n  17,\n  7.667000000000001,\n  8.333,\n  6.667000000000001,\n  6.332999999999999,\n  5.332999999999999,\n  7.0,\n  5.0,\n  5.332999999999999],\n [1959,\n  11,\n  28,\n  6.0,\n  8.0,\n  7.332999999999999,\n  6.667000000000001,\n  4.333,\n  3.667,\n  4.0,\n  4.0],\n [1960,\n  3,\n  31,\n  4.333,\n  4.667,\n  5.0,\n  7.667000000000001,\n  6.667000000000001,\n  8.0,\n  7.667000000000001,\n  8.333],\n [1960, 4, 1, 8.667, 8.667, 7.0, 8.0, 8.333, 8.667, 8.667, 7.332999999999999],\n [1960,\n  4,\n  30,\n  6.667000000000001,\n  6.667000000000001,\n  5.667000000000001,\n  5.667000000000001,\n  8.667,\n  9.0,\n  8.0,\n  7.0],\n [1960,\n  5,\n  8,\n  3.333,\n  6.332999999999999,\n  6.667000000000001,\n  7.332999999999999,\n  8.0,\n  8.333,\n  6.332999999999999,\n  6.667000000000001],\n [1960,\n  7,\n  15,\n  3.0,\n  3.667,\n  3.667,\n  5.0,\n  6.332999999999999,\n  7.332999999999999,\n  7.667000000000001,\n  8.0],\n [1960,\n  7,\n  16,\n  8.333,\n  6.667000000000001,\n  5.667000000000001,\n  5.0,\n  4.333,\n  5.332999999999999,\n  4.667,\n  4.0],\n [1960,\n  9,\n  4,\n  3.667,\n  4.667,\n  6.667000000000001,\n  6.0,\n  6.667000000000001,\n  6.0,\n  6.667000000000001,\n  8.0],\n [1960, 10, 6, 6.0, 8.0, 7.332999999999999, 8.0, 8.0, 8.333, 8.333, 8.667],\n [1960,\n  10,\n  7,\n  9.0,\n  8.667,\n  7.667000000000001,\n  7.667000000000001,\n  7.332999999999999,\n  7.0,\n  5.667000000000001,\n  6.0],\n [1960,\n  11,\n  12,\n  2.0,\n  1.0,\n  2.0,\n  1.6669999999999998,\n  5.0,\n  6.0,\n  7.667000000000001,\n  8.0],\n [1960, 11, 13, 8.667, 8.667, 9.0, 9.0, 8.667, 8.333, 8.0, 6.332999999999999],\n [1960,\n  11,\n  16,\n  8.333,\n  8.333,\n  6.0,\n  5.332999999999999,\n  5.667000000000001,\n  4.667,\n  3.333,\n  3.333],\n [1960,\n  12,\n  1,\n  6.332999999999999,\n  8.0,\n  6.667000000000001,\n  5.0,\n  5.332999999999999,\n  6.0,\n  5.667000000000001,\n  6.0],\n [1961,\n  7,\n  13,\n  0.33299999999999996,\n  1.0,\n  0.667,\n  6.332999999999999,\n  8.0,\n  8.333,\n  7.667000000000001,\n  6.332999999999999],\n [1961,\n  7,\n  14,\n  4.667,\n  3.0,\n  6.667000000000001,\n  8.333,\n  7.332999999999999,\n  6.667000000000001,\n  6.332999999999999,\n  4.0],\n [1961,\n  7,\n  27,\n  4.0,\n  4.333,\n  8.333,\n  8.333,\n  6.0,\n  5.332999999999999,\n  6.332999999999999,\n  7.332999999999999],\n [1961,\n  9,\n  30,\n  2.0,\n  3.0,\n  1.6669999999999998,\n  1.6669999999999998,\n  2.0,\n  0.33299999999999996,\n  4.667,\n  8.0],\n [1961, 10, 1, 8.667, 8.333, 7.0, 7.667000000000001, 4.667, 2.0, 2.0, 2.333],\n [1961,\n  10,\n  28,\n  2.333,\n  2.333,\n  5.0,\n  6.332999999999999,\n  8.0,\n  8.0,\n  8.667,\n  7.332999999999999],\n [1963,\n  9,\n  22,\n  4.333,\n  8.333,\n  7.667000000000001,\n  4.667,\n  4.0,\n  4.667,\n  7.332999999999999,\n  8.667],\n [1963,\n  9,\n  23,\n  8.667,\n  8.0,\n  4.333,\n  4.333,\n  3.333,\n  3.333,\n  3.0,\n  1.6669999999999998],\n [1963,\n  10,\n  29,\n  3.333,\n  2.667,\n  2.333,\n  1.6669999999999998,\n  4.0,\n  7.0,\n  7.667000000000001,\n  8.0],\n [1966,\n  9,\n  3,\n  3.0,\n  3.333,\n  3.667,\n  5.667000000000001,\n  6.0,\n  6.0,\n  7.332999999999999,\n  8.667],\n [1966,\n  9,\n  4,\n  8.667,\n  8.333,\n  7.332999999999999,\n  6.0,\n  5.667000000000001,\n  4.0,\n  3.333,\n  3.0],\n [1967, 2, 16, 3.667, 3.333, 5.0, 8.0, 7.0, 4.0, 4.667, 3.667],\n [1967,\n  5,\n  25,\n  1.6669999999999998,\n  2.0,\n  1.0,\n  5.332999999999999,\n  8.333,\n  7.332999999999999,\n  7.667000000000001,\n  9.0],\n [1967,\n  5,\n  26,\n  9.0,\n  8.667,\n  7.332999999999999,\n  6.667000000000001,\n  6.667000000000001,\n  3.667,\n  4.0,\n  4.667],\n [1967, 6, 6, 8.0, 5.0, 2.0, 1.6669999999999998, 2.333, 2.0, 4.333, 5.0],\n [1968,\n  6,\n  11,\n  7.0,\n  8.0,\n  7.0,\n  6.332999999999999,\n  6.667000000000001,\n  5.0,\n  5.667000000000001,\n  4.333],\n [1968, 10, 31, 4.667, 4.333, 5.0, 7.332999999999999, 8.0, 8.0, 7.0, 6.0],\n [1968, 11, 1, 5.332999999999999, 3.0, 2.667, 6.0, 8.333, 8.0, 7.0, 8.333],\n [1969,\n  2,\n  2,\n  0.0,\n  0.0,\n  1.6669999999999998,\n  2.0,\n  2.0,\n  4.667,\n  8.0,\n  6.667000000000001],\n [1969,\n  3,\n  23,\n  2.0,\n  1.0,\n  1.6669999999999998,\n  2.333,\n  2.333,\n  3.667,\n  6.667000000000001,\n  8.0],\n [1969,\n  3,\n  24,\n  8.0,\n  6.332999999999999,\n  6.667000000000001,\n  7.0,\n  5.332999999999999,\n  3.333,\n  1.6669999999999998,\n  1.6669999999999998],\n [1969,\n  9,\n  30,\n  8.0,\n  7.0,\n  6.332999999999999,\n  6.667000000000001,\n  6.0,\n  4.0,\n  5.332999999999999,\n  2.667],\n [1970,\n  3,\n  8,\n  4.333,\n  5.0,\n  5.667000000000001,\n  5.0,\n  7.332999999999999,\n  8.0,\n  9.0,\n  8.333],\n [1970,\n  4,\n  21,\n  3.667,\n  4.0,\n  5.0,\n  5.667000000000001,\n  6.0,\n  6.667000000000001,\n  8.333,\n  7.0],\n [1970,\n  8,\n  17,\n  5.332999999999999,\n  8.667,\n  8.0,\n  6.0,\n  5.332999999999999,\n  6.667000000000001,\n  5.332999999999999,\n  5.332999999999999],\n [1970, 12, 14, 3.667, 6.0, 8.333, 5.0, 4.333, 3.0, 4.333, 5.332999999999999],\n [1972,\n  6,\n  18,\n  8.333,\n  7.332999999999999,\n  7.0,\n  6.332999999999999,\n  7.0,\n  7.332999999999999,\n  6.0,\n  4.0],\n [1972,\n  8,\n  4,\n  5.667000000000001,\n  8.333,\n  7.0,\n  4.0,\n  5.332999999999999,\n  4.0,\n  6.667000000000001,\n  9.0],\n [1972,\n  8,\n  5,\n  8.333,\n  8.333,\n  7.0,\n  7.332999999999999,\n  7.667000000000001,\n  8.667,\n  7.332999999999999,\n  5.667000000000001],\n [1972,\n  8,\n  9,\n  4.667,\n  6.667000000000001,\n  6.667000000000001,\n  8.333,\n  4.0,\n  4.333,\n  3.333,\n  3.333],\n [1972,\n  9,\n  14,\n  6.667000000000001,\n  8.0,\n  4.667,\n  1.3330000000000002,\n  1.6669999999999998,\n  3.333,\n  4.0,\n  3.333],\n [1972,\n  11,\n  1,\n  7.667000000000001,\n  8.0,\n  7.667000000000001,\n  6.332999999999999,\n  5.332999999999999,\n  2.0,\n  4.667,\n  4.0],\n [1973,\n  4,\n  1,\n  4.0,\n  2.667,\n  3.0,\n  4.0,\n  5.332999999999999,\n  7.667000000000001,\n  8.333,\n  7.667000000000001],\n [1974,\n  7,\n  6,\n  6.667000000000001,\n  8.333,\n  8.667,\n  6.0,\n  7.332999999999999,\n  6.332999999999999,\n  5.0,\n  3.0],\n [1974,\n  9,\n  16,\n  8.0,\n  7.667000000000001,\n  6.0,\n  6.667000000000001,\n  6.332999999999999,\n  2.667,\n  2.667,\n  2.0],\n [1976,\n  3,\n  26,\n  4.333,\n  7.332999999999999,\n  8.0,\n  7.332999999999999,\n  8.0,\n  8.0,\n  7.0,\n  5.667000000000001],\n [1976,\n  4,\n  1,\n  6.332999999999999,\n  8.333,\n  8.333,\n  8.333,\n  6.0,\n  4.333,\n  3.333,\n  2.667],\n [1976,\n  5,\n  3,\n  8.333,\n  7.667000000000001,\n  6.667000000000001,\n  7.0,\n  5.332999999999999,\n  4.333,\n  3.667,\n  2.333],\n [1978, 4, 30, 3.333, 2.667, 2.0, 5.0, 6.667000000000001, 8.0, 3.667, 4.667],\n [1978,\n  5,\n  1,\n  2.667,\n  4.667,\n  5.667000000000001,\n  5.332999999999999,\n  7.332999999999999,\n  4.333,\n  6.667000000000001,\n  8.333],\n [1978, 7, 4, 6.0, 3.667, 4.0, 4.0, 7.667000000000001, 8.0, 3.667, 6.0],\n [1978,\n  8,\n  28,\n  4.333,\n  7.332999999999999,\n  8.333,\n  7.667000000000001,\n  8.0,\n  6.332999999999999,\n  4.667,\n  5.0],\n [1978,\n  9,\n  29,\n  4.333,\n  6.667000000000001,\n  7.667000000000001,\n  8.0,\n  8.0,\n  6.667000000000001,\n  3.667,\n  1.6669999999999998],\n [1979,\n  4,\n  3,\n  3.0,\n  2.333,\n  2.667,\n  2.667,\n  2.667,\n  5.332999999999999,\n  6.667000000000001,\n  8.0],\n [1979,\n  4,\n  25,\n  7.667000000000001,\n  8.0,\n  7.667000000000001,\n  7.0,\n  7.0,\n  5.0,\n  5.667000000000001,\n  5.667000000000001],\n [1981,\n  4,\n  13,\n  8.0,\n  8.333,\n  7.667000000000001,\n  5.667000000000001,\n  6.332999999999999,\n  5.667000000000001,\n  5.667000000000001,\n  5.0],\n [1981,\n  7,\n  25,\n  4.333,\n  5.667000000000001,\n  6.667000000000001,\n  4.333,\n  8.333,\n  8.333,\n  7.667000000000001,\n  7.667000000000001],\n [1981,\n  7,\n  26,\n  8.0,\n  6.667000000000001,\n  6.0,\n  5.0,\n  5.667000000000001,\n  5.667000000000001,\n  4.0,\n  3.333],\n [1981,\n  10,\n  14,\n  8.0,\n  7.667000000000001,\n  4.333,\n  3.667,\n  3.333,\n  3.667,\n  4.667,\n  5.667000000000001],\n [1982, 3, 1, 2.333, 2.333, 3.333, 4.667, 6.332999999999999, 7.0, 4.667, 8.0],\n [1982,\n  3,\n  2,\n  8.0,\n  7.667000000000001,\n  6.667000000000001,\n  7.332999999999999,\n  6.0,\n  5.332999999999999,\n  4.667,\n  4.0],\n [1982, 7, 13, 4.667, 5.667000000000001, 5.0, 4.333, 4.333, 8.333, 8.667, 9.0],\n [1982,\n  7,\n  14,\n  9.0,\n  7.667000000000001,\n  6.667000000000001,\n  7.0,\n  6.0,\n  7.0,\n  6.667000000000001,\n  6.0],\n [1982,\n  9,\n  6,\n  8.0,\n  8.333,\n  8.333,\n  8.333,\n  8.667,\n  7.332999999999999,\n  7.0,\n  6.332999999999999],\n [1982,\n  9,\n  22,\n  7.667000000000001,\n  8.333,\n  8.0,\n  7.667000000000001,\n  6.667000000000001,\n  6.0,\n  4.333,\n  5.332999999999999],\n [1983, 1, 10, 7.332999999999999, 8.333, 7.0, 5.0, 3.333, 2.667, 2.333, 3.0],\n [1983,\n  2,\n  5,\n  7.332999999999999,\n  8.0,\n  7.332999999999999,\n  7.332999999999999,\n  7.332999999999999,\n  6.0,\n  7.0,\n  6.667000000000001],\n [1983,\n  5,\n  24,\n  4.0,\n  4.0,\n  3.0,\n  2.667,\n  4.667,\n  8.0,\n  7.667000000000001,\n  6.667000000000001],\n [1984,\n  11,\n  16,\n  7.667000000000001,\n  8.0,\n  7.0,\n  6.667000000000001,\n  6.332999999999999,\n  5.332999999999999,\n  5.667000000000001,\n  5.0],\n [1985,\n  4,\n  21,\n  8.333,\n  7.332999999999999,\n  8.0,\n  5.667000000000001,\n  4.667,\n  5.667000000000001,\n  4.333,\n  3.667],\n [1986,\n  2,\n  8,\n  7.0,\n  7.0,\n  7.332999999999999,\n  6.667000000000001,\n  8.0,\n  7.667000000000001,\n  9.0,\n  8.667],\n [1986,\n  2,\n  9,\n  8.667,\n  7.667000000000001,\n  5.332999999999999,\n  4.667,\n  5.0,\n  6.332999999999999,\n  5.332999999999999,\n  4.0],\n [1986,\n  9,\n  12,\n  5.332999999999999,\n  8.667,\n  7.332999999999999,\n  5.667000000000001,\n  4.333,\n  4.0,\n  4.667,\n  4.667],\n [1988, 4, 3, 2.667, 2.667, 5.0, 4.667, 1.6669999999999998, 4.333, 8.0, 4.333],\n [1989, 3, 13, 6.0, 7.667000000000001, 8.667, 8.333, 8.333, 8.333, 8.667, 9.0],\n [1989,\n  3,\n  14,\n  9.0,\n  7.667000000000001,\n  7.667000000000001,\n  5.667000000000001,\n  5.0,\n  5.332999999999999,\n  7.667000000000001,\n  7.332999999999999],\n [1989,\n  9,\n  19,\n  6.667000000000001,\n  8.0,\n  7.0,\n  5.0,\n  4.0,\n  3.0,\n  2.667,\n  1.3330000000000002],\n [1989,\n  10,\n  20,\n  2.333,\n  3.0,\n  4.333,\n  6.667000000000001,\n  7.667000000000001,\n  7.667000000000001,\n  8.333,\n  7.0],\n [1989,\n  10,\n  21,\n  6.332999999999999,\n  6.667000000000001,\n  7.0,\n  8.333,\n  7.667000000000001,\n  6.667000000000001,\n  8.0,\n  6.332999999999999],\n [1989,\n  11,\n  17,\n  3.667,\n  3.0,\n  4.0,\n  7.0,\n  6.667000000000001,\n  7.667000000000001,\n  8.0,\n  7.667000000000001],\n [1990,\n  3,\n  30,\n  4.333,\n  4.667,\n  8.0,\n  7.0,\n  5.332999999999999,\n  5.332999999999999,\n  3.333,\n  2.333],\n [1990,\n  4,\n  10,\n  4.0,\n  5.332999999999999,\n  7.0,\n  7.667000000000001,\n  8.0,\n  7.332999999999999,\n  7.332999999999999,\n  6.0],\n [1990,\n  6,\n  12,\n  4.0,\n  3.0,\n  4.333,\n  4.333,\n  5.332999999999999,\n  7.0,\n  7.667000000000001,\n  8.333],\n [1991,\n  3,\n  24,\n  3.0,\n  8.667,\n  8.0,\n  7.332999999999999,\n  5.332999999999999,\n  5.0,\n  8.0,\n  8.667],\n [1991,\n  3,\n  25,\n  7.667000000000001,\n  8.667,\n  5.0,\n  6.0,\n  7.667000000000001,\n  5.667000000000001,\n  5.332999999999999,\n  7.0],\n [1991,\n  3,\n  26,\n  7.0,\n  7.332999999999999,\n  7.0,\n  6.667000000000001,\n  8.0,\n  6.0,\n  5.332999999999999,\n  4.667],\n [1991,\n  6,\n  5,\n  6.667000000000001,\n  7.332999999999999,\n  8.0,\n  8.0,\n  8.0,\n  8.667,\n  8.0,\n  7.667000000000001],\n [1991,\n  7,\n  8,\n  2.333,\n  2.667,\n  3.667,\n  4.333,\n  4.667,\n  8.0,\n  7.332999999999999,\n  5.667000000000001],\n [1991,\n  7,\n  9,\n  3.333,\n  4.667,\n  8.0,\n  7.0,\n  8.0,\n  7.332999999999999,\n  6.667000000000001,\n  5.667000000000001],\n [1991,\n  7,\n  13,\n  4.667,\n  5.0,\n  6.667000000000001,\n  7.0,\n  8.0,\n  8.667,\n  6.0,\n  7.332999999999999],\n [1991,\n  10,\n  28,\n  5.332999999999999,\n  5.332999999999999,\n  4.667,\n  6.332999999999999,\n  7.667000000000001,\n  8.333,\n  5.332999999999999,\n  5.667000000000001],\n [1991,\n  10,\n  29,\n  7.667000000000001,\n  8.333,\n  8.0,\n  6.332999999999999,\n  4.667,\n  6.0,\n  7.0,\n  5.332999999999999],\n [1991,\n  11,\n  1,\n  5.332999999999999,\n  3.333,\n  5.332999999999999,\n  5.332999999999999,\n  6.667000000000001,\n  8.0,\n  8.333,\n  7.0],\n [1991,\n  11,\n  8,\n  2.667,\n  3.0,\n  4.0,\n  4.0,\n  6.667000000000001,\n  6.667000000000001,\n  7.667000000000001,\n  8.667],\n [1991,\n  11,\n  9,\n  8.333,\n  8.333,\n  7.332999999999999,\n  6.667000000000001,\n  6.0,\n  5.0,\n  5.332999999999999,\n  4.333],\n [1992,\n  2,\n  26,\n  3.333,\n  3.333,\n  3.667,\n  3.667,\n  4.0,\n  6.332999999999999,\n  8.0,\n  6.667000000000001],\n [1992,\n  5,\n  10,\n  5.332999999999999,\n  6.332999999999999,\n  8.0,\n  8.667,\n  8.333,\n  7.667000000000001,\n  8.0,\n  7.332999999999999],\n [1992,\n  8,\n  23,\n  7.667000000000001,\n  8.0,\n  6.332999999999999,\n  3.0,\n  4.333,\n  2.333,\n  4.0,\n  3.667],\n [1994, 4, 17, 6.667000000000001, 8.333, 8.333, 7.0, 4.667, 3.0, 3.0, 3.333],\n [1995,\n  4,\n  7,\n  4.0,\n  5.667000000000001,\n  6.0,\n  5.332999999999999,\n  7.0,\n  8.0,\n  7.332999999999999,\n  6.0],\n [1998, 5, 4, 6.0, 8.667, 8.333, 5.667000000000001, 6.0, 3.667, 2.333, 3.0],\n [1998,\n  8,\n  27,\n  8.0,\n  8.0,\n  7.667000000000001,\n  6.667000000000001,\n  6.667000000000001,\n  6.667000000000001,\n  7.0,\n  6.332999999999999],\n [1998,\n  9,\n  25,\n  7.667000000000001,\n  8.0,\n  8.333,\n  7.0,\n  6.332999999999999,\n  5.667000000000001,\n  2.667,\n  2.333],\n [1999, 9, 22, 3.0, 2.0, 2.0, 2.667, 5.0, 3.667, 6.0, 8.0],\n [1999,\n  10,\n  22,\n  7.0,\n  7.667000000000001,\n  8.0,\n  5.332999999999999,\n  4.667,\n  4.333,\n  5.667000000000001,\n  3.333],\n [2000,\n  4,\n  6,\n  1.6669999999999998,\n  4.333,\n  2.667,\n  2.333,\n  3.333,\n  6.667000000000001,\n  8.333,\n  8.333],\n [2000, 4, 7, 8.667, 6.0, 6.0, 4.0, 4.0, 4.333, 3.667, 3.667],\n [2000,\n  5,\n  24,\n  8.0,\n  7.667000000000001,\n  6.0,\n  5.667000000000001,\n  5.0,\n  5.0,\n  6.0,\n  4.333],\n [2000, 7, 15, 3.0, 3.667, 4.667, 4.333, 8.0, 8.667, 9.0, 8.667],\n [2000, 9, 17, 4.667, 4.0, 2.333, 3.0, 4.0, 4.667, 5.332999999999999, 8.333],\n [2001,\n  3,\n  31,\n  6.667000000000001,\n  8.667,\n  8.667,\n  6.332999999999999,\n  7.0,\n  8.0,\n  8.333,\n  7.332999999999999],\n [2001, 4, 11, 3.0, 2.333, 2.0, 2.0, 3.667, 8.0, 7.667000000000001, 8.333],\n [2001,\n  11,\n  6,\n  8.667,\n  8.667,\n  7.0,\n  5.0,\n  5.332999999999999,\n  6.667000000000001,\n  6.332999999999999,\n  6.332999999999999],\n [2001,\n  11,\n  24,\n  3.333,\n  5.332999999999999,\n  8.333,\n  7.0,\n  7.667000000000001,\n  7.332999999999999,\n  3.0,\n  4.667],\n [2002,\n  5,\n  23,\n  2.667,\n  2.667,\n  2.0,\n  6.667000000000001,\n  7.667000000000001,\n  8.333,\n  5.0,\n  3.333],\n [2003, 5, 29, 4.0, 3.667, 3.667, 3.0, 7.0, 7.667000000000001, 8.333, 8.333],\n [2003,\n  10,\n  29,\n  4.667,\n  4.0,\n  9.0,\n  8.0,\n  7.667000000000001,\n  7.667000000000001,\n  8.667,\n  8.667],\n [2003,\n  10,\n  30,\n  8.667,\n  7.332999999999999,\n  5.332999999999999,\n  4.667,\n  5.0,\n  7.0,\n  9.0,\n  9.0],\n [2003,\n  10,\n  31,\n  8.333,\n  7.667000000000001,\n  7.332999999999999,\n  6.667000000000001,\n  7.332999999999999,\n  4.667,\n  4.0,\n  4.333],\n [2003,\n  11,\n  20,\n  1.0,\n  3.667,\n  6.332999999999999,\n  6.332999999999999,\n  7.667000000000001,\n  8.667,\n  8.667,\n  8.0],\n [2004,\n  7,\n  25,\n  7.0,\n  7.332999999999999,\n  6.332999999999999,\n  7.667000000000001,\n  7.332999999999999,\n  8.0,\n  7.332999999999999,\n  7.332999999999999],\n [2004,\n  7,\n  27,\n  8.333,\n  7.667000000000001,\n  7.332999999999999,\n  8.0,\n  8.667,\n  8.333,\n  6.332999999999999,\n  6.0],\n [2004,\n  11,\n  7,\n  1.6669999999999998,\n  3.0,\n  0.667,\n  3.333,\n  3.0,\n  4.667,\n  6.332999999999999,\n  8.0],\n [2004, 11, 8, 8.667, 8.667, 8.333, 7.0, 5.0, 2.667, 4.333, 5.332999999999999],\n [2004,\n  11,\n  9,\n  5.667000000000001,\n  6.0,\n  5.0,\n  6.0,\n  7.0,\n  6.667000000000001,\n  8.667,\n  7.0],\n [2004,\n  11,\n  10,\n  7.667000000000001,\n  8.333,\n  8.667,\n  8.333,\n  7.332999999999999,\n  6.332999999999999,\n  5.332999999999999,\n  4.333],\n [2005,\n  1,\n  21,\n  3.333,\n  2.0,\n  2.333,\n  2.333,\n  2.667,\n  6.667000000000001,\n  8.0,\n  7.332999999999999],\n [2005,\n  5,\n  8,\n  6.0,\n  5.332999999999999,\n  3.667,\n  6.0,\n  8.333,\n  7.667000000000001,\n  5.332999999999999,\n  3.667],\n [2005,\n  5,\n  15,\n  5.667000000000001,\n  5.667000000000001,\n  8.333,\n  7.667000000000001,\n  4.0,\n  4.0,\n  5.0,\n  5.0],\n [2005,\n  8,\n  24,\n  2.667,\n  3.333,\n  6.332999999999999,\n  8.667,\n  7.332999999999999,\n  6.667000000000001,\n  6.332999999999999,\n  4.333],\n [2006,\n  12,\n  15,\n  8.333,\n  7.667000000000001,\n  6.667000000000001,\n  5.667000000000001,\n  6.0,\n  4.0,\n  4.0,\n  3.667],\n [2012,\n  3,\n  9,\n  4.667,\n  6.332999999999999,\n  8.0,\n  7.332999999999999,\n  6.667000000000001,\n  5.667000000000001,\n  3.0,\n  2.333],\n [2015,\n  6,\n  22,\n  1.0,\n  3.333,\n  4.333,\n  3.0,\n  4.667,\n  5.332999999999999,\n  8.333,\n  5.332999999999999],\n [2017,\n  9,\n  8,\n  8.0,\n  4.667,\n  4.333,\n  5.0,\n  8.333,\n  7.332999999999999,\n  6.332999999999999,\n  4.667],\n [2023,\n  3,\n  24,\n  7.332999999999999,\n  8.0,\n  6.332999999999999,\n  4.0,\n  2.333,\n  3.667,\n  4.667,\n  4.333],\n [2023,\n  4,\n  23,\n  2.333,\n  2.0,\n  1.6669999999999998,\n  3.333,\n  4.667,\n  5.332999999999999,\n  8.0,\n  7.332999999999999],\n [2023,\n  4,\n  24,\n  6.667000000000001,\n  8.0,\n  6.667000000000001,\n  5.332999999999999,\n  3.667,\n  2.667,\n  2.0,\n  3.333],\n [1932,\n  5,\n  29,\n  2.333,\n  3.0,\n  2.667,\n  4.333,\n  6.667000000000001,\n  7.0,\n  6.667000000000001,\n  7.667000000000001],\n [1933,\n  5,\n  1,\n  3.333,\n  2.0,\n  2.667,\n  3.0,\n  7.0,\n  7.667000000000001,\n  7.667000000000001,\n  6.667000000000001],\n [1937,\n  10,\n  4,\n  7.0,\n  7.332999999999999,\n  7.667000000000001,\n  4.0,\n  3.333,\n  3.667,\n  3.0,\n  3.333],\n [1938,\n  1,\n  16,\n  1.3330000000000002,\n  1.6669999999999998,\n  2.667,\n  2.333,\n  3.333,\n  4.0,\n  3.333,\n  7.667000000000001],\n [1938, 9, 28, 7.667000000000001, 7.0, 5.0, 3.667, 4.0, 3.333, 3.333, 2.0],\n [1939,\n  4,\n  23,\n  3.667,\n  7.0,\n  7.667000000000001,\n  6.332999999999999,\n  6.332999999999999,\n  6.667000000000001,\n  6.0,\n  3.667],\n [1939,\n  8,\n  12,\n  6.0,\n  7.667000000000001,\n  7.332999999999999,\n  6.667000000000001,\n  5.0,\n  3.667,\n  4.667,\n  5.667000000000001],\n [1939,\n  8,\n  16,\n  1.3330000000000002,\n  2.667,\n  3.333,\n  3.667,\n  7.332999999999999,\n  7.667000000000001,\n  4.667,\n  5.667000000000001],\n [1939,\n  8,\n  22,\n  7.667000000000001,\n  7.667000000000001,\n  4.667,\n  5.0,\n  7.332999999999999,\n  7.0,\n  7.332999999999999,\n  7.667000000000001],\n [1939,\n  8,\n  23,\n  7.667000000000001,\n  7.332999999999999,\n  6.667000000000001,\n  6.667000000000001,\n  6.0,\n  4.0,\n  4.0,\n  3.667],\n [1940,\n  1,\n  3,\n  2.0,\n  3.667,\n  3.667,\n  3.333,\n  5.332999999999999,\n  7.667000000000001,\n  5.0,\n  4.0],\n [1940,\n  5,\n  24,\n  3.0,\n  7.0,\n  5.667000000000001,\n  7.667000000000001,\n  6.332999999999999,\n  4.667,\n  5.667000000000001,\n  4.333],\n [1940,\n  7,\n  13,\n  1.3330000000000002,\n  1.6669999999999998,\n  2.667,\n  6.667000000000001,\n  7.667000000000001,\n  6.0,\n  4.667,\n  4.333],\n [1940,\n  9,\n  26,\n  1.6669999999999998,\n  0.0,\n  0.33299999999999996,\n  0.667,\n  0.667,\n  6.667000000000001,\n  7.667000000000001,\n  5.0],\n [1941,\n  3,\n  30,\n  5.0,\n  5.0,\n  5.332999999999999,\n  4.0,\n  4.667,\n  7.0,\n  7.332999999999999,\n  7.667000000000001],\n [1941,\n  3,\n  31,\n  7.667000000000001,\n  6.667000000000001,\n  5.667000000000001,\n  7.0,\n  5.332999999999999,\n  4.0,\n  3.333,\n  3.333],\n [1941,\n  11,\n  1,\n  7.667000000000001,\n  7.332999999999999,\n  7.0,\n  4.667,\n  5.332999999999999,\n  5.332999999999999,\n  2.667,\n  1.0],\n [1941,\n  12,\n  1,\n  3.0,\n  3.0,\n  5.667000000000001,\n  6.667000000000001,\n  7.667000000000001,\n  7.0,\n  5.0,\n  6.332999999999999],\n [1943,\n  8,\n  9,\n  7.667000000000001,\n  6.332999999999999,\n  4.333,\n  2.667,\n  3.0,\n  3.0,\n  2.333,\n  4.0],\n [1946,\n  8,\n  31,\n  5.332999999999999,\n  7.667000000000001,\n  6.0,\n  3.667,\n  4.667,\n  3.667,\n  2.667,\n  1.6669999999999998],\n [1946,\n  9,\n  18,\n  7.332999999999999,\n  7.332999999999999,\n  7.667000000000001,\n  7.0,\n  7.0,\n  7.0,\n  7.332999999999999,\n  5.0],\n [1947,\n  3,\n  8,\n  2.0,\n  3.333,\n  5.332999999999999,\n  5.667000000000001,\n  7.667000000000001,\n  7.332999999999999,\n  6.667000000000001,\n  7.0],\n [1947,\n  5,\n  24,\n  3.667,\n  3.333,\n  7.667000000000001,\n  6.667000000000001,\n  4.333,\n  3.333,\n  3.0,\n  3.667],\n [1947,\n  9,\n  25,\n  7.667000000000001,\n  7.332999999999999,\n  7.332999999999999,\n  6.0,\n  6.0,\n  5.667000000000001,\n  5.0,\n  4.667],\n [1948,\n  8,\n  8,\n  5.332999999999999,\n  6.667000000000001,\n  7.332999999999999,\n  7.667000000000001,\n  7.667000000000001,\n  7.0,\n  7.667000000000001,\n  7.667000000000001],\n [1948,\n  10,\n  19,\n  6.667000000000001,\n  7.332999999999999,\n  7.667000000000001,\n  7.332999999999999,\n  5.332999999999999,\n  5.332999999999999,\n  4.333,\n  2.333],\n [1949,\n  3,\n  22,\n  7.0,\n  7.667000000000001,\n  6.667000000000001,\n  6.667000000000001,\n  4.667,\n  5.667000000000001,\n  5.667000000000001,\n  3.333],\n [1949,\n  10,\n  14,\n  3.667,\n  4.333,\n  5.0,\n  6.332999999999999,\n  5.667000000000001,\n  7.332999999999999,\n  7.667000000000001,\n  7.0],\n [1950,\n  2,\n  21,\n  7.332999999999999,\n  7.667000000000001,\n  6.332999999999999,\n  4.667,\n  5.332999999999999,\n  4.667,\n  4.333,\n  4.667],\n [1950, 8, 7, 3.333, 3.333, 2.0, 3.667, 3.333, 4.0, 5.0, 7.667000000000001],\n [1950,\n  8,\n  8,\n  7.667000000000001,\n  6.332999999999999,\n  7.667000000000001,\n  5.0,\n  3.333,\n  2.667,\n  2.667,\n  4.0],\n [1951, 4, 18, 1.0, 1.0, 4.333, 7.0, 7.667000000000001, 6.0, 5.0, 5.0],\n [1951,\n  7,\n  2,\n  7.332999999999999,\n  7.667000000000001,\n  6.667000000000001,\n  6.0,\n  4.0,\n  4.667,\n  4.0,\n  4.667],\n [1951,\n  9,\n  19,\n  3.0,\n  2.333,\n  3.667,\n  3.667,\n  5.332999999999999,\n  7.667000000000001,\n  7.0,\n  4.667],\n [1952,\n  3,\n  31,\n  7.667000000000001,\n  6.0,\n  6.667000000000001,\n  5.332999999999999,\n  4.0,\n  6.0,\n  5.332999999999999,\n  5.0],\n [1952,\n  5,\n  26,\n  0.33299999999999996,\n  0.667,\n  3.667,\n  6.0,\n  4.0,\n  5.0,\n  5.332999999999999,\n  7.667000000000001],\n [1953,\n  5,\n  15,\n  1.0,\n  3.0,\n  2.667,\n  2.333,\n  5.332999999999999,\n  5.332999999999999,\n  7.667000000000001,\n  6.667000000000001],\n [1955,\n  1,\n  18,\n  7.667000000000001,\n  7.0,\n  5.667000000000001,\n  1.6669999999999998,\n  2.333,\n  4.333,\n  4.0,\n  3.667],\n [1955,\n  4,\n  27,\n  3.667,\n  3.333,\n  2.667,\n  0.667,\n  1.3330000000000002,\n  4.667,\n  7.667000000000001,\n  7.332999999999999],\n [1955,\n  11,\n  19,\n  3.0,\n  2.0,\n  3.0,\n  5.332999999999999,\n  7.667000000000001,\n  7.0,\n  5.667000000000001,\n  5.0],\n [1956, 4, 26, 2.0, 3.333, 3.667, 4.0, 4.0, 2.333, 4.0, 7.667000000000001],\n [1956,\n  4,\n  29,\n  7.667000000000001,\n  6.332999999999999,\n  6.0,\n  5.332999999999999,\n  3.667,\n  3.333,\n  2.0,\n  2.333],\n [1956,\n  8,\n  24,\n  7.0,\n  5.667000000000001,\n  4.0,\n  5.667000000000001,\n  6.667000000000001,\n  7.667000000000001,\n  5.0,\n  4.667],\n [1956,\n  11,\n  15,\n  6.667000000000001,\n  6.332999999999999,\n  7.667000000000001,\n  7.332999999999999,\n  6.0,\n  3.667,\n  3.667,\n  3.667],\n [1957,\n  3,\n  29,\n  3.333,\n  5.332999999999999,\n  4.333,\n  4.0,\n  7.0,\n  7.667000000000001,\n  6.332999999999999,\n  6.0],\n [1957,\n  4,\n  17,\n  3.333,\n  4.0,\n  3.333,\n  4.333,\n  5.332999999999999,\n  4.0,\n  6.0,\n  7.667000000000001],\n [1957,\n  9,\n  2,\n  2.667,\n  6.0,\n  6.332999999999999,\n  5.332999999999999,\n  7.0,\n  6.0,\n  7.667000000000001,\n  7.667000000000001],\n [1958,\n  6,\n  1,\n  7.667000000000001,\n  6.332999999999999,\n  5.667000000000001,\n  3.333,\n  2.667,\n  4.0,\n  5.0,\n  4.333],\n [1958,\n  6,\n  7,\n  7.667000000000001,\n  7.0,\n  6.332999999999999,\n  7.0,\n  4.0,\n  3.333,\n  3.667,\n  2.667],\n [1958, 6, 28, 2.333, 3.333, 4.0, 3.667, 3.0, 4.667, 7.0, 7.667000000000001],\n [1958,\n  8,\n  24,\n  7.332999999999999,\n  7.667000000000001,\n  6.0,\n  6.667000000000001,\n  6.332999999999999,\n  4.0,\n  3.333,\n  3.0],\n [1959,\n  4,\n  10,\n  4.667,\n  5.0,\n  7.667000000000001,\n  7.332999999999999,\n  7.332999999999999,\n  7.0,\n  5.332999999999999,\n  3.333],\n [1959, 9, 3, 3.0, 2.667, 3.333, 3.667, 3.0, 3.667, 4.0, 7.667000000000001],\n [1959,\n  12,\n  5,\n  0.0,\n  0.0,\n  4.0,\n  4.667,\n  6.332999999999999,\n  6.667000000000001,\n  7.667000000000001,\n  6.332999999999999],\n [1960,\n  5,\n  29,\n  7.667000000000001,\n  4.333,\n  4.0,\n  3.333,\n  5.0,\n  4.667,\n  5.332999999999999,\n  4.333],\n [1960,\n  8,\n  17,\n  7.667000000000001,\n  7.667000000000001,\n  7.0,\n  5.332999999999999,\n  4.333,\n  6.667000000000001,\n  6.332999999999999,\n  5.667000000000001],\n [1960,\n  9,\n  5,\n  7.332999999999999,\n  7.667000000000001,\n  7.667000000000001,\n  7.667000000000001,\n  5.0,\n  5.667000000000001,\n  6.0,\n  5.332999999999999],\n [1960,\n  10,\n  25,\n  2.333,\n  2.667,\n  5.667000000000001,\n  5.667000000000001,\n  5.667000000000001,\n  7.667000000000001,\n  7.332999999999999,\n  5.332999999999999],\n [1960,\n  11,\n  15,\n  5.332999999999999,\n  4.0,\n  4.333,\n  3.0,\n  6.0,\n  6.0,\n  6.0,\n  7.667000000000001],\n [1961, 4, 15, 7.667000000000001, 7.0, 6.0, 3.333, 3.333, 4.333, 3.333, 2.667],\n [1961,\n  7,\n  18,\n  5.0,\n  6.332999999999999,\n  6.0,\n  5.0,\n  7.667000000000001,\n  7.0,\n  5.667000000000001,\n  6.332999999999999],\n [1961,\n  12,\n  1,\n  0.33299999999999996,\n  1.6669999999999998,\n  4.333,\n  5.0,\n  7.667000000000001,\n  6.0,\n  4.667,\n  5.0],\n [1963,\n  10,\n  30,\n  7.667000000000001,\n  4.667,\n  4.0,\n  3.0,\n  1.3330000000000002,\n  1.3330000000000002,\n  2.0,\n  1.0],\n [1964,\n  9,\n  22,\n  6.667000000000001,\n  7.667000000000001,\n  3.333,\n  2.333,\n  2.333,\n  2.0,\n  2.333,\n  2.333],\n [1965,\n  4,\n  18,\n  4.0,\n  7.0,\n  7.667000000000001,\n  6.332999999999999,\n  5.332999999999999,\n  4.333,\n  3.333,\n  2.333],\n [1967,\n  1,\n  14,\n  7.332999999999999,\n  7.667000000000001,\n  6.0,\n  5.332999999999999,\n  1.6669999999999998,\n  1.3330000000000002,\n  1.0,\n  1.0],\n [1968,\n  11,\n  2,\n  7.667000000000001,\n  7.332999999999999,\n  5.667000000000001,\n  4.667,\n  5.0,\n  5.0,\n  4.0,\n  6.332999999999999],\n [1969,\n  5,\n  15,\n  7.332999999999999,\n  6.667000000000001,\n  5.667000000000001,\n  7.667000000000001,\n  7.667000000000001,\n  7.0,\n  7.0,\n  6.332999999999999],\n [1970,\n  7,\n  25,\n  6.332999999999999,\n  7.667000000000001,\n  7.332999999999999,\n  6.667000000000001,\n  6.0,\n  3.667,\n  3.333,\n  6.0],\n [1971,\n  4,\n  14,\n  3.333,\n  2.0,\n  1.0,\n  1.3330000000000002,\n  4.333,\n  4.0,\n  4.667,\n  7.667000000000001],\n [1972,\n  5,\n  15,\n  1.3330000000000002,\n  0.33299999999999996,\n  1.0,\n  1.6669999999999998,\n  1.0,\n  2.0,\n  7.667000000000001,\n  6.332999999999999],\n [1973,\n  4,\n  14,\n  4.0,\n  5.332999999999999,\n  7.667000000000001,\n  5.332999999999999,\n  5.667000000000001,\n  5.0,\n  2.667,\n  2.333],\n [1973,\n  5,\n  14,\n  7.667000000000001,\n  6.667000000000001,\n  6.0,\n  5.332999999999999,\n  5.667000000000001,\n  4.333,\n  6.0,\n  4.667],\n [1973,\n  9,\n  9,\n  1.3330000000000002,\n  1.0,\n  2.0,\n  4.0,\n  4.333,\n  4.0,\n  5.667000000000001,\n  7.667000000000001],\n [1974,\n  9,\n  15,\n  1.3330000000000002,\n  1.6669999999999998,\n  1.3330000000000002,\n  2.667,\n  7.332999999999999,\n  7.667000000000001,\n  7.332999999999999,\n  5.667000000000001],\n [1975,\n  1,\n  7,\n  7.667000000000001,\n  5.332999999999999,\n  5.0,\n  3.333,\n  3.333,\n  2.667,\n  2.333,\n  2.667],\n [1976,\n  5,\n  2,\n  4.0,\n  3.667,\n  2.0,\n  4.0,\n  5.667000000000001,\n  3.667,\n  7.0,\n  7.667000000000001],\n [1978,\n  4,\n  11,\n  7.667000000000001,\n  6.332999999999999,\n  5.0,\n  3.0,\n  3.667,\n  5.667000000000001,\n  5.332999999999999,\n  4.333],\n [1978,\n  5,\n  4,\n  7.332999999999999,\n  7.667000000000001,\n  7.332999999999999,\n  6.332999999999999,\n  6.667000000000001,\n  4.333,\n  4.667,\n  1.6669999999999998],\n [1978,\n  5,\n  9,\n  5.0,\n  5.0,\n  7.667000000000001,\n  6.332999999999999,\n  7.0,\n  6.667000000000001,\n  5.0,\n  3.333],\n [1978,\n  6,\n  29,\n  0.667,\n  1.6669999999999998,\n  2.0,\n  2.667,\n  2.667,\n  3.667,\n  3.333,\n  7.667000000000001],\n [1979,\n  8,\n  29,\n  3.0,\n  4.667,\n  5.332999999999999,\n  5.332999999999999,\n  6.0,\n  7.667000000000001,\n  6.667000000000001,\n  6.0],\n [1980,\n  12,\n  19,\n  3.333,\n  5.0,\n  4.667,\n  3.667,\n  7.332999999999999,\n  7.667000000000001,\n  7.0,\n  4.667],\n [1982,\n  8,\n  7,\n  6.0,\n  7.667000000000001,\n  7.332999999999999,\n  6.667000000000001,\n  7.0,\n  7.667000000000001,\n  3.333,\n  1.0],\n [1983,\n  2,\n  4,\n  2.0,\n  2.0,\n  2.0,\n  2.0,\n  2.0,\n  7.667000000000001,\n  7.667000000000001,\n  6.0],\n [1983,\n  6,\n  13,\n  7.0,\n  7.667000000000001,\n  5.667000000000001,\n  4.667,\n  5.0,\n  3.667,\n  5.0,\n  3.667],\n [1983,\n  8,\n  8,\n  7.332999999999999,\n  7.667000000000001,\n  6.332999999999999,\n  4.333,\n  2.333,\n  2.333,\n  1.3330000000000002,\n  2.667],\n [1984,\n  4,\n  4,\n  5.332999999999999,\n  5.332999999999999,\n  5.0,\n  4.0,\n  4.667,\n  7.0,\n  7.667000000000001,\n  7.0],\n [1984,\n  4,\n  26,\n  6.332999999999999,\n  6.667000000000001,\n  6.0,\n  5.667000000000001,\n  6.0,\n  7.0,\n  7.667000000000001,\n  6.0],\n [1984,\n  9,\n  4,\n  2.667,\n  2.667,\n  5.332999999999999,\n  5.0,\n  7.0,\n  7.667000000000001,\n  3.333,\n  2.667],\n [1986,\n  2,\n  7,\n  3.0,\n  3.667,\n  3.333,\n  5.667000000000001,\n  5.667000000000001,\n  7.667000000000001,\n  6.667000000000001,\n  7.667000000000001],\n [1988,\n  10,\n  10,\n  4.0,\n  4.333,\n  6.332999999999999,\n  7.667000000000001,\n  7.332999999999999,\n  5.667000000000001,\n  6.0,\n  5.0],\n [1989, 9, 18, 4.333, 2.667, 3.667, 4.0, 3.0, 5.0, 6.0, 7.667000000000001],\n [1990,\n  4,\n  12,\n  4.333,\n  7.667000000000001,\n  7.332999999999999,\n  6.332999999999999,\n  6.667000000000001,\n  5.332999999999999,\n  6.667000000000001,\n  5.332999999999999],\n [1990,\n  6,\n  13,\n  7.667000000000001,\n  6.0,\n  5.667000000000001,\n  4.667,\n  6.332999999999999,\n  4.667,\n  4.667,\n  3.667],\n [1990,\n  6,\n  14,\n  6.0,\n  6.332999999999999,\n  3.333,\n  5.667000000000001,\n  7.332999999999999,\n  7.667000000000001,\n  4.0,\n  3.0],\n [1990,\n  7,\n  28,\n  3.0,\n  4.667,\n  6.332999999999999,\n  5.0,\n  6.667000000000001,\n  7.332999999999999,\n  7.667000000000001,\n  7.667000000000001],\n [1991,\n  6,\n  10,\n  3.667,\n  4.0,\n  7.332999999999999,\n  6.667000000000001,\n  7.332999999999999,\n  7.332999999999999,\n  7.667000000000001,\n  7.332999999999999],\n [1991,\n  6,\n  13,\n  7.332999999999999,\n  5.332999999999999,\n  6.332999999999999,\n  7.0,\n  7.667000000000001,\n  7.0,\n  7.667000000000001,\n  4.333],\n [1991,\n  8,\n  19,\n  4.667,\n  4.667,\n  7.667000000000001,\n  7.667000000000001,\n  6.0,\n  4.333,\n  4.0,\n  3.0],\n [1991,\n  8,\n  20,\n  3.0,\n  2.667,\n  4.667,\n  7.332999999999999,\n  7.667000000000001,\n  4.667,\n  5.332999999999999,\n  4.667],\n [1992,\n  2,\n  3,\n  6.667000000000001,\n  7.0,\n  7.667000000000001,\n  5.332999999999999,\n  4.667,\n  4.667,\n  5.667000000000001,\n  6.667000000000001],\n [1993,\n  4,\n  4,\n  1.6669999999999998,\n  1.6669999999999998,\n  1.0,\n  1.3330000000000002,\n  5.0,\n  6.0,\n  7.0,\n  7.667000000000001],\n [1993,\n  9,\n  13,\n  5.667000000000001,\n  7.667000000000001,\n  7.332999999999999,\n  6.332999999999999,\n  5.667000000000001,\n  6.0,\n  5.332999999999999,\n  4.333],\n [1994,\n  2,\n  21,\n  2.333,\n  2.667,\n  3.333,\n  7.332999999999999,\n  7.667000000000001,\n  7.667000000000001,\n  6.0,\n  7.0],\n [1994,\n  2,\n  22,\n  7.667000000000001,\n  7.332999999999999,\n  5.332999999999999,\n  4.667,\n  4.667,\n  3.0,\n  2.333,\n  3.0],\n [1998,\n  11,\n  8,\n  6.0,\n  7.667000000000001,\n  7.332999999999999,\n  4.667,\n  4.0,\n  3.333,\n  2.667,\n  3.333],\n [1999,\n  7,\n  30,\n  2.667,\n  2.0,\n  2.667,\n  3.333,\n  5.0,\n  5.332999999999999,\n  7.667000000000001,\n  6.332999999999999],\n [2000,\n  7,\n  16,\n  7.667000000000001,\n  6.0,\n  4.333,\n  4.667,\n  4.667,\n  3.0,\n  2.0,\n  1.6669999999999998],\n [2000,\n  8,\n  12,\n  5.0,\n  7.332999999999999,\n  7.667000000000001,\n  7.667000000000001,\n  7.332999999999999,\n  7.332999999999999,\n  6.332999999999999,\n  3.667],\n [2000,\n  9,\n  18,\n  7.667000000000001,\n  5.667000000000001,\n  5.0,\n  6.0,\n  6.0,\n  6.0,\n  3.0,\n  3.0],\n [2000,\n  10,\n  5,\n  5.332999999999999,\n  6.667000000000001,\n  7.667000000000001,\n  7.332999999999999,\n  7.667000000000001,\n  6.667000000000001,\n  6.332999999999999,\n  5.0],\n [2001,\n  10,\n  21,\n  3.0,\n  2.667,\n  2.0,\n  1.3330000000000002,\n  2.0,\n  6.0,\n  7.332999999999999,\n  7.667000000000001],\n [2005,\n  1,\n  7,\n  0.33299999999999996,\n  0.0,\n  0.0,\n  1.6669999999999998,\n  5.0,\n  5.332999999999999,\n  4.0,\n  7.667000000000001],\n [2005,\n  1,\n  18,\n  7.0,\n  5.667000000000001,\n  7.667000000000001,\n  5.667000000000001,\n  5.332999999999999,\n  5.332999999999999,\n  5.0,\n  5.667000000000001],\n [2005,\n  5,\n  30,\n  4.0,\n  3.333,\n  6.332999999999999,\n  6.332999999999999,\n  7.332999999999999,\n  7.667000000000001,\n  6.667000000000001,\n  4.667],\n [2005,\n  9,\n  11,\n  6.332999999999999,\n  7.0,\n  7.667000000000001,\n  6.332999999999999,\n  7.0,\n  5.332999999999999,\n  6.0,\n  4.667],\n [2006,\n  12,\n  14,\n  3.0,\n  2.333,\n  2.0,\n  2.0,\n  5.0,\n  5.332999999999999,\n  5.332999999999999,\n  7.667000000000001],\n [2010,\n  4,\n  5,\n  3.0,\n  3.333,\n  5.332999999999999,\n  7.667000000000001,\n  5.667000000000001,\n  5.0,\n  4.333,\n  3.667],\n [2011,\n  8,\n  5,\n  3.0,\n  2.0,\n  0.33299999999999996,\n  0.33299999999999996,\n  0.33299999999999996,\n  3.0,\n  6.667000000000001,\n  7.667000000000001],\n [2013,\n  10,\n  2,\n  5.332999999999999,\n  7.667000000000001,\n  5.667000000000001,\n  3.667,\n  3.0,\n  3.333,\n  5.667000000000001,\n  4.667],\n [2015,\n  3,\n  17,\n  2.0,\n  4.667,\n  5.667000000000001,\n  5.332999999999999,\n  7.667000000000001,\n  7.667000000000001,\n  7.332999999999999,\n  7.667000000000001],\n [2015,\n  6,\n  23,\n  7.0,\n  7.667000000000001,\n  6.332999999999999,\n  5.332999999999999,\n  5.667000000000001,\n  2.667,\n  3.667,\n  3.333],\n [2017,\n  9,\n  7,\n  2.667,\n  3.667,\n  3.667,\n  3.667,\n  2.667,\n  2.0,\n  2.667,\n  7.667000000000001],\n [2021,\n  11,\n  4,\n  6.332999999999999,\n  5.667000000000001,\n  7.0,\n  7.667000000000001,\n  5.667000000000001,\n  3.667,\n  1.6669999999999998,\n  2.0],\n [1932,\n  8,\n  28,\n  7.0,\n  6.332999999999999,\n  5.667000000000001,\n  5.332999999999999,\n  3.667,\n  4.667,\n  4.333,\n  4.333],\n [1936, 4, 21, 4.667, 4.0, 4.333, 4.0, 4.0, 4.0, 5.0, 7.0],\n [1936,\n  6,\n  19,\n  5.667000000000001,\n  7.332999999999999,\n  6.667000000000001,\n  5.667000000000001,\n  5.332999999999999,\n  5.0,\n  3.333,\n  3.0],\n [1936,\n  11,\n  29,\n  5.332999999999999,\n  7.0,\n  7.0,\n  6.332999999999999,\n  4.0,\n  2.667,\n  3.333,\n  2.333],\n [1937,\n  3,\n  31,\n  2.333,\n  5.332999999999999,\n  7.332999999999999,\n  5.332999999999999,\n  3.667,\n  4.667,\n  4.667,\n  5.0],\n [1937,\n  4,\n  25,\n  7.0,\n  3.667,\n  3.667,\n  1.6669999999999998,\n  1.0,\n  6.0,\n  7.332999999999999,\n  7.332999999999999],\n [1937,\n  4,\n  27,\n  7.0,\n  6.0,\n  4.0,\n  2.333,\n  2.0,\n  1.6669999999999998,\n  6.332999999999999,\n  7.0],\n [1937,\n  5,\n  5,\n  6.667000000000001,\n  6.332999999999999,\n  7.0,\n  5.332999999999999,\n  5.0,\n  5.667000000000001,\n  1.3330000000000002,\n  1.3330000000000002],\n [1937, 10, 11, 2.667, 3.0, 3.333, 4.0, 7.0, 6.0, 5.332999999999999, 4.0],\n [1938,\n  4,\n  14,\n  5.667000000000001,\n  6.332999999999999,\n  7.0,\n  5.0,\n  5.332999999999999,\n  4.333,\n  4.333,\n  3.333],\n [1938, 5, 4, 4.0, 5.667000000000001, 3.667, 2.0, 4.333, 7.0, 5.0, 3.333],\n [1938,\n  5,\n  12,\n  7.332999999999999,\n  6.667000000000001,\n  6.332999999999999,\n  4.0,\n  4.333,\n  4.667,\n  4.667,\n  6.667000000000001],\n [1938,\n  7,\n  15,\n  2.333,\n  3.333,\n  5.0,\n  4.333,\n  6.332999999999999,\n  6.332999999999999,\n  7.0,\n  6.667000000000001],\n [1938,\n  8,\n  3,\n  4.0,\n  2.0,\n  1.6669999999999998,\n  0.33299999999999996,\n  0.0,\n  2.667,\n  2.333,\n  7.332999999999999],\n [1938,\n  9,\n  15,\n  6.332999999999999,\n  6.667000000000001,\n  6.667000000000001,\n  6.667000000000001,\n  7.332999999999999,\n  6.332999999999999,\n  6.332999999999999,\n  4.333],\n [1938, 9, 27, 2.667, 2.667, 4.0, 3.0, 3.0, 3.0, 3.0, 7.0],\n [1938,\n  10,\n  1,\n  5.667000000000001,\n  7.332999999999999,\n  4.667,\n  4.333,\n  2.0,\n  2.667,\n  3.667,\n  4.0],\n [1938, 10, 7, 0.0, 2.333, 4.667, 4.667, 7.0, 7.0, 7.0, 5.332999999999999],\n [1938,\n  10,\n  8,\n  5.667000000000001,\n  7.0,\n  6.667000000000001,\n  5.332999999999999,\n  4.667,\n  4.0,\n  3.667,\n  2.333],\n [1939, 2, 24, 2.667, 3.667, 2.0, 2.667, 3.333, 6.0, 7.0, 7.332999999999999],\n [1939,\n  2,\n  25,\n  7.332999999999999,\n  5.667000000000001,\n  6.667000000000001,\n  6.0,\n  5.667000000000001,\n  5.0,\n  4.0,\n  4.333],\n [1939,\n  4,\n  25,\n  7.332999999999999,\n  5.332999999999999,\n  5.332999999999999,\n  4.667,\n  5.332999999999999,\n  5.0,\n  4.667,\n  4.667],\n [1939,\n  6,\n  14,\n  5.667000000000001,\n  5.332999999999999,\n  6.667000000000001,\n  7.0,\n  4.667,\n  4.333,\n  3.667,\n  4.0],\n [1939,\n  7,\n  5,\n  5.332999999999999,\n  6.332999999999999,\n  6.332999999999999,\n  6.667000000000001,\n  6.667000000000001,\n  7.332999999999999,\n  6.332999999999999,\n  4.667],\n [1939,\n  7,\n  21,\n  2.667,\n  2.333,\n  0.33299999999999996,\n  5.0,\n  7.332999999999999,\n  4.333,\n  3.0,\n  3.333],\n [1939, 9, 17, 2.667, 5.332999999999999, 5.0, 3.667, 4.667, 6.0, 7.0, 5.0],\n [1939,\n  10,\n  4,\n  7.332999999999999,\n  7.332999999999999,\n  3.667,\n  3.0,\n  4.0,\n  2.667,\n  3.333,\n  1.6669999999999998],\n [1940, 3, 23, 1.0, 2.667, 5.0, 6.0, 4.0, 4.333, 5.0, 7.332999999999999],\n [1940,\n  3,\n  26,\n  7.332999999999999,\n  6.0,\n  4.667,\n  2.667,\n  2.333,\n  3.667,\n  6.332999999999999,\n  2.667],\n [1940, 4, 2, 2.333, 2.333, 2.0, 1.6669999999999998, 2.0, 3.333, 7.0, 6.0],\n [1940,\n  4,\n  26,\n  7.0,\n  5.332999999999999,\n  4.667,\n  3.333,\n  3.667,\n  3.667,\n  4.667,\n  3.333],\n [1940, 10, 1, 4.333, 4.333, 3.0, 3.333, 4.333, 5.332999999999999, 7.0, 2.0],\n [1940,\n  10,\n  7,\n  4.0,\n  4.333,\n  5.667000000000001,\n  4.667,\n  5.667000000000001,\n  5.332999999999999,\n  7.0,\n  5.667000000000001],\n [1941,\n  3,\n  14,\n  6.332999999999999,\n  6.0,\n  6.332999999999999,\n  7.0,\n  5.667000000000001,\n  4.333,\n  5.332999999999999,\n  6.0],\n [1941,\n  7,\n  7,\n  7.0,\n  6.667000000000001,\n  5.667000000000001,\n  3.667,\n  2.333,\n  4.333,\n  4.667,\n  3.333],\n [1942,\n  3,\n  2,\n  7.332999999999999,\n  6.0,\n  3.333,\n  3.333,\n  4.667,\n  4.0,\n  3.333,\n  1.3330000000000002],\n [1942,\n  3,\n  5,\n  1.6669999999999998,\n  4.667,\n  4.667,\n  3.0,\n  3.333,\n  6.667000000000001,\n  7.0,\n  5.332999999999999],\n [1942,\n  4,\n  4,\n  3.0,\n  4.333,\n  6.332999999999999,\n  6.667000000000001,\n  4.667,\n  6.332999999999999,\n  7.332999999999999,\n  3.333],\n [1942, 10, 28, 0.667, 0.667, 0.667, 2.667, 5.0, 6.667000000000001, 7.0, 7.0],\n [1942,\n  10,\n  29,\n  5.332999999999999,\n  5.667000000000001,\n  7.332999999999999,\n  6.0,\n  5.332999999999999,\n  5.332999999999999,\n  6.332999999999999,\n  6.0],\n [1943,\n  3,\n  29,\n  2.333,\n  3.0,\n  1.6669999999999998,\n  2.333,\n  3.0,\n  4.0,\n  7.0,\n  6.332999999999999],\n [1943,\n  8,\n  8,\n  2.667,\n  4.333,\n  3.333,\n  5.332999999999999,\n  6.667000000000001,\n  7.332999999999999,\n  6.332999999999999,\n  7.332999999999999],\n [1943,\n  8,\n  28,\n  1.6669999999999998,\n  3.0,\n  2.333,\n  4.0,\n  7.0,\n  5.332999999999999,\n  3.667,\n  6.0],\n [1943,\n  8,\n  30,\n  5.332999999999999,\n  6.332999999999999,\n  5.667000000000001,\n  5.667000000000001,\n  6.667000000000001,\n  6.0,\n  6.667000000000001,\n  7.0],\n [1943,\n  9,\n  30,\n  5.332999999999999,\n  6.332999999999999,\n  4.667,\n  7.0,\n  5.0,\n  4.0,\n  5.332999999999999,\n  6.0],\n [1944,\n  3,\n  27,\n  7.332999999999999,\n  7.0,\n  5.667000000000001,\n  5.667000000000001,\n  3.333,\n  3.0,\n  3.667,\n  2.333],\n [1945, 1, 29, 6.0, 7.0, 4.667, 3.0, 3.333, 4.667, 5.0, 4.333],\n [1945,\n  3,\n  28,\n  3.667,\n  4.0,\n  5.667000000000001,\n  7.332999999999999,\n  6.667000000000001,\n  3.667,\n  2.667,\n  2.0],\n [1945,\n  4,\n  1,\n  2.333,\n  4.333,\n  6.0,\n  7.0,\n  5.667000000000001,\n  5.332999999999999,\n  4.333,\n  4.0],\n [1946,\n  1,\n  3,\n  0.0,\n  1.3330000000000002,\n  4.333,\n  7.0,\n  6.332999999999999,\n  7.0,\n  6.332999999999999,\n  5.667000000000001],\n [1946,\n  6,\n  7,\n  2.667,\n  1.0,\n  2.667,\n  5.667000000000001,\n  7.332999999999999,\n  6.0,\n  4.333,\n  3.0],\n [1946,\n  7,\n  29,\n  5.0,\n  6.0,\n  5.667000000000001,\n  4.667,\n  4.333,\n  7.0,\n  5.332999999999999,\n  4.0],\n [1946,\n  9,\n  16,\n  1.3330000000000002,\n  1.0,\n  1.0,\n  2.0,\n  3.667,\n  5.332999999999999,\n  7.0,\n  4.667],\n [1946,\n  9,\n  28,\n  4.333,\n  5.667000000000001,\n  6.332999999999999,\n  5.332999999999999,\n  6.0,\n  7.332999999999999,\n  7.0,\n  6.667000000000001],\n [1947,\n  3,\n  2,\n  2.0,\n  4.0,\n  6.667000000000001,\n  6.667000000000001,\n  6.332999999999999,\n  5.332999999999999,\n  7.0,\n  6.667000000000001],\n [1947,\n  3,\n  4,\n  7.332999999999999,\n  7.0,\n  7.332999999999999,\n  6.667000000000001,\n  4.0,\n  3.333,\n  5.0,\n  3.0],\n [1947,\n  3,\n  15,\n  3.0,\n  3.667,\n  6.332999999999999,\n  7.332999999999999,\n  6.667000000000001,\n  7.332999999999999,\n  4.0,\n  3.333],\n [1947,\n  6,\n  14,\n  6.332999999999999,\n  7.0,\n  5.332999999999999,\n  5.332999999999999,\n  4.333,\n  4.333,\n  6.0,\n  3.333],\n [1947,\n  8,\n  15,\n  1.0,\n  1.0,\n  2.0,\n  5.667000000000001,\n  5.667000000000001,\n  6.0,\n  5.332999999999999,\n  7.332999999999999],\n [1947,\n  8,\n  16,\n  7.332999999999999,\n  3.667,\n  3.333,\n  5.0,\n  5.332999999999999,\n  5.332999999999999,\n  5.0,\n  4.333],\n [1947, 8, 23, 7.0, 5.332999999999999, 4.333, 4.333, 6.0, 5.0, 4.667, 3.333],\n [1947,\n  9,\n  3,\n  4.0,\n  4.0,\n  7.332999999999999,\n  7.332999999999999,\n  6.0,\n  6.0,\n  6.0,\n  5.667000000000001],\n [1947,\n  9,\n  24,\n  3.667,\n  4.667,\n  5.332999999999999,\n  4.333,\n  7.0,\n  7.332999999999999,\n  7.332999999999999,\n  7.0],\n [1947,\n  11,\n  9,\n  3.333,\n  3.333,\n  3.333,\n  5.0,\n  6.332999999999999,\n  5.332999999999999,\n  6.667000000000001,\n  7.0],\n [1948, 4, 22, 4.667, 7.0, 6.0, 5.0, 5.0, 3.667, 3.667, 2.333],\n [1948,\n  5,\n  16,\n  7.0,\n  6.332999999999999,\n  5.667000000000001,\n  4.333,\n  5.332999999999999,\n  6.0,\n  5.0,\n  5.667000000000001],\n [1948,\n  8,\n  10,\n  5.667000000000001,\n  4.0,\n  7.0,\n  5.332999999999999,\n  5.332999999999999,\n  6.667000000000001,\n  6.667000000000001,\n  4.333],\n [1948, 10, 14, 2.333, 2.333, 2.333, 3.333, 4.333, 4.667, 4.333, 7.0],\n [1949,\n  1,\n  24,\n  3.333,\n  3.0,\n  2.0,\n  1.3330000000000002,\n  2.667,\n  3.0,\n  7.332999999999999,\n  6.0],\n [1949,\n  3,\n  16,\n  2.0,\n  1.6669999999999998,\n  1.3330000000000002,\n  2.0,\n  2.0,\n  7.332999999999999,\n  6.0,\n  3.667],\n [1949,\n  3,\n  23,\n  4.0,\n  7.0,\n  6.332999999999999,\n  5.0,\n  4.0,\n  4.667,\n  1.3330000000000002,\n  1.6669999999999998],\n [1949,\n  4,\n  7,\n  2.0,\n  0.33299999999999996,\n  1.0,\n  2.667,\n  2.0,\n  3.333,\n  5.332999999999999,\n  7.332999999999999],\n [1949,\n  4,\n  8,\n  6.667000000000001,\n  6.332999999999999,\n  6.332999999999999,\n  7.0,\n  6.667000000000001,\n  5.332999999999999,\n  5.332999999999999,\n  2.667],\n [1949,\n  5,\n  3,\n  3.0,\n  3.0,\n  1.6669999999999998,\n  1.6669999999999998,\n  0.667,\n  0.667,\n  4.0,\n  7.0],\n [1949, 8, 3, 5.0, 5.332999999999999, 7.0, 7.0, 4.667, 3.333, 3.333, 3.667],\n [1949,\n  10,\n  7,\n  3.667,\n  5.0,\n  4.667,\n  4.333,\n  5.0,\n  6.0,\n  7.332999999999999,\n  6.332999999999999],\n [1949,\n  10,\n  16,\n  6.332999999999999,\n  7.0,\n  5.332999999999999,\n  6.332999999999999,\n  4.333,\n  5.0,\n  3.667,\n  3.0],\n [1950,\n  2,\n  24,\n  6.332999999999999,\n  7.0,\n  5.332999999999999,\n  3.667,\n  1.6669999999999998,\n  1.3330000000000002,\n  4.0,\n  4.0],\n [1950,\n  3,\n  19,\n  2.667,\n  4.0,\n  6.667000000000001,\n  7.332999999999999,\n  7.332999999999999,\n  7.332999999999999,\n  5.0,\n  2.667],\n [1950, 5, 27, 2.333, 2.667, 2.667, 2.0, 5.0, 5.332999999999999, 5.0, 7.0],\n [1950, 5, 28, 7.0, 6.667000000000001, 6.0, 6.0, 3.667, 4.0, 4.0, 3.667],\n [1950,\n  7,\n  12,\n  7.0,\n  6.332999999999999,\n  3.667,\n  5.332999999999999,\n  3.333,\n  3.333,\n  3.0,\n  3.333],\n [1950,\n  9,\n  3,\n  2.0,\n  4.0,\n  4.667,\n  4.667,\n  5.332999999999999,\n  5.667000000000001,\n  6.0,\n  7.0],\n [1950,\n  10,\n  28,\n  3.667,\n  5.0,\n  6.0,\n  7.0,\n  6.332999999999999,\n  6.0,\n  7.332999999999999,\n  6.667000000000001],\n [1951, 2, 27, 7.0, 5.667000000000001, 4.667, 3.333, 4.0, 4.0, 4.667, 4.667],\n [1951, 2, 28, 5.0, 6.667000000000001, 7.0, 5.0, 4.333, 3.667, 3.333, 4.0],\n [1951,\n  5,\n  1,\n  3.667,\n  4.667,\n  5.332999999999999,\n  5.667000000000001,\n  3.0,\n  4.667,\n  6.667000000000001,\n  7.332999999999999],\n [1951,\n  5,\n  2,\n  7.332999999999999,\n  2.333,\n  4.333,\n  5.332999999999999,\n  6.0,\n  5.332999999999999,\n  6.0,\n  6.0],\n [1951,\n  5,\n  9,\n  1.6669999999999998,\n  2.0,\n  3.333,\n  3.333,\n  3.0,\n  3.667,\n  4.667,\n  7.332999999999999],\n [1951,\n  5,\n  26,\n  3.333,\n  2.0,\n  2.0,\n  3.0,\n  3.667,\n  5.667000000000001,\n  5.667000000000001,\n  7.0],\n [1951,\n  6,\n  18,\n  7.332999999999999,\n  6.667000000000001,\n  5.667000000000001,\n  4.333,\n  3.0,\n  3.667,\n  2.333,\n  3.667],\n [1951,\n  7,\n  1,\n  3.333,\n  1.6669999999999998,\n  1.3330000000000002,\n  2.667,\n  2.667,\n  3.333,\n  5.0,\n  7.0],\n [1951, 9, 11, 3.667, 2.667, 4.333, 2.667, 4.0, 4.333, 5.0, 7.0],\n [1951,\n  9,\n  20,\n  5.0,\n  6.0,\n  7.332999999999999,\n  7.332999999999999,\n  6.332999999999999,\n  6.332999999999999,\n  7.0,\n  6.332999999999999],\n [1951,\n  9,\n  21,\n  6.332999999999999,\n  6.332999999999999,\n  6.332999999999999,\n  7.0,\n  6.0,\n  5.667000000000001,\n  5.667000000000001,\n  6.0],\n [1951,\n  9,\n  22,\n  5.667000000000001,\n  7.0,\n  6.0,\n  6.332999999999999,\n  5.667000000000001,\n  5.0,\n  6.667000000000001,\n  6.0],\n [1951,\n  10,\n  17,\n  6.0,\n  6.332999999999999,\n  6.332999999999999,\n  6.0,\n  5.667000000000001,\n  7.0,\n  6.667000000000001,\n  5.667000000000001],\n [1951, 12, 28, 4.333, 7.0, 7.0, 6.0, 6.0, 4.667, 4.0, 3.333],\n [1952,\n  2,\n  24,\n  6.667000000000001,\n  7.0,\n  3.667,\n  6.0,\n  5.667000000000001,\n  5.0,\n  6.0,\n  4.333],\n [1952,\n  3,\n  5,\n  6.0,\n  6.667000000000001,\n  5.332999999999999,\n  6.332999999999999,\n  6.0,\n  6.332999999999999,\n  6.0,\n  7.332999999999999],\n [1952, 3, 23, 7.0, 4.333, 5.0, 4.333, 3.333, 4.0, 5.667000000000001, 4.0],\n [1952,\n  4,\n  2,\n  6.332999999999999,\n  5.332999999999999,\n  5.332999999999999,\n  7.0,\n  4.333,\n  5.332999999999999,\n  6.332999999999999,\n  6.332999999999999],\n [1952,\n  4,\n  29,\n  4.333,\n  5.667000000000001,\n  6.332999999999999,\n  4.333,\n  5.332999999999999,\n  7.0,\n  7.0,\n  7.332999999999999],\n [1952,\n  5,\n  3,\n  5.332999999999999,\n  5.332999999999999,\n  4.333,\n  3.333,\n  4.0,\n  4.333,\n  6.332999999999999,\n  7.0],\n [1952,\n  5,\n  7,\n  4.0,\n  4.333,\n  5.667000000000001,\n  5.667000000000001,\n  6.667000000000001,\n  6.0,\n  6.0,\n  7.0],\n [1952,\n  9,\n  29,\n  5.332999999999999,\n  6.0,\n  5.667000000000001,\n  6.0,\n  5.332999999999999,\n  3.333,\n  6.0,\n  7.0],\n [1952,\n  9,\n  30,\n  7.332999999999999,\n  5.332999999999999,\n  3.667,\n  5.667000000000001,\n  3.333,\n  4.333,\n  3.667,\n  2.333],\n [1953,\n  5,\n  16,\n  5.667000000000001,\n  6.0,\n  4.667,\n  5.332999999999999,\n  6.332999999999999,\n  6.0,\n  6.667000000000001,\n  7.332999999999999],\n [1953,\n  9,\n  3,\n  2.333,\n  1.6669999999999998,\n  2.667,\n  2.667,\n  3.0,\n  5.332999999999999,\n  5.332999999999999,\n  7.332999999999999],\n [1953,\n  9,\n  4,\n  7.332999999999999,\n  6.667000000000001,\n  4.667,\n  5.0,\n  3.667,\n  3.333,\n  5.332999999999999,\n  4.667],\n [1953,\n  10,\n  15,\n  0.0,\n  0.0,\n  2.0,\n  1.6669999999999998,\n  6.0,\n  7.332999999999999,\n  5.667000000000001,\n  5.332999999999999],\n [1954,\n  4,\n  11,\n  3.333,\n  1.6669999999999998,\n  1.0,\n  1.6669999999999998,\n  1.3330000000000002,\n  3.667,\n  5.667000000000001,\n  7.332999999999999],\n [1954,\n  4,\n  12,\n  6.667000000000001,\n  7.332999999999999,\n  5.0,\n  3.667,\n  4.667,\n  3.333,\n  3.667,\n  4.333],\n [1955, 4, 28, 7.0, 3.667, 4.667, 4.0, 2.667, 3.333, 4.333, 5.667000000000001],\n [1956,\n  3,\n  3,\n  4.667,\n  5.667000000000001,\n  6.332999999999999,\n  7.332999999999999,\n  6.332999999999999,\n  6.0,\n  7.332999999999999,\n  7.0],\n [1956,\n  3,\n  22,\n  7.0,\n  6.332999999999999,\n  5.0,\n  3.667,\n  4.0,\n  4.333,\n  4.333,\n  6.332999999999999],\n [1956,\n  4,\n  21,\n  3.333,\n  3.333,\n  3.333,\n  5.332999999999999,\n  5.332999999999999,\n  4.667,\n  7.0,\n  7.0],\n [1956,\n  4,\n  22,\n  6.667000000000001,\n  7.332999999999999,\n  7.0,\n  7.0,\n  3.667,\n  4.667,\n  3.667,\n  4.0],\n [1956, 4, 28, 7.0, 7.0, 4.0, 2.667, 2.0, 3.333, 5.332999999999999, 7.0],\n [1956,\n  5,\n  17,\n  7.0,\n  6.0,\n  5.667000000000001,\n  5.332999999999999,\n  5.0,\n  3.333,\n  2.333,\n  2.0],\n [1956,\n  5,\n  24,\n  6.332999999999999,\n  6.0,\n  5.667000000000001,\n  6.332999999999999,\n  7.0,\n  6.332999999999999,\n  5.667000000000001,\n  7.0],\n [1956, 5, 25, 7.0, 7.0, 7.0, 6.0, 4.0, 3.333, 2.0, 4.0],\n [1956,\n  11,\n  14,\n  4.667,\n  5.332999999999999,\n  5.667000000000001,\n  4.333,\n  3.667,\n  4.0,\n  7.0,\n  6.332999999999999],\n [1956, 11, 25, 2.333, 1.6669999999999998, 3.0, 3.0, 7.0, 4.0, 3.333, 2.667],\n [1957, 2, 24, 7.0, 7.0, 6.0, 6.0, 4.667, 2.667, 2.667, 2.0],\n [1957,\n  3,\n  10,\n  4.0,\n  4.333,\n  4.667,\n  6.667000000000001,\n  7.0,\n  6.0,\n  6.332999999999999,\n  5.667000000000001],\n [1957, 3, 27, 4.333, 3.667, 3.0, 4.0, 4.667, 4.333, 5.332999999999999, 7.0],\n [1957,\n  3,\n  28,\n  7.0,\n  6.667000000000001,\n  6.332999999999999,\n  5.667000000000001,\n  3.333,\n  4.0,\n  2.333,\n  1.3330000000000002],\n [1957,\n  6,\n  26,\n  5.0,\n  6.0,\n  6.332999999999999,\n  6.667000000000001,\n  7.0,\n  6.667000000000001,\n  4.667,\n  5.332999999999999],\n [1957,\n  7,\n  1,\n  7.332999999999999,\n  7.332999999999999,\n  6.667000000000001,\n  3.333,\n  1.6669999999999998,\n  4.667,\n  7.0,\n  5.0],\n [1957,\n  7,\n  5,\n  4.667,\n  7.332999999999999,\n  6.0,\n  5.667000000000001,\n  3.333,\n  2.0,\n  3.0,\n  5.667000000000001],\n [1957, 8, 31, 2.0, 2.667, 2.667, 1.6669999999999998, 4.0, 5.0, 7.0, 5.0],\n [1957,\n  9,\n  21,\n  2.667,\n  1.6669999999999998,\n  1.3330000000000002,\n  7.332999999999999,\n  6.0,\n  6.667000000000001,\n  6.667000000000001,\n  6.667000000000001],\n [1957, 11, 7, 7.0, 4.333, 3.333, 3.667, 3.333, 2.667, 2.333, 1.0],\n [1958, 3, 12, 7.0, 7.0, 6.667000000000001, 4.667, 4.333, 4.333, 3.667, 3.0],\n [1958,\n  7,\n  9,\n  6.332999999999999,\n  5.667000000000001,\n  6.0,\n  7.0,\n  6.332999999999999,\n  5.0,\n  3.0,\n  5.667000000000001],\n [1958,\n  7,\n  21,\n  2.667,\n  3.0,\n  3.667,\n  2.333,\n  2.333,\n  6.667000000000001,\n  7.332999999999999,\n  6.332999999999999],\n [1958,\n  8,\n  17,\n  1.3330000000000002,\n  1.6669999999999998,\n  6.0,\n  4.333,\n  6.667000000000001,\n  7.332999999999999,\n  7.332999999999999,\n  6.667000000000001],\n [1958,\n  9,\n  25,\n  3.333,\n  6.0,\n  6.0,\n  6.0,\n  6.332999999999999,\n  6.332999999999999,\n  6.0,\n  7.0],\n [1958,\n  10,\n  24,\n  4.667,\n  5.0,\n  6.667000000000001,\n  6.332999999999999,\n  6.667000000000001,\n  7.0,\n  6.332999999999999,\n  6.0],\n [1958, 12, 5, 7.0, 4.333, 3.333, 2.667, 2.0, 2.0, 1.3330000000000002, 2.0],\n [1958,\n  12,\n  18,\n  7.0,\n  5.667000000000001,\n  3.0,\n  2.667,\n  3.333,\n  1.3330000000000002,\n  1.0,\n  2.667],\n [1959,\n  2,\n  25,\n  3.333,\n  4.667,\n  6.332999999999999,\n  5.667000000000001,\n  6.332999999999999,\n  7.332999999999999,\n  5.332999999999999,\n  4.333],\n [1959,\n  3,\n  28,\n  3.333,\n  5.332999999999999,\n  4.333,\n  5.332999999999999,\n  6.332999999999999,\n  7.0,\n  7.332999999999999,\n  7.332999999999999],\n [1959,\n  5,\n  24,\n  3.333,\n  4.0,\n  5.667000000000001,\n  5.0,\n  4.667,\n  4.0,\n  4.667,\n  7.332999999999999],\n [1959,\n  7,\n  16,\n  7.332999999999999,\n  5.332999999999999,\n  4.333,\n  3.0,\n  3.667,\n  3.333,\n  4.333,\n  5.0],\n [1959,\n  9,\n  4,\n  6.667000000000001,\n  7.332999999999999,\n  7.0,\n  6.332999999999999,\n  6.0,\n  7.0,\n  5.332999999999999,\n  5.667000000000001],\n [1959,\n  9,\n  21,\n  5.667000000000001,\n  6.667000000000001,\n  7.0,\n  4.667,\n  6.0,\n  6.667000000000001,\n  6.332999999999999,\n  5.332999999999999],\n [1959,\n  9,\n  22,\n  6.332999999999999,\n  6.667000000000001,\n  7.0,\n  5.667000000000001,\n  5.667000000000001,\n  5.0,\n  5.332999999999999,\n  2.333],\n [1959,\n  10,\n  4,\n  5.0,\n  7.0,\n  5.332999999999999,\n  4.667,\n  5.667000000000001,\n  3.0,\n  4.333,\n  3.333],\n [1960,\n  4,\n  2,\n  7.0,\n  6.0,\n  6.0,\n  6.332999999999999,\n  5.332999999999999,\n  2.0,\n  2.667,\n  4.333],\n [1960,\n  4,\n  3,\n  6.667000000000001,\n  7.332999999999999,\n  7.0,\n  5.667000000000001,\n  3.667,\n  3.333,\n  4.333,\n  2.667],\n [1960,\n  4,\n  27,\n  2.667,\n  1.6669999999999998,\n  2.333,\n  1.6669999999999998,\n  2.333,\n  2.0,\n  5.667000000000001,\n  7.0],\n [1960,\n  4,\n  28,\n  7.0,\n  6.667000000000001,\n  7.0,\n  6.0,\n  5.667000000000001,\n  5.332999999999999,\n  6.0,\n  3.333],\n [1960,\n  5,\n  6,\n  3.333,\n  3.667,\n  3.667,\n  5.0,\n  4.0,\n  5.332999999999999,\n  7.0,\n  7.332999999999999],\n [1960,\n  6,\n  30,\n  7.0,\n  6.332999999999999,\n  3.333,\n  3.333,\n  2.667,\n  5.332999999999999,\n  6.0,\n  4.0],\n [1960,\n  8,\n  16,\n  1.6669999999999998,\n  0.667,\n  0.667,\n  1.6669999999999998,\n  6.332999999999999,\n  7.0,\n  6.332999999999999,\n  6.0],\n [1960, 8, 30, 5.667000000000001, 7.0, 7.0, 5.0, 4.0, 4.333, 3.0, 2.0],\n [1960,\n  11,\n  14,\n  7.332999999999999,\n  4.667,\n  5.0,\n  4.0,\n  2.667,\n  4.333,\n  5.332999999999999,\n  4.0],\n [1961,\n  2,\n  4,\n  1.3330000000000002,\n  2.0,\n  2.0,\n  1.3330000000000002,\n  5.0,\n  4.333,\n  6.667000000000001,\n  7.0],\n [1961,\n  3,\n  10,\n  4.0,\n  4.667,\n  6.332999999999999,\n  7.0,\n  5.0,\n  3.0,\n  1.6669999999999998,\n  1.3330000000000002],\n [1961,\n  4,\n  14,\n  2.667,\n  3.0,\n  2.667,\n  3.667,\n  4.333,\n  5.332999999999999,\n  7.0,\n  7.332999999999999],\n [1961,\n  6,\n  21,\n  5.0,\n  4.667,\n  4.333,\n  5.667000000000001,\n  5.667000000000001,\n  4.333,\n  5.0,\n  7.0],\n [1961,\n  6,\n  22,\n  7.0,\n  5.667000000000001,\n  4.667,\n  5.0,\n  4.0,\n  5.0,\n  5.332999999999999,\n  5.0],\n [1962,\n  9,\n  12,\n  2.667,\n  3.0,\n  7.332999999999999,\n  5.0,\n  3.667,\n  4.667,\n  6.667000000000001,\n  5.667000000000001],\n [1963, 6, 7, 7.0, 5.667000000000001, 4.667, 3.333, 3.667, 3.667, 3.333, 4.0],\n [1963, 8, 20, 7.0, 6.667000000000001, 6.0, 4.0, 5.0, 4.0, 3.0, 3.667],\n [1963,\n  9,\n  14,\n  4.0,\n  5.332999999999999,\n  7.0,\n  6.667000000000001,\n  6.332999999999999,\n  6.667000000000001,\n  5.667000000000001,\n  5.332999999999999],\n [1963,\n  9,\n  21,\n  2.667,\n  3.667,\n  1.6669999999999998,\n  2.0,\n  5.332999999999999,\n  7.0,\n  6.332999999999999,\n  4.0],\n [1963,\n  9,\n  25,\n  7.332999999999999,\n  6.332999999999999,\n  4.667,\n  5.0,\n  4.0,\n  6.0,\n  4.0,\n  2.667],\n [1963,\n  10,\n  24,\n  5.332999999999999,\n  6.332999999999999,\n  6.332999999999999,\n  7.332999999999999,\n  4.0,\n  4.0,\n  3.667,\n  4.333],\n [1964,\n  4,\n  1,\n  0.667,\n  0.0,\n  0.667,\n  1.3330000000000002,\n  3.333,\n  6.332999999999999,\n  6.332999999999999,\n  7.332999999999999],\n [1965,\n  6,\n  16,\n  5.0,\n  4.667,\n  5.0,\n  5.0,\n  7.0,\n  6.332999999999999,\n  6.667000000000001,\n  5.667000000000001],\n [1966,\n  3,\n  14,\n  6.0,\n  7.332999999999999,\n  6.667000000000001,\n  5.667000000000001,\n  5.0,\n  4.667,\n  2.333,\n  1.6669999999999998],\n [1966,\n  3,\n  23,\n  3.333,\n  2.667,\n  5.0,\n  6.667000000000001,\n  6.667000000000001,\n  6.0,\n  7.0,\n  3.667],\n [1966, 3, 28, 3.0, 1.6669999999999998, 3.667, 4.333, 4.667, 5.0, 7.0, 4.667],\n [1966,\n  5,\n  26,\n  1.6669999999999998,\n  2.0,\n  4.0,\n  7.0,\n  7.0,\n  6.0,\n  7.0,\n  6.667000000000001],\n [1966,\n  8,\n  30,\n  6.667000000000001,\n  5.0,\n  3.0,\n  5.0,\n  5.332999999999999,\n  5.667000000000001,\n  7.332999999999999,\n  7.332999999999999],\n [1966,\n  12,\n  14,\n  2.0,\n  3.667,\n  3.0,\n  2.667,\n  6.0,\n  7.0,\n  5.332999999999999,\n  5.332999999999999],\n [1967,\n  5,\n  3,\n  6.0,\n  7.0,\n  5.332999999999999,\n  7.0,\n  6.667000000000001,\n  6.667000000000001,\n  5.332999999999999,\n  3.333],\n [1967,\n  5,\n  31,\n  7.0,\n  6.332999999999999,\n  5.0,\n  2.0,\n  1.3330000000000002,\n  3.667,\n  4.333,\n  2.0],\n [1967,\n  6,\n  5,\n  2.667,\n  1.0,\n  1.3330000000000002,\n  3.333,\n  3.333,\n  2.0,\n  6.332999999999999,\n  7.0],\n [1967,\n  9,\n  21,\n  7.0,\n  7.332999999999999,\n  5.667000000000001,\n  5.667000000000001,\n  5.0,\n  6.667000000000001,\n  5.332999999999999,\n  5.0],\n [1968,\n  4,\n  5,\n  2.0,\n  1.6669999999999998,\n  1.0,\n  1.3330000000000002,\n  2.667,\n  4.0,\n  6.0,\n  7.0],\n [1969,\n  4,\n  28,\n  3.667,\n  5.667000000000001,\n  7.332999999999999,\n  5.0,\n  7.0,\n  4.333,\n  2.667,\n  2.667],\n [1969,\n  7,\n  27,\n  7.0,\n  6.332999999999999,\n  6.0,\n  2.333,\n  3.0,\n  1.3330000000000002,\n  3.667,\n  1.3330000000000002],\n [1969, 9, 28, 2.667, 3.667, 3.0, 7.0, 6.332999999999999, 4.333, 3.667, 5.0],\n [1969,\n  9,\n  29,\n  3.0,\n  4.333,\n  5.667000000000001,\n  6.332999999999999,\n  6.0,\n  6.0,\n  5.667000000000001,\n  7.0],\n [1970,\n  4,\n  22,\n  6.332999999999999,\n  7.0,\n  5.0,\n  4.0,\n  2.667,\n  1.3330000000000002,\n  1.0,\n  0.667],\n [1970,\n  5,\n  28,\n  5.667000000000001,\n  3.333,\n  2.333,\n  5.332999999999999,\n  7.0,\n  4.667,\n  3.333,\n  3.333],\n [1970,\n  7,\n  9,\n  4.0,\n  6.667000000000001,\n  5.332999999999999,\n  5.332999999999999,\n  7.332999999999999,\n  6.0,\n  6.0,\n  7.0],\n [1970,\n  8,\n  16,\n  2.333,\n  1.3330000000000002,\n  1.0,\n  0.667,\n  1.0,\n  1.3330000000000002,\n  1.3330000000000002,\n  7.0],\n [1971,\n  12,\n  17,\n  5.332999999999999,\n  5.332999999999999,\n  4.333,\n  3.333,\n  4.333,\n  7.0,\n  7.332999999999999,\n  5.332999999999999],\n [1972,\n  3,\n  6,\n  3.0,\n  2.667,\n  1.6669999999999998,\n  1.6669999999999998,\n  0.667,\n  0.33299999999999996,\n  2.0,\n  7.332999999999999],\n [1972,\n  6,\n  17,\n  2.667,\n  2.667,\n  4.0,\n  4.0,\n  5.332999999999999,\n  6.667000000000001,\n  6.332999999999999,\n  7.332999999999999],\n [1972,\n  8,\n  6,\n  7.332999999999999,\n  7.0,\n  7.0,\n  5.332999999999999,\n  4.667,\n  5.332999999999999,\n  6.667000000000001,\n  3.333],\n [1972,\n  9,\n  13,\n  1.0,\n  1.6669999999999998,\n  2.667,\n  1.3330000000000002,\n  6.667000000000001,\n  5.667000000000001,\n  7.332999999999999,\n  5.667000000000001],\n [1973,\n  2,\n  21,\n  4.667,\n  3.333,\n  1.3330000000000002,\n  2.0,\n  2.0,\n  5.0,\n  7.332999999999999,\n  6.667000000000001],\n [1973,\n  3,\n  19,\n  4.0,\n  3.333,\n  5.0,\n  6.667000000000001,\n  6.332999999999999,\n  6.332999999999999,\n  7.0,\n  7.0],\n [1973, 4, 2, 7.0, 6.0, 3.667, 5.667000000000001, 4.667, 5.0, 4.333, 2.667],\n [1973,\n  4,\n  13,\n  1.3330000000000002,\n  4.333,\n  4.667,\n  5.667000000000001,\n  7.332999999999999,\n  5.0,\n  2.0,\n  2.667],\n [1973,\n  5,\n  21,\n  4.0,\n  5.0,\n  7.0,\n  6.332999999999999,\n  4.667,\n  2.667,\n  1.6669999999999998,\n  3.667],\n [1973, 9, 23, 5.0, 5.0, 4.333, 7.0, 6.667000000000001, 4.0, 6.0, 4.0],\n [1973,\n  10,\n  3,\n  5.0,\n  7.332999999999999,\n  5.667000000000001,\n  4.333,\n  4.667,\n  3.667,\n  2.0,\n  3.333],\n [1973,\n  10,\n  29,\n  6.0,\n  5.667000000000001,\n  5.332999999999999,\n  6.332999999999999,\n  6.667000000000001,\n  6.0,\n  7.0,\n  5.667000000000001],\n [1974, 3, 16, 2.667, 2.333, 4.0, 2.333, 4.667, 6.332999999999999, 7.0, 3.0],\n [1974,\n  7,\n  23,\n  4.667,\n  6.332999999999999,\n  4.667,\n  7.0,\n  6.332999999999999,\n  6.0,\n  6.667000000000001,\n  5.667000000000001],\n [1974,\n  10,\n  13,\n  5.667000000000001,\n  7.0,\n  6.667000000000001,\n  6.332999999999999,\n  6.667000000000001,\n  6.332999999999999,\n  5.332999999999999,\n  4.0],\n [1974,\n  10,\n  16,\n  5.0,\n  4.667,\n  5.0,\n  6.0,\n  6.332999999999999,\n  5.667000000000001,\n  4.667,\n  7.0],\n [1974, 11, 11, 3.333, 3.0, 2.0, 3.333, 5.0, 7.0, 6.0, 5.667000000000001],\n [1975,\n  3,\n  10,\n  6.0,\n  5.0,\n  5.0,\n  6.0,\n  5.332999999999999,\n  5.667000000000001,\n  7.0,\n  7.0],\n [1976, 1, 10, 1.3330000000000002, 1.0, 2.333, 3.667, 4.0, 5.0, 7.0, 7.0],\n [1976, 1, 11, 7.332999999999999, 5.0, 3.333, 1.0, 2.0, 3.333, 4.333, 5.0],\n [1977,\n  4,\n  6,\n  4.0,\n  4.0,\n  3.0,\n  1.6669999999999998,\n  3.667,\n  5.667000000000001,\n  6.332999999999999,\n  7.0],\n [1977,\n  9,\n  21,\n  4.333,\n  5.332999999999999,\n  6.0,\n  6.667000000000001,\n  4.667,\n  2.667,\n  4.333,\n  7.332999999999999],\n [1977,\n  10,\n  28,\n  6.0,\n  7.332999999999999,\n  5.332999999999999,\n  2.667,\n  3.333,\n  3.333,\n  4.333,\n  2.0],\n [1977,\n  12,\n  2,\n  5.0,\n  6.667000000000001,\n  5.667000000000001,\n  4.333,\n  4.333,\n  6.332999999999999,\n  7.0,\n  4.667],\n [1978,\n  1,\n  4,\n  5.332999999999999,\n  6.0,\n  5.667000000000001,\n  6.0,\n  6.332999999999999,\n  7.332999999999999,\n  6.667000000000001,\n  5.667000000000001],\n [1978,\n  2,\n  15,\n  4.0,\n  5.332999999999999,\n  6.667000000000001,\n  7.332999999999999,\n  3.667,\n  2.333,\n  1.3330000000000002,\n  1.0],\n [1978,\n  4,\n  4,\n  5.332999999999999,\n  5.0,\n  4.667,\n  2.333,\n  1.6669999999999998,\n  5.332999999999999,\n  7.0,\n  6.332999999999999],\n [1978,\n  4,\n  10,\n  0.667,\n  1.6669999999999998,\n  1.3330000000000002,\n  1.6669999999999998,\n  4.333,\n  4.667,\n  4.667,\n  7.332999999999999],\n [1978,\n  5,\n  2,\n  7.332999999999999,\n  5.667000000000001,\n  7.332999999999999,\n  7.0,\n  7.0,\n  5.332999999999999,\n  3.667,\n  4.667],\n [1978,\n  5,\n  3,\n  4.667,\n  5.332999999999999,\n  6.0,\n  5.332999999999999,\n  6.667000000000001,\n  6.667000000000001,\n  6.0,\n  7.0],\n [1978,\n  6,\n  2,\n  2.0,\n  2.333,\n  3.667,\n  7.0,\n  7.332999999999999,\n  7.0,\n  7.332999999999999,\n  5.0],\n [1978,\n  7,\n  5,\n  5.667000000000001,\n  7.0,\n  6.667000000000001,\n  4.333,\n  4.0,\n  3.667,\n  3.667,\n  2.667],\n [1978, 11, 25, 3.667, 4.0, 4.333, 5.0, 6.0, 7.0, 6.332999999999999, 5.0],\n [1979, 3, 10, 5.0, 4.667, 4.333, 4.333, 4.0, 4.333, 6.332999999999999, 7.0],\n [1979,\n  5,\n  29,\n  2.0,\n  1.0,\n  1.3330000000000002,\n  1.6669999999999998,\n  1.6669999999999998,\n  2.333,\n  5.667000000000001,\n  7.0],\n [1979, 6, 6, 1.0, 1.3330000000000002, 0.667, 2.667, 3.667, 3.0, 7.0, 6.0],\n [1979,\n  8,\n  13,\n  3.0,\n  1.0,\n  3.333,\n  6.667000000000001,\n  7.332999999999999,\n  6.667000000000001,\n  7.0,\n  5.667000000000001],\n [1979,\n  8,\n  20,\n  3.333,\n  2.667,\n  3.667,\n  2.667,\n  3.333,\n  7.0,\n  6.332999999999999,\n  4.333],\n [1979,\n  9,\n  18,\n  5.667000000000001,\n  4.667,\n  7.0,\n  6.332999999999999,\n  5.667000000000001,\n  6.0,\n  4.0,\n  2.333],\n [1980, 2, 15, 2.333, 2.667, 2.0, 2.0, 2.667, 3.0, 5.667000000000001, 7.0],\n [1980,\n  7,\n  25,\n  1.0,\n  1.3330000000000002,\n  1.0,\n  3.667,\n  4.667,\n  5.667000000000001,\n  6.332999999999999,\n  7.0],\n [1981,\n  3,\n  5,\n  1.3330000000000002,\n  5.332999999999999,\n  5.667000000000001,\n  6.667000000000001,\n  7.0,\n  7.332999999999999,\n  6.332999999999999,\n  4.333],\n [1981,\n  4,\n  12,\n  7.0,\n  7.0,\n  5.667000000000001,\n  5.0,\n  7.0,\n  6.332999999999999,\n  5.667000000000001,\n  6.332999999999999],\n [1981,\n  4,\n  26,\n  3.333,\n  3.333,\n  5.667000000000001,\n  5.667000000000001,\n  7.332999999999999,\n  5.0,\n  5.332999999999999,\n  5.667000000000001],\n [1981, 5, 10, 3.667, 3.333, 2.667, 1.6669999999999998, 2.0, 4.0, 4.333, 7.0],\n [1981, 5, 15, 4.0, 7.0, 6.332999999999999, 4.333, 4.333, 4.667, 4.667, 4.667],\n [1981, 5, 18, 5.0, 7.0, 6.667000000000001, 5.0, 4.333, 4.333, 4.667, 2.667],\n [1981,\n  10,\n  20,\n  4.0,\n  3.667,\n  3.333,\n  4.667,\n  6.667000000000001,\n  7.0,\n  7.0,\n  5.332999999999999],\n [1981,\n  10,\n  22,\n  3.667,\n  4.0,\n  4.0,\n  5.0,\n  7.0,\n  6.667000000000001,\n  6.332999999999999,\n  6.667000000000001],\n [1982, 2, 2, 5.0, 6.0, 7.0, 6.0, 5.667000000000001, 5.0, 2.667, 2.667],\n [1982,\n  4,\n  10,\n  3.333,\n  3.333,\n  3.667,\n  4.333,\n  6.0,\n  6.332999999999999,\n  6.332999999999999,\n  7.0],\n [1982, 7, 16, 3.333, 3.333, 4.333, 6.0, 3.0, 6.0, 3.667, 7.0],\n [1982,\n  9,\n  7,\n  7.0,\n  6.332999999999999,\n  5.0,\n  6.667000000000001,\n  5.667000000000001,\n  6.0,\n  7.332999999999999,\n  3.667],\n [1982,\n  9,\n  21,\n  5.0,\n  6.667000000000001,\n  6.0,\n  5.667000000000001,\n  5.667000000000001,\n  4.667,\n  4.667,\n  7.332999999999999],\n [1982,\n  9,\n  26,\n  2.333,\n  3.667,\n  4.333,\n  5.667000000000001,\n  7.332999999999999,\n  7.332999999999999,\n  7.332999999999999,\n  6.0],\n [1982,\n  11,\n  24,\n  3.333,\n  2.667,\n  3.0,\n  5.667000000000001,\n  7.332999999999999,\n  7.0,\n  7.332999999999999,\n  6.667000000000001],\n [1982,\n  12,\n  17,\n  4.333,\n  5.0,\n  7.332999999999999,\n  6.0,\n  5.667000000000001,\n  4.333,\n  5.0,\n  4.333],\n [1983,\n  3,\n  2,\n  7.0,\n  6.667000000000001,\n  7.0,\n  5.667000000000001,\n  5.667000000000001,\n  6.0,\n  5.0,\n  5.0],\n [1983,\n  3,\n  12,\n  5.0,\n  2.667,\n  3.0,\n  4.0,\n  3.333,\n  6.0,\n  5.667000000000001,\n  7.332999999999999],\n [1983,\n  5,\n  17,\n  4.667,\n  2.667,\n  3.333,\n  4.333,\n  5.667000000000001,\n  4.667,\n  7.332999999999999,\n  7.332999999999999],\n [1983, 11, 9, 3.667, 4.667, 3.333, 4.0, 4.333, 4.0, 7.0, 5.0],\n [1984,\n  3,\n  28,\n  3.667,\n  4.667,\n  4.333,\n  4.333,\n  5.0,\n  4.667,\n  7.332999999999999,\n  6.667000000000001],\n [1984, 4, 9, 7.332999999999999, 4.667, 3.0, 2.667, 3.0, 3.0, 4.333, 2.667],\n [1984,\n  7,\n  13,\n  2.667,\n  4.667,\n  7.0,\n  5.332999999999999,\n  7.0,\n  5.332999999999999,\n  4.667,\n  4.333],\n [1984,\n  8,\n  1,\n  5.667000000000001,\n  7.0,\n  6.667000000000001,\n  6.0,\n  5.332999999999999,\n  4.667,\n  5.332999999999999,\n  5.332999999999999],\n [1984,\n  9,\n  5,\n  5.332999999999999,\n  7.0,\n  6.332999999999999,\n  5.0,\n  4.667,\n  5.667000000000001,\n  5.0,\n  3.333],\n [1984,\n  9,\n  23,\n  5.332999999999999,\n  6.667000000000001,\n  6.667000000000001,\n  6.667000000000001,\n  7.0,\n  7.0,\n  6.667000000000001,\n  7.0],\n [1984,\n  11,\n  15,\n  4.333,\n  4.667,\n  3.333,\n  5.332999999999999,\n  4.333,\n  4.667,\n  5.0,\n  7.332999999999999],\n [1985,\n  2,\n  28,\n  6.332999999999999,\n  7.0,\n  6.667000000000001,\n  5.0,\n  5.0,\n  3.667,\n  3.333,\n  2.0],\n [1985,\n  4,\n  28,\n  6.667000000000001,\n  5.667000000000001,\n  7.0,\n  6.667000000000001,\n  4.667,\n  2.667,\n  2.667,\n  2.0],\n [1985,\n  4,\n  30,\n  1.6669999999999998,\n  0.33299999999999996,\n  1.0,\n  5.332999999999999,\n  7.332999999999999,\n  5.0,\n  5.0,\n  3.333],\n [1985, 10, 5, 2.667, 6.0, 6.0, 5.0, 4.333, 5.0, 7.0, 6.332999999999999],\n [1985,\n  11,\n  30,\n  7.332999999999999,\n  5.332999999999999,\n  5.667000000000001,\n  4.667,\n  5.332999999999999,\n  3.333,\n  3.333,\n  2.333],\n [1986,\n  5,\n  3,\n  7.332999999999999,\n  6.0,\n  5.332999999999999,\n  2.667,\n  1.6669999999999998,\n  0.667,\n  1.6669999999999998,\n  1.6669999999999998],\n [1987,\n  7,\n  29,\n  6.667000000000001,\n  7.0,\n  5.332999999999999,\n  5.0,\n  5.0,\n  2.667,\n  1.3330000000000002,\n  1.0],\n [1988, 1, 14, 4.0, 5.0, 2.333, 2.0, 3.0, 5.0, 6.332999999999999, 7.0],\n [1988,\n  1,\n  15,\n  7.332999999999999,\n  7.332999999999999,\n  6.0,\n  5.0,\n  3.667,\n  3.333,\n  2.667,\n  3.333],\n [1988,\n  2,\n  22,\n  6.667000000000001,\n  6.332999999999999,\n  7.332999999999999,\n  6.0,\n  6.667000000000001,\n  6.667000000000001,\n  5.667000000000001,\n  5.0],\n [1988, 3, 26, 3.0, 3.667, 4.333, 3.667, 3.667, 4.667, 6.667000000000001, 7.0],\n [1988,\n  4,\n  4,\n  4.667,\n  5.332999999999999,\n  5.667000000000001,\n  6.332999999999999,\n  6.332999999999999,\n  6.332999999999999,\n  7.332999999999999,\n  3.667],\n [1988,\n  5,\n  6,\n  6.667000000000001,\n  6.0,\n  7.332999999999999,\n  7.0,\n  7.0,\n  7.332999999999999,\n  5.332999999999999,\n  4.333],\n [1989,\n  3,\n  29,\n  6.332999999999999,\n  6.0,\n  5.332999999999999,\n  4.333,\n  4.667,\n  5.332999999999999,\n  7.0,\n  6.0],\n [1989,\n  5,\n  23,\n  2.333,\n  2.667,\n  1.3330000000000002,\n  2.0,\n  5.667000000000001,\n  7.332999999999999,\n  6.0,\n  4.667],\n [1989,\n  6,\n  10,\n  5.332999999999999,\n  5.667000000000001,\n  5.332999999999999,\n  5.667000000000001,\n  6.667000000000001,\n  7.0,\n  6.332999999999999,\n  4.667],\n [1989,\n  8,\n  29,\n  7.0,\n  7.332999999999999,\n  5.667000000000001,\n  4.0,\n  3.667,\n  4.0,\n  3.667,\n  2.333],\n [1989,\n  9,\n  26,\n  0.33299999999999996,\n  1.6669999999999998,\n  4.333,\n  4.667,\n  5.332999999999999,\n  6.332999999999999,\n  7.0,\n  5.667000000000001],\n [1989,\n  11,\n  18,\n  7.0,\n  6.667000000000001,\n  5.332999999999999,\n  3.667,\n  2.333,\n  2.667,\n  2.333,\n  2.0],\n [1990,\n  3,\n  12,\n  2.667,\n  3.333,\n  2.333,\n  3.0,\n  2.333,\n  5.332999999999999,\n  5.667000000000001,\n  7.332999999999999],\n [1990,\n  3,\n  21,\n  7.332999999999999,\n  5.667000000000001,\n  6.332999999999999,\n  6.0,\n  5.667000000000001,\n  5.332999999999999,\n  5.667000000000001,\n  4.0],\n [1990,\n  5,\n  26,\n  4.333,\n  3.667,\n  3.0,\n  3.333,\n  5.0,\n  3.667,\n  5.667000000000001,\n  7.332999999999999],\n [1990,\n  7,\n  29,\n  7.0,\n  7.0,\n  6.332999999999999,\n  5.667000000000001,\n  6.0,\n  4.667,\n  4.0,\n  4.333],\n [1990,\n  8,\n  23,\n  4.333,\n  6.332999999999999,\n  5.332999999999999,\n  6.0,\n  7.0,\n  6.332999999999999,\n  6.332999999999999,\n  4.333],\n [1991,\n  6,\n  1,\n  3.667,\n  5.332999999999999,\n  7.0,\n  6.332999999999999,\n  6.667000000000001,\n  7.332999999999999,\n  2.0,\n  3.333],\n [1991,\n  6,\n  2,\n  4.333,\n  5.667000000000001,\n  5.667000000000001,\n  4.0,\n  3.667,\n  6.0,\n  5.332999999999999,\n  7.0],\n [1991,\n  6,\n  4,\n  2.0,\n  2.667,\n  2.333,\n  3.0,\n  4.667,\n  7.332999999999999,\n  7.0,\n  6.332999999999999],\n [1991,\n  6,\n  11,\n  7.0,\n  7.332999999999999,\n  6.332999999999999,\n  5.667000000000001,\n  5.667000000000001,\n  4.667,\n  6.332999999999999,\n  5.332999999999999],\n [1991,\n  6,\n  17,\n  2.667,\n  2.667,\n  2.333,\n  5.667000000000001,\n  6.332999999999999,\n  6.0,\n  7.332999999999999,\n  6.667000000000001],\n [1991,\n  8,\n  12,\n  2.667,\n  3.333,\n  4.667,\n  4.0,\n  7.332999999999999,\n  5.667000000000001,\n  7.332999999999999,\n  4.667],\n [1991, 8, 22, 5.0, 7.0, 6.332999999999999, 3.667, 4.0, 3.0, 3.0, 4.0],\n [1991, 9, 9, 4.0, 3.333, 4.333, 5.0, 5.0, 4.667, 5.0, 7.0],\n [1991, 10, 1, 3.333, 3.667, 5.0, 3.333, 3.667, 3.333, 7.0, 7.332999999999999],\n [1991,\n  10,\n  31,\n  5.0,\n  3.333,\n  5.332999999999999,\n  5.667000000000001,\n  5.0,\n  5.0,\n  5.332999999999999,\n  7.0],\n [1991, 11, 2, 7.0, 6.332999999999999, 3.667, 3.333, 3.0, 3.333, 3.0, 3.0],\n [1992, 2, 8, 3.333, 3.667, 4.667, 2.667, 6.667000000000001, 7.0, 4.0, 4.333],\n [1992,\n  2,\n  9,\n  7.0,\n  6.332999999999999,\n  6.332999999999999,\n  6.332999999999999,\n  6.332999999999999,\n  5.0,\n  4.667,\n  4.667],\n [1992,\n  2,\n  20,\n  4.667,\n  5.332999999999999,\n  4.333,\n  5.667000000000001,\n  5.667000000000001,\n  5.332999999999999,\n  7.0,\n  5.332999999999999],\n [1992,\n  2,\n  21,\n  5.667000000000001,\n  7.0,\n  7.332999999999999,\n  6.667000000000001,\n  5.0,\n  3.0,\n  3.0,\n  2.667],\n [1992,\n  5,\n  11,\n  7.332999999999999,\n  6.667000000000001,\n  6.0,\n  5.0,\n  5.0,\n  5.0,\n  5.0,\n  3.667],\n [1992,\n  9,\n  9,\n  5.332999999999999,\n  6.667000000000001,\n  6.0,\n  7.332999999999999,\n  6.667000000000001,\n  5.0,\n  5.667000000000001,\n  5.0],\n [1992,\n  9,\n  10,\n  5.667000000000001,\n  6.332999999999999,\n  6.332999999999999,\n  5.667000000000001,\n  5.332999999999999,\n  7.0,\n  6.667000000000001,\n  6.0],\n [1992,\n  9,\n  17,\n  5.667000000000001,\n  6.667000000000001,\n  7.332999999999999,\n  6.667000000000001,\n  5.332999999999999,\n  5.0,\n  7.0,\n  5.667000000000001],\n [1993, 3, 24, 4.0, 6.0, 7.332999999999999, 6.0, 4.667, 4.333, 3.333, 4.333],\n [1993,\n  4,\n  5,\n  6.332999999999999,\n  7.332999999999999,\n  7.0,\n  5.667000000000001,\n  6.332999999999999,\n  5.667000000000001,\n  5.667000000000001,\n  3.333],\n [1993,\n  6,\n  10,\n  0.0,\n  1.3330000000000002,\n  1.6669999999999998,\n  1.6669999999999998,\n  1.0,\n  2.667,\n  5.332999999999999,\n  7.0],\n [1993,\n  8,\n  16,\n  5.332999999999999,\n  5.0,\n  6.0,\n  6.332999999999999,\n  5.332999999999999,\n  5.667000000000001,\n  7.0,\n  6.332999999999999],\n [1994,\n  3,\n  7,\n  5.332999999999999,\n  4.0,\n  4.0,\n  5.667000000000001,\n  5.0,\n  6.332999999999999,\n  5.667000000000001,\n  7.0],\n [1994,\n  4,\n  2,\n  3.667,\n  3.0,\n  3.333,\n  4.667,\n  5.0,\n  5.332999999999999,\n  7.0,\n  6.332999999999999],\n [1994,\n  4,\n  3,\n  5.667000000000001,\n  6.332999999999999,\n  6.667000000000001,\n  6.0,\n  5.667000000000001,\n  5.332999999999999,\n  6.667000000000001,\n  7.332999999999999],\n [1994, 4, 4, 7.0, 6.332999999999999, 5.0, 4.667, 4.667, 4.667, 5.0, 4.333],\n [1994,\n  5,\n  1,\n  0.33299999999999996,\n  2.0,\n  3.0,\n  3.0,\n  4.333,\n  5.667000000000001,\n  7.0,\n  7.0],\n [1994,\n  5,\n  28,\n  0.33299999999999996,\n  0.33299999999999996,\n  0.667,\n  2.0,\n  4.667,\n  7.0,\n  6.667000000000001,\n  5.332999999999999],\n [1994,\n  10,\n  3,\n  6.332999999999999,\n  7.0,\n  7.0,\n  5.667000000000001,\n  6.667000000000001,\n  6.0,\n  5.667000000000001,\n  3.667],\n [1994, 10, 29, 4.0, 3.0, 4.333, 6.0, 7.0, 6.667000000000001, 3.333, 2.667],\n [1995,\n  9,\n  27,\n  2.0,\n  2.667,\n  2.333,\n  3.667,\n  4.333,\n  5.332999999999999,\n  7.0,\n  5.332999999999999],\n [1996, 4, 14, 3.0, 3.667, 3.667, 2.667, 3.667, 2.333, 3.667, 7.0],\n [1996,\n  10,\n  23,\n  7.332999999999999,\n  5.667000000000001,\n  3.667,\n  3.333,\n  1.6669999999999998,\n  3.0,\n  2.333,\n  2.0],\n [1997, 2, 27, 3.333, 2.667, 2.0, 1.3330000000000002, 3.333, 3.333, 4.0, 7.0],\n [1997,\n  10,\n  1,\n  4.0,\n  3.667,\n  5.332999999999999,\n  5.332999999999999,\n  4.667,\n  7.0,\n  4.0,\n  1.6669999999999998],\n [1997,\n  11,\n  7,\n  6.0,\n  7.0,\n  5.667000000000001,\n  3.0,\n  3.0,\n  4.0,\n  2.667,\n  1.6669999999999998],\n [1997,\n  11,\n  23,\n  7.332999999999999,\n  7.0,\n  4.667,\n  5.332999999999999,\n  4.667,\n  2.0,\n  3.0,\n  4.0],\n [1998, 3, 10, 1.0, 2.0, 3.667, 5.0, 4.0, 6.0, 7.332999999999999, 6.0],\n [1998,\n  8,\n  6,\n  2.0,\n  4.0,\n  6.0,\n  7.332999999999999,\n  6.667000000000001,\n  2.667,\n  4.0,\n  6.332999999999999],\n [1999,\n  1,\n  13,\n  2.333,\n  2.0,\n  1.3330000000000002,\n  3.333,\n  4.0,\n  5.332999999999999,\n  5.667000000000001,\n  7.0],\n [1999,\n  4,\n  17,\n  6.0,\n  7.332999999999999,\n  5.332999999999999,\n  5.0,\n  2.333,\n  2.333,\n  2.667,\n  1.6669999999999998],\n [2000,\n  6,\n  8,\n  2.667,\n  3.667,\n  4.333,\n  6.332999999999999,\n  7.0,\n  6.332999999999999,\n  6.0,\n  5.0],\n [2000,\n  7,\n  13,\n  1.0,\n  2.0,\n  2.333,\n  5.667000000000001,\n  7.0,\n  6.332999999999999,\n  2.667,\n  3.0],\n [2000,\n  7,\n  14,\n  3.0,\n  3.0,\n  3.333,\n  4.0,\n  4.0,\n  7.332999999999999,\n  6.667000000000001,\n  4.667],\n [2000,\n  10,\n  4,\n  2.0,\n  3.333,\n  5.0,\n  5.0,\n  6.332999999999999,\n  5.667000000000001,\n  7.332999999999999,\n  5.667000000000001],\n [2000,\n  11,\n  6,\n  3.333,\n  3.667,\n  4.0,\n  5.0,\n  5.332999999999999,\n  5.667000000000001,\n  7.0,\n  5.667000000000001],\n [2001,\n  3,\n  20,\n  4.667,\n  5.667000000000001,\n  6.0,\n  5.667000000000001,\n  7.332999999999999,\n  7.0,\n  4.333,\n  3.667],\n [2001,\n  4,\n  8,\n  2.667,\n  2.0,\n  3.0,\n  5.667000000000001,\n  7.0,\n  5.0,\n  7.0,\n  6.332999999999999],\n [2001,\n  4,\n  12,\n  7.332999999999999,\n  6.332999999999999,\n  5.332999999999999,\n  5.0,\n  3.667,\n  3.0,\n  0.667,\n  1.0],\n [2001,\n  4,\n  13,\n  1.0,\n  1.6669999999999998,\n  3.333,\n  7.332999999999999,\n  5.667000000000001,\n  5.0,\n  5.667000000000001,\n  4.667],\n [2001,\n  4,\n  18,\n  6.0,\n  7.332999999999999,\n  6.667000000000001,\n  3.0,\n  2.0,\n  2.667,\n  2.333,\n  2.667],\n [2001, 8, 17, 1.0, 1.0, 0.667, 3.333, 4.333, 5.0, 7.0, 6.332999999999999],\n [2001, 9, 25, 0.667, 2.0, 2.0, 1.0, 1.0, 0.667, 6.0, 7.332999999999999],\n [2001,\n  10,\n  3,\n  5.0,\n  3.333,\n  5.0,\n  7.0,\n  6.667000000000001,\n  6.667000000000001,\n  4.667,\n  5.0],\n [2001, 10, 22, 7.0, 4.667, 3.667, 6.0, 6.0, 7.332999999999999, 7.0, 7.0],\n [2002,\n  4,\n  17,\n  3.0,\n  3.0,\n  2.667,\n  6.0,\n  6.667000000000001,\n  7.332999999999999,\n  6.332999999999999,\n  3.0],\n [2002,\n  4,\n  18,\n  7.0,\n  6.667000000000001,\n  5.667000000000001,\n  5.667000000000001,\n  4.333,\n  4.667,\n  4.0,\n  4.333],\n [2002,\n  4,\n  20,\n  7.0,\n  7.332999999999999,\n  5.667000000000001,\n  4.333,\n  5.0,\n  6.0,\n  4.667,\n  2.667],\n [2002,\n  9,\n  7,\n  2.0,\n  3.333,\n  3.0,\n  1.6669999999999998,\n  2.667,\n  6.667000000000001,\n  7.332999999999999,\n  7.0],\n [2002,\n  9,\n  8,\n  7.332999999999999,\n  5.667000000000001,\n  3.333,\n  1.6669999999999998,\n  0.667,\n  2.0,\n  3.0,\n  3.667],\n [2002,\n  10,\n  1,\n  1.6669999999999998,\n  2.667,\n  4.667,\n  5.667000000000001,\n  6.667000000000001,\n  7.332999999999999,\n  4.667,\n  6.667000000000001],\n [2002,\n  10,\n  2,\n  7.0,\n  7.332999999999999,\n  5.332999999999999,\n  3.667,\n  2.667,\n  3.333,\n  2.667,\n  3.333],\n [2002,\n  10,\n  4,\n  7.332999999999999,\n  5.667000000000001,\n  6.0,\n  4.667,\n  4.0,\n  3.667,\n  6.332999999999999,\n  4.333],\n [2003,\n  5,\n  30,\n  7.332999999999999,\n  5.332999999999999,\n  4.0,\n  3.0,\n  3.667,\n  6.0,\n  5.0,\n  5.667000000000001],\n [2003,\n  8,\n  18,\n  5.667000000000001,\n  6.332999999999999,\n  7.0,\n  6.667000000000001,\n  7.0,\n  7.332999999999999,\n  6.332999999999999,\n  6.0],\n [2003,\n  9,\n  17,\n  5.332999999999999,\n  5.332999999999999,\n  5.0,\n  6.332999999999999,\n  7.0,\n  5.332999999999999,\n  5.0,\n  5.667000000000001],\n [2003,\n  10,\n  14,\n  3.333,\n  4.0,\n  5.667000000000001,\n  5.0,\n  4.333,\n  4.333,\n  7.332999999999999,\n  7.332999999999999],\n [2003, 11, 4, 3.0, 3.0, 6.332999999999999, 7.0, 2.667, 2.0, 3.333, 2.667],\n [2004,\n  1,\n  22,\n  5.0,\n  5.0,\n  5.0,\n  7.0,\n  6.667000000000001,\n  4.0,\n  5.332999999999999,\n  4.667],\n [2004,\n  7,\n  22,\n  1.0,\n  0.33299999999999996,\n  0.33299999999999996,\n  2.667,\n  3.667,\n  3.333,\n  5.332999999999999,\n  7.0],\n [2004,\n  7,\n  26,\n  7.332999999999999,\n  3.667,\n  1.6669999999999998,\n  2.0,\n  1.3330000000000002,\n  2.0,\n  3.667,\n  7.332999999999999],\n [2004, 8, 30, 2.333, 2.0, 3.333, 4.0, 4.0, 5.667000000000001, 5.0, 7.0],\n [2005, 1, 8, 7.0, 5.667000000000001, 4.0, 3.667, 3.333, 2.0, 2.0, 2.333],\n [2005, 4, 5, 7.0, 6.667000000000001, 5.0, 3.333, 3.333, 3.0, 3.0, 4.667],\n [2005,\n  6,\n  12,\n  1.6669999999999998,\n  1.6669999999999998,\n  3.667,\n  4.0,\n  5.332999999999999,\n  6.0,\n  7.332999999999999,\n  6.0],\n [2005, 6, 23, 3.667, 5.0, 7.0, 5.0, 5.667000000000001, 4.0, 4.667, 3.333],\n [2005,\n  8,\n  31,\n  1.3330000000000002,\n  2.333,\n  2.333,\n  2.667,\n  5.0,\n  7.0,\n  6.667000000000001,\n  5.667000000000001],\n [2005, 9, 12, 4.667, 4.333, 7.0, 5.667000000000001, 4.667, 6.0, 6.0, 7.0],\n [2005,\n  9,\n  15,\n  3.0,\n  1.6669999999999998,\n  3.333,\n  5.667000000000001,\n  6.332999999999999,\n  7.0,\n  5.0,\n  4.333],\n [2006,\n  4,\n  14,\n  4.333,\n  6.0,\n  6.667000000000001,\n  7.0,\n  5.0,\n  5.332999999999999,\n  4.0,\n  4.333],\n [2011,\n  10,\n  24,\n  1.6669999999999998,\n  0.33299999999999996,\n  1.6669999999999998,\n  0.667,\n  0.33299999999999996,\n  1.0,\n  5.332999999999999,\n  7.0],\n [2011,\n  10,\n  25,\n  7.332999999999999,\n  5.667000000000001,\n  4.667,\n  3.0,\n  3.0,\n  2.0,\n  1.3330000000000002,\n  0.667],\n [2012,\n  7,\n  15,\n  4.333,\n  5.332999999999999,\n  6.667000000000001,\n  6.0,\n  5.332999999999999,\n  6.0,\n  7.0,\n  6.0],\n [2013,\n  6,\n  1,\n  5.667000000000001,\n  7.0,\n  6.332999999999999,\n  5.0,\n  5.667000000000001,\n  3.333,\n  3.667,\n  3.0],\n [2015,\n  9,\n  11,\n  3.0,\n  4.0,\n  7.0,\n  6.332999999999999,\n  5.667000000000001,\n  6.667000000000001,\n  3.0,\n  3.667],\n [2015, 9, 20, 3.0, 4.667, 7.0, 5.332999999999999, 4.333, 5.0, 2.667, 3.0],\n [2015,\n  10,\n  7,\n  3.667,\n  6.0,\n  5.667000000000001,\n  5.0,\n  5.0,\n  6.332999999999999,\n  7.332999999999999,\n  6.0],\n [2017, 5, 28, 6.0, 7.0, 6.0, 5.0, 3.667, 1.6669999999999998, 1.0, 0.667],\n [2018,\n  8,\n  26,\n  5.0,\n  6.667000000000001,\n  7.332999999999999,\n  4.667,\n  4.667,\n  6.0,\n  5.0,\n  3.0],\n [2021, 5, 12, 1.0, 1.0, 4.0, 4.333, 7.0, 6.667000000000001, 2.0, 3.0],\n [2023,\n  3,\n  23,\n  0.667,\n  1.6669999999999998,\n  3.0,\n  4.667,\n  6.667000000000001,\n  4.667,\n  6.332999999999999,\n  7.0],\n [1932, 3, 10, 4.667, 4.0, 2.667, 4.333, 3.333, 4.667, 6.0, 4.667],\n [1932, 3, 11, 6.0, 4.333, 4.0, 2.667, 2.333, 2.667, 3.333, 3.333],\n [1932,\n  3,\n  28,\n  4.0,\n  3.667,\n  2.333,\n  3.333,\n  3.667,\n  5.667000000000001,\n  6.667000000000001,\n  4.0],\n [1933, 3, 18, 3.333, 5.0, 4.0, 2.667, 2.667, 4.0, 3.0, 6.332999999999999],\n [1933, 3, 20, 6.0, 4.333, 3.667, 3.667, 3.0, 4.667, 5.332999999999999, 4.0],\n [1933,\n  5,\n  2,\n  6.332999999999999,\n  2.333,\n  3.0,\n  2.667,\n  1.3330000000000002,\n  1.3330000000000002,\n  1.6669999999999998,\n  3.0],\n [1933,\n  8,\n  5,\n  1.3330000000000002,\n  2.0,\n  2.667,\n  3.333,\n  5.332999999999999,\n  5.332999999999999,\n  6.667000000000001,\n  3.667],\n [1933,\n  9,\n  9,\n  2.667,\n  6.667000000000001,\n  6.667000000000001,\n  6.332999999999999,\n  4.667,\n  3.667,\n  3.333,\n  3.667],\n [1933, 9, 13, 0.0, 0.667, 1.0, 2.667, 4.667, 5.0, 6.0, 3.667],\n [1933, 9, 15, 3.667, 6.0, 3.667, 3.333, 4.333, 3.0, 2.333, 3.0],\n [1934, 3, 5, 4.0, 4.0, 6.0, 4.667, 2.667, 3.333, 3.667, 4.333],\n [1934,\n  5,\n  11,\n  1.3330000000000002,\n  2.667,\n  1.0,\n  1.3330000000000002,\n  1.6669999999999998,\n  1.0,\n  2.333,\n  6.332999999999999],\n [1934,\n  5,\n  18,\n  0.33299999999999996,\n  2.667,\n  3.333,\n  3.0,\n  5.332999999999999,\n  6.0,\n  4.333,\n  3.333],\n [1934,\n  9,\n  25,\n  4.667,\n  6.332999999999999,\n  5.0,\n  4.667,\n  5.0,\n  5.667000000000001,\n  6.0,\n  3.0],\n [1934,\n  12,\n  4,\n  6.332999999999999,\n  5.332999999999999,\n  6.0,\n  3.333,\n  4.667,\n  3.333,\n  2.0,\n  2.333],\n [1935, 2, 13, 2.333, 3.0, 3.333, 3.667, 3.667, 4.0, 4.667, 6.0],\n [1935,\n  3,\n  14,\n  2.667,\n  2.667,\n  5.332999999999999,\n  5.0,\n  5.332999999999999,\n  6.0,\n  4.667,\n  4.333],\n [1935,\n  5,\n  1,\n  0.0,\n  0.33299999999999996,\n  0.33299999999999996,\n  1.0,\n  5.667000000000001,\n  5.0,\n  3.667,\n  6.332999999999999],\n [1935,\n  6,\n  7,\n  0.667,\n  1.3330000000000002,\n  2.667,\n  2.0,\n  4.0,\n  5.332999999999999,\n  4.333,\n  6.332999999999999],\n [1935, 6, 18, 2.667, 3.667, 3.0, 3.0, 4.667, 4.0, 6.332999999999999, 4.333],\n [1935,\n  9,\n  11,\n  4.0,\n  4.333,\n  4.667,\n  3.0,\n  6.332999999999999,\n  5.667000000000001,\n  5.332999999999999,\n  5.667000000000001],\n [1935,\n  9,\n  12,\n  6.0,\n  5.667000000000001,\n  4.333,\n  0.33299999999999996,\n  0.33299999999999996,\n  1.0,\n  1.3330000000000002,\n  0.667],\n [1935, 9, 25, 4.0, 6.0, 6.0, 6.0, 4.333, 4.333, 3.333, 3.333],\n [1935,\n  10,\n  20,\n  2.0,\n  2.0,\n  1.6669999999999998,\n  6.0,\n  5.332999999999999,\n  5.0,\n  4.667,\n  4.667],\n [1935,\n  10,\n  24,\n  1.0,\n  1.3330000000000002,\n  5.332999999999999,\n  6.0,\n  6.0,\n  6.0,\n  2.667,\n  1.3330000000000002],\n [1936,\n  4,\n  18,\n  5.667000000000001,\n  6.332999999999999,\n  4.333,\n  2.0,\n  3.0,\n  3.667,\n  5.332999999999999,\n  4.0],\n [1936,\n  4,\n  19,\n  3.667,\n  4.333,\n  3.667,\n  3.667,\n  3.667,\n  4.667,\n  3.667,\n  6.332999999999999],\n [1936,\n  4,\n  22,\n  6.0,\n  5.332999999999999,\n  4.333,\n  4.333,\n  5.667000000000001,\n  4.667,\n  4.667,\n  5.332999999999999],\n [1936, 6, 9, 3.0, 4.667, 5.0, 4.667, 5.332999999999999, 6.0, 4.0, 3.667],\n [1936, 7, 29, 0.0, 0.667, 2.667, 3.667, 5.667000000000001, 6.0, 3.667, 3.333],\n [1936,\n  10,\n  17,\n  5.667000000000001,\n  6.332999999999999,\n  5.0,\n  4.0,\n  3.333,\n  1.3330000000000002,\n  2.667,\n  1.3330000000000002],\n [1937,\n  2,\n  3,\n  6.332999999999999,\n  6.0,\n  5.667000000000001,\n  4.0,\n  3.0,\n  4.667,\n  6.667000000000001,\n  3.333],\n [1937, 7, 19, 1.0, 1.0, 1.3330000000000002, 1.0, 4.0, 4.333, 6.0, 3.0],\n [1937, 7, 24, 6.0, 5.332999999999999, 4.667, 3.333, 3.0, 2.667, 4.0, 3.667],\n [1937,\n  8,\n  2,\n  4.0,\n  6.0,\n  6.332999999999999,\n  5.0,\n  5.667000000000001,\n  4.667,\n  3.333,\n  3.0],\n [1937, 8, 4, 6.332999999999999, 4.0, 4.333, 3.333, 2.0, 2.0, 3.0, 1.0],\n [1937,\n  9,\n  10,\n  1.3330000000000002,\n  2.0,\n  1.6669999999999998,\n  1.3330000000000002,\n  1.0,\n  2.333,\n  4.333,\n  6.0],\n [1937,\n  9,\n  30,\n  0.0,\n  0.33299999999999996,\n  0.667,\n  1.6669999999999998,\n  4.0,\n  5.332999999999999,\n  6.667000000000001,\n  6.0],\n [1937,\n  10,\n  8,\n  5.667000000000001,\n  6.667000000000001,\n  5.0,\n  3.333,\n  2.333,\n  4.667,\n  2.333,\n  1.6669999999999998],\n [1937,\n  10,\n  9,\n  0.33299999999999996,\n  1.3330000000000002,\n  3.333,\n  3.667,\n  6.332999999999999,\n  6.332999999999999,\n  5.667000000000001,\n  4.333],\n [1937, 10, 10, 4.667, 4.667, 6.0, 5.667000000000001, 4.0, 2.667, 2.333, 4.0],\n [1937,\n  10,\n  23,\n  3.333,\n  3.333,\n  4.333,\n  4.0,\n  3.667,\n  4.333,\n  3.667,\n  6.332999999999999],\n [1937,\n  10,\n  24,\n  6.332999999999999,\n  2.333,\n  3.333,\n  4.333,\n  4.667,\n  4.0,\n  3.667,\n  4.0],\n [1937,\n  12,\n  23,\n  2.667,\n  2.333,\n  3.667,\n  4.333,\n  6.332999999999999,\n  5.667000000000001,\n  5.0,\n  1.3330000000000002],\n [1938, 1, 31, 2.667, 2.333, 3.333, 4.0, 3.333, 4.333, 6.0, 6.0],\n [1938,\n  2,\n  6,\n  2.333,\n  6.667000000000001,\n  6.332999999999999,\n  4.0,\n  3.667,\n  5.332999999999999,\n  5.332999999999999,\n  4.333],\n [1938,\n  2,\n  8,\n  2.0,\n  2.0,\n  2.667,\n  3.333,\n  3.333,\n  6.0,\n  6.332999999999999,\n  5.332999999999999],\n [1938,\n  2,\n  10,\n  4.333,\n  6.0,\n  5.667000000000001,\n  3.667,\n  4.333,\n  1.3330000000000002,\n  0.667,\n  2.333],\n [1938,\n  3,\n  22,\n  3.667,\n  5.0,\n  6.0,\n  5.0,\n  5.332999999999999,\n  4.0,\n  4.333,\n  5.332999999999999],\n [1938,\n  3,\n  23,\n  5.667000000000001,\n  5.0,\n  4.667,\n  5.667000000000001,\n  2.333,\n  3.667,\n  6.0,\n  6.0],\n [1938,\n  3,\n  24,\n  6.332999999999999,\n  6.332999999999999,\n  6.0,\n  4.667,\n  2.667,\n  1.6669999999999998,\n  2.0,\n  2.667],\n [1938,\n  3,\n  26,\n  6.332999999999999,\n  3.667,\n  1.3330000000000002,\n  3.667,\n  3.667,\n  3.333,\n  3.0,\n  2.667],\n [1938,\n  4,\n  13,\n  2.333,\n  1.6669999999999998,\n  2.333,\n  4.333,\n  5.0,\n  5.0,\n  4.0,\n  6.667000000000001],\n [1938,\n  5,\n  13,\n  6.332999999999999,\n  1.6669999999999998,\n  0.667,\n  1.0,\n  2.333,\n  1.0,\n  1.0,\n  2.667],\n [1938,\n  5,\n  14,\n  3.0,\n  3.333,\n  3.333,\n  5.332999999999999,\n  5.667000000000001,\n  4.333,\n  3.667,\n  6.332999999999999],\n [1938, 5, 29, 3.0, 4.0, 4.667, 4.0, 6.0, 5.667000000000001, 3.333, 4.0],\n [1938,\n  7,\n  4,\n  1.3330000000000002,\n  2.0,\n  2.0,\n  2.0,\n  5.332999999999999,\n  5.0,\n  5.667000000000001,\n  6.0],\n [1938,\n  7,\n  30,\n  3.667,\n  6.0,\n  5.667000000000001,\n  5.332999999999999,\n  5.0,\n  3.0,\n  4.667,\n  4.333],\n [1938, 8, 2, 4.333, 6.0, 3.0, 2.0, 2.333, 3.0, 3.667, 4.667],\n [1938,\n  8,\n  4,\n  5.332999999999999,\n  4.667,\n  6.667000000000001,\n  5.667000000000001,\n  4.0,\n  4.333,\n  3.667,\n  5.0],\n [1938,\n  8,\n  11,\n  3.0,\n  3.333,\n  4.0,\n  5.332999999999999,\n  6.0,\n  5.667000000000001,\n  4.0,\n  3.667],\n [1938, 8, 23, 3.667, 3.667, 3.667, 6.0, 5.0, 3.0, 2.667, 1.6669999999999998],\n [1938,\n  9,\n  14,\n  5.0,\n  6.332999999999999,\n  2.333,\n  2.0,\n  3.667,\n  6.0,\n  5.667000000000001,\n  5.667000000000001],\n [1938,\n  9,\n  30,\n  1.3330000000000002,\n  2.0,\n  1.3330000000000002,\n  3.667,\n  4.667,\n  3.0,\n  6.667000000000001,\n  5.0],\n [1939,\n  3,\n  28,\n  3.667,\n  4.0,\n  3.333,\n  3.667,\n  5.332999999999999,\n  6.332999999999999,\n  6.332999999999999,\n  6.667000000000001],\n [1939,\n  3,\n  29,\n  5.667000000000001,\n  6.332999999999999,\n  6.0,\n  6.0,\n  5.667000000000001,\n  5.332999999999999,\n  5.667000000000001,\n  5.332999999999999],\n [1939,\n  4,\n  18,\n  2.333,\n  2.333,\n  6.0,\n  4.0,\n  5.667000000000001,\n  5.332999999999999,\n  5.0,\n  4.667],\n [1939,\n  4,\n  19,\n  4.0,\n  4.0,\n  4.667,\n  2.667,\n  5.667000000000001,\n  6.667000000000001,\n  5.0,\n  4.0],\n [1939, 4, 27, 0.667, 0.667, 1.0, 1.3330000000000002, 0.667, 2.0, 0.667, 6.0],\n [1939,\n  5,\n  1,\n  2.0,\n  1.3330000000000002,\n  3.333,\n  6.0,\n  6.667000000000001,\n  4.667,\n  6.332999999999999,\n  6.332999999999999],\n [1939,\n  5,\n  2,\n  6.0,\n  5.332999999999999,\n  6.332999999999999,\n  4.667,\n  4.333,\n  4.333,\n  3.667,\n  4.0],\n [1939, 5, 5, 2.0, 3.333, 3.333, 3.0, 2.333, 3.333, 6.0, 5.0],\n [1939, 5, 6, 4.0, 3.333, 3.333, 3.667, 5.667000000000001, 5.0, 4.667, 6.0],\n [1939,\n  5,\n  7,\n  6.667000000000001,\n  6.0,\n  5.667000000000001,\n  5.0,\n  4.0,\n  4.0,\n  3.333,\n  4.0],\n [1939,\n  6,\n  16,\n  4.333,\n  4.667,\n  5.332999999999999,\n  6.667000000000001,\n  3.0,\n  3.0,\n  2.0,\n  1.3330000000000002],\n [1939,\n  7,\n  3,\n  3.333,\n  4.0,\n  4.0,\n  5.0,\n  6.667000000000001,\n  5.0,\n  5.667000000000001,\n  3.0],\n [1939,\n  7,\n  4,\n  3.333,\n  3.0,\n  2.0,\n  2.333,\n  4.333,\n  5.332999999999999,\n  6.332999999999999,\n  6.667000000000001],\n [1939, 7, 20, 4.333, 5.667000000000001, 5.0, 4.667, 6.0, 5.0, 4.0, 4.333],\n [1939,\n  8,\n  13,\n  6.0,\n  5.332999999999999,\n  3.667,\n  3.667,\n  3.333,\n  4.333,\n  3.667,\n  3.333],\n [1939, 9, 3, 6.0, 6.0, 4.667, 4.667, 3.0, 3.333, 3.333, 4.0],\n [1939, 10, 6, 4.333, 6.332999999999999, 5.0, 3.667, 3.0, 3.0, 3.667, 2.667],\n [1939,\n  10,\n  9,\n  3.667,\n  3.0,\n  6.667000000000001,\n  3.333,\n  5.332999999999999,\n  2.667,\n  3.0,\n  1.3330000000000002],\n [1939,\n  10,\n  14,\n  5.332999999999999,\n  6.0,\n  6.667000000000001,\n  6.667000000000001,\n  6.0,\n  6.0,\n  5.0,\n  3.667],\n [1939,\n  12,\n  7,\n  5.667000000000001,\n  6.0,\n  5.332999999999999,\n  4.0,\n  5.0,\n  4.667,\n  4.0,\n  4.0],\n [1940,\n  1,\n  18,\n  2.667,\n  2.667,\n  3.333,\n  3.667,\n  4.667,\n  6.667000000000001,\n  6.0,\n  2.667],\n [1940,\n  3,\n  9,\n  5.332999999999999,\n  6.332999999999999,\n  3.667,\n  2.333,\n  2.0,\n  2.333,\n  2.333,\n  2.0],\n [1940,\n  4,\n  1,\n  6.667000000000001,\n  6.332999999999999,\n  5.667000000000001,\n  6.667000000000001,\n  4.333,\n  5.0,\n  4.667,\n  3.667],\n [1940,\n  6,\n  14,\n  1.0,\n  2.333,\n  3.333,\n  2.667,\n  4.667,\n  6.0,\n  5.667000000000001,\n  6.332999999999999],\n [1940,\n  8,\n  3,\n  2.0,\n  3.333,\n  4.333,\n  4.333,\n  6.332999999999999,\n  5.667000000000001,\n  3.667,\n  2.333],\n [1940,\n  8,\n  9,\n  2.0,\n  3.0,\n  4.333,\n  5.332999999999999,\n  4.667,\n  4.333,\n  6.332999999999999,\n  4.0],\n [1940,\n  9,\n  27,\n  6.667000000000001,\n  5.667000000000001,\n  3.333,\n  3.0,\n  3.0,\n  4.333,\n  5.332999999999999,\n  5.0],\n [1940,\n  10,\n  8,\n  5.332999999999999,\n  6.667000000000001,\n  5.667000000000001,\n  4.0,\n  3.0,\n  4.0,\n  4.667,\n  5.0],\n [1940,\n  11,\n  13,\n  6.667000000000001,\n  6.667000000000001,\n  6.332999999999999,\n  3.333,\n  3.667,\n  3.333,\n  2.333,\n  2.0],\n [1940,\n  11,\n  25,\n  2.333,\n  1.3330000000000002,\n  2.667,\n  5.0,\n  6.332999999999999,\n  5.667000000000001,\n  4.0,\n  4.0],\n [1940,\n  12,\n  20,\n  3.0,\n  3.333,\n  3.667,\n  5.332999999999999,\n  5.667000000000001,\n  6.0,\n  5.0,\n  5.0],\n [1940,\n  12,\n  30,\n  2.333,\n  4.667,\n  6.332999999999999,\n  4.0,\n  3.667,\n  4.0,\n  4.333,\n  3.333],\n [1941, 3, 21, 4.0, 4.0, 4.0, 4.0, 4.0, 4.0, 6.0, 3.667],\n [1941,\n  3,\n  28,\n  4.667,\n  4.0,\n  3.333,\n  5.667000000000001,\n  6.0,\n  6.332999999999999,\n  6.332999999999999,\n  5.332999999999999],\n [1941,\n  3,\n  29,\n  4.667,\n  4.333,\n  3.667,\n  3.333,\n  4.0,\n  4.667,\n  6.332999999999999,\n  5.667000000000001],\n [1941,\n  4,\n  19,\n  3.0,\n  6.332999999999999,\n  6.332999999999999,\n  4.0,\n  3.667,\n  4.0,\n  3.333,\n  3.333],\n [1941,\n  4,\n  24,\n  0.667,\n  1.3330000000000002,\n  5.0,\n  6.667000000000001,\n  6.332999999999999,\n  6.332999999999999,\n  6.332999999999999,\n  5.332999999999999],\n [1941,\n  4,\n  25,\n  5.667000000000001,\n  6.0,\n  5.332999999999999,\n  4.667,\n  2.667,\n  4.667,\n  3.667,\n  3.333],\n [1941, 6, 10, 2.667, 2.0, 4.0, 3.667, 6.0, 5.332999999999999, 3.0, 4.0],\n [1941,\n  6,\n  13,\n  0.667,\n  3.333,\n  5.332999999999999,\n  6.0,\n  5.332999999999999,\n  3.667,\n  4.333,\n  5.0],\n [1941,\n  7,\n  6,\n  2.667,\n  2.0,\n  3.333,\n  4.333,\n  6.332999999999999,\n  5.667000000000001,\n  5.667000000000001,\n  4.667],\n [1941, 7, 21, 3.333, 5.0, 6.0, 6.0, 3.0, 3.0, 4.667, 2.667],\n [1941, 8, 5, 6.0, 4.0, 2.667, 2.333, 2.333, 3.0, 3.667, 3.333],\n [1941,\n  8,\n  27,\n  5.667000000000001,\n  5.0,\n  5.667000000000001,\n  6.0,\n  6.0,\n  4.333,\n  4.667,\n  5.332999999999999],\n [1941,\n  9,\n  20,\n  5.332999999999999,\n  4.333,\n  4.0,\n  6.332999999999999,\n  5.332999999999999,\n  3.0,\n  2.0,\n  1.3330000000000002],\n [1941, 9, 21, 2.667, 6.0, 4.333, 4.333, 4.333, 5.0, 1.0, 0.667],\n [1941,\n  10,\n  11,\n  3.0,\n  3.0,\n  4.0,\n  4.333,\n  4.333,\n  4.667,\n  5.667000000000001,\n  6.667000000000001],\n [1941, 10, 12, 6.0, 4.667, 4.0, 2.667, 2.0, 3.0, 1.3330000000000002, 2.333],\n [1941,\n  10,\n  22,\n  2.0,\n  2.0,\n  1.6669999999999998,\n  2.0,\n  3.333,\n  5.667000000000001,\n  6.332999999999999,\n  5.332999999999999],\n [1941,\n  10,\n  31,\n  3.0,\n  5.667000000000001,\n  4.333,\n  2.667,\n  3.0,\n  4.333,\n  6.332999999999999,\n  6.667000000000001],\n [1941,\n  11,\n  28,\n  4.333,\n  6.0,\n  6.332999999999999,\n  5.667000000000001,\n  2.667,\n  3.667,\n  6.332999999999999,\n  3.667],\n [1941, 12, 2, 4.667, 6.0, 4.667, 3.333, 3.0, 3.333, 2.333, 1.0],\n [1942,\n  2,\n  23,\n  4.0,\n  3.0,\n  2.0,\n  1.0,\n  5.332999999999999,\n  5.332999999999999,\n  6.0,\n  5.667000000000001],\n [1942, 2, 28, 3.0, 3.0, 2.333, 3.333, 6.0, 5.667000000000001, 2.667, 2.667],\n [1942, 3, 3, 3.667, 4.333, 5.0, 5.667000000000001, 5.0, 6.0, 3.333, 3.333],\n [1942,\n  3,\n  8,\n  6.332999999999999,\n  5.667000000000001,\n  3.667,\n  3.0,\n  3.0,\n  3.667,\n  5.332999999999999,\n  3.667],\n [1942,\n  3,\n  9,\n  6.332999999999999,\n  6.332999999999999,\n  3.667,\n  3.0,\n  3.333,\n  4.0,\n  3.333,\n  4.667],\n [1942, 4, 3, 4.0, 6.0, 4.0, 3.0, 3.667, 2.333, 4.0, 4.333],\n [1942,\n  4,\n  14,\n  6.332999999999999,\n  4.667,\n  3.0,\n  4.0,\n  3.0,\n  3.667,\n  1.6669999999999998,\n  1.0],\n [1942,\n  4,\n  17,\n  6.332999999999999,\n  6.0,\n  5.332999999999999,\n  5.332999999999999,\n  4.0,\n  4.333,\n  2.667,\n  3.0],\n [1942, 4, 28, 6.0, 3.333, 2.333, 2.0, 2.0, 1.0, 0.667, 2.667],\n [1942,\n  7,\n  11,\n  4.667,\n  5.0,\n  5.667000000000001,\n  4.667,\n  5.332999999999999,\n  6.0,\n  4.333,\n  3.333],\n [1942,\n  8,\n  16,\n  4.333,\n  5.0,\n  3.667,\n  2.333,\n  2.333,\n  3.333,\n  6.667000000000001,\n  4.333],\n [1942, 8, 23, 4.667, 4.333, 3.0, 3.667, 5.0, 6.0, 5.332999999999999, 5.0],\n [1942, 9, 11, 2.0, 2.333, 1.3330000000000002, 2.333, 4.0, 4.0, 4.667, 6.0],\n [1942,\n  9,\n  12,\n  5.0,\n  5.667000000000001,\n  6.667000000000001,\n  6.0,\n  3.667,\n  4.667,\n  4.667,\n  4.0],\n [1942,\n  10,\n  2,\n  2.667,\n  2.667,\n  2.667,\n  4.667,\n  6.332999999999999,\n  6.0,\n  6.667000000000001,\n  4.0],\n [1942,\n  10,\n  3,\n  5.332999999999999,\n  6.332999999999999,\n  4.667,\n  4.333,\n  4.667,\n  5.332999999999999,\n  4.333,\n  3.667],\n [1942, 10, 12, 4.333, 4.0, 3.333, 6.0, 5.0, 4.333, 3.667, 4.0],\n [1942, 10, 13, 4.333, 3.667, 2.667, 3.333, 4.333, 6.0, 4.333, 4.333],\n [1942,\n  11,\n  24,\n  6.332999999999999,\n  6.667000000000001,\n  5.667000000000001,\n  6.667000000000001,\n  4.333,\n  3.333,\n  5.0,\n  3.0],\n [1943,\n  1,\n  20,\n  1.6669999999999998,\n  2.333,\n  3.667,\n  3.333,\n  2.667,\n  5.0,\n  6.667000000000001,\n  6.332999999999999],\n [1943,\n  2,\n  17,\n  3.0,\n  4.667,\n  5.332999999999999,\n  6.667000000000001,\n  4.0,\n  3.333,\n  4.333,\n  4.0],\n [1943, 4, 11, 5.0, 6.332999999999999, 6.0, 4.0, 2.667, 2.667, 3.333, 3.667],\n [1943,\n  4,\n  26,\n  6.0,\n  5.667000000000001,\n  5.332999999999999,\n  3.667,\n  2.667,\n  2.667,\n  2.667,\n  3.333],\n [1943,\n  5,\n  1,\n  4.333,\n  6.332999999999999,\n  6.332999999999999,\n  6.0,\n  4.0,\n  4.667,\n  5.332999999999999,\n  5.667000000000001],\n [1943, 5, 24, 6.0, 4.333, 2.667, 2.333, 3.0, 3.667, 4.333, 4.333],\n [1943,\n  8,\n  13,\n  3.333,\n  5.0,\n  5.0,\n  5.667000000000001,\n  5.667000000000001,\n  4.333,\n  5.332999999999999,\n  6.0],\n [1943,\n  8,\n  18,\n  3.333,\n  3.667,\n  5.0,\n  6.332999999999999,\n  5.0,\n  4.0,\n  3.333,\n  1.6669999999999998],\n [1943, 9, 8, 2.667, 2.0, 2.667, 2.667, 2.333, 4.333, 6.0, 5.0],\n [1943, 9, 9, 6.0, 4.667, 3.667, 4.333, 4.0, 3.333, 4.0, 5.332999999999999],\n [1943, 9, 26, 2.0, 3.667, 4.333, 4.0, 6.0, 5.332999999999999, 4.667, 4.667],\n [1943,\n  9,\n  28,\n  6.0,\n  5.667000000000001,\n  4.667,\n  4.333,\n  5.332999999999999,\n  4.333,\n  3.333,\n  5.0],\n [1943,\n  9,\n  29,\n  4.0,\n  5.667000000000001,\n  5.667000000000001,\n  5.332999999999999,\n  6.667000000000001,\n  4.667,\n  6.0,\n  4.667],\n [1943,\n  10,\n  9,\n  3.667,\n  5.0,\n  6.332999999999999,\n  4.667,\n  3.667,\n  5.332999999999999,\n  5.332999999999999,\n  4.0],\n [1943,\n  10,\n  24,\n  3.667,\n  3.333,\n  3.0,\n  6.667000000000001,\n  5.332999999999999,\n  4.667,\n  4.667,\n  4.667],\n [1943,\n  10,\n  28,\n  5.667000000000001,\n  6.0,\n  4.333,\n  3.667,\n  3.667,\n  5.332999999999999,\n  4.667,\n  4.333],\n [1943, 11, 6, 2.0, 3.333, 3.0, 2.333, 3.667, 6.0, 4.667, 4.667],\n [1943,\n  11,\n  19,\n  1.3330000000000002,\n  4.667,\n  6.667000000000001,\n  6.0,\n  6.0,\n  4.333,\n  4.0,\n  6.0],\n [1943, 11, 23, 3.667, 4.333, 4.0, 4.0, 4.333, 5.0, 6.0, 6.0],\n [1943, 11, 25, 4.0, 4.333, 4.333, 4.667, 5.0, 5.0, 6.0, 5.0],\n [1943,\n  11,\n  27,\n  5.332999999999999,\n  6.332999999999999,\n  5.667000000000001,\n  4.333,\n  4.333,\n  3.0,\n  4.0,\n  4.333],\n [1943, 12, 19, 4.0, 3.333, 4.333, 4.333, 4.0, 6.0, 6.0, 4.0],\n [1944,\n  2,\n  7,\n  2.0,\n  2.0,\n  3.333,\n  5.0,\n  6.0,\n  5.332999999999999,\n  5.0,\n  5.332999999999999],\n [1944,\n  2,\n  14,\n  5.332999999999999,\n  6.332999999999999,\n  6.667000000000001,\n  5.0,\n  4.333,\n  3.333,\n  3.0,\n  3.0],\n [1944,\n  3,\n  19,\n  6.332999999999999,\n  5.332999999999999,\n  2.333,\n  3.667,\n  3.333,\n  1.3330000000000002,\n  3.667,\n  4.667],\n [1944,\n  3,\n  26,\n  3.667,\n  4.333,\n  5.332999999999999,\n  4.667,\n  6.0,\n  2.333,\n  2.0,\n  5.332999999999999],\n [1944,\n  5,\n  1,\n  3.333,\n  2.667,\n  2.667,\n  3.333,\n  6.0,\n  5.667000000000001,\n  4.333,\n  4.667],\n [1944, 5, 29, 3.333, 2.667, 2.667, 3.667, 3.0, 3.667, 3.333, 6.0],\n [1944,\n  8,\n  3,\n  6.332999999999999,\n  6.332999999999999,\n  5.332999999999999,\n  4.667,\n  3.333,\n  1.3330000000000002,\n  2.667,\n  3.0],\n [1944,\n  9,\n  30,\n  0.667,\n  1.0,\n  1.3330000000000002,\n  1.6669999999999998,\n  4.667,\n  6.0,\n  6.0,\n  4.667],\n [1944,\n  10,\n  11,\n  5.667000000000001,\n  6.0,\n  2.0,\n  1.3330000000000002,\n  3.333,\n  5.332999999999999,\n  3.0,\n  3.333],\n [1944,\n  10,\n  14,\n  2.667,\n  1.6669999999999998,\n  2.0,\n  3.667,\n  3.0,\n  4.333,\n  4.0,\n  6.332999999999999],\n [1944, 10, 15, 6.0, 6.0, 3.333, 3.333, 2.0, 2.667, 3.333, 5.332999999999999],\n [1944,\n  12,\n  17,\n  2.333,\n  5.0,\n  6.0,\n  5.667000000000001,\n  6.0,\n  6.332999999999999,\n  5.332999999999999,\n  6.332999999999999],\n [1945, 1, 15, 2.0, 4.333, 4.0, 4.0, 4.333, 5.667000000000001, 6.0, 3.0],\n [1945,\n  3,\n  12,\n  3.0,\n  3.333,\n  3.333,\n  5.332999999999999,\n  5.667000000000001,\n  5.332999999999999,\n  6.332999999999999,\n  6.0],\n [1945,\n  3,\n  15,\n  6.667000000000001,\n  5.0,\n  5.0,\n  3.333,\n  3.667,\n  5.667000000000001,\n  4.333,\n  6.667000000000001],\n [1945,\n  3,\n  20,\n  3.0,\n  1.3330000000000002,\n  1.6669999999999998,\n  1.3330000000000002,\n  1.0,\n  0.667,\n  6.0,\n  5.667000000000001],\n [1945,\n  3,\n  26,\n  5.0,\n  4.667,\n  6.0,\n  5.332999999999999,\n  5.0,\n  5.332999999999999,\n  5.0,\n  5.0],\n [1945,\n  4,\n  5,\n  0.33299999999999996,\n  0.0,\n  0.667,\n  3.0,\n  1.6669999999999998,\n  3.0,\n  6.0,\n  4.333],\n [1945,\n  4,\n  11,\n  0.667,\n  1.6669999999999998,\n  3.333,\n  5.332999999999999,\n  6.332999999999999,\n  4.333,\n  3.0,\n  4.667],\n [1945, 7, 1, 6.0, 4.667, 5.0, 4.667, 5.0, 4.667, 4.333, 3.0],\n [1945, 8, 28, 6.0, 6.332999999999999, 2.667, 2.333, 2.0, 2.667, 3.667, 2.0],\n [1945,\n  9,\n  18,\n  4.667,\n  4.333,\n  4.667,\n  4.333,\n  4.667,\n  6.332999999999999,\n  4.333,\n  4.667],\n [1945,\n  10,\n  24,\n  3.667,\n  3.667,\n  4.333,\n  5.667000000000001,\n  6.0,\n  5.332999999999999,\n  6.0,\n  5.332999999999999],\n [1945,\n  10,\n  25,\n  6.0,\n  6.0,\n  3.333,\n  5.332999999999999,\n  5.332999999999999,\n  4.333,\n  3.0,\n  1.6669999999999998],\n [1945,\n  10,\n  28,\n  6.332999999999999,\n  5.667000000000001,\n  2.0,\n  3.0,\n  3.0,\n  4.0,\n  4.667,\n  4.0],\n [1945,\n  11,\n  9,\n  4.333,\n  4.667,\n  6.332999999999999,\n  5.332999999999999,\n  4.0,\n  5.0,\n  4.333,\n  3.667],\n [1945,\n  12,\n  14,\n  6.332999999999999,\n  6.667000000000001,\n  6.667000000000001,\n  6.667000000000001,\n  6.332999999999999,\n  4.333,\n  1.6669999999999998,\n  1.0],\n [1945,\n  12,\n  19,\n  1.3330000000000002,\n  0.667,\n  1.3330000000000002,\n  1.6669999999999998,\n  0.667,\n  2.333,\n  3.333,\n  6.0],\n [1946, 1, 4, 6.0, 6.0, 5.667000000000001, 4.333, 3.333, 5.0, 5.0, 4.667],\n [1946, 2, 14, 0.667, 1.3330000000000002, 6.0, 5.0, 2.667, 4.667, 5.0, 4.0],\n [1946, 2, 20, 2.0, 3.0, 2.333, 2.667, 2.0, 2.333, 4.0, 6.0],\n [1946,\n  2,\n  21,\n  5.667000000000001,\n  5.332999999999999,\n  6.0,\n  5.332999999999999,\n  5.667000000000001,\n  5.332999999999999,\n  3.667,\n  1.0],\n [1946,\n  3,\n  10,\n  6.0,\n  5.667000000000001,\n  5.332999999999999,\n  5.0,\n  5.332999999999999,\n  4.0,\n  6.0,\n  6.332999999999999],\n [1946, 3, 11, 6.332999999999999, 4.0, 3.667, 3.667, 3.667, 3.333, 3.667, 4.0],\n [1946, 3, 23, 3.333, 2.667, 2.333, 1.0, 2.0, 3.0, 3.667, 6.332999999999999],\n [1946,\n  3,\n  26,\n  6.332999999999999,\n  6.0,\n  6.0,\n  5.0,\n  3.333,\n  3.333,\n  5.332999999999999,\n  3.0],\n [1946, 4, 9, 3.0, 2.0, 3.0, 5.0, 5.667000000000001, 6.0, 3.0, 4.667],\n [1946, 4, 14, 3.333, 2.0, 2.333, 4.667, 6.0, 3.667, 3.0, 4.0],\n [1946,\n  4,\n  15,\n  5.0,\n  5.0,\n  6.332999999999999,\n  5.667000000000001,\n  6.667000000000001,\n  5.0,\n  5.667000000000001,\n  1.6669999999999998],\n [1946, 5, 6, 3.667, 5.0, 6.0, 4.0, 2.667, 3.333, 2.667, 6.667000000000001],\n [1946, 5, 7, 3.667, 6.667000000000001, 6.0, 4.333, 4.0, 2.0, 2.0, 2.333],\n [1946,\n  5,\n  8,\n  2.667,\n  5.332999999999999,\n  6.332999999999999,\n  3.667,\n  4.667,\n  2.667,\n  3.667,\n  3.333],\n [1946,\n  5,\n  9,\n  4.333,\n  4.667,\n  4.667,\n  4.333,\n  6.0,\n  5.667000000000001,\n  5.667000000000001,\n  4.667],\n [1946, 5, 11, 4.0, 4.667, 6.667000000000001, 5.0, 5.0, 4.667, 2.0, 2.0],\n [1946, 5, 22, 3.0, 6.0, 6.332999999999999, 4.667, 5.0, 4.667, 5.0, 4.333],\n [1946,\n  6,\n  17,\n  6.0,\n  5.667000000000001,\n  4.333,\n  1.6669999999999998,\n  2.333,\n  1.3330000000000002,\n  1.6669999999999998,\n  3.333],\n [1946,\n  6,\n  29,\n  2.667,\n  3.667,\n  4.0,\n  3.333,\n  4.667,\n  6.667000000000001,\n  6.332999999999999,\n  5.0],\n [1946,\n  7,\n  18,\n  2.0,\n  1.6669999999999998,\n  1.6669999999999998,\n  3.667,\n  5.0,\n  6.332999999999999,\n  5.332999999999999,\n  5.0],\n [1946, 8, 14, 2.0, 3.0, 5.0, 5.0, 6.0, 3.0, 6.332999999999999, 6.0],\n [1946,\n  9,\n  19,\n  5.667000000000001,\n  6.667000000000001,\n  3.667,\n  4.667,\n  6.667000000000001,\n  6.0,\n  2.667,\n  3.667],\n [1946, 9, 27, 3.0, 2.667, 4.667, 4.0, 3.0, 6.0, 6.0, 4.667],\n [1946, 9, 29, 6.667000000000001, 4.333, 2.667, 2.333, 4.0, 4.667, 4.333, 4.0],\n [1946,\n  10,\n  26,\n  3.667,\n  4.333,\n  4.667,\n  3.667,\n  3.0,\n  3.0,\n  3.667,\n  6.332999999999999],\n [1946,\n  10,\n  27,\n  6.667000000000001,\n  6.332999999999999,\n  5.332999999999999,\n  4.667,\n  5.0,\n  4.667,\n  4.0,\n  4.333],\n [1946, 11, 24, 1.0, 4.333, 4.0, 4.0, 6.0, 3.333, 2.0, 1.3330000000000002],\n [1947, 1, 16, 2.333, 6.332999999999999, 4.0, 3.0, 3.667, 4.667, 5.0, 4.333],\n [1947,\n  1,\n  25,\n  4.333,\n  6.332999999999999,\n  6.332999999999999,\n  5.667000000000001,\n  5.332999999999999,\n  5.667000000000001,\n  4.667,\n  4.667],\n [1947, 2, 16, 0.667, 3.667, 4.333, 6.0, 5.667000000000001, 6.0, 4.333, 4.667],\n [1947,\n  2,\n  17,\n  6.332999999999999,\n  6.0,\n  5.332999999999999,\n  3.667,\n  3.0,\n  4.0,\n  2.667,\n  1.6669999999999998],\n [1947,\n  3,\n  9,\n  6.667000000000001,\n  5.332999999999999,\n  5.667000000000001,\n  5.0,\n  4.333,\n  3.0,\n  3.667,\n  3.0],\n [1947,\n  3,\n  23,\n  2.667,\n  3.667,\n  3.667,\n  4.667,\n  4.667,\n  6.332999999999999,\n  3.333,\n  3.333],\n [1947,\n  3,\n  24,\n  4.667,\n  6.0,\n  5.332999999999999,\n  2.667,\n  2.333,\n  2.667,\n  2.667,\n  2.333],\n [1947,\n  3,\n  28,\n  6.332999999999999,\n  6.667000000000001,\n  6.332999999999999,\n  4.667,\n  6.0,\n  6.0,\n  5.0,\n  5.332999999999999],\n [1947,\n  4,\n  18,\n  5.332999999999999,\n  4.333,\n  3.0,\n  5.332999999999999,\n  5.667000000000001,\n  5.667000000000001,\n  4.0,\n  6.0],\n [1947,\n  6,\n  5,\n  1.3330000000000002,\n  2.333,\n  6.0,\n  4.667,\n  3.667,\n  4.0,\n  4.333,\n  5.332999999999999],\n [1947, 6, 17, 2.0, 5.0, 4.667, 3.667, 4.667, 6.0, 5.667000000000001, 3.333],\n [1947,\n  7,\n  18,\n  6.0,\n  5.332999999999999,\n  5.332999999999999,\n  6.0,\n  6.667000000000001,\n  6.667000000000001,\n  6.332999999999999,\n  5.0],\n [1947,\n  8,\n  17,\n  4.667,\n  5.0,\n  5.332999999999999,\n  5.332999999999999,\n  4.667,\n  6.0,\n  6.0,\n  5.667000000000001],\n [1947,\n  8,\n  18,\n  6.332999999999999,\n  5.667000000000001,\n  5.332999999999999,\n  5.332999999999999,\n  5.332999999999999,\n  4.667,\n  5.332999999999999,\n  5.332999999999999],\n [1947,\n  8,\n  19,\n  4.0,\n  3.667,\n  4.333,\n  5.332999999999999,\n  5.667000000000001,\n  6.332999999999999,\n  4.667,\n  6.0],\n [1947, 8, 20, 6.0, 4.0, 5.0, 4.0, 4.667, 5.667000000000001, 3.667, 4.667],\n [1947,\n  9,\n  7,\n  4.667,\n  3.667,\n  3.667,\n  3.0,\n  5.0,\n  5.667000000000001,\n  6.667000000000001,\n  4.667],\n [1947,\n  9,\n  14,\n  4.333,\n  5.332999999999999,\n  5.667000000000001,\n  6.0,\n  5.332999999999999,\n  6.332999999999999,\n  4.667,\n  5.0],\n [1947,\n  9,\n  15,\n  5.332999999999999,\n  4.667,\n  5.667000000000001,\n  5.0,\n  5.332999999999999,\n  6.332999999999999,\n  5.667000000000001,\n  5.667000000000001],\n [1947,\n  9,\n  17,\n  5.667000000000001,\n  6.0,\n  5.332999999999999,\n  4.667,\n  4.667,\n  5.332999999999999,\n  5.0,\n  5.332999999999999],\n [1947,\n  9,\n  23,\n  4.667,\n  6.332999999999999,\n  5.667000000000001,\n  5.332999999999999,\n  5.332999999999999,\n  1.6669999999999998,\n  1.3330000000000002,\n  2.667],\n [1947,\n  10,\n  2,\n  4.0,\n  5.332999999999999,\n  4.667,\n  4.667,\n  5.667000000000001,\n  6.667000000000001,\n  6.0,\n  5.667000000000001],\n [1947,\n  10,\n  3,\n  6.667000000000001,\n  6.667000000000001,\n  4.667,\n  4.0,\n  4.333,\n  1.3330000000000002,\n  2.333,\n  4.0],\n [1947,\n  10,\n  9,\n  4.333,\n  4.333,\n  4.333,\n  5.0,\n  5.667000000000001,\n  6.0,\n  5.332999999999999,\n  5.332999999999999],\n [1947,\n  10,\n  12,\n  6.0,\n  4.667,\n  5.667000000000001,\n  4.667,\n  5.0,\n  4.333,\n  5.332999999999999,\n  3.0],\n [1947, 10, 14, 4.333, 4.667, 6.0, 5.332999999999999, 4.0, 4.333, 5.0, 5.0],\n [1947, 10, 15, 3.333, 5.332999999999999, 5.0, 4.333, 6.0, 4.333, 4.0, 6.0],\n [1947,\n  10,\n  19,\n  2.667,\n  3.0,\n  3.333,\n  3.667,\n  3.667,\n  4.333,\n  6.332999999999999,\n  3.333],\n [1947, 11, 10, 6.667000000000001, 4.333, 4.0, 4.0, 4.333, 4.0, 5.0, 6.0],\n [1947,\n  11,\n  11,\n  6.0,\n  3.333,\n  4.667,\n  4.333,\n  6.667000000000001,\n  5.667000000000001,\n  5.0,\n  4.0],\n [1948, 1, 3, 2.667, 4.333, 4.667, 4.0, 5.0, 6.0, 6.0, 2.667],\n [1948, 4, 6, 0.33299999999999996, 4.0, 3.0, 2.0, 2.0, 4.333, 6.0, 3.667],\n [1948,\n  4,\n  21,\n  6.667000000000001,\n  3.667,\n  3.333,\n  2.0,\n  1.3330000000000002,\n  2.333,\n  1.3330000000000002,\n  2.667],\n [1948, 5, 7, 3.667, 3.0, 6.0, 5.0, 4.667, 4.0, 4.333, 3.333],\n [1948,\n  5,\n  9,\n  2.667,\n  2.333,\n  6.332999999999999,\n  5.0,\n  4.667,\n  4.333,\n  2.667,\n  2.333],\n [1948,\n  5,\n  15,\n  5.0,\n  6.0,\n  5.332999999999999,\n  4.667,\n  4.667,\n  1.6669999999999998,\n  3.0,\n  6.332999999999999],\n [1948,\n  5,\n  21,\n  3.0,\n  3.0,\n  4.0,\n  3.667,\n  5.667000000000001,\n  6.332999999999999,\n  5.667000000000001,\n  5.332999999999999],\n [1948,\n  8,\n  9,\n  5.667000000000001,\n  5.667000000000001,\n  4.0,\n  3.667,\n  4.667,\n  4.667,\n  4.333,\n  6.332999999999999],\n [1948, 9, 1, 5.0, 4.333, 4.0, 3.0, 4.667, 3.333, 4.667, 6.0],\n [1948,\n  10,\n  1,\n  4.667,\n  6.332999999999999,\n  5.0,\n  5.667000000000001,\n  5.332999999999999,\n  3.333,\n  3.667,\n  3.667],\n [1948,\n  10,\n  2,\n  3.333,\n  6.332999999999999,\n  6.332999999999999,\n  5.0,\n  5.0,\n  5.0,\n  2.333,\n  2.667],\n [1948, 10, 10, 2.333, 4.667, 6.332999999999999, 4.0, 4.0, 2.333, 2.0, 2.667],\n [1948,\n  10,\n  21,\n  4.333,\n  5.667000000000001,\n  6.0,\n  6.332999999999999,\n  5.0,\n  5.667000000000001,\n  6.667000000000001,\n  4.667],\n [1948, 10, 27, 4.0, 3.333, 3.333, 4.0, 6.0, 3.333, 3.667, 3.667],\n [1948,\n  11,\n  2,\n  4.667,\n  5.332999999999999,\n  6.332999999999999,\n  5.0,\n  5.0,\n  5.0,\n  5.0,\n  5.667000000000001],\n [1948,\n  11,\n  20,\n  3.333,\n  3.667,\n  4.333,\n  5.332999999999999,\n  6.0,\n  6.0,\n  5.667000000000001,\n  4.667],\n [1948,\n  11,\n  21,\n  5.332999999999999,\n  6.332999999999999,\n  4.667,\n  3.333,\n  3.333,\n  2.333,\n  2.333,\n  2.333],\n [1948, 12, 31, 3.667, 2.0, 4.0, 6.0, 4.333, 5.0, 2.0, 1.6669999999999998],\n ...]"
     },
     "execution_count": 36,
     "metadata": {},
     "output_type": "execute_result"
    }
   ],
   "source": [
    "All_Gs"
   ]
  },
  {
   "cell_type": "code",
   "execution_count": 37,
   "id": "882dea8a",
   "metadata": {
    "pycharm": {
     "name": "#%%\n"
    }
   },
   "outputs": [],
   "source": [
    "# #Reduce_All_Gs = All_Gs.copy()\n",
    "removej = []\n",
    "count_remove = 0\n",
    "for i in range(len(All_Gs)):\n",
    "    for j in range((i+1),(len(All_Gs)),1):\n",
    "        year_diff = abs(All_Gs[j][0]-All_Gs[i][0])\n",
    "        month_diff = abs(All_Gs[j][1]-All_Gs[i][1])\n",
    "        day_diff = abs(All_Gs[j][2]-All_Gs[i][2])\n",
    "        if((day_diff<=5) & (month_diff == 0) & (year_diff == 0)):\n",
    "            if All_Gs[j] not in removej:\n",
    "                count_remove += 1\n",
    "                removej.append(All_Gs[j])\n",
    "#             #Reduce_All_Gs.remove(All_Gs[j])"
   ]
  },
  {
   "cell_type": "code",
   "execution_count": null,
   "id": "9adeb4f6",
   "metadata": {
    "pycharm": {
     "name": "#%%\n"
    }
   },
   "outputs": [],
   "source": [
    "4 in range(-5,0)"
   ]
  },
  {
   "cell_type": "code",
   "execution_count": null,
   "id": "71dd418d",
   "metadata": {
    "pycharm": {
     "name": "#%%\n"
    }
   },
   "outputs": [],
   "source": [
    "endtimes = []\n",
    "begintimes = []\n",
    "for i in range(len(All_Gs)):\n",
    "    for j in range((i+1),(len(All_Gs))):\n",
    "        year_diff = All_Gs[j][0]-All_Gs[i][0]\n",
    "        month_diff = All_Gs[j][1]-All_Gs[i][1]\n",
    "        day_diff = All_Gs[j][2]-All_Gs[i][2]\n",
    "        if((day_diff in range(0,5)) & (month_diff == 0) & (year_diff == 0)):\n",
    "            if All_Gs[j] not in endtimes:\n",
    "                endtimes.append(All_Gs[j])\n",
    "        elif((day_diff in range(-5,0)) & (month_diff == 0) & (year_diff == 0)):\n",
    "            if All_Gs[j] not in begintimes:\n",
    "                begintimes.append(All_Gs[j])"
   ]
  },
  {
   "cell_type": "code",
   "execution_count": null,
   "id": "471dd79b",
   "metadata": {
    "pycharm": {
     "name": "#%%\n"
    }
   },
   "outputs": [],
   "source": [
    "begintimes.sort()\n",
    "endtimes.sort()"
   ]
  },
  {
   "cell_type": "code",
   "execution_count": null,
   "id": "a659cf80",
   "metadata": {
    "pycharm": {
     "name": "#%%\n"
    }
   },
   "outputs": [],
   "source": [
    "All_Gs"
   ]
  },
  {
   "cell_type": "code",
   "execution_count": null,
   "id": "edb39b97",
   "metadata": {
    "pycharm": {
     "name": "#%%\n"
    }
   },
   "outputs": [],
   "source": [
    "begintimes"
   ]
  },
  {
   "cell_type": "code",
   "execution_count": null,
   "id": "449c9a5e",
   "metadata": {
    "pycharm": {
     "name": "#%%\n"
    }
   },
   "outputs": [],
   "source": [
    "endtimes"
   ]
  },
  {
   "cell_type": "code",
   "execution_count": null,
   "id": "57cbf2e1",
   "metadata": {
    "pycharm": {
     "name": "#%%\n"
    }
   },
   "outputs": [],
   "source": [
    "# remove = []\n",
    "# for i in range(len(removej)):\n",
    "#     if removej[i] not in remove:\n",
    "#         remove.append(removej[i])"
   ]
  },
  {
   "cell_type": "code",
   "execution_count": null,
   "id": "265f4b32",
   "metadata": {
    "pycharm": {
     "name": "#%%\n"
    }
   },
   "outputs": [],
   "source": []
  },
  {
   "cell_type": "code",
   "execution_count": null,
   "id": "f90868ab",
   "metadata": {
    "pycharm": {
     "name": "#%%\n"
    }
   },
   "outputs": [],
   "source": [
    "Reduce_All_Gs = All_Gs.copy()\n",
    "for i in range(len(removej)):\n",
    "    Reduce_All_Gs.remove(removej[i])"
   ]
  },
  {
   "cell_type": "code",
   "execution_count": null,
   "id": "0fda7312",
   "metadata": {
    "pycharm": {
     "name": "#%%\n"
    }
   },
   "outputs": [],
   "source": [
    "# Reduce_All_Gs"
   ]
  },
  {
   "cell_type": "code",
   "execution_count": null,
   "id": "85e7c9d0",
   "metadata": {
    "pycharm": {
     "name": "#%%\n"
    }
   },
   "outputs": [],
   "source": [
    "#Reduce_All_Gs.sort()"
   ]
  },
  {
   "cell_type": "code",
   "execution_count": null,
   "id": "4f58a5ed",
   "metadata": {
    "pycharm": {
     "name": "#%%\n"
    }
   },
   "outputs": [],
   "source": [
    "# Reduce_All_Gs"
   ]
  },
  {
   "cell_type": "code",
   "execution_count": null,
   "id": "3bf35136",
   "metadata": {
    "pycharm": {
     "name": "#%%\n"
    }
   },
   "outputs": [],
   "source": [
    "# print(len(All_Gs))\n",
    "# All_Gs"
   ]
  },
  {
   "cell_type": "code",
   "execution_count": null,
   "id": "7f331e9a",
   "metadata": {
    "pycharm": {
     "name": "#%%\n"
    }
   },
   "outputs": [],
   "source": [
    "# print(len(Reduce_All_Gs))\n",
    "# Reduce_All_Gs"
   ]
  },
  {
   "cell_type": "code",
   "execution_count": null,
   "id": "803bd370",
   "metadata": {
    "pycharm": {
     "name": "#%%\n"
    }
   },
   "outputs": [],
   "source": [
    "# All_Gs[0][10]\n",
    "#3 = kp1\n",
    "#10 = kp8"
   ]
  },
  {
   "cell_type": "code",
   "execution_count": null,
   "id": "3bc06c52",
   "metadata": {
    "pycharm": {
     "name": "#%%\n"
    }
   },
   "outputs": [],
   "source": [
    "new_G1 = []\n",
    "new_G2 = []\n",
    "new_G3 = []\n",
    "new_G4 = []\n",
    "new_G5 = []\n",
    "for i in range(len(Reduce_All_Gs)):\n",
    "    kp1_G1 = (Reduce_All_Gs[i][3] >= 5) & (Reduce_All_Gs[i][3]<6)\n",
    "    kp2_G1 = (Reduce_All_Gs[i][4] >= 5) & (Reduce_All_Gs[i][4]<6)\n",
    "    kp3_G1 = (Reduce_All_Gs[i][5] >= 5) & (Reduce_All_Gs[i][5]<6)\n",
    "    kp4_G1 = (Reduce_All_Gs[i][6] >= 5) & (Reduce_All_Gs[i][6]<6)\n",
    "    kp5_G1 = (Reduce_All_Gs[i][7] >= 5) & (Reduce_All_Gs[i][7]<6)\n",
    "    kp6_G1 = (Reduce_All_Gs[i][8] >= 5) & (Reduce_All_Gs[i][8]<6)\n",
    "    kp7_G1 = (Reduce_All_Gs[i][9] >= 5) & (Reduce_All_Gs[i][9]<6)\n",
    "    kp8_G1 = (Reduce_All_Gs[i][10] >= 5) & (Reduce_All_Gs[i][10]<6)\n",
    "    \n",
    "    kp1_G2 = (Reduce_All_Gs[i][3] >= 6) & (Reduce_All_Gs[i][3]<7)\n",
    "    kp2_G2 = (Reduce_All_Gs[i][4] >= 6) & (Reduce_All_Gs[i][4]<7)\n",
    "    kp3_G2 = (Reduce_All_Gs[i][5] >= 6) & (Reduce_All_Gs[i][5]<7)\n",
    "    kp4_G2 = (Reduce_All_Gs[i][6] >= 6) & (Reduce_All_Gs[i][6]<7)\n",
    "    kp5_G2 = (Reduce_All_Gs[i][7] >= 6) & (Reduce_All_Gs[i][7]<7)\n",
    "    kp6_G2 = (Reduce_All_Gs[i][8] >= 6) & (Reduce_All_Gs[i][8]<7)\n",
    "    kp7_G2 = (Reduce_All_Gs[i][9] >= 6) & (Reduce_All_Gs[i][9]<7)\n",
    "    kp8_G2 = (Reduce_All_Gs[i][10] >= 6) & (Reduce_All_Gs[i][10]<7)\n",
    "    \n",
    "    kp1_G3 = (Reduce_All_Gs[i][3] >= 7) & (Reduce_All_Gs[i][3]<8)\n",
    "    kp2_G3 = (Reduce_All_Gs[i][4] >= 7) & (Reduce_All_Gs[i][4]<8)\n",
    "    kp3_G3 = (Reduce_All_Gs[i][5] >= 7) & (Reduce_All_Gs[i][5]<8)\n",
    "    kp4_G3 = (Reduce_All_Gs[i][6] >= 7) & (Reduce_All_Gs[i][6]<8)\n",
    "    kp5_G3 = (Reduce_All_Gs[i][7] >= 7) & (Reduce_All_Gs[i][7]<8)\n",
    "    kp6_G3 = (Reduce_All_Gs[i][8] >= 7) & (Reduce_All_Gs[i][8]<8)\n",
    "    kp7_G3 = (Reduce_All_Gs[i][9] >= 7) & (Reduce_All_Gs[i][9]<8)\n",
    "    kp8_G3 = (Reduce_All_Gs[i][10] >= 7) & (Reduce_All_Gs[i][10]<8)\n",
    "    \n",
    "#     kp1_G34 = (Reduce_All_Gs[i][3] >= 7.5) & (Reduce_All_Gs[i][3]<8)\n",
    "#     kp2_G34 = (Reduce_All_Gs[i][4] >= 7.5) & (Reduce_All_Gs[i][4]<8)\n",
    "#     kp3_G34 = (Reduce_All_Gs[i][5] >= 7.5) & (Reduce_All_Gs[i][5]<8)\n",
    "#     kp4_G34 = (Reduce_All_Gs[i][6] >= 7.5) & (Reduce_All_Gs[i][6]<8)\n",
    "#     kp5_G34 = (Reduce_All_Gs[i][7] >= 7.5) & (Reduce_All_Gs[i][7]<8)\n",
    "#     kp6_G34 = (Reduce_All_Gs[i][8] >= 7.5) & (Reduce_All_Gs[i][8]<8)\n",
    "#     kp7_G34 = (Reduce_All_Gs[i][9] >= 7.5) & (Reduce_All_Gs[i][9]<8)\n",
    "#     kp8_G34 = (Reduce_All_Gs[i][10] >= 7.5) & (Reduce_All_Gs[i][10]<8)\n",
    "    \n",
    "    kp1_G4 = (Reduce_All_Gs[i][3] >= 8) & (Reduce_All_Gs[i][3]<=9)\n",
    "    kp2_G4 = (Reduce_All_Gs[i][4] >= 8) & (Reduce_All_Gs[i][4]<=9)\n",
    "    kp3_G4 = (Reduce_All_Gs[i][5] >= 8) & (Reduce_All_Gs[i][5]<=9)\n",
    "    kp4_G4 = (Reduce_All_Gs[i][6] >= 8) & (Reduce_All_Gs[i][6]<=9)\n",
    "    kp5_G4 = (Reduce_All_Gs[i][7] >= 8) & (Reduce_All_Gs[i][7]<=9)\n",
    "    kp6_G4 = (Reduce_All_Gs[i][8] >= 8) & (Reduce_All_Gs[i][8]<=9)\n",
    "    kp7_G4 = (Reduce_All_Gs[i][9] >= 8) & (Reduce_All_Gs[i][9]<=9)\n",
    "    kp8_G4 = (Reduce_All_Gs[i][10] >= 8) & (Reduce_All_Gs[i][10]<=9)\n",
    "    \n",
    "    kp1_G5 = (Reduce_All_Gs[i][3] > 9)\n",
    "    kp2_G5 = (Reduce_All_Gs[i][4] > 9)\n",
    "    kp3_G5 = (Reduce_All_Gs[i][5] > 9)\n",
    "    kp4_G5 = (Reduce_All_Gs[i][6] > 9)\n",
    "    kp5_G5 = (Reduce_All_Gs[i][7] > 9)\n",
    "    kp6_G5 = (Reduce_All_Gs[i][8] > 9)\n",
    "    kp7_G5 = (Reduce_All_Gs[i][9] > 9)\n",
    "    kp8_G5 = (Reduce_All_Gs[i][10] > 9)\n",
    "    \n",
    "    if(kp1_G5 | kp2_G5 | kp3_G5 | kp4_G5 | kp5_G5 | kp6_G5 | kp7_G5 | kp8_G5):\n",
    "        new_G5.append([Reduce_All_Gs[i][0],Reduce_All_Gs[i][1],Reduce_All_Gs[i][2],Reduce_All_Gs[i][3],Reduce_All_Gs[i][4],Reduce_All_Gs[i][5],Reduce_All_Gs[i][6], \\\n",
    "                  Reduce_All_Gs[i][7],Reduce_All_Gs[i][8],Reduce_All_Gs[i][9],Reduce_All_Gs[i][10]])\n",
    "    elif(kp1_G4 | kp2_G4 | kp3_G4 | kp4_G4 | kp5_G4 | kp6_G4 | kp7_G4 | kp8_G4):\n",
    "        new_G4.append([Reduce_All_Gs[i][0],Reduce_All_Gs[i][1],Reduce_All_Gs[i][2],Reduce_All_Gs[i][3],Reduce_All_Gs[i][4],Reduce_All_Gs[i][5],Reduce_All_Gs[i][6], \\\n",
    "                  Reduce_All_Gs[i][7],Reduce_All_Gs[i][8],Reduce_All_Gs[i][9],Reduce_All_Gs[i][10]])\n",
    "#     elif(kp1_G34 | kp2_G34 | kp3_G34 | kp4_G34 | kp5_G34 | kp6_G34 | kp7_G34 | kp8_G34):\n",
    "#         G34.append([Reduce_All_Gs[i][0],Reduce_All_Gs[i][1],Reduce_All_Gs[i][2],Reduce_All_Gs[i][3],Reduce_All_Gs[i][4],Reduce_All_Gs[i][5],Reduce_All_Gs[i][6], \\\n",
    "#                   Reduce_All_Gs[i][7],Reduce_All_Gs[i][8],Reduce_All_Gs[i][9],Reduce_All_Gs[i][10]])\n",
    "    elif(kp1_G3 | kp2_G3 | kp3_G3 | kp4_G3 | kp5_G3 | kp6_G3 | kp7_G3 | kp8_G3):\n",
    "        new_G3.append([Reduce_All_Gs[i][0],Reduce_All_Gs[i][1],Reduce_All_Gs[i][2],Reduce_All_Gs[i][3],Reduce_All_Gs[i][4],Reduce_All_Gs[i][5],Reduce_All_Gs[i][6], \\\n",
    "                  Reduce_All_Gs[i][7],Reduce_All_Gs[i][8],Reduce_All_Gs[i][9],Reduce_All_Gs[i][10]])\n",
    "    elif(kp1_G2 | kp2_G2 | kp3_G2 | kp4_G2 | kp5_G2 | kp6_G2 | kp7_G2 | kp8_G2):\n",
    "        new_G2.append([Reduce_All_Gs[i][0],Reduce_All_Gs[i][1],Reduce_All_Gs[i][2],Reduce_All_Gs[i][3],Reduce_All_Gs[i][4],Reduce_All_Gs[i][5],Reduce_All_Gs[i][6], \\\n",
    "                  Reduce_All_Gs[i][7],Reduce_All_Gs[i][8],Reduce_All_Gs[i][9],Reduce_All_Gs[i][10]])\n",
    "    elif(kp1_G1 | kp2_G1 | kp3_G1 | kp4_G1 | kp5_G1 | kp6_G1 | kp7_G1 | kp8_G1):\n",
    "        new_G1.append([Reduce_All_Gs[i][0],Reduce_All_Gs[i][1],Reduce_All_Gs[i][2],Reduce_All_Gs[i][3],Reduce_All_Gs[i][4],Reduce_All_Gs[i][5],Reduce_All_Gs[i][6], \\\n",
    "                  Reduce_All_Gs[i][7],Reduce_All_Gs[i][8],Reduce_All_Gs[i][9],Reduce_All_Gs[i][10]])"
   ]
  },
  {
   "cell_type": "code",
   "execution_count": null,
   "id": "87af7a6a",
   "metadata": {
    "pycharm": {
     "name": "#%%\n"
    }
   },
   "outputs": [],
   "source": []
  },
  {
   "cell_type": "code",
   "execution_count": null,
   "id": "4c33721a",
   "metadata": {
    "pycharm": {
     "name": "#%%\n"
    }
   },
   "outputs": [],
   "source": [
    "len(All_Gs)-len(Reduce_All_Gs)"
   ]
  },
  {
   "cell_type": "code",
   "execution_count": null,
   "id": "18f2a0c1",
   "metadata": {
    "pycharm": {
     "name": "#%%\n"
    }
   },
   "outputs": [],
   "source": [
    "len(begintimes) + len(endtimes)"
   ]
  },
  {
   "cell_type": "code",
   "execution_count": null,
   "id": "250129aa",
   "metadata": {
    "pycharm": {
     "name": "#%%\n"
    }
   },
   "outputs": [],
   "source": [
    "#new_G1"
   ]
  },
  {
   "cell_type": "code",
   "execution_count": null,
   "id": "3c29fd33",
   "metadata": {
    "pycharm": {
     "name": "#%%\n"
    }
   },
   "outputs": [],
   "source": [
    "len(new_G5)"
   ]
  },
  {
   "cell_type": "code",
   "execution_count": null,
   "id": "ecf49ccc",
   "metadata": {
    "pycharm": {
     "name": "#%%\n"
    }
   },
   "outputs": [],
   "source": [
    "937+637+311+176"
   ]
  },
  {
   "cell_type": "code",
   "execution_count": null,
   "id": "c16b6b10",
   "metadata": {
    "pycharm": {
     "name": "#%%\n"
    }
   },
   "outputs": [],
   "source": [
    "print(len(new_G1))\n",
    "print(len(new_G2))\n",
    "print(len(new_G3))\n",
    "print(len(new_G4))\n",
    "print(len(new_G5))"
   ]
  },
  {
   "cell_type": "code",
   "execution_count": null,
   "id": "10cb35c1",
   "metadata": {
    "pycharm": {
     "name": "#%%\n"
    }
   },
   "outputs": [],
   "source": [
    "new_All_Gs = new_G4 + new_G3 + new_G2 + new_G1"
   ]
  },
  {
   "cell_type": "code",
   "execution_count": null,
   "id": "ca81c7e1",
   "metadata": {
    "pycharm": {
     "name": "#%%\n"
    }
   },
   "outputs": [],
   "source": [
    "new_All_Gs.sort()"
   ]
  },
  {
   "cell_type": "code",
   "execution_count": null,
   "id": "9167911c",
   "metadata": {
    "pycharm": {
     "name": "#%%\n"
    }
   },
   "outputs": [],
   "source": [
    "#i to i+1, find time difference"
   ]
  },
  {
   "cell_type": "code",
   "execution_count": null,
   "id": "690e9336",
   "metadata": {
    "pycharm": {
     "name": "#%%\n"
    }
   },
   "outputs": [],
   "source": [
    "new_All_Gs"
   ]
  },
  {
   "cell_type": "code",
   "execution_count": null,
   "id": "054a43bb",
   "metadata": {
    "pycharm": {
     "name": "#%%\n"
    }
   },
   "outputs": [],
   "source": [
    "first_cycle = []\n",
    "second_cycle = []\n",
    "third_cycle = []\n",
    "fourth_cycle = []\n",
    "fifth_cycle = []\n",
    "sixth_cycle = []\n",
    "seventh_cycle = []\n",
    "eighth_cycle = []\n",
    "for i in range(len(new_All_Gs)):\n",
    "    if new_All_Gs[i][0] in range(1933,1944):\n",
    "        first_cycle.append(new_All_Gs[i])\n",
    "    elif new_All_Gs[i][0] in range(1944,1954):\n",
    "        second_cycle.append(new_All_Gs[i])\n",
    "    elif new_All_Gs[i][0] in range(1954,1965):\n",
    "        third_cycle.append(new_All_Gs[i])\n",
    "    elif new_All_Gs[i][0] in range(1965,1976):\n",
    "        fourth_cycle.append(new_All_Gs[i])\n",
    "    elif new_All_Gs[i][0] in range(1976,1986):\n",
    "        fifth_cycle.append(new_All_Gs[i])\n",
    "    elif new_All_Gs[i][0] in range(1986,1997):\n",
    "        sixth_cycle.append(new_All_Gs[i])\n",
    "    elif new_All_Gs[i][0] in range(1997,2009):\n",
    "        seventh_cycle.append(new_All_Gs[i])\n",
    "    elif new_All_Gs[i][0] in range(2009,2020):\n",
    "        eighth_cycle.append(new_All_Gs[i])"
   ]
  },
  {
   "cell_type": "code",
   "execution_count": null,
   "id": "0fa4d86a",
   "metadata": {
    "pycharm": {
     "name": "#%%\n"
    }
   },
   "outputs": [],
   "source": [
    "first_cycle_begin = []\n",
    "second_cycle_begin = []\n",
    "third_cycle_begin = []\n",
    "fourth_cycle_begin = []\n",
    "fifth_cycle_begin = []\n",
    "sixth_cycle_begin = []\n",
    "seventh_cycle_begin = []\n",
    "eighth_cycle_begin = []\n",
    "for i in range(len(begintimes)):\n",
    "    if begintimes[i][0] in range(1933,1944):\n",
    "        first_cycle_begin.append(begintimes[i])\n",
    "    elif begintimes[i][0] in range(1944,1954):\n",
    "        second_cycle_begin.append(begintimes[i])\n",
    "    elif begintimes[i][0] in range(1954,1965):\n",
    "        third_cycle_begin.append(begintimes[i])\n",
    "    elif begintimes[i][0] in range(1965,1976):\n",
    "        fourth_cycle_begin.append(begintimes[i])\n",
    "    elif begintimes[i][0] in range(1976,1986):\n",
    "        fifth_cycle_begin.append(begintimes[i])\n",
    "    elif begintimes[i][0] in range(1986,1997):\n",
    "        sixth_cycle_begin.append(begintimes[i])\n",
    "    elif begintimes[i][0] in range(1997,2009):\n",
    "        seventh_cycle_begin.append(begintimes[i])\n",
    "    elif begintimes[i][0] in range(2009,2020):\n",
    "        eighth_cycle_begin.append(begintimes[i])"
   ]
  },
  {
   "cell_type": "code",
   "execution_count": null,
   "id": "b5812d3d",
   "metadata": {
    "pycharm": {
     "name": "#%%\n"
    }
   },
   "outputs": [],
   "source": [
    "first_cycle_end = []\n",
    "second_cycle_end = []\n",
    "third_cycle_end = []\n",
    "fourth_cycle_end = []\n",
    "fifth_cycle_end = []\n",
    "sixth_cycle_end = []\n",
    "seventh_cycle_end = []\n",
    "eighth_cycle_end = []\n",
    "for i in range(len(endtimes)):\n",
    "    if endtimes[i][0] in range(1933,1944):\n",
    "        first_cycle_end.append(endtimes[i])\n",
    "    elif endtimes[i][0] in range(1944,1954):\n",
    "        second_cycle_end.append(endtimes[i])\n",
    "    elif endtimes[i][0] in range(1954,1965):\n",
    "        third_cycle_end.append(endtimes[i])\n",
    "    elif endtimes[i][0] in range(1965,1976):\n",
    "        fourth_cycle_end.append(endtimes[i])\n",
    "    elif endtimes[i][0] in range(1976,1986):\n",
    "        fifth_cycle_end.append(endtimes[i])\n",
    "    elif endtimes[i][0] in range(1986,1997):\n",
    "        sixth_cycle_end.append(endtimes[i])\n",
    "    elif endtimes[i][0] in range(1997,2009):\n",
    "        seventh_cycle_end.append(endtimes[i])\n",
    "    elif endtimes[i][0] in range(2009,2020):\n",
    "        eighth_cycle_end.append(endtimes[i])"
   ]
  },
  {
   "cell_type": "code",
   "execution_count": null,
   "id": "0e391759",
   "metadata": {
    "pycharm": {
     "name": "#%%\n"
    }
   },
   "outputs": [],
   "source": []
  },
  {
   "cell_type": "markdown",
   "id": "2a9584ea",
   "metadata": {
    "pycharm": {
     "name": "#%% md\n"
    }
   },
   "source": [
    "### G1"
   ]
  },
  {
   "cell_type": "code",
   "execution_count": null,
   "id": "ec9c218b",
   "metadata": {
    "pycharm": {
     "name": "#%%\n"
    }
   },
   "outputs": [],
   "source": [
    "different_years_new_G1 = 1\n",
    "temp = new_G1[0][0]\n",
    "new_G1_years = []\n",
    "new_G1_years.append(temp)\n",
    "for i in range(len(new_G1)):\n",
    "    if(new_G1[i][0]>temp):\n",
    "        temp = new_G1[i][0]\n",
    "        new_G1_years.append(new_G1[i][0])\n",
    "        different_years_new_G1 += 1"
   ]
  },
  {
   "cell_type": "code",
   "execution_count": null,
   "id": "4ee7b232",
   "metadata": {
    "pycharm": {
     "name": "#%%\n"
    }
   },
   "outputs": [],
   "source": [
    "count_new_G1_peryear = []\n",
    "for i in range(len(new_G1_years)):\n",
    "    count1 = 0\n",
    "    for j in range(len(new_G1)):\n",
    "        if((new_G1[j][0] == new_G1_years[i])):\n",
    "            count1 += 1\n",
    "    count_new_G1_peryear.append([new_G1_years[i], count1])"
   ]
  },
  {
   "cell_type": "code",
   "execution_count": null,
   "id": "ba4d7be2",
   "metadata": {
    "pycharm": {
     "name": "#%%\n"
    }
   },
   "outputs": [],
   "source": [
    "years = []\n",
    "new_G1_count = []\n",
    "for i in range(len(count_new_G1_peryear)):\n",
    "    years.append(count_new_G1_peryear[i][0])\n",
    "    new_G1_count.append(count_new_G1_peryear[i][1])\n",
    "    #plt.scatter(count_G1_peryear[i][0],count_G1_peryear[i][1], c = 'blue')\n",
    "plt.plot(years,new_G1_count)\n",
    "plt.yticks(np.arange(0,22,step = 2))\n",
    "#yaxis.set_major_locator(MaxNLocator(integer=True))\n",
    "plt.show()"
   ]
  },
  {
   "cell_type": "code",
   "execution_count": null,
   "id": "32f2a032",
   "metadata": {
    "pycharm": {
     "name": "#%%\n"
    }
   },
   "outputs": [],
   "source": [
    "#plt.figure(figsize = (14,11),facecolor=(1, 1, 1))\n",
    "bin1 = 1000\n",
    "s, bins, patches = plt.hist(new_G1_count, bins=bin1, alpha = 1)\n",
    "plt.xlabel('G1_Storms', fontsize = 20)\n",
    "plt.title('Number of G1 storms')"
   ]
  },
  {
   "cell_type": "code",
   "execution_count": null,
   "id": "41687c5c",
   "metadata": {
    "pycharm": {
     "name": "#%%\n"
    }
   },
   "outputs": [],
   "source": [
    "pmf, bins = np.histogram(new_G1_count, bins=100, density=True)"
   ]
  },
  {
   "cell_type": "code",
   "execution_count": null,
   "id": "77794e32",
   "metadata": {
    "pycharm": {
     "name": "#%%\n"
    }
   },
   "outputs": [],
   "source": [
    "pmf, bins = np.histogram(new_G1_count, bins=100, density=True)\n",
    "x = np.linspace(min(new_G1_count),max(new_G1_count), num=100)\n",
    "plt.plot(x,pmf)"
   ]
  },
  {
   "cell_type": "code",
   "execution_count": null,
   "id": "05eddc5d",
   "metadata": {
    "pycharm": {
     "name": "#%%\n"
    }
   },
   "outputs": [],
   "source": [
    "import scipy\n",
    "y = scipy.stats.norm.cdf(pmf)\n",
    "plt.plot(y)"
   ]
  },
  {
   "cell_type": "code",
   "execution_count": null,
   "id": "286f3e07",
   "metadata": {
    "pycharm": {
     "name": "#%%\n"
    }
   },
   "outputs": [],
   "source": [
    "# num_bins = 100\n",
    "# bin_widths = np.diff(bins)\n",
    "# bin_centers = bins[:-1] + bin_widths / 2\n",
    "# pdf_new_G1 = pmf\n",
    "# pdf_new_G1 = s / (sum(s) * bin_widths)\n",
    "\n",
    "# # Calculate CDF from PDF\n",
    "# cdf_new_G1 = np.cumsum(pdf_new_G1 * bin_widths)\n",
    "\n",
    "# # Plot the CDF\n",
    "# plt.plot(bin_centers, cdf_new_G1, color='red', linewidth=2)\n",
    "\n",
    "# # Add labels and title\n",
    "# plt.xlabel('Temperature',fontsize = 20)\n",
    "# plt.ylabel('Cumulative Probability',fontsize = 20)\n",
    "# plt.title('CDF G1')\n",
    "# # Show the plot\n",
    "# plt.show()"
   ]
  },
  {
   "cell_type": "code",
   "execution_count": null,
   "id": "60a3aa3a",
   "metadata": {
    "pycharm": {
     "name": "#%%\n"
    }
   },
   "outputs": [],
   "source": [
    "import math\n",
    "from scipy.stats import gaussian_kde\n",
    "#plt.figure(figsize = (14,11),facecolor=(1, 1, 1))\n",
    "\n",
    "kde = gaussian_kde(new_G1_count)\n",
    "x = np.linspace(min(new_G1_count),max(new_G1_count), num=1000)\n",
    "\n",
    "pdf = kde(x)\n",
    "\n",
    "plt.plot(x,pdf,color='red',linewidth=2)\n",
    "plt.xlabel('Temperature', fontsize = 20)\n",
    "plt.title('PDF G1')"
   ]
  },
  {
   "cell_type": "code",
   "execution_count": null,
   "id": "fea29c44",
   "metadata": {
    "pycharm": {
     "name": "#%%\n"
    }
   },
   "outputs": [],
   "source": [
    "#plt.figure(figsize = (14,11),facecolor=(1, 1, 1))\n",
    "# num_bins = 1000\n",
    "# bin_widths = np.diff(bins)\n",
    "# bin_centers = bins[:-1] + bin_widths / 2\n",
    "# pdf_new_G1 = s / (sum(s) * bin_widths)\n",
    "\n",
    "# # Calculate CDF from PDF\n",
    "# cdf_new_G1 = np.cumsum(pdf_new_G1 * bin_widths)\n",
    "\n",
    "# # Plot the CDF\n",
    "# plt.plot(bin_centers, cdf_new_G1, color='red', linewidth=2)\n",
    "\n",
    "# # Add labels and title\n",
    "# plt.xlabel('Temperature',fontsize = 20)\n",
    "# plt.ylabel('Cumulative Probability',fontsize = 20)\n",
    "# plt.title('CDF G1')\n",
    "# # Show the plot\n",
    "# plt.show()"
   ]
  },
  {
   "cell_type": "markdown",
   "id": "bdca47a7",
   "metadata": {
    "pycharm": {
     "name": "#%% md\n"
    }
   },
   "source": [
    "### G2"
   ]
  },
  {
   "cell_type": "code",
   "execution_count": null,
   "id": "bdb12d41",
   "metadata": {
    "pycharm": {
     "name": "#%%\n"
    }
   },
   "outputs": [],
   "source": [
    "different_years_new_G2 = 1\n",
    "temp = new_G2[0][0]\n",
    "new_G2_years = []\n",
    "new_G2_years.append(temp)\n",
    "for i in range(len(new_G2)):\n",
    "    if(new_G2[i][0]>temp):\n",
    "        temp = new_G2[i][0]\n",
    "        new_G2_years.append(new_G2[i][0])\n",
    "        different_years_new_G2 += 1"
   ]
  },
  {
   "cell_type": "code",
   "execution_count": null,
   "id": "f75ec8a9",
   "metadata": {
    "pycharm": {
     "name": "#%%\n"
    }
   },
   "outputs": [],
   "source": [
    "count_new_G2_peryear = []\n",
    "for i in range(len(new_G2_years)):\n",
    "    count1 = 0\n",
    "    for j in range(len(new_G2)):\n",
    "        if((new_G2[j][0] == new_G2_years[i])):\n",
    "            count1 += 1\n",
    "    count_new_G2_peryear.append([new_G2_years[i], count1])"
   ]
  },
  {
   "cell_type": "code",
   "execution_count": null,
   "id": "aa76df61",
   "metadata": {
    "pycharm": {
     "name": "#%%\n"
    }
   },
   "outputs": [],
   "source": [
    "years = []\n",
    "new_G2_count = []\n",
    "for i in range(len(count_new_G2_peryear)):\n",
    "    years.append(count_new_G2_peryear[i][0])\n",
    "    new_G2_count.append(count_new_G2_peryear[i][1])\n",
    "    #plt.scatter(count_G2_peryear[i][0],count_G2_peryear[i][1], c = 'blue')\n",
    "plt.plot(years,new_G2_count)"
   ]
  },
  {
   "cell_type": "code",
   "execution_count": null,
   "id": "a4fa3033",
   "metadata": {
    "pycharm": {
     "name": "#%%\n"
    }
   },
   "outputs": [],
   "source": [
    "#plt.figure(figsize = (14,11),facecolor=(1, 1, 1))\n",
    "bin1 = 1000\n",
    "s, bins, patches = plt.hist(new_G2_count, bins=bin1, alpha = 1)\n",
    "plt.xlabel('G2_Storms', fontsize = 20)\n",
    "plt.title('Number of G2 storms')"
   ]
  },
  {
   "cell_type": "code",
   "execution_count": null,
   "id": "5ca48ed9",
   "metadata": {
    "pycharm": {
     "name": "#%%\n"
    }
   },
   "outputs": [],
   "source": [
    "import math\n",
    "from scipy.stats import gaussian_kde\n",
    "#plt.figure(figsize = (14,11),facecolor=(1, 1, 1))\n",
    "\n",
    "kde = gaussian_kde(new_G2_count)\n",
    "x = np.linspace(min(new_G2_count),max(new_G2_count), num=1000)\n",
    "\n",
    "pdf = kde(x)\n",
    "\n",
    "plt.plot(x,pdf,color='red',linewidth=2)\n",
    "plt.xlabel('Temperature', fontsize = 20)\n",
    "plt.title('PDF G2')"
   ]
  },
  {
   "cell_type": "code",
   "execution_count": null,
   "id": "c1a636a4",
   "metadata": {
    "pycharm": {
     "name": "#%%\n"
    }
   },
   "outputs": [],
   "source": [
    "#plt.figure(figsize = (14,11),facecolor=(1, 1, 1))\n",
    "num_bins = 1000\n",
    "bin_widths = np.diff(bins)\n",
    "bin_centers = bins[:-1] + bin_widths / 2\n",
    "pdf_new_G2 = s / (sum(s) * bin_widths)\n",
    "\n",
    "# Calculate CDF from PDF\n",
    "cdf_new_G2 = np.cumsum(pdf_new_G2 * bin_widths)\n",
    "\n",
    "# Plot the CDF\n",
    "plt.plot(bin_centers, cdf_new_G2, color='red', linewidth=2)\n",
    "\n",
    "# Add labels and title\n",
    "plt.xlabel('Temperature',fontsize = 20)\n",
    "plt.ylabel('Cumulative Probability',fontsize = 20)\n",
    "plt.title('CDF G2')\n",
    "# Show the plot\n",
    "plt.show()"
   ]
  },
  {
   "cell_type": "markdown",
   "id": "e5c2156c",
   "metadata": {
    "pycharm": {
     "name": "#%% md\n"
    }
   },
   "source": [
    "### G3"
   ]
  },
  {
   "cell_type": "code",
   "execution_count": null,
   "id": "cbe274d1",
   "metadata": {
    "pycharm": {
     "name": "#%%\n"
    }
   },
   "outputs": [],
   "source": [
    "different_years_new_G3 = 1\n",
    "temp = new_G3[0][0]\n",
    "new_G3_years = []\n",
    "new_G3_years.append(temp)\n",
    "for i in range(len(new_G3)):\n",
    "    if(new_G3[i][0]>temp):\n",
    "        temp = new_G3[i][0]\n",
    "        new_G3_years.append(new_G3[i][0])\n",
    "        different_years_new_G3 += 1"
   ]
  },
  {
   "cell_type": "code",
   "execution_count": null,
   "id": "e4a9ff0b",
   "metadata": {
    "pycharm": {
     "name": "#%%\n"
    }
   },
   "outputs": [],
   "source": [
    "count_new_G3_peryear = []\n",
    "for i in range(len(new_G3_years)):\n",
    "    count1 = 0\n",
    "    for j in range(len(new_G3)):\n",
    "        if((new_G3[j][0] == new_G3_years[i])):\n",
    "            count1 += 1\n",
    "    count_new_G3_peryear.append([new_G3_years[i], count1])"
   ]
  },
  {
   "cell_type": "code",
   "execution_count": null,
   "id": "559436e8",
   "metadata": {
    "pycharm": {
     "name": "#%%\n"
    }
   },
   "outputs": [],
   "source": [
    "years = []\n",
    "new_G3_count = []\n",
    "for i in range(len(count_new_G3_peryear)):\n",
    "    years.append(count_new_G3_peryear[i][0])\n",
    "    new_G3_count.append(count_new_G3_peryear[i][1])\n",
    "    #plt.scatter(count_G3_peryear[i][0],count_G3_peryear[i][1], c = 'blue')\n",
    "plt.plot(years,new_G3_count)"
   ]
  },
  {
   "cell_type": "code",
   "execution_count": null,
   "id": "b19642ee",
   "metadata": {
    "pycharm": {
     "name": "#%%\n"
    }
   },
   "outputs": [],
   "source": [
    "#plt.figure(figsize = (14,11),facecolor=(1, 1, 1))\n",
    "bin1 = 1000\n",
    "s, bins, patches = plt.hist(new_G3_count, bins=bin1, alpha = 1)\n",
    "plt.xlabel('G3_Storms', fontsize = 20)\n",
    "plt.title('Number of G3 storms')"
   ]
  },
  {
   "cell_type": "code",
   "execution_count": null,
   "id": "aba99bca",
   "metadata": {
    "pycharm": {
     "name": "#%%\n"
    }
   },
   "outputs": [],
   "source": [
    "import math\n",
    "from scipy.stats import gaussian_kde\n",
    "#plt.figure(figsize = (14,11),facecolor=(1, 1, 1))\n",
    "\n",
    "kde = gaussian_kde(new_G3_count)\n",
    "x = np.linspace(min(new_G3_count),max(new_G3_count), num=1000)\n",
    "\n",
    "pdf = kde(x)\n",
    "\n",
    "plt.plot(x,pdf,color='red',linewidth=2)\n",
    "plt.xlabel('Temperature', fontsize = 20)\n",
    "plt.title('PDF G3')"
   ]
  },
  {
   "cell_type": "code",
   "execution_count": null,
   "id": "fb75276a",
   "metadata": {
    "pycharm": {
     "name": "#%%\n"
    }
   },
   "outputs": [],
   "source": [
    "#plt.figure(figsize = (14,11),facecolor=(1, 1, 1))\n",
    "num_bins = 1000\n",
    "bin_widths = np.diff(bins)\n",
    "bin_centers = bins[:-1] + bin_widths / 2\n",
    "pdf_new_G3 = s / (sum(s) * bin_widths)\n",
    "\n",
    "# Calculate CDF from PDF\n",
    "cdf_new_G3 = np.cumsum(pdf_new_G3 * bin_widths)\n",
    "\n",
    "# Plot the CDF\n",
    "plt.plot(bin_centers, cdf_new_G3, color='red', linewidth=2)\n",
    "\n",
    "# Add labels and title\n",
    "plt.xlabel('Temperature',fontsize = 20)\n",
    "plt.ylabel('Cumulative Probability',fontsize = 20)\n",
    "plt.title('CDF G3')\n",
    "# Show the plot\n",
    "plt.show()"
   ]
  },
  {
   "cell_type": "markdown",
   "id": "9deafaeb",
   "metadata": {
    "pycharm": {
     "name": "#%% md\n"
    }
   },
   "source": [
    "### G4"
   ]
  },
  {
   "cell_type": "code",
   "execution_count": null,
   "id": "acf08633",
   "metadata": {
    "pycharm": {
     "name": "#%%\n"
    }
   },
   "outputs": [],
   "source": [
    "different_years_new_G4 = 1\n",
    "temp = new_G4[0][0]\n",
    "new_G4_years = []\n",
    "new_G4_years.append(temp)\n",
    "for i in range(len(new_G4)):\n",
    "    if(new_G4[i][0]>temp):\n",
    "        temp = new_G4[i][0]\n",
    "        new_G4_years.append(new_G4[i][0])\n",
    "        different_years_new_G4 += 1"
   ]
  },
  {
   "cell_type": "code",
   "execution_count": null,
   "id": "0470c45a",
   "metadata": {
    "pycharm": {
     "name": "#%%\n"
    }
   },
   "outputs": [],
   "source": [
    "count_new_G4_peryear = []\n",
    "for i in range(len(new_G4_years)):\n",
    "    count1 = 0\n",
    "    for j in range(len(new_G4)):\n",
    "        if((new_G4[j][0] == new_G4_years[i])):\n",
    "            count1 += 1\n",
    "    count_new_G4_peryear.append([new_G4_years[i], count1])"
   ]
  },
  {
   "cell_type": "code",
   "execution_count": null,
   "id": "69217950",
   "metadata": {
    "pycharm": {
     "name": "#%%\n"
    }
   },
   "outputs": [],
   "source": [
    "years = []\n",
    "new_G4_count = []\n",
    "for i in range(len(count_new_G4_peryear)):\n",
    "    years.append(count_new_G4_peryear[i][0])\n",
    "    new_G4_count.append(count_new_G4_peryear[i][1])\n",
    "    #plt.scatter(count_G4_peryear[i][0],count_G4_peryear[i][1], c = 'blue')\n",
    "plt.plot(years,new_G4_count)"
   ]
  },
  {
   "cell_type": "code",
   "execution_count": null,
   "id": "bd87157e",
   "metadata": {
    "pycharm": {
     "name": "#%%\n"
    }
   },
   "outputs": [],
   "source": [
    "#plt.figure(figsize = (14,11),facecolor=(1, 1, 1))\n",
    "bin1 = 1000\n",
    "s, bins, patches = plt.hist(new_G4_count, bins=bin1, alpha = 1)\n",
    "plt.xlabel('G4_Storms', fontsize = 20)\n",
    "plt.title('Number of G4 storms')"
   ]
  },
  {
   "cell_type": "code",
   "execution_count": null,
   "id": "ef78866e",
   "metadata": {
    "pycharm": {
     "name": "#%%\n"
    }
   },
   "outputs": [],
   "source": [
    "import math\n",
    "from scipy.stats import gaussian_kde\n",
    "#plt.figure(figsize = (14,11),facecolor=(1, 1, 1))\n",
    "\n",
    "kde = gaussian_kde(new_G4_count)\n",
    "x = np.linspace(min(new_G4_count),max(new_G4_count), num=1000)\n",
    "\n",
    "pdf = kde(x)\n",
    "\n",
    "plt.plot(x,pdf,color='red',linewidth=2)\n",
    "plt.xlabel('Temperature', fontsize = 20)\n",
    "plt.title('PDF G4')"
   ]
  },
  {
   "cell_type": "code",
   "execution_count": null,
   "id": "a48ba44e",
   "metadata": {
    "pycharm": {
     "name": "#%%\n"
    }
   },
   "outputs": [],
   "source": [
    "#plt.figure(figsize = (14,11),facecolor=(1, 1, 1))\n",
    "num_bins = 1000\n",
    "bin_widths = np.diff(bins)\n",
    "bin_centers = bins[:-1] + bin_widths / 2\n",
    "pdf_new_G4 = s / (sum(s) * bin_widths)\n",
    "\n",
    "# Calculate CDF from PDF\n",
    "cdf_new_G4 = np.cumsum(pdf_new_G4 * bin_widths)\n",
    "\n",
    "# Plot the CDF\n",
    "plt.plot(bin_centers, cdf_new_G4, color='red', linewidth=2)\n",
    "\n",
    "# Add labels and title\n",
    "plt.xlabel('Temperature',fontsize = 20)\n",
    "plt.ylabel('Cumulative Probability',fontsize = 20)\n",
    "plt.title('CDF G4')\n",
    "# Show the plot\n",
    "plt.show()"
   ]
  },
  {
   "cell_type": "code",
   "execution_count": null,
   "id": "b8265edf",
   "metadata": {
    "pycharm": {
     "name": "#%%\n"
    }
   },
   "outputs": [],
   "source": [
    "GStorms = len(Reduce_All_Gs)\n",
    "G1s = len(new_G1)\n",
    "G2s = len(new_G2)\n",
    "G3s = len(new_G3)\n",
    "G4s = len(new_G4)"
   ]
  },
  {
   "cell_type": "code",
   "execution_count": null,
   "id": "65b37453",
   "metadata": {
    "pycharm": {
     "name": "#%%\n"
    }
   },
   "outputs": [],
   "source": [
    "pG1 = G1s/GStorms\n",
    "pG2 = G2s/GStorms\n",
    "pG3 = G3s/GStorms\n",
    "pG4 = G4s/GStorms"
   ]
  },
  {
   "cell_type": "code",
   "execution_count": null,
   "id": "1b45dc1e",
   "metadata": {
    "pycharm": {
     "name": "#%%\n"
    }
   },
   "outputs": [],
   "source": [
    "print(pG1)\n",
    "print(pG2)\n",
    "print(pG3)\n",
    "print(pG4)"
   ]
  },
  {
   "cell_type": "code",
   "execution_count": null,
   "id": "cb2a5368",
   "metadata": {
    "pycharm": {
     "name": "#%%\n"
    }
   },
   "outputs": [],
   "source": [
    "new_G4"
   ]
  },
  {
   "cell_type": "markdown",
   "id": "7f2c66b6",
   "metadata": {
    "pycharm": {
     "name": "#%% md\n"
    }
   },
   "source": [
    "## Cycles"
   ]
  },
  {
   "cell_type": "code",
   "execution_count": null,
   "id": "fb476196",
   "metadata": {
    "pycharm": {
     "name": "#%%\n"
    }
   },
   "outputs": [],
   "source": [
    "first_cycle_G1 = []\n",
    "first_cycle_G2 = []\n",
    "first_cycle_G3 = []\n",
    "first_cycle_G4 = []\n",
    "first_cycle_G5 = []\n",
    "for i in range(len(first_cycle)):\n",
    "    kp1_G1 = (first_cycle[i][3] >= 5) & (first_cycle[i][3]<6)\n",
    "    kp2_G1 = (first_cycle[i][4] >= 5) & (first_cycle[i][4]<6)\n",
    "    kp3_G1 = (first_cycle[i][5] >= 5) & (first_cycle[i][5]<6)\n",
    "    kp4_G1 = (first_cycle[i][6] >= 5) & (first_cycle[i][6]<6)\n",
    "    kp5_G1 = (first_cycle[i][7] >= 5) & (first_cycle[i][7]<6)\n",
    "    kp6_G1 = (first_cycle[i][8] >= 5) & (first_cycle[i][8]<6)\n",
    "    kp7_G1 = (first_cycle[i][9] >= 5) & (first_cycle[i][9]<6)\n",
    "    kp8_G1 = (first_cycle[i][10] >= 5) & (first_cycle[i][10]<6)\n",
    "    \n",
    "    kp1_G2 = (first_cycle[i][3] >= 6) & (first_cycle[i][3]<7)\n",
    "    kp2_G2 = (first_cycle[i][4] >= 6) & (first_cycle[i][4]<7)\n",
    "    kp3_G2 = (first_cycle[i][5] >= 6) & (first_cycle[i][5]<7)\n",
    "    kp4_G2 = (first_cycle[i][6] >= 6) & (first_cycle[i][6]<7)\n",
    "    kp5_G2 = (first_cycle[i][7] >= 6) & (first_cycle[i][7]<7)\n",
    "    kp6_G2 = (first_cycle[i][8] >= 6) & (first_cycle[i][8]<7)\n",
    "    kp7_G2 = (first_cycle[i][9] >= 6) & (first_cycle[i][9]<7)\n",
    "    kp8_G2 = (first_cycle[i][10] >= 6) & (first_cycle[i][10]<7)\n",
    "    \n",
    "    kp1_G3 = (first_cycle[i][3] >= 7) & (first_cycle[i][3]<8)\n",
    "    kp2_G3 = (first_cycle[i][4] >= 7) & (first_cycle[i][4]<8)\n",
    "    kp3_G3 = (first_cycle[i][5] >= 7) & (first_cycle[i][5]<8)\n",
    "    kp4_G3 = (first_cycle[i][6] >= 7) & (first_cycle[i][6]<8)\n",
    "    kp5_G3 = (first_cycle[i][7] >= 7) & (first_cycle[i][7]<8)\n",
    "    kp6_G3 = (first_cycle[i][8] >= 7) & (first_cycle[i][8]<8)\n",
    "    kp7_G3 = (first_cycle[i][9] >= 7) & (first_cycle[i][9]<8)\n",
    "    kp8_G3 = (first_cycle[i][10] >= 7) & (first_cycle[i][10]<8)\n",
    "    \n",
    "#     kp1_G34 = (first_cycle[i][3] >= 7.5) & (first_cycle[i][3]<8)\n",
    "#     kp2_G34 = (first_cycle[i][4] >= 7.5) & (first_cycle[i][4]<8)\n",
    "#     kp3_G34 = (first_cycle[i][5] >= 7.5) & (first_cycle[i][5]<8)\n",
    "#     kp4_G34 = (first_cycle[i][6] >= 7.5) & (first_cycle[i][6]<8)\n",
    "#     kp5_G34 = (first_cycle[i][7] >= 7.5) & (first_cycle[i][7]<8)\n",
    "#     kp6_G34 = (first_cycle[i][8] >= 7.5) & (first_cycle[i][8]<8)\n",
    "#     kp7_G34 = (first_cycle[i][9] >= 7.5) & (first_cycle[i][9]<8)\n",
    "#     kp8_G34 = (first_cycle[i][10] >= 7.5) & (first_cycle[i][10]<8)\n",
    "    \n",
    "    kp1_G4 = (first_cycle[i][3] >= 8) & (first_cycle[i][3]<=9)\n",
    "    kp2_G4 = (first_cycle[i][4] >= 8) & (first_cycle[i][4]<=9)\n",
    "    kp3_G4 = (first_cycle[i][5] >= 8) & (first_cycle[i][5]<=9)\n",
    "    kp4_G4 = (first_cycle[i][6] >= 8) & (first_cycle[i][6]<=9)\n",
    "    kp5_G4 = (first_cycle[i][7] >= 8) & (first_cycle[i][7]<=9)\n",
    "    kp6_G4 = (first_cycle[i][8] >= 8) & (first_cycle[i][8]<=9)\n",
    "    kp7_G4 = (first_cycle[i][9] >= 8) & (first_cycle[i][9]<=9)\n",
    "    kp8_G4 = (first_cycle[i][10] >= 8) & (first_cycle[i][10]<=9)\n",
    "    \n",
    "    kp1_G5 = (first_cycle[i][3] > 9)\n",
    "    kp2_G5 = (first_cycle[i][4] > 9)\n",
    "    kp3_G5 = (first_cycle[i][5] > 9)\n",
    "    kp4_G5 = (first_cycle[i][6] > 9)\n",
    "    kp5_G5 = (first_cycle[i][7] > 9)\n",
    "    kp6_G5 = (first_cycle[i][8] > 9)\n",
    "    kp7_G5 = (first_cycle[i][9] > 9)\n",
    "    kp8_G5 = (first_cycle[i][10] > 9)\n",
    "    \n",
    "    if(kp1_G5 | kp2_G5 | kp3_G5 | kp4_G5 | kp5_G5 | kp6_G5 | kp7_G5 | kp8_G5):\n",
    "        first_cycle_G5.append([first_cycle[i][0],first_cycle[i][1],first_cycle[i][2],first_cycle[i][3],first_cycle[i][4],first_cycle[i][5],first_cycle[i][6], \\\n",
    "                  first_cycle[i][7],first_cycle[i][8],first_cycle[i][9],first_cycle[i][10]])\n",
    "    elif(kp1_G4 | kp2_G4 | kp3_G4 | kp4_G4 | kp5_G4 | kp6_G4 | kp7_G4 | kp8_G4):\n",
    "        first_cycle_G4.append([first_cycle[i][0],first_cycle[i][1],first_cycle[i][2],first_cycle[i][3],first_cycle[i][4],first_cycle[i][5],first_cycle[i][6], \\\n",
    "                  first_cycle[i][7],first_cycle[i][8],first_cycle[i][9],first_cycle[i][10]])\n",
    "#     elif(kp1_G34 | kp2_G34 | kp3_G34 | kp4_G34 | kp5_G34 | kp6_G34 | kp7_G34 | kp8_G34):\n",
    "#         G34.append([first_cycle[i][0],first_cycle[i][1],first_cycle[i][2],first_cycle[i][3],first_cycle[i][4],first_cycle[i][5],first_cycle[i][6], \\\n",
    "#                   first_cycle[i][7],first_cycle[i][8],first_cycle[i][9],first_cycle[i][10]])\n",
    "    elif(kp1_G3 | kp2_G3 | kp3_G3 | kp4_G3 | kp5_G3 | kp6_G3 | kp7_G3 | kp8_G3):\n",
    "        first_cycle_G3.append([first_cycle[i][0],first_cycle[i][1],first_cycle[i][2],first_cycle[i][3],first_cycle[i][4],first_cycle[i][5],first_cycle[i][6], \\\n",
    "                  first_cycle[i][7],first_cycle[i][8],first_cycle[i][9],first_cycle[i][10]])\n",
    "    elif(kp1_G2 | kp2_G2 | kp3_G2 | kp4_G2 | kp5_G2 | kp6_G2 | kp7_G2 | kp8_G2):\n",
    "        first_cycle_G2.append([first_cycle[i][0],first_cycle[i][1],first_cycle[i][2],first_cycle[i][3],first_cycle[i][4],first_cycle[i][5],first_cycle[i][6], \\\n",
    "                  first_cycle[i][7],first_cycle[i][8],first_cycle[i][9],first_cycle[i][10]])\n",
    "    elif(kp1_G1 | kp2_G1 | kp3_G1 | kp4_G1 | kp5_G1 | kp6_G1 | kp7_G1 | kp8_G1):\n",
    "        first_cycle_G1.append([first_cycle[i][0],first_cycle[i][1],first_cycle[i][2],first_cycle[i][3],first_cycle[i][4],first_cycle[i][5],first_cycle[i][6], \\\n",
    "                  first_cycle[i][7],first_cycle[i][8],first_cycle[i][9],first_cycle[i][10]])"
   ]
  },
  {
   "cell_type": "code",
   "execution_count": null,
   "id": "52d586b5",
   "metadata": {
    "pycharm": {
     "name": "#%%\n"
    }
   },
   "outputs": [],
   "source": [
    "second_cycle_G1 = []\n",
    "second_cycle_G2 = []\n",
    "second_cycle_G3 = []\n",
    "second_cycle_G4 = []\n",
    "second_cycle_G5 = []\n",
    "for i in range(len(second_cycle)):\n",
    "    kp1_G1 = (second_cycle[i][3] >= 5) & (second_cycle[i][3]<6)\n",
    "    kp2_G1 = (second_cycle[i][4] >= 5) & (second_cycle[i][4]<6)\n",
    "    kp3_G1 = (second_cycle[i][5] >= 5) & (second_cycle[i][5]<6)\n",
    "    kp4_G1 = (second_cycle[i][6] >= 5) & (second_cycle[i][6]<6)\n",
    "    kp5_G1 = (second_cycle[i][7] >= 5) & (second_cycle[i][7]<6)\n",
    "    kp6_G1 = (second_cycle[i][8] >= 5) & (second_cycle[i][8]<6)\n",
    "    kp7_G1 = (second_cycle[i][9] >= 5) & (second_cycle[i][9]<6)\n",
    "    kp8_G1 = (second_cycle[i][10] >= 5) & (second_cycle[i][10]<6)\n",
    "    \n",
    "    kp1_G2 = (second_cycle[i][3] >= 6) & (second_cycle[i][3]<7)\n",
    "    kp2_G2 = (second_cycle[i][4] >= 6) & (second_cycle[i][4]<7)\n",
    "    kp3_G2 = (second_cycle[i][5] >= 6) & (second_cycle[i][5]<7)\n",
    "    kp4_G2 = (second_cycle[i][6] >= 6) & (second_cycle[i][6]<7)\n",
    "    kp5_G2 = (second_cycle[i][7] >= 6) & (second_cycle[i][7]<7)\n",
    "    kp6_G2 = (second_cycle[i][8] >= 6) & (second_cycle[i][8]<7)\n",
    "    kp7_G2 = (second_cycle[i][9] >= 6) & (second_cycle[i][9]<7)\n",
    "    kp8_G2 = (second_cycle[i][10] >= 6) & (second_cycle[i][10]<7)\n",
    "    \n",
    "    kp1_G3 = (second_cycle[i][3] >= 7) & (second_cycle[i][3]<8)\n",
    "    kp2_G3 = (second_cycle[i][4] >= 7) & (second_cycle[i][4]<8)\n",
    "    kp3_G3 = (second_cycle[i][5] >= 7) & (second_cycle[i][5]<8)\n",
    "    kp4_G3 = (second_cycle[i][6] >= 7) & (second_cycle[i][6]<8)\n",
    "    kp5_G3 = (second_cycle[i][7] >= 7) & (second_cycle[i][7]<8)\n",
    "    kp6_G3 = (second_cycle[i][8] >= 7) & (second_cycle[i][8]<8)\n",
    "    kp7_G3 = (second_cycle[i][9] >= 7) & (second_cycle[i][9]<8)\n",
    "    kp8_G3 = (second_cycle[i][10] >= 7) & (second_cycle[i][10]<8)\n",
    "    \n",
    "#     kp1_G34 = (second_cycle[i][3] >= 7.5) & (second_cycle[i][3]<8)\n",
    "#     kp2_G34 = (second_cycle[i][4] >= 7.5) & (second_cycle[i][4]<8)\n",
    "#     kp3_G34 = (second_cycle[i][5] >= 7.5) & (second_cycle[i][5]<8)\n",
    "#     kp4_G34 = (second_cycle[i][6] >= 7.5) & (second_cycle[i][6]<8)\n",
    "#     kp5_G34 = (second_cycle[i][7] >= 7.5) & (second_cycle[i][7]<8)\n",
    "#     kp6_G34 = (second_cycle[i][8] >= 7.5) & (second_cycle[i][8]<8)\n",
    "#     kp7_G34 = (second_cycle[i][9] >= 7.5) & (second_cycle[i][9]<8)\n",
    "#     kp8_G34 = (second_cycle[i][10] >= 7.5) & (second_cycle[i][10]<8)\n",
    "    \n",
    "    kp1_G4 = (second_cycle[i][3] >= 8) & (second_cycle[i][3]<=9)\n",
    "    kp2_G4 = (second_cycle[i][4] >= 8) & (second_cycle[i][4]<=9)\n",
    "    kp3_G4 = (second_cycle[i][5] >= 8) & (second_cycle[i][5]<=9)\n",
    "    kp4_G4 = (second_cycle[i][6] >= 8) & (second_cycle[i][6]<=9)\n",
    "    kp5_G4 = (second_cycle[i][7] >= 8) & (second_cycle[i][7]<=9)\n",
    "    kp6_G4 = (second_cycle[i][8] >= 8) & (second_cycle[i][8]<=9)\n",
    "    kp7_G4 = (second_cycle[i][9] >= 8) & (second_cycle[i][9]<=9)\n",
    "    kp8_G4 = (second_cycle[i][10] >= 8) & (second_cycle[i][10]<=9)\n",
    "    \n",
    "    kp1_G5 = (second_cycle[i][3] > 9)\n",
    "    kp2_G5 = (second_cycle[i][4] > 9)\n",
    "    kp3_G5 = (second_cycle[i][5] > 9)\n",
    "    kp4_G5 = (second_cycle[i][6] > 9)\n",
    "    kp5_G5 = (second_cycle[i][7] > 9)\n",
    "    kp6_G5 = (second_cycle[i][8] > 9)\n",
    "    kp7_G5 = (second_cycle[i][9] > 9)\n",
    "    kp8_G5 = (second_cycle[i][10] > 9)\n",
    "    \n",
    "    if(kp1_G5 | kp2_G5 | kp3_G5 | kp4_G5 | kp5_G5 | kp6_G5 | kp7_G5 | kp8_G5):\n",
    "        second_cycle_G5.append([second_cycle[i][0],second_cycle[i][1],second_cycle[i][2],second_cycle[i][3],second_cycle[i][4],second_cycle[i][5],second_cycle[i][6], \\\n",
    "                  second_cycle[i][7],second_cycle[i][8],second_cycle[i][9],second_cycle[i][10]])\n",
    "    elif(kp1_G4 | kp2_G4 | kp3_G4 | kp4_G4 | kp5_G4 | kp6_G4 | kp7_G4 | kp8_G4):\n",
    "        second_cycle_G4.append([second_cycle[i][0],second_cycle[i][1],second_cycle[i][2],second_cycle[i][3],second_cycle[i][4],second_cycle[i][5],second_cycle[i][6], \\\n",
    "                  second_cycle[i][7],second_cycle[i][8],second_cycle[i][9],second_cycle[i][10]])\n",
    "#     elif(kp1_G34 | kp2_G34 | kp3_G34 | kp4_G34 | kp5_G34 | kp6_G34 | kp7_G34 | kp8_G34):\n",
    "#         G34.append([second_cycle[i][0],second_cycle[i][1],second_cycle[i][2],second_cycle[i][3],second_cycle[i][4],second_cycle[i][5],second_cycle[i][6], \\\n",
    "#                   second_cycle[i][7],second_cycle[i][8],second_cycle[i][9],second_cycle[i][10]])\n",
    "    elif(kp1_G3 | kp2_G3 | kp3_G3 | kp4_G3 | kp5_G3 | kp6_G3 | kp7_G3 | kp8_G3):\n",
    "        second_cycle_G3.append([second_cycle[i][0],second_cycle[i][1],second_cycle[i][2],second_cycle[i][3],second_cycle[i][4],second_cycle[i][5],second_cycle[i][6], \\\n",
    "                  second_cycle[i][7],second_cycle[i][8],second_cycle[i][9],second_cycle[i][10]])\n",
    "    elif(kp1_G2 | kp2_G2 | kp3_G2 | kp4_G2 | kp5_G2 | kp6_G2 | kp7_G2 | kp8_G2):\n",
    "        second_cycle_G2.append([second_cycle[i][0],second_cycle[i][1],second_cycle[i][2],second_cycle[i][3],second_cycle[i][4],second_cycle[i][5],second_cycle[i][6], \\\n",
    "                  second_cycle[i][7],second_cycle[i][8],second_cycle[i][9],second_cycle[i][10]])\n",
    "    elif(kp1_G1 | kp2_G1 | kp3_G1 | kp4_G1 | kp5_G1 | kp6_G1 | kp7_G1 | kp8_G1):\n",
    "        second_cycle_G1.append([second_cycle[i][0],second_cycle[i][1],second_cycle[i][2],second_cycle[i][3],second_cycle[i][4],second_cycle[i][5],second_cycle[i][6], \\\n",
    "                  second_cycle[i][7],second_cycle[i][8],second_cycle[i][9],second_cycle[i][10]])"
   ]
  },
  {
   "cell_type": "code",
   "execution_count": null,
   "id": "206f8267",
   "metadata": {
    "pycharm": {
     "name": "#%%\n"
    }
   },
   "outputs": [],
   "source": [
    "third_cycle_G1 = []\n",
    "third_cycle_G2 = []\n",
    "third_cycle_G3 = []\n",
    "third_cycle_G4 = []\n",
    "third_cycle_G5 = []\n",
    "for i in range(len(third_cycle)):\n",
    "    kp1_G1 = (third_cycle[i][3] >= 5) & (third_cycle[i][3]<6)\n",
    "    kp2_G1 = (third_cycle[i][4] >= 5) & (third_cycle[i][4]<6)\n",
    "    kp3_G1 = (third_cycle[i][5] >= 5) & (third_cycle[i][5]<6)\n",
    "    kp4_G1 = (third_cycle[i][6] >= 5) & (third_cycle[i][6]<6)\n",
    "    kp5_G1 = (third_cycle[i][7] >= 5) & (third_cycle[i][7]<6)\n",
    "    kp6_G1 = (third_cycle[i][8] >= 5) & (third_cycle[i][8]<6)\n",
    "    kp7_G1 = (third_cycle[i][9] >= 5) & (third_cycle[i][9]<6)\n",
    "    kp8_G1 = (third_cycle[i][10] >= 5) & (third_cycle[i][10]<6)\n",
    "    \n",
    "    kp1_G2 = (third_cycle[i][3] >= 6) & (third_cycle[i][3]<7)\n",
    "    kp2_G2 = (third_cycle[i][4] >= 6) & (third_cycle[i][4]<7)\n",
    "    kp3_G2 = (third_cycle[i][5] >= 6) & (third_cycle[i][5]<7)\n",
    "    kp4_G2 = (third_cycle[i][6] >= 6) & (third_cycle[i][6]<7)\n",
    "    kp5_G2 = (third_cycle[i][7] >= 6) & (third_cycle[i][7]<7)\n",
    "    kp6_G2 = (third_cycle[i][8] >= 6) & (third_cycle[i][8]<7)\n",
    "    kp7_G2 = (third_cycle[i][9] >= 6) & (third_cycle[i][9]<7)\n",
    "    kp8_G2 = (third_cycle[i][10] >= 6) & (third_cycle[i][10]<7)\n",
    "    \n",
    "    kp1_G3 = (third_cycle[i][3] >= 7) & (third_cycle[i][3]<8)\n",
    "    kp2_G3 = (third_cycle[i][4] >= 7) & (third_cycle[i][4]<8)\n",
    "    kp3_G3 = (third_cycle[i][5] >= 7) & (third_cycle[i][5]<8)\n",
    "    kp4_G3 = (third_cycle[i][6] >= 7) & (third_cycle[i][6]<8)\n",
    "    kp5_G3 = (third_cycle[i][7] >= 7) & (third_cycle[i][7]<8)\n",
    "    kp6_G3 = (third_cycle[i][8] >= 7) & (third_cycle[i][8]<8)\n",
    "    kp7_G3 = (third_cycle[i][9] >= 7) & (third_cycle[i][9]<8)\n",
    "    kp8_G3 = (third_cycle[i][10] >= 7) & (third_cycle[i][10]<8)\n",
    "    \n",
    "#     kp1_G34 = (third_cycle[i][3] >= 7.5) & (third_cycle[i][3]<8)\n",
    "#     kp2_G34 = (third_cycle[i][4] >= 7.5) & (third_cycle[i][4]<8)\n",
    "#     kp3_G34 = (third_cycle[i][5] >= 7.5) & (third_cycle[i][5]<8)\n",
    "#     kp4_G34 = (third_cycle[i][6] >= 7.5) & (third_cycle[i][6]<8)\n",
    "#     kp5_G34 = (third_cycle[i][7] >= 7.5) & (third_cycle[i][7]<8)\n",
    "#     kp6_G34 = (third_cycle[i][8] >= 7.5) & (third_cycle[i][8]<8)\n",
    "#     kp7_G34 = (third_cycle[i][9] >= 7.5) & (third_cycle[i][9]<8)\n",
    "#     kp8_G34 = (third_cycle[i][10] >= 7.5) & (third_cycle[i][10]<8)\n",
    "    \n",
    "    kp1_G4 = (third_cycle[i][3] >= 8) & (third_cycle[i][3]<=9)\n",
    "    kp2_G4 = (third_cycle[i][4] >= 8) & (third_cycle[i][4]<=9)\n",
    "    kp3_G4 = (third_cycle[i][5] >= 8) & (third_cycle[i][5]<=9)\n",
    "    kp4_G4 = (third_cycle[i][6] >= 8) & (third_cycle[i][6]<=9)\n",
    "    kp5_G4 = (third_cycle[i][7] >= 8) & (third_cycle[i][7]<=9)\n",
    "    kp6_G4 = (third_cycle[i][8] >= 8) & (third_cycle[i][8]<=9)\n",
    "    kp7_G4 = (third_cycle[i][9] >= 8) & (third_cycle[i][9]<=9)\n",
    "    kp8_G4 = (third_cycle[i][10] >= 8) & (third_cycle[i][10]<=9)\n",
    "    \n",
    "    kp1_G5 = (third_cycle[i][3] > 9)\n",
    "    kp2_G5 = (third_cycle[i][4] > 9)\n",
    "    kp3_G5 = (third_cycle[i][5] > 9)\n",
    "    kp4_G5 = (third_cycle[i][6] > 9)\n",
    "    kp5_G5 = (third_cycle[i][7] > 9)\n",
    "    kp6_G5 = (third_cycle[i][8] > 9)\n",
    "    kp7_G5 = (third_cycle[i][9] > 9)\n",
    "    kp8_G5 = (third_cycle[i][10] > 9)\n",
    "    \n",
    "    if(kp1_G5 | kp2_G5 | kp3_G5 | kp4_G5 | kp5_G5 | kp6_G5 | kp7_G5 | kp8_G5):\n",
    "        third_cycle_G5.append([third_cycle[i][0],third_cycle[i][1],third_cycle[i][2],third_cycle[i][3],third_cycle[i][4],third_cycle[i][5],third_cycle[i][6], \\\n",
    "                  third_cycle[i][7],third_cycle[i][8],third_cycle[i][9],third_cycle[i][10]])\n",
    "    elif(kp1_G4 | kp2_G4 | kp3_G4 | kp4_G4 | kp5_G4 | kp6_G4 | kp7_G4 | kp8_G4):\n",
    "        third_cycle_G4.append([third_cycle[i][0],third_cycle[i][1],third_cycle[i][2],third_cycle[i][3],third_cycle[i][4],third_cycle[i][5],third_cycle[i][6], \\\n",
    "                  third_cycle[i][7],third_cycle[i][8],third_cycle[i][9],third_cycle[i][10]])\n",
    "#     elif(kp1_G34 | kp2_G34 | kp3_G34 | kp4_G34 | kp5_G34 | kp6_G34 | kp7_G34 | kp8_G34):\n",
    "#         G34.append([third_cycle[i][0],third_cycle[i][1],third_cycle[i][2],third_cycle[i][3],third_cycle[i][4],third_cycle[i][5],third_cycle[i][6], \\\n",
    "#                   third_cycle[i][7],third_cycle[i][8],third_cycle[i][9],third_cycle[i][10]])\n",
    "    elif(kp1_G3 | kp2_G3 | kp3_G3 | kp4_G3 | kp5_G3 | kp6_G3 | kp7_G3 | kp8_G3):\n",
    "        third_cycle_G3.append([third_cycle[i][0],third_cycle[i][1],third_cycle[i][2],third_cycle[i][3],third_cycle[i][4],third_cycle[i][5],third_cycle[i][6], \\\n",
    "                  third_cycle[i][7],third_cycle[i][8],third_cycle[i][9],third_cycle[i][10]])\n",
    "    elif(kp1_G2 | kp2_G2 | kp3_G2 | kp4_G2 | kp5_G2 | kp6_G2 | kp7_G2 | kp8_G2):\n",
    "        third_cycle_G2.append([third_cycle[i][0],third_cycle[i][1],third_cycle[i][2],third_cycle[i][3],third_cycle[i][4],third_cycle[i][5],third_cycle[i][6], \\\n",
    "                  third_cycle[i][7],third_cycle[i][8],third_cycle[i][9],third_cycle[i][10]])\n",
    "    elif(kp1_G1 | kp2_G1 | kp3_G1 | kp4_G1 | kp5_G1 | kp6_G1 | kp7_G1 | kp8_G1):\n",
    "        third_cycle_G1.append([third_cycle[i][0],third_cycle[i][1],third_cycle[i][2],third_cycle[i][3],third_cycle[i][4],third_cycle[i][5],third_cycle[i][6], \\\n",
    "                  third_cycle[i][7],third_cycle[i][8],third_cycle[i][9],third_cycle[i][10]])"
   ]
  },
  {
   "cell_type": "code",
   "execution_count": null,
   "id": "a16e93b9",
   "metadata": {
    "pycharm": {
     "name": "#%%\n"
    }
   },
   "outputs": [],
   "source": [
    "fourth_cycle_G1 = []\n",
    "fourth_cycle_G2 = []\n",
    "fourth_cycle_G3 = []\n",
    "fourth_cycle_G4 = []\n",
    "fourth_cycle_G5 = []\n",
    "for i in range(len(fourth_cycle)):\n",
    "    kp1_G1 = (fourth_cycle[i][3] >= 5) & (fourth_cycle[i][3]<6)\n",
    "    kp2_G1 = (fourth_cycle[i][4] >= 5) & (fourth_cycle[i][4]<6)\n",
    "    kp3_G1 = (fourth_cycle[i][5] >= 5) & (fourth_cycle[i][5]<6)\n",
    "    kp4_G1 = (fourth_cycle[i][6] >= 5) & (fourth_cycle[i][6]<6)\n",
    "    kp5_G1 = (fourth_cycle[i][7] >= 5) & (fourth_cycle[i][7]<6)\n",
    "    kp6_G1 = (fourth_cycle[i][8] >= 5) & (fourth_cycle[i][8]<6)\n",
    "    kp7_G1 = (fourth_cycle[i][9] >= 5) & (fourth_cycle[i][9]<6)\n",
    "    kp8_G1 = (fourth_cycle[i][10] >= 5) & (fourth_cycle[i][10]<6)\n",
    "    \n",
    "    kp1_G2 = (fourth_cycle[i][3] >= 6) & (fourth_cycle[i][3]<7)\n",
    "    kp2_G2 = (fourth_cycle[i][4] >= 6) & (fourth_cycle[i][4]<7)\n",
    "    kp3_G2 = (fourth_cycle[i][5] >= 6) & (fourth_cycle[i][5]<7)\n",
    "    kp4_G2 = (fourth_cycle[i][6] >= 6) & (fourth_cycle[i][6]<7)\n",
    "    kp5_G2 = (fourth_cycle[i][7] >= 6) & (fourth_cycle[i][7]<7)\n",
    "    kp6_G2 = (fourth_cycle[i][8] >= 6) & (fourth_cycle[i][8]<7)\n",
    "    kp7_G2 = (fourth_cycle[i][9] >= 6) & (fourth_cycle[i][9]<7)\n",
    "    kp8_G2 = (fourth_cycle[i][10] >= 6) & (fourth_cycle[i][10]<7)\n",
    "    \n",
    "    kp1_G3 = (fourth_cycle[i][3] >= 7) & (fourth_cycle[i][3]<8)\n",
    "    kp2_G3 = (fourth_cycle[i][4] >= 7) & (fourth_cycle[i][4]<8)\n",
    "    kp3_G3 = (fourth_cycle[i][5] >= 7) & (fourth_cycle[i][5]<8)\n",
    "    kp4_G3 = (fourth_cycle[i][6] >= 7) & (fourth_cycle[i][6]<8)\n",
    "    kp5_G3 = (fourth_cycle[i][7] >= 7) & (fourth_cycle[i][7]<8)\n",
    "    kp6_G3 = (fourth_cycle[i][8] >= 7) & (fourth_cycle[i][8]<8)\n",
    "    kp7_G3 = (fourth_cycle[i][9] >= 7) & (fourth_cycle[i][9]<8)\n",
    "    kp8_G3 = (fourth_cycle[i][10] >= 7) & (fourth_cycle[i][10]<8)\n",
    "    \n",
    "#     kp1_G34 = (fourth_cycle[i][3] >= 7.5) & (fourth_cycle[i][3]<8)\n",
    "#     kp2_G34 = (fourth_cycle[i][4] >= 7.5) & (fourth_cycle[i][4]<8)\n",
    "#     kp3_G34 = (fourth_cycle[i][5] >= 7.5) & (fourth_cycle[i][5]<8)\n",
    "#     kp4_G34 = (fourth_cycle[i][6] >= 7.5) & (fourth_cycle[i][6]<8)\n",
    "#     kp5_G34 = (fourth_cycle[i][7] >= 7.5) & (fourth_cycle[i][7]<8)\n",
    "#     kp6_G34 = (fourth_cycle[i][8] >= 7.5) & (fourth_cycle[i][8]<8)\n",
    "#     kp7_G34 = (fourth_cycle[i][9] >= 7.5) & (fourth_cycle[i][9]<8)\n",
    "#     kp8_G34 = (fourth_cycle[i][10] >= 7.5) & (fourth_cycle[i][10]<8)\n",
    "    \n",
    "    kp1_G4 = (fourth_cycle[i][3] >= 8) & (fourth_cycle[i][3]<=9)\n",
    "    kp2_G4 = (fourth_cycle[i][4] >= 8) & (fourth_cycle[i][4]<=9)\n",
    "    kp3_G4 = (fourth_cycle[i][5] >= 8) & (fourth_cycle[i][5]<=9)\n",
    "    kp4_G4 = (fourth_cycle[i][6] >= 8) & (fourth_cycle[i][6]<=9)\n",
    "    kp5_G4 = (fourth_cycle[i][7] >= 8) & (fourth_cycle[i][7]<=9)\n",
    "    kp6_G4 = (fourth_cycle[i][8] >= 8) & (fourth_cycle[i][8]<=9)\n",
    "    kp7_G4 = (fourth_cycle[i][9] >= 8) & (fourth_cycle[i][9]<=9)\n",
    "    kp8_G4 = (fourth_cycle[i][10] >= 8) & (fourth_cycle[i][10]<=9)\n",
    "    \n",
    "    kp1_G5 = (fourth_cycle[i][3] > 9)\n",
    "    kp2_G5 = (fourth_cycle[i][4] > 9)\n",
    "    kp3_G5 = (fourth_cycle[i][5] > 9)\n",
    "    kp4_G5 = (fourth_cycle[i][6] > 9)\n",
    "    kp5_G5 = (fourth_cycle[i][7] > 9)\n",
    "    kp6_G5 = (fourth_cycle[i][8] > 9)\n",
    "    kp7_G5 = (fourth_cycle[i][9] > 9)\n",
    "    kp8_G5 = (fourth_cycle[i][10] > 9)\n",
    "    \n",
    "    if(kp1_G5 | kp2_G5 | kp3_G5 | kp4_G5 | kp5_G5 | kp6_G5 | kp7_G5 | kp8_G5):\n",
    "        fourth_cycle_G5.append([fourth_cycle[i][0],fourth_cycle[i][1],fourth_cycle[i][2],fourth_cycle[i][3],fourth_cycle[i][4],fourth_cycle[i][5],fourth_cycle[i][6], \\\n",
    "                  fourth_cycle[i][7],fourth_cycle[i][8],fourth_cycle[i][9],fourth_cycle[i][10]])\n",
    "    elif(kp1_G4 | kp2_G4 | kp3_G4 | kp4_G4 | kp5_G4 | kp6_G4 | kp7_G4 | kp8_G4):\n",
    "        fourth_cycle_G4.append([fourth_cycle[i][0],fourth_cycle[i][1],fourth_cycle[i][2],fourth_cycle[i][3],fourth_cycle[i][4],fourth_cycle[i][5],fourth_cycle[i][6], \\\n",
    "                  fourth_cycle[i][7],fourth_cycle[i][8],fourth_cycle[i][9],fourth_cycle[i][10]])\n",
    "#     elif(kp1_G34 | kp2_G34 | kp3_G34 | kp4_G34 | kp5_G34 | kp6_G34 | kp7_G34 | kp8_G34):\n",
    "#         G34.append([fourth_cycle[i][0],fourth_cycle[i][1],fourth_cycle[i][2],fourth_cycle[i][3],fourth_cycle[i][4],fourth_cycle[i][5],fourth_cycle[i][6], \\\n",
    "#                   fourth_cycle[i][7],fourth_cycle[i][8],fourth_cycle[i][9],fourth_cycle[i][10]])\n",
    "    elif(kp1_G3 | kp2_G3 | kp3_G3 | kp4_G3 | kp5_G3 | kp6_G3 | kp7_G3 | kp8_G3):\n",
    "        fourth_cycle_G3.append([fourth_cycle[i][0],fourth_cycle[i][1],fourth_cycle[i][2],fourth_cycle[i][3],fourth_cycle[i][4],fourth_cycle[i][5],fourth_cycle[i][6], \\\n",
    "                  fourth_cycle[i][7],fourth_cycle[i][8],fourth_cycle[i][9],fourth_cycle[i][10]])\n",
    "    elif(kp1_G2 | kp2_G2 | kp3_G2 | kp4_G2 | kp5_G2 | kp6_G2 | kp7_G2 | kp8_G2):\n",
    "        fourth_cycle_G2.append([fourth_cycle[i][0],fourth_cycle[i][1],fourth_cycle[i][2],fourth_cycle[i][3],fourth_cycle[i][4],fourth_cycle[i][5],fourth_cycle[i][6], \\\n",
    "                  fourth_cycle[i][7],fourth_cycle[i][8],fourth_cycle[i][9],fourth_cycle[i][10]])\n",
    "    elif(kp1_G1 | kp2_G1 | kp3_G1 | kp4_G1 | kp5_G1 | kp6_G1 | kp7_G1 | kp8_G1):\n",
    "        fourth_cycle_G1.append([fourth_cycle[i][0],fourth_cycle[i][1],fourth_cycle[i][2],fourth_cycle[i][3],fourth_cycle[i][4],fourth_cycle[i][5],fourth_cycle[i][6], \\\n",
    "                  fourth_cycle[i][7],fourth_cycle[i][8],fourth_cycle[i][9],fourth_cycle[i][10]])"
   ]
  },
  {
   "cell_type": "code",
   "execution_count": null,
   "id": "9b526f6c",
   "metadata": {
    "pycharm": {
     "name": "#%%\n"
    }
   },
   "outputs": [],
   "source": [
    "fifth_cycle_G1 = []\n",
    "fifth_cycle_G2 = []\n",
    "fifth_cycle_G3 = []\n",
    "fifth_cycle_G4 = []\n",
    "fifth_cycle_G5 = []\n",
    "for i in range(len(fifth_cycle)):\n",
    "    kp1_G1 = (fifth_cycle[i][3] >= 5) & (fifth_cycle[i][3]<6)\n",
    "    kp2_G1 = (fifth_cycle[i][4] >= 5) & (fifth_cycle[i][4]<6)\n",
    "    kp3_G1 = (fifth_cycle[i][5] >= 5) & (fifth_cycle[i][5]<6)\n",
    "    kp4_G1 = (fifth_cycle[i][6] >= 5) & (fifth_cycle[i][6]<6)\n",
    "    kp5_G1 = (fifth_cycle[i][7] >= 5) & (fifth_cycle[i][7]<6)\n",
    "    kp6_G1 = (fifth_cycle[i][8] >= 5) & (fifth_cycle[i][8]<6)\n",
    "    kp7_G1 = (fifth_cycle[i][9] >= 5) & (fifth_cycle[i][9]<6)\n",
    "    kp8_G1 = (fifth_cycle[i][10] >= 5) & (fifth_cycle[i][10]<6)\n",
    "    \n",
    "    kp1_G2 = (fifth_cycle[i][3] >= 6) & (fifth_cycle[i][3]<7)\n",
    "    kp2_G2 = (fifth_cycle[i][4] >= 6) & (fifth_cycle[i][4]<7)\n",
    "    kp3_G2 = (fifth_cycle[i][5] >= 6) & (fifth_cycle[i][5]<7)\n",
    "    kp4_G2 = (fifth_cycle[i][6] >= 6) & (fifth_cycle[i][6]<7)\n",
    "    kp5_G2 = (fifth_cycle[i][7] >= 6) & (fifth_cycle[i][7]<7)\n",
    "    kp6_G2 = (fifth_cycle[i][8] >= 6) & (fifth_cycle[i][8]<7)\n",
    "    kp7_G2 = (fifth_cycle[i][9] >= 6) & (fifth_cycle[i][9]<7)\n",
    "    kp8_G2 = (fifth_cycle[i][10] >= 6) & (fifth_cycle[i][10]<7)\n",
    "    \n",
    "    kp1_G3 = (fifth_cycle[i][3] >= 7) & (fifth_cycle[i][3]<8)\n",
    "    kp2_G3 = (fifth_cycle[i][4] >= 7) & (fifth_cycle[i][4]<8)\n",
    "    kp3_G3 = (fifth_cycle[i][5] >= 7) & (fifth_cycle[i][5]<8)\n",
    "    kp4_G3 = (fifth_cycle[i][6] >= 7) & (fifth_cycle[i][6]<8)\n",
    "    kp5_G3 = (fifth_cycle[i][7] >= 7) & (fifth_cycle[i][7]<8)\n",
    "    kp6_G3 = (fifth_cycle[i][8] >= 7) & (fifth_cycle[i][8]<8)\n",
    "    kp7_G3 = (fifth_cycle[i][9] >= 7) & (fifth_cycle[i][9]<8)\n",
    "    kp8_G3 = (fifth_cycle[i][10] >= 7) & (fifth_cycle[i][10]<8)\n",
    "    \n",
    "#     kp1_G34 = (fifth_cycle[i][3] >= 7.5) & (fifth_cycle[i][3]<8)\n",
    "#     kp2_G34 = (fifth_cycle[i][4] >= 7.5) & (fifth_cycle[i][4]<8)\n",
    "#     kp3_G34 = (fifth_cycle[i][5] >= 7.5) & (fifth_cycle[i][5]<8)\n",
    "#     kp4_G34 = (fifth_cycle[i][6] >= 7.5) & (fifth_cycle[i][6]<8)\n",
    "#     kp5_G34 = (fifth_cycle[i][7] >= 7.5) & (fifth_cycle[i][7]<8)\n",
    "#     kp6_G34 = (fifth_cycle[i][8] >= 7.5) & (fifth_cycle[i][8]<8)\n",
    "#     kp7_G34 = (fifth_cycle[i][9] >= 7.5) & (fifth_cycle[i][9]<8)\n",
    "#     kp8_G34 = (fifth_cycle[i][10] >= 7.5) & (fifth_cycle[i][10]<8)\n",
    "    \n",
    "    kp1_G4 = (fifth_cycle[i][3] >= 8) & (fifth_cycle[i][3]<=9)\n",
    "    kp2_G4 = (fifth_cycle[i][4] >= 8) & (fifth_cycle[i][4]<=9)\n",
    "    kp3_G4 = (fifth_cycle[i][5] >= 8) & (fifth_cycle[i][5]<=9)\n",
    "    kp4_G4 = (fifth_cycle[i][6] >= 8) & (fifth_cycle[i][6]<=9)\n",
    "    kp5_G4 = (fifth_cycle[i][7] >= 8) & (fifth_cycle[i][7]<=9)\n",
    "    kp6_G4 = (fifth_cycle[i][8] >= 8) & (fifth_cycle[i][8]<=9)\n",
    "    kp7_G4 = (fifth_cycle[i][9] >= 8) & (fifth_cycle[i][9]<=9)\n",
    "    kp8_G4 = (fifth_cycle[i][10] >= 8) & (fifth_cycle[i][10]<=9)\n",
    "    \n",
    "    kp1_G5 = (fifth_cycle[i][3] > 9)\n",
    "    kp2_G5 = (fifth_cycle[i][4] > 9)\n",
    "    kp3_G5 = (fifth_cycle[i][5] > 9)\n",
    "    kp4_G5 = (fifth_cycle[i][6] > 9)\n",
    "    kp5_G5 = (fifth_cycle[i][7] > 9)\n",
    "    kp6_G5 = (fifth_cycle[i][8] > 9)\n",
    "    kp7_G5 = (fifth_cycle[i][9] > 9)\n",
    "    kp8_G5 = (fifth_cycle[i][10] > 9)\n",
    "    \n",
    "    if(kp1_G5 | kp2_G5 | kp3_G5 | kp4_G5 | kp5_G5 | kp6_G5 | kp7_G5 | kp8_G5):\n",
    "        fifth_cycle_G5.append([fifth_cycle[i][0],fifth_cycle[i][1],fifth_cycle[i][2],fifth_cycle[i][3],fifth_cycle[i][4],fifth_cycle[i][5],fifth_cycle[i][6], \\\n",
    "                  fifth_cycle[i][7],fifth_cycle[i][8],fifth_cycle[i][9],fifth_cycle[i][10]])\n",
    "    elif(kp1_G4 | kp2_G4 | kp3_G4 | kp4_G4 | kp5_G4 | kp6_G4 | kp7_G4 | kp8_G4):\n",
    "        fifth_cycle_G4.append([fifth_cycle[i][0],fifth_cycle[i][1],fifth_cycle[i][2],fifth_cycle[i][3],fifth_cycle[i][4],fifth_cycle[i][5],fifth_cycle[i][6], \\\n",
    "                  fifth_cycle[i][7],fifth_cycle[i][8],fifth_cycle[i][9],fifth_cycle[i][10]])\n",
    "#     elif(kp1_G34 | kp2_G34 | kp3_G34 | kp4_G34 | kp5_G34 | kp6_G34 | kp7_G34 | kp8_G34):\n",
    "#         G34.append([fifth_cycle[i][0],fifth_cycle[i][1],fifth_cycle[i][2],fifth_cycle[i][3],fifth_cycle[i][4],fifth_cycle[i][5],fifth_cycle[i][6], \\\n",
    "#                   fifth_cycle[i][7],fifth_cycle[i][8],fifth_cycle[i][9],fifth_cycle[i][10]])\n",
    "    elif(kp1_G3 | kp2_G3 | kp3_G3 | kp4_G3 | kp5_G3 | kp6_G3 | kp7_G3 | kp8_G3):\n",
    "        fifth_cycle_G3.append([fifth_cycle[i][0],fifth_cycle[i][1],fifth_cycle[i][2],fifth_cycle[i][3],fifth_cycle[i][4],fifth_cycle[i][5],fifth_cycle[i][6], \\\n",
    "                  fifth_cycle[i][7],fifth_cycle[i][8],fifth_cycle[i][9],fifth_cycle[i][10]])\n",
    "    elif(kp1_G2 | kp2_G2 | kp3_G2 | kp4_G2 | kp5_G2 | kp6_G2 | kp7_G2 | kp8_G2):\n",
    "        fifth_cycle_G2.append([fifth_cycle[i][0],fifth_cycle[i][1],fifth_cycle[i][2],fifth_cycle[i][3],fifth_cycle[i][4],fifth_cycle[i][5],fifth_cycle[i][6], \\\n",
    "                  fifth_cycle[i][7],fifth_cycle[i][8],fifth_cycle[i][9],fifth_cycle[i][10]])\n",
    "    elif(kp1_G1 | kp2_G1 | kp3_G1 | kp4_G1 | kp5_G1 | kp6_G1 | kp7_G1 | kp8_G1):\n",
    "        fifth_cycle_G1.append([fifth_cycle[i][0],fifth_cycle[i][1],fifth_cycle[i][2],fifth_cycle[i][3],fifth_cycle[i][4],fifth_cycle[i][5],fifth_cycle[i][6], \\\n",
    "                  fifth_cycle[i][7],fifth_cycle[i][8],fifth_cycle[i][9],fifth_cycle[i][10]])"
   ]
  },
  {
   "cell_type": "code",
   "execution_count": null,
   "id": "f067a51a",
   "metadata": {
    "pycharm": {
     "name": "#%%\n"
    }
   },
   "outputs": [],
   "source": [
    "sixth_cycle_G1 = []\n",
    "sixth_cycle_G2 = []\n",
    "sixth_cycle_G3 = []\n",
    "sixth_cycle_G4 = []\n",
    "sixth_cycle_G5 = []\n",
    "for i in range(len(sixth_cycle)):\n",
    "    kp1_G1 = (sixth_cycle[i][3] >= 5) & (sixth_cycle[i][3]<6)\n",
    "    kp2_G1 = (sixth_cycle[i][4] >= 5) & (sixth_cycle[i][4]<6)\n",
    "    kp3_G1 = (sixth_cycle[i][5] >= 5) & (sixth_cycle[i][5]<6)\n",
    "    kp4_G1 = (sixth_cycle[i][6] >= 5) & (sixth_cycle[i][6]<6)\n",
    "    kp5_G1 = (sixth_cycle[i][7] >= 5) & (sixth_cycle[i][7]<6)\n",
    "    kp6_G1 = (sixth_cycle[i][8] >= 5) & (sixth_cycle[i][8]<6)\n",
    "    kp7_G1 = (sixth_cycle[i][9] >= 5) & (sixth_cycle[i][9]<6)\n",
    "    kp8_G1 = (sixth_cycle[i][10] >= 5) & (sixth_cycle[i][10]<6)\n",
    "    \n",
    "    kp1_G2 = (sixth_cycle[i][3] >= 6) & (sixth_cycle[i][3]<7)\n",
    "    kp2_G2 = (sixth_cycle[i][4] >= 6) & (sixth_cycle[i][4]<7)\n",
    "    kp3_G2 = (sixth_cycle[i][5] >= 6) & (sixth_cycle[i][5]<7)\n",
    "    kp4_G2 = (sixth_cycle[i][6] >= 6) & (sixth_cycle[i][6]<7)\n",
    "    kp5_G2 = (sixth_cycle[i][7] >= 6) & (sixth_cycle[i][7]<7)\n",
    "    kp6_G2 = (sixth_cycle[i][8] >= 6) & (sixth_cycle[i][8]<7)\n",
    "    kp7_G2 = (sixth_cycle[i][9] >= 6) & (sixth_cycle[i][9]<7)\n",
    "    kp8_G2 = (sixth_cycle[i][10] >= 6) & (sixth_cycle[i][10]<7)\n",
    "    \n",
    "    kp1_G3 = (sixth_cycle[i][3] >= 7) & (sixth_cycle[i][3]<8)\n",
    "    kp2_G3 = (sixth_cycle[i][4] >= 7) & (sixth_cycle[i][4]<8)\n",
    "    kp3_G3 = (sixth_cycle[i][5] >= 7) & (sixth_cycle[i][5]<8)\n",
    "    kp4_G3 = (sixth_cycle[i][6] >= 7) & (sixth_cycle[i][6]<8)\n",
    "    kp5_G3 = (sixth_cycle[i][7] >= 7) & (sixth_cycle[i][7]<8)\n",
    "    kp6_G3 = (sixth_cycle[i][8] >= 7) & (sixth_cycle[i][8]<8)\n",
    "    kp7_G3 = (sixth_cycle[i][9] >= 7) & (sixth_cycle[i][9]<8)\n",
    "    kp8_G3 = (sixth_cycle[i][10] >= 7) & (sixth_cycle[i][10]<8)\n",
    "    \n",
    "#     kp1_G34 = (sixth_cycle[i][3] >= 7.5) & (sixth_cycle[i][3]<8)\n",
    "#     kp2_G34 = (sixth_cycle[i][4] >= 7.5) & (sixth_cycle[i][4]<8)\n",
    "#     kp3_G34 = (sixth_cycle[i][5] >= 7.5) & (sixth_cycle[i][5]<8)\n",
    "#     kp4_G34 = (sixth_cycle[i][6] >= 7.5) & (sixth_cycle[i][6]<8)\n",
    "#     kp5_G34 = (sixth_cycle[i][7] >= 7.5) & (sixth_cycle[i][7]<8)\n",
    "#     kp6_G34 = (sixth_cycle[i][8] >= 7.5) & (sixth_cycle[i][8]<8)\n",
    "#     kp7_G34 = (sixth_cycle[i][9] >= 7.5) & (sixth_cycle[i][9]<8)\n",
    "#     kp8_G34 = (sixth_cycle[i][10] >= 7.5) & (sixth_cycle[i][10]<8)\n",
    "    \n",
    "    kp1_G4 = (sixth_cycle[i][3] >= 8) & (sixth_cycle[i][3]<=9)\n",
    "    kp2_G4 = (sixth_cycle[i][4] >= 8) & (sixth_cycle[i][4]<=9)\n",
    "    kp3_G4 = (sixth_cycle[i][5] >= 8) & (sixth_cycle[i][5]<=9)\n",
    "    kp4_G4 = (sixth_cycle[i][6] >= 8) & (sixth_cycle[i][6]<=9)\n",
    "    kp5_G4 = (sixth_cycle[i][7] >= 8) & (sixth_cycle[i][7]<=9)\n",
    "    kp6_G4 = (sixth_cycle[i][8] >= 8) & (sixth_cycle[i][8]<=9)\n",
    "    kp7_G4 = (sixth_cycle[i][9] >= 8) & (sixth_cycle[i][9]<=9)\n",
    "    kp8_G4 = (sixth_cycle[i][10] >= 8) & (sixth_cycle[i][10]<=9)\n",
    "    \n",
    "    kp1_G5 = (sixth_cycle[i][3] > 9)\n",
    "    kp2_G5 = (sixth_cycle[i][4] > 9)\n",
    "    kp3_G5 = (sixth_cycle[i][5] > 9)\n",
    "    kp4_G5 = (sixth_cycle[i][6] > 9)\n",
    "    kp5_G5 = (sixth_cycle[i][7] > 9)\n",
    "    kp6_G5 = (sixth_cycle[i][8] > 9)\n",
    "    kp7_G5 = (sixth_cycle[i][9] > 9)\n",
    "    kp8_G5 = (sixth_cycle[i][10] > 9)\n",
    "    \n",
    "    if(kp1_G5 | kp2_G5 | kp3_G5 | kp4_G5 | kp5_G5 | kp6_G5 | kp7_G5 | kp8_G5):\n",
    "        sixth_cycle_G5.append([sixth_cycle[i][0],sixth_cycle[i][1],sixth_cycle[i][2],sixth_cycle[i][3],sixth_cycle[i][4],sixth_cycle[i][5],sixth_cycle[i][6], \\\n",
    "                  sixth_cycle[i][7],sixth_cycle[i][8],sixth_cycle[i][9],sixth_cycle[i][10]])\n",
    "    elif(kp1_G4 | kp2_G4 | kp3_G4 | kp4_G4 | kp5_G4 | kp6_G4 | kp7_G4 | kp8_G4):\n",
    "        sixth_cycle_G4.append([sixth_cycle[i][0],sixth_cycle[i][1],sixth_cycle[i][2],sixth_cycle[i][3],sixth_cycle[i][4],sixth_cycle[i][5],sixth_cycle[i][6], \\\n",
    "                  sixth_cycle[i][7],sixth_cycle[i][8],sixth_cycle[i][9],sixth_cycle[i][10]])\n",
    "#     elif(kp1_G34 | kp2_G34 | kp3_G34 | kp4_G34 | kp5_G34 | kp6_G34 | kp7_G34 | kp8_G34):\n",
    "#         G34.append([sixth_cycle[i][0],sixth_cycle[i][1],sixth_cycle[i][2],sixth_cycle[i][3],sixth_cycle[i][4],sixth_cycle[i][5],sixth_cycle[i][6], \\\n",
    "#                   sixth_cycle[i][7],sixth_cycle[i][8],sixth_cycle[i][9],sixth_cycle[i][10]])\n",
    "    elif(kp1_G3 | kp2_G3 | kp3_G3 | kp4_G3 | kp5_G3 | kp6_G3 | kp7_G3 | kp8_G3):\n",
    "        sixth_cycle_G3.append([sixth_cycle[i][0],sixth_cycle[i][1],sixth_cycle[i][2],sixth_cycle[i][3],sixth_cycle[i][4],sixth_cycle[i][5],sixth_cycle[i][6], \\\n",
    "                  sixth_cycle[i][7],sixth_cycle[i][8],sixth_cycle[i][9],sixth_cycle[i][10]])\n",
    "    elif(kp1_G2 | kp2_G2 | kp3_G2 | kp4_G2 | kp5_G2 | kp6_G2 | kp7_G2 | kp8_G2):\n",
    "        sixth_cycle_G2.append([sixth_cycle[i][0],sixth_cycle[i][1],sixth_cycle[i][2],sixth_cycle[i][3],sixth_cycle[i][4],sixth_cycle[i][5],sixth_cycle[i][6], \\\n",
    "                  sixth_cycle[i][7],sixth_cycle[i][8],sixth_cycle[i][9],sixth_cycle[i][10]])\n",
    "    elif(kp1_G1 | kp2_G1 | kp3_G1 | kp4_G1 | kp5_G1 | kp6_G1 | kp7_G1 | kp8_G1):\n",
    "        sixth_cycle_G1.append([sixth_cycle[i][0],sixth_cycle[i][1],sixth_cycle[i][2],sixth_cycle[i][3],sixth_cycle[i][4],sixth_cycle[i][5],sixth_cycle[i][6], \\\n",
    "                  sixth_cycle[i][7],sixth_cycle[i][8],sixth_cycle[i][9],sixth_cycle[i][10]])"
   ]
  },
  {
   "cell_type": "code",
   "execution_count": null,
   "id": "fa6c5f14",
   "metadata": {
    "pycharm": {
     "name": "#%%\n"
    }
   },
   "outputs": [],
   "source": [
    "seventh_cycle_G1 = []\n",
    "seventh_cycle_G2 = []\n",
    "seventh_cycle_G3 = []\n",
    "seventh_cycle_G4 = []\n",
    "seventh_cycle_G5 = []\n",
    "for i in range(len(seventh_cycle)):\n",
    "    kp1_G1 = (seventh_cycle[i][3] >= 5) & (seventh_cycle[i][3]<6)\n",
    "    kp2_G1 = (seventh_cycle[i][4] >= 5) & (seventh_cycle[i][4]<6)\n",
    "    kp3_G1 = (seventh_cycle[i][5] >= 5) & (seventh_cycle[i][5]<6)\n",
    "    kp4_G1 = (seventh_cycle[i][6] >= 5) & (seventh_cycle[i][6]<6)\n",
    "    kp5_G1 = (seventh_cycle[i][7] >= 5) & (seventh_cycle[i][7]<6)\n",
    "    kp6_G1 = (seventh_cycle[i][8] >= 5) & (seventh_cycle[i][8]<6)\n",
    "    kp7_G1 = (seventh_cycle[i][9] >= 5) & (seventh_cycle[i][9]<6)\n",
    "    kp8_G1 = (seventh_cycle[i][10] >= 5) & (seventh_cycle[i][10]<6)\n",
    "    \n",
    "    kp1_G2 = (seventh_cycle[i][3] >= 6) & (seventh_cycle[i][3]<7)\n",
    "    kp2_G2 = (seventh_cycle[i][4] >= 6) & (seventh_cycle[i][4]<7)\n",
    "    kp3_G2 = (seventh_cycle[i][5] >= 6) & (seventh_cycle[i][5]<7)\n",
    "    kp4_G2 = (seventh_cycle[i][6] >= 6) & (seventh_cycle[i][6]<7)\n",
    "    kp5_G2 = (seventh_cycle[i][7] >= 6) & (seventh_cycle[i][7]<7)\n",
    "    kp6_G2 = (seventh_cycle[i][8] >= 6) & (seventh_cycle[i][8]<7)\n",
    "    kp7_G2 = (seventh_cycle[i][9] >= 6) & (seventh_cycle[i][9]<7)\n",
    "    kp8_G2 = (seventh_cycle[i][10] >= 6) & (seventh_cycle[i][10]<7)\n",
    "    \n",
    "    kp1_G3 = (seventh_cycle[i][3] >= 7) & (seventh_cycle[i][3]<8)\n",
    "    kp2_G3 = (seventh_cycle[i][4] >= 7) & (seventh_cycle[i][4]<8)\n",
    "    kp3_G3 = (seventh_cycle[i][5] >= 7) & (seventh_cycle[i][5]<8)\n",
    "    kp4_G3 = (seventh_cycle[i][6] >= 7) & (seventh_cycle[i][6]<8)\n",
    "    kp5_G3 = (seventh_cycle[i][7] >= 7) & (seventh_cycle[i][7]<8)\n",
    "    kp6_G3 = (seventh_cycle[i][8] >= 7) & (seventh_cycle[i][8]<8)\n",
    "    kp7_G3 = (seventh_cycle[i][9] >= 7) & (seventh_cycle[i][9]<8)\n",
    "    kp8_G3 = (seventh_cycle[i][10] >= 7) & (seventh_cycle[i][10]<8)\n",
    "    \n",
    "#     kp1_G34 = (seventh_cycle[i][3] >= 7.5) & (seventh_cycle[i][3]<8)\n",
    "#     kp2_G34 = (seventh_cycle[i][4] >= 7.5) & (seventh_cycle[i][4]<8)\n",
    "#     kp3_G34 = (seventh_cycle[i][5] >= 7.5) & (seventh_cycle[i][5]<8)\n",
    "#     kp4_G34 = (seventh_cycle[i][6] >= 7.5) & (seventh_cycle[i][6]<8)\n",
    "#     kp5_G34 = (seventh_cycle[i][7] >= 7.5) & (seventh_cycle[i][7]<8)\n",
    "#     kp6_G34 = (seventh_cycle[i][8] >= 7.5) & (seventh_cycle[i][8]<8)\n",
    "#     kp7_G34 = (seventh_cycle[i][9] >= 7.5) & (seventh_cycle[i][9]<8)\n",
    "#     kp8_G34 = (seventh_cycle[i][10] >= 7.5) & (seventh_cycle[i][10]<8)\n",
    "    \n",
    "    kp1_G4 = (seventh_cycle[i][3] >= 8) & (seventh_cycle[i][3]<=9)\n",
    "    kp2_G4 = (seventh_cycle[i][4] >= 8) & (seventh_cycle[i][4]<=9)\n",
    "    kp3_G4 = (seventh_cycle[i][5] >= 8) & (seventh_cycle[i][5]<=9)\n",
    "    kp4_G4 = (seventh_cycle[i][6] >= 8) & (seventh_cycle[i][6]<=9)\n",
    "    kp5_G4 = (seventh_cycle[i][7] >= 8) & (seventh_cycle[i][7]<=9)\n",
    "    kp6_G4 = (seventh_cycle[i][8] >= 8) & (seventh_cycle[i][8]<=9)\n",
    "    kp7_G4 = (seventh_cycle[i][9] >= 8) & (seventh_cycle[i][9]<=9)\n",
    "    kp8_G4 = (seventh_cycle[i][10] >= 8) & (seventh_cycle[i][10]<=9)\n",
    "    \n",
    "    kp1_G5 = (seventh_cycle[i][3] > 9)\n",
    "    kp2_G5 = (seventh_cycle[i][4] > 9)\n",
    "    kp3_G5 = (seventh_cycle[i][5] > 9)\n",
    "    kp4_G5 = (seventh_cycle[i][6] > 9)\n",
    "    kp5_G5 = (seventh_cycle[i][7] > 9)\n",
    "    kp6_G5 = (seventh_cycle[i][8] > 9)\n",
    "    kp7_G5 = (seventh_cycle[i][9] > 9)\n",
    "    kp8_G5 = (seventh_cycle[i][10] > 9)\n",
    "    \n",
    "    if(kp1_G5 | kp2_G5 | kp3_G5 | kp4_G5 | kp5_G5 | kp6_G5 | kp7_G5 | kp8_G5):\n",
    "        seventh_cycle_G5.append([seventh_cycle[i][0],seventh_cycle[i][1],seventh_cycle[i][2],seventh_cycle[i][3],seventh_cycle[i][4],seventh_cycle[i][5],seventh_cycle[i][6], \\\n",
    "                  seventh_cycle[i][7],seventh_cycle[i][8],seventh_cycle[i][9],seventh_cycle[i][10]])\n",
    "    elif(kp1_G4 | kp2_G4 | kp3_G4 | kp4_G4 | kp5_G4 | kp6_G4 | kp7_G4 | kp8_G4):\n",
    "        seventh_cycle_G4.append([seventh_cycle[i][0],seventh_cycle[i][1],seventh_cycle[i][2],seventh_cycle[i][3],seventh_cycle[i][4],seventh_cycle[i][5],seventh_cycle[i][6], \\\n",
    "                  seventh_cycle[i][7],seventh_cycle[i][8],seventh_cycle[i][9],seventh_cycle[i][10]])\n",
    "#     elif(kp1_G34 | kp2_G34 | kp3_G34 | kp4_G34 | kp5_G34 | kp6_G34 | kp7_G34 | kp8_G34):\n",
    "#         G34.append([seventh_cycle[i][0],seventh_cycle[i][1],seventh_cycle[i][2],seventh_cycle[i][3],seventh_cycle[i][4],seventh_cycle[i][5],seventh_cycle[i][6], \\\n",
    "#                   seventh_cycle[i][7],seventh_cycle[i][8],seventh_cycle[i][9],seventh_cycle[i][10]])\n",
    "    elif(kp1_G3 | kp2_G3 | kp3_G3 | kp4_G3 | kp5_G3 | kp6_G3 | kp7_G3 | kp8_G3):\n",
    "        seventh_cycle_G3.append([seventh_cycle[i][0],seventh_cycle[i][1],seventh_cycle[i][2],seventh_cycle[i][3],seventh_cycle[i][4],seventh_cycle[i][5],seventh_cycle[i][6], \\\n",
    "                  seventh_cycle[i][7],seventh_cycle[i][8],seventh_cycle[i][9],seventh_cycle[i][10]])\n",
    "    elif(kp1_G2 | kp2_G2 | kp3_G2 | kp4_G2 | kp5_G2 | kp6_G2 | kp7_G2 | kp8_G2):\n",
    "        seventh_cycle_G2.append([seventh_cycle[i][0],seventh_cycle[i][1],seventh_cycle[i][2],seventh_cycle[i][3],seventh_cycle[i][4],seventh_cycle[i][5],seventh_cycle[i][6], \\\n",
    "                  seventh_cycle[i][7],seventh_cycle[i][8],seventh_cycle[i][9],seventh_cycle[i][10]])\n",
    "    elif(kp1_G1 | kp2_G1 | kp3_G1 | kp4_G1 | kp5_G1 | kp6_G1 | kp7_G1 | kp8_G1):\n",
    "        seventh_cycle_G1.append([seventh_cycle[i][0],seventh_cycle[i][1],seventh_cycle[i][2],seventh_cycle[i][3],seventh_cycle[i][4],seventh_cycle[i][5],seventh_cycle[i][6], \\\n",
    "                  seventh_cycle[i][7],seventh_cycle[i][8],seventh_cycle[i][9],seventh_cycle[i][10]])"
   ]
  },
  {
   "cell_type": "code",
   "execution_count": null,
   "id": "e3acc1df",
   "metadata": {
    "pycharm": {
     "name": "#%%\n"
    }
   },
   "outputs": [],
   "source": [
    "eighth_cycle_G1 = []\n",
    "eighth_cycle_G2 = []\n",
    "eighth_cycle_G3 = []\n",
    "eighth_cycle_G4 = []\n",
    "eighth_cycle_G5 = []\n",
    "for i in range(len(eighth_cycle)):\n",
    "    kp1_G1 = (eighth_cycle[i][3] >= 5) & (eighth_cycle[i][3]<6)\n",
    "    kp2_G1 = (eighth_cycle[i][4] >= 5) & (eighth_cycle[i][4]<6)\n",
    "    kp3_G1 = (eighth_cycle[i][5] >= 5) & (eighth_cycle[i][5]<6)\n",
    "    kp4_G1 = (eighth_cycle[i][6] >= 5) & (eighth_cycle[i][6]<6)\n",
    "    kp5_G1 = (eighth_cycle[i][7] >= 5) & (eighth_cycle[i][7]<6)\n",
    "    kp6_G1 = (eighth_cycle[i][8] >= 5) & (eighth_cycle[i][8]<6)\n",
    "    kp7_G1 = (eighth_cycle[i][9] >= 5) & (eighth_cycle[i][9]<6)\n",
    "    kp8_G1 = (eighth_cycle[i][10] >= 5) & (eighth_cycle[i][10]<6)\n",
    "    \n",
    "    kp1_G2 = (eighth_cycle[i][3] >= 6) & (eighth_cycle[i][3]<7)\n",
    "    kp2_G2 = (eighth_cycle[i][4] >= 6) & (eighth_cycle[i][4]<7)\n",
    "    kp3_G2 = (eighth_cycle[i][5] >= 6) & (eighth_cycle[i][5]<7)\n",
    "    kp4_G2 = (eighth_cycle[i][6] >= 6) & (eighth_cycle[i][6]<7)\n",
    "    kp5_G2 = (eighth_cycle[i][7] >= 6) & (eighth_cycle[i][7]<7)\n",
    "    kp6_G2 = (eighth_cycle[i][8] >= 6) & (eighth_cycle[i][8]<7)\n",
    "    kp7_G2 = (eighth_cycle[i][9] >= 6) & (eighth_cycle[i][9]<7)\n",
    "    kp8_G2 = (eighth_cycle[i][10] >= 6) & (eighth_cycle[i][10]<7)\n",
    "    \n",
    "    kp1_G3 = (eighth_cycle[i][3] >= 7) & (eighth_cycle[i][3]<8)\n",
    "    kp2_G3 = (eighth_cycle[i][4] >= 7) & (eighth_cycle[i][4]<8)\n",
    "    kp3_G3 = (eighth_cycle[i][5] >= 7) & (eighth_cycle[i][5]<8)\n",
    "    kp4_G3 = (eighth_cycle[i][6] >= 7) & (eighth_cycle[i][6]<8)\n",
    "    kp5_G3 = (eighth_cycle[i][7] >= 7) & (eighth_cycle[i][7]<8)\n",
    "    kp6_G3 = (eighth_cycle[i][8] >= 7) & (eighth_cycle[i][8]<8)\n",
    "    kp7_G3 = (eighth_cycle[i][9] >= 7) & (eighth_cycle[i][9]<8)\n",
    "    kp8_G3 = (eighth_cycle[i][10] >= 7) & (eighth_cycle[i][10]<8)\n",
    "    \n",
    "#     kp1_G34 = (eighth_cycle[i][3] >= 7.5) & (eighth_cycle[i][3]<8)\n",
    "#     kp2_G34 = (eighth_cycle[i][4] >= 7.5) & (eighth_cycle[i][4]<8)\n",
    "#     kp3_G34 = (eighth_cycle[i][5] >= 7.5) & (eighth_cycle[i][5]<8)\n",
    "#     kp4_G34 = (eighth_cycle[i][6] >= 7.5) & (eighth_cycle[i][6]<8)\n",
    "#     kp5_G34 = (eighth_cycle[i][7] >= 7.5) & (eighth_cycle[i][7]<8)\n",
    "#     kp6_G34 = (eighth_cycle[i][8] >= 7.5) & (eighth_cycle[i][8]<8)\n",
    "#     kp7_G34 = (eighth_cycle[i][9] >= 7.5) & (eighth_cycle[i][9]<8)\n",
    "#     kp8_G34 = (eighth_cycle[i][10] >= 7.5) & (eighth_cycle[i][10]<8)\n",
    "    \n",
    "    kp1_G4 = (eighth_cycle[i][3] >= 8) & (eighth_cycle[i][3]<=9)\n",
    "    kp2_G4 = (eighth_cycle[i][4] >= 8) & (eighth_cycle[i][4]<=9)\n",
    "    kp3_G4 = (eighth_cycle[i][5] >= 8) & (eighth_cycle[i][5]<=9)\n",
    "    kp4_G4 = (eighth_cycle[i][6] >= 8) & (eighth_cycle[i][6]<=9)\n",
    "    kp5_G4 = (eighth_cycle[i][7] >= 8) & (eighth_cycle[i][7]<=9)\n",
    "    kp6_G4 = (eighth_cycle[i][8] >= 8) & (eighth_cycle[i][8]<=9)\n",
    "    kp7_G4 = (eighth_cycle[i][9] >= 8) & (eighth_cycle[i][9]<=9)\n",
    "    kp8_G4 = (eighth_cycle[i][10] >= 8) & (eighth_cycle[i][10]<=9)\n",
    "    \n",
    "    kp1_G5 = (eighth_cycle[i][3] > 9)\n",
    "    kp2_G5 = (eighth_cycle[i][4] > 9)\n",
    "    kp3_G5 = (eighth_cycle[i][5] > 9)\n",
    "    kp4_G5 = (eighth_cycle[i][6] > 9)\n",
    "    kp5_G5 = (eighth_cycle[i][7] > 9)\n",
    "    kp6_G5 = (eighth_cycle[i][8] > 9)\n",
    "    kp7_G5 = (eighth_cycle[i][9] > 9)\n",
    "    kp8_G5 = (eighth_cycle[i][10] > 9)\n",
    "    \n",
    "    if(kp1_G5 | kp2_G5 | kp3_G5 | kp4_G5 | kp5_G5 | kp6_G5 | kp7_G5 | kp8_G5):\n",
    "        eighth_cycle_G5.append([eighth_cycle[i][0],eighth_cycle[i][1],eighth_cycle[i][2],eighth_cycle[i][3],eighth_cycle[i][4],eighth_cycle[i][5],eighth_cycle[i][6], \\\n",
    "                  eighth_cycle[i][7],eighth_cycle[i][8],eighth_cycle[i][9],eighth_cycle[i][10]])\n",
    "    elif(kp1_G4 | kp2_G4 | kp3_G4 | kp4_G4 | kp5_G4 | kp6_G4 | kp7_G4 | kp8_G4):\n",
    "        eighth_cycle_G4.append([eighth_cycle[i][0],eighth_cycle[i][1],eighth_cycle[i][2],eighth_cycle[i][3],eighth_cycle[i][4],eighth_cycle[i][5],eighth_cycle[i][6], \\\n",
    "                  eighth_cycle[i][7],eighth_cycle[i][8],eighth_cycle[i][9],eighth_cycle[i][10]])\n",
    "#     elif(kp1_G34 | kp2_G34 | kp3_G34 | kp4_G34 | kp5_G34 | kp6_G34 | kp7_G34 | kp8_G34):\n",
    "#         G34.append([eighth_cycle[i][0],eighth_cycle[i][1],eighth_cycle[i][2],eighth_cycle[i][3],eighth_cycle[i][4],eighth_cycle[i][5],eighth_cycle[i][6], \\\n",
    "#                   eighth_cycle[i][7],eighth_cycle[i][8],eighth_cycle[i][9],eighth_cycle[i][10]])\n",
    "    elif(kp1_G3 | kp2_G3 | kp3_G3 | kp4_G3 | kp5_G3 | kp6_G3 | kp7_G3 | kp8_G3):\n",
    "        eighth_cycle_G3.append([eighth_cycle[i][0],eighth_cycle[i][1],eighth_cycle[i][2],eighth_cycle[i][3],eighth_cycle[i][4],eighth_cycle[i][5],eighth_cycle[i][6], \\\n",
    "                  eighth_cycle[i][7],eighth_cycle[i][8],eighth_cycle[i][9],eighth_cycle[i][10]])\n",
    "    elif(kp1_G2 | kp2_G2 | kp3_G2 | kp4_G2 | kp5_G2 | kp6_G2 | kp7_G2 | kp8_G2):\n",
    "        eighth_cycle_G2.append([eighth_cycle[i][0],eighth_cycle[i][1],eighth_cycle[i][2],eighth_cycle[i][3],eighth_cycle[i][4],eighth_cycle[i][5],eighth_cycle[i][6], \\\n",
    "                  eighth_cycle[i][7],eighth_cycle[i][8],eighth_cycle[i][9],eighth_cycle[i][10]])\n",
    "    elif(kp1_G1 | kp2_G1 | kp3_G1 | kp4_G1 | kp5_G1 | kp6_G1 | kp7_G1 | kp8_G1):\n",
    "        eighth_cycle_G1.append([eighth_cycle[i][0],eighth_cycle[i][1],eighth_cycle[i][2],eighth_cycle[i][3],eighth_cycle[i][4],eighth_cycle[i][5],eighth_cycle[i][6], \\\n",
    "                  eighth_cycle[i][7],eighth_cycle[i][8],eighth_cycle[i][9],eighth_cycle[i][10]])"
   ]
  },
  {
   "cell_type": "code",
   "execution_count": null,
   "id": "873fe831",
   "metadata": {
    "pycharm": {
     "name": "#%%\n"
    }
   },
   "outputs": [],
   "source": [
    "len(third_cycle)"
   ]
  },
  {
   "cell_type": "code",
   "execution_count": null,
   "id": "48de17c9",
   "metadata": {
    "pycharm": {
     "name": "#%%\n"
    }
   },
   "outputs": [],
   "source": [
    "print(len(first_cycle))\n",
    "print(len(second_cycle))\n",
    "print(len(third_cycle))\n",
    "print(len(fourth_cycle))\n",
    "print(len(fifth_cycle))\n",
    "print(len(sixth_cycle))\n",
    "print(len(seventh_cycle))\n",
    "print(len(eighth_cycle))"
   ]
  },
  {
   "cell_type": "code",
   "execution_count": null,
   "id": "6c9eba60",
   "metadata": {
    "pycharm": {
     "name": "#%%\n"
    }
   },
   "outputs": [],
   "source": [
    "print(len(first_cycle_G1))\n",
    "print(len(second_cycle_G1))\n",
    "print(len(third_cycle_G1))\n",
    "print(len(fourth_cycle_G1))\n",
    "print(len(fifth_cycle_G1))\n",
    "print(len(sixth_cycle_G1))\n",
    "print(len(seventh_cycle_G1))\n",
    "print(len(eighth_cycle_G1))"
   ]
  },
  {
   "cell_type": "code",
   "execution_count": null,
   "id": "6c199d8f",
   "metadata": {
    "pycharm": {
     "name": "#%%\n"
    }
   },
   "outputs": [],
   "source": [
    "print(len(first_cycle_G2))\n",
    "print(len(second_cycle_G2))\n",
    "print(len(third_cycle_G2))\n",
    "print(len(fourth_cycle_G2))\n",
    "print(len(fifth_cycle_G2))\n",
    "print(len(sixth_cycle_G2))\n",
    "print(len(seventh_cycle_G2))\n",
    "print(len(eighth_cycle_G2))"
   ]
  },
  {
   "cell_type": "code",
   "execution_count": null,
   "id": "591cdc4a",
   "metadata": {
    "pycharm": {
     "name": "#%%\n"
    }
   },
   "outputs": [],
   "source": [
    "print(len(first_cycle_G3))\n",
    "print(len(second_cycle_G3))\n",
    "print(len(third_cycle_G3))\n",
    "print(len(fourth_cycle_G3))\n",
    "print(len(fifth_cycle_G3))\n",
    "print(len(sixth_cycle_G3))\n",
    "print(len(seventh_cycle_G3))\n",
    "print(len(eighth_cycle_G3))"
   ]
  },
  {
   "cell_type": "code",
   "execution_count": null,
   "id": "612f5922",
   "metadata": {
    "pycharm": {
     "name": "#%%\n"
    }
   },
   "outputs": [],
   "source": [
    "print(len(first_cycle_G4))\n",
    "print(len(second_cycle_G4))\n",
    "print(len(third_cycle_G4))\n",
    "print(len(fourth_cycle_G4))\n",
    "print(len(fifth_cycle_G4))\n",
    "print(len(sixth_cycle_G4))\n",
    "print(len(seventh_cycle_G4))\n",
    "print(len(eighth_cycle_G4))"
   ]
  },
  {
   "cell_type": "code",
   "execution_count": null,
   "id": "e0ce83db",
   "metadata": {
    "pycharm": {
     "name": "#%%\n"
    }
   },
   "outputs": [],
   "source": [
    "beginstorms_first =[]\n",
    "for i in range(len(first_cycle)):\n",
    "    temp = []\n",
    "    for j in range(len(first_cycle_begin)):\n",
    "        year_diff = first_cycle[i][0] - first_cycle_begin[j][0]\n",
    "        month_diff = first_cycle[i][1] - first_cycle_begin[j][1]\n",
    "        day_diff = first_cycle[i][2] - first_cycle_begin[j][2]\n",
    "        if((day_diff in range(0,5)) & (month_diff == 0) & (year_diff == 0)):\n",
    "            temp.append(first_cycle_begin[j])\n",
    "    temp.sort()\n",
    "    if(len(temp)>0):\n",
    "        beginstorms_first.append((temp[0]))"
   ]
  },
  {
   "cell_type": "code",
   "execution_count": null,
   "id": "945b50b4",
   "metadata": {
    "pycharm": {
     "name": "#%%\n"
    }
   },
   "outputs": [],
   "source": [
    "endstorms_first =[]\n",
    "for i in range(len(first_cycle)):\n",
    "    temp = []\n",
    "    for j in range(len(first_cycle_end)):\n",
    "        year_diff = first_cycle[i][0] - first_cycle_end[j][0]\n",
    "        month_diff = first_cycle[i][1] - first_cycle_end[j][1]\n",
    "        day_diff = first_cycle[i][2] - first_cycle_end[j][2]\n",
    "        if((day_diff in range(-5,0)) & (month_diff == 0) & (year_diff == 0)):\n",
    "            temp.append(first_cycle_end[j])\n",
    "    temp.sort()\n",
    "    if(len(temp)>0):\n",
    "        endstorms_first.append((temp[-1]))"
   ]
  },
  {
   "cell_type": "code",
   "execution_count": null,
   "id": "eb54d0b8",
   "metadata": {
    "pycharm": {
     "name": "#%%\n"
    }
   },
   "outputs": [],
   "source": []
  },
  {
   "cell_type": "code",
   "execution_count": null,
   "id": "3f7202ad",
   "metadata": {
    "pycharm": {
     "name": "#%%\n"
    }
   },
   "outputs": [],
   "source": [
    "beginstorms_second =[]\n",
    "for i in range(len(second_cycle)):\n",
    "    temp = []\n",
    "    for j in range(len(second_cycle_begin)):\n",
    "        year_diff = second_cycle[i][0] - second_cycle_begin[j][0]\n",
    "        month_diff = second_cycle[i][1] - second_cycle_begin[j][1]\n",
    "        day_diff = second_cycle[i][2] - second_cycle_begin[j][2]\n",
    "        if((day_diff in range(0,5)) & (month_diff == 0) & (year_diff == 0)):\n",
    "            temp.append(second_cycle_begin[j])\n",
    "    temp.sort()\n",
    "    if(len(temp)>0):\n",
    "        beginstorms_second.append((temp[0]))"
   ]
  },
  {
   "cell_type": "code",
   "execution_count": null,
   "id": "aaff238a",
   "metadata": {
    "pycharm": {
     "name": "#%%\n"
    }
   },
   "outputs": [],
   "source": [
    "endstorms_second =[]\n",
    "for i in range(len(second_cycle)):\n",
    "    temp = []\n",
    "    for j in range(len(second_cycle_end)):\n",
    "        year_diff = second_cycle[i][0] - second_cycle_end[j][0]\n",
    "        month_diff = second_cycle[i][1] - second_cycle_end[j][1]\n",
    "        day_diff = second_cycle[i][2] - second_cycle_end[j][2]\n",
    "        if((day_diff in range(-5,0)) & (month_diff == 0) & (year_diff == 0)):\n",
    "            temp.append(second_cycle_end[j])\n",
    "    temp.sort()\n",
    "    if(len(temp)>0):\n",
    "        endstorms_second.append((temp[-1]))"
   ]
  },
  {
   "cell_type": "code",
   "execution_count": null,
   "id": "d4d86879",
   "metadata": {
    "pycharm": {
     "name": "#%%\n"
    }
   },
   "outputs": [],
   "source": []
  },
  {
   "cell_type": "code",
   "execution_count": null,
   "id": "0bc8e30f",
   "metadata": {
    "pycharm": {
     "name": "#%%\n"
    }
   },
   "outputs": [],
   "source": [
    "beginstorms_third =[]\n",
    "for i in range(len(third_cycle)):\n",
    "    temp = []\n",
    "    for j in range(len(third_cycle_begin)):\n",
    "        year_diff = third_cycle[i][0] - third_cycle_begin[j][0]\n",
    "        month_diff = third_cycle[i][1] - third_cycle_begin[j][1]\n",
    "        day_diff = third_cycle[i][2] - third_cycle_begin[j][2]\n",
    "        if((day_diff in range(0,5)) & (month_diff == 0) & (year_diff == 0)):\n",
    "            temp.append(third_cycle_begin[j])\n",
    "    temp.sort()\n",
    "    if(len(temp)>0):\n",
    "        beginstorms_third.append((temp[0]))"
   ]
  },
  {
   "cell_type": "code",
   "execution_count": null,
   "id": "baf3f9c4",
   "metadata": {
    "pycharm": {
     "name": "#%%\n"
    }
   },
   "outputs": [],
   "source": [
    "endstorms_third =[]\n",
    "for i in range(len(third_cycle)):\n",
    "    temp = []\n",
    "    for j in range(len(third_cycle_end)):\n",
    "        year_diff = third_cycle[i][0] - third_cycle_end[j][0]\n",
    "        month_diff = third_cycle[i][1] - third_cycle_end[j][1]\n",
    "        day_diff = third_cycle[i][2] - third_cycle_end[j][2]\n",
    "        if((day_diff in range(-5,0)) & (month_diff == 0) & (year_diff == 0)):\n",
    "            temp.append(third_cycle_end[j])\n",
    "    temp.sort()\n",
    "    if(len(temp)>0):\n",
    "        endstorms_third.append((temp[-1]))"
   ]
  },
  {
   "cell_type": "code",
   "execution_count": null,
   "id": "0e24c593",
   "metadata": {
    "pycharm": {
     "name": "#%%\n"
    }
   },
   "outputs": [],
   "source": []
  },
  {
   "cell_type": "code",
   "execution_count": null,
   "id": "1e631845",
   "metadata": {
    "pycharm": {
     "name": "#%%\n"
    }
   },
   "outputs": [],
   "source": [
    "beginstorms_fourth =[]\n",
    "for i in range(len(fourth_cycle)):\n",
    "    temp = []\n",
    "    for j in range(len(fourth_cycle_begin)):\n",
    "        year_diff = fourth_cycle[i][0] - fourth_cycle_begin[j][0]\n",
    "        month_diff = fourth_cycle[i][1] - fourth_cycle_begin[j][1]\n",
    "        day_diff = fourth_cycle[i][2] - fourth_cycle_begin[j][2]\n",
    "        if((day_diff in range(0,5)) & (month_diff == 0) & (year_diff == 0)):\n",
    "            temp.append(fourth_cycle_begin[j])\n",
    "    temp.sort()\n",
    "    if(len(temp)>0):\n",
    "        beginstorms_fourth.append((temp[0]))"
   ]
  },
  {
   "cell_type": "code",
   "execution_count": null,
   "id": "b2ca62d2",
   "metadata": {
    "pycharm": {
     "name": "#%%\n"
    }
   },
   "outputs": [],
   "source": [
    "endstorms_fourth =[]\n",
    "for i in range(len(fourth_cycle)):\n",
    "    temp = []\n",
    "    for j in range(len(fourth_cycle_end)):\n",
    "        year_diff = fourth_cycle[i][0] - fourth_cycle_end[j][0]\n",
    "        month_diff = fourth_cycle[i][1] - fourth_cycle_end[j][1]\n",
    "        day_diff = fourth_cycle[i][2] - fourth_cycle_end[j][2]\n",
    "        if((day_diff in range(-5,0)) & (month_diff == 0) & (year_diff == 0)):\n",
    "            temp.append(fourth_cycle_end[j])\n",
    "    temp.sort()\n",
    "    if(len(temp)>0):\n",
    "        endstorms_fourth.append((temp[-1]))"
   ]
  },
  {
   "cell_type": "code",
   "execution_count": null,
   "id": "683adddc",
   "metadata": {
    "pycharm": {
     "name": "#%%\n"
    }
   },
   "outputs": [],
   "source": []
  },
  {
   "cell_type": "code",
   "execution_count": null,
   "id": "4844698e",
   "metadata": {
    "pycharm": {
     "name": "#%%\n"
    }
   },
   "outputs": [],
   "source": [
    "beginstorms_fifth =[]\n",
    "for i in range(len(fifth_cycle)):\n",
    "    temp = []\n",
    "    for j in range(len(fifth_cycle_begin)):\n",
    "        year_diff = fifth_cycle[i][0] - fifth_cycle_begin[j][0]\n",
    "        month_diff = fifth_cycle[i][1] - fifth_cycle_begin[j][1]\n",
    "        day_diff = fifth_cycle[i][2] - fifth_cycle_begin[j][2]\n",
    "        if((day_diff in range(0,5)) & (month_diff == 0) & (year_diff == 0)):\n",
    "            temp.append(fifth_cycle_begin[j])\n",
    "    temp.sort()\n",
    "    if(len(temp)>0):\n",
    "        beginstorms_fifth.append((temp[0]))"
   ]
  },
  {
   "cell_type": "code",
   "execution_count": null,
   "id": "25782701",
   "metadata": {
    "pycharm": {
     "name": "#%%\n"
    }
   },
   "outputs": [],
   "source": [
    "endstorms_fifth =[]\n",
    "for i in range(len(fifth_cycle)):\n",
    "    temp = []\n",
    "    for j in range(len(fifth_cycle_end)):\n",
    "        year_diff = fifth_cycle[i][0] - fifth_cycle_end[j][0]\n",
    "        month_diff = fifth_cycle[i][1] - fifth_cycle_end[j][1]\n",
    "        day_diff = fifth_cycle[i][2] - fifth_cycle_end[j][2]\n",
    "        if((day_diff in range(-5,0)) & (month_diff == 0) & (year_diff == 0)):\n",
    "            temp.append(fifth_cycle_end[j])\n",
    "    temp.sort()\n",
    "    if(len(temp)>0):\n",
    "        endstorms_fifth.append((temp[-1]))"
   ]
  },
  {
   "cell_type": "code",
   "execution_count": null,
   "id": "76d5abde",
   "metadata": {
    "pycharm": {
     "name": "#%%\n"
    }
   },
   "outputs": [],
   "source": [
    "beginstorms_sixth =[]\n",
    "for i in range(len(sixth_cycle)):\n",
    "    temp = []\n",
    "    for j in range(len(sixth_cycle_begin)):\n",
    "        year_diff = sixth_cycle[i][0] - sixth_cycle_begin[j][0]\n",
    "        month_diff = sixth_cycle[i][1] - sixth_cycle_begin[j][1]\n",
    "        day_diff = sixth_cycle[i][2] - sixth_cycle_begin[j][2]\n",
    "        if((day_diff in range(0,5)) & (month_diff == 0) & (year_diff == 0)):\n",
    "            temp.append(sixth_cycle_begin[j])\n",
    "    temp.sort()\n",
    "    if(len(temp)>0):\n",
    "        beginstorms_sixth.append((temp[0]))"
   ]
  },
  {
   "cell_type": "code",
   "execution_count": null,
   "id": "394fa7e2",
   "metadata": {
    "pycharm": {
     "name": "#%%\n"
    }
   },
   "outputs": [],
   "source": [
    "endstorms_sixth =[]\n",
    "for i in range(len(sixth_cycle)):\n",
    "    temp = []\n",
    "    for j in range(len(sixth_cycle_end)):\n",
    "        year_diff = sixth_cycle[i][0] - sixth_cycle_end[j][0]\n",
    "        month_diff = sixth_cycle[i][1] - sixth_cycle_end[j][1]\n",
    "        day_diff = sixth_cycle[i][2] - sixth_cycle_end[j][2]\n",
    "        if((day_diff in range(-5,0)) & (month_diff == 0) & (year_diff == 0)):\n",
    "            temp.append(sixth_cycle_end[j])\n",
    "    temp.sort()\n",
    "    if(len(temp)>0):\n",
    "        endstorms_sixth.append((temp[-1]))"
   ]
  },
  {
   "cell_type": "code",
   "execution_count": null,
   "id": "4ae31e37",
   "metadata": {
    "pycharm": {
     "name": "#%%\n"
    }
   },
   "outputs": [],
   "source": []
  },
  {
   "cell_type": "code",
   "execution_count": null,
   "id": "227e6af1",
   "metadata": {
    "pycharm": {
     "name": "#%%\n"
    }
   },
   "outputs": [],
   "source": [
    "beginstorms_seventh =[]\n",
    "for i in range(len(seventh_cycle)):\n",
    "    temp = []\n",
    "    for j in range(len(seventh_cycle_begin)):\n",
    "        year_diff = seventh_cycle[i][0] - seventh_cycle_begin[j][0]\n",
    "        month_diff = seventh_cycle[i][1] - seventh_cycle_begin[j][1]\n",
    "        day_diff = seventh_cycle[i][2] - seventh_cycle_begin[j][2]\n",
    "        if((day_diff in range(0,5)) & (month_diff == 0) & (year_diff == 0)):\n",
    "            temp.append(seventh_cycle_begin[j])\n",
    "    temp.sort()\n",
    "    if(len(temp)>0):\n",
    "        beginstorms_seventh.append((temp[0]))"
   ]
  },
  {
   "cell_type": "code",
   "execution_count": null,
   "id": "e7b2fbe2",
   "metadata": {
    "pycharm": {
     "name": "#%%\n"
    }
   },
   "outputs": [],
   "source": [
    "endstorms_seventh =[]\n",
    "for i in range(len(seventh_cycle)):\n",
    "    temp = []\n",
    "    for j in range(len(seventh_cycle_end)):\n",
    "        year_diff = seventh_cycle[i][0] - seventh_cycle_end[j][0]\n",
    "        month_diff = seventh_cycle[i][1] - seventh_cycle_end[j][1]\n",
    "        day_diff = seventh_cycle[i][2] - seventh_cycle_end[j][2]\n",
    "        if((day_diff in range(-5,0)) & (month_diff == 0) & (year_diff == 0)):\n",
    "            temp.append(seventh_cycle_end[j])\n",
    "    temp.sort()\n",
    "    if(len(temp)>0):\n",
    "        endstorms_seventh.append((temp[-1]))"
   ]
  },
  {
   "cell_type": "code",
   "execution_count": null,
   "id": "a97a1a32",
   "metadata": {
    "pycharm": {
     "name": "#%%\n"
    }
   },
   "outputs": [],
   "source": []
  },
  {
   "cell_type": "code",
   "execution_count": null,
   "id": "c971baed",
   "metadata": {
    "pycharm": {
     "name": "#%%\n"
    }
   },
   "outputs": [],
   "source": [
    "beginstorms_eighth =[]\n",
    "for i in range(len(eighth_cycle)):\n",
    "    temp = []\n",
    "    for j in range(len(eighth_cycle_begin)):\n",
    "        year_diff = eighth_cycle[i][0] - eighth_cycle_begin[j][0]\n",
    "        month_diff = eighth_cycle[i][1] - eighth_cycle_begin[j][1]\n",
    "        day_diff = eighth_cycle[i][2] - eighth_cycle_begin[j][2]\n",
    "        if((day_diff in range(0,5)) & (month_diff == 0) & (year_diff == 0)):\n",
    "            temp.append(eighth_cycle_begin[j])\n",
    "    temp.sort()\n",
    "    if(len(temp)>0):\n",
    "        beginstorms_eighth.append((temp[0]))"
   ]
  },
  {
   "cell_type": "code",
   "execution_count": null,
   "id": "ae5d0b13",
   "metadata": {
    "pycharm": {
     "name": "#%%\n"
    }
   },
   "outputs": [],
   "source": [
    "endstorms_eighth =[]\n",
    "for i in range(len(eighth_cycle)):\n",
    "    temp = []\n",
    "    for j in range(len(eighth_cycle_end)):\n",
    "        year_diff = eighth_cycle[i][0] - eighth_cycle_end[j][0]\n",
    "        month_diff = eighth_cycle[i][1] - eighth_cycle_end[j][1]\n",
    "        day_diff = eighth_cycle[i][2] - eighth_cycle_end[j][2]\n",
    "        if((day_diff in range(-5,0)) & (month_diff == 0) & (year_diff == 0)):\n",
    "            temp.append(eighth_cycle_end[j])\n",
    "    temp.sort()\n",
    "    if(len(temp)>0):\n",
    "        endstorms_eighth.append((temp[-1]))"
   ]
  },
  {
   "cell_type": "code",
   "execution_count": null,
   "id": "f529e300",
   "metadata": {
    "pycharm": {
     "name": "#%%\n"
    }
   },
   "outputs": [],
   "source": []
  },
  {
   "cell_type": "code",
   "execution_count": null,
   "id": "2f678c32",
   "metadata": {
    "pycharm": {
     "name": "#%%\n"
    }
   },
   "outputs": [],
   "source": [
    "StormTime_first = []\n",
    "Times_first = []\n",
    "count_first = 0\n",
    "for i in range(len(first_cycle)):\n",
    "    begin_bool = False\n",
    "    end_bool = False\n",
    "    for j in range(len(beginstorms_first)):\n",
    "        year_diff = first_cycle[i][0] - beginstorms_first[j][0]\n",
    "        month_diff = first_cycle[i][1] - beginstorms_first[j][1]\n",
    "        day_diff = first_cycle[i][2] - beginstorms_first[j][2]\n",
    "        if((year_diff == 0) & (month_diff == 0) & (day_diff in range(0,5))):\n",
    "            begin_bool = True\n",
    "            break\n",
    "    for k in range(len(endstorms_first)):\n",
    "        year_diff2 = first_cycle[i][0] - endstorms_first[k][0]\n",
    "        month_diff2 = first_cycle[i][1] - endstorms_first[k][1]\n",
    "        day_diff2 = first_cycle[i][2] - endstorms_first[k][2]\n",
    "        if((year_diff2 == 0 ) & (month_diff2 == 0) & (day_diff2 in range(-5,0))):\n",
    "            end_bool = True\n",
    "            break\n",
    "    if(begin_bool & end_bool):\n",
    "        timeday_diff = endstorms_first[k][2] - beginstorms_first[j][2]+1\n",
    "    elif(begin_bool & (~end_bool)):\n",
    "        timeday_diff = first_cycle[i][2] - beginstorms_first[j][2]+1\n",
    "    elif(end_bool & ~begin_bool):\n",
    "        timeday_diff = endstorms_first[k][2] - first_cycle[i][2]+1\n",
    "    else:\n",
    "        timeday_diff = 1\n",
    "        count_first +=1\n",
    "    StormTime_first.append([first_cycle[i], timeday_diff])     \n",
    "    Times_first.append(timeday_diff)"
   ]
  },
  {
   "cell_type": "code",
   "execution_count": null,
   "id": "78b02515",
   "metadata": {
    "pycharm": {
     "name": "#%%\n"
    }
   },
   "outputs": [],
   "source": [
    "Reduced_ST_first = []\n",
    "StormTime_cfirst = StormTime_first.copy()\n",
    "Next = False\n",
    "for i in range(len(StormTime_cfirst)-1):\n",
    "    if(Next):\n",
    "        Next = False\n",
    "        continue\n",
    "    year_diff = StormTime_cfirst[i+1][0][0] - StormTime_cfirst[i][0][0]\n",
    "    month_diff = StormTime_cfirst[i+1][0][1] - StormTime_cfirst[i][0][1]\n",
    "    day_diff = StormTime_cfirst[i+1][0][2] - StormTime_cfirst[i][0][2]\n",
    "    if((year_diff ==0) & (month_diff == 1) & (day_diff in range(-31,-24))):\n",
    "        Next = True\n",
    "        StormTime_cfirst[i][1] = StormTime_first[i][1] + StormTime_first[i+1][1]\n",
    "        Reduced_ST_first.append(StormTime_cfirst[i])\n",
    "    else:\n",
    "        Next = False\n",
    "        Reduced_ST_first.append(StormTime_cfirst[i])\n",
    "if((~Next)):\n",
    "    Reduced_ST_first.append(StormTime_cfirst[len(StormTime_cfirst)-1])"
   ]
  },
  {
   "cell_type": "code",
   "execution_count": null,
   "id": "e6fb937b",
   "metadata": {
    "pycharm": {
     "name": "#%%\n"
    }
   },
   "outputs": [],
   "source": [
    "Re_Times_first = []\n",
    "for i in range(len(Reduced_ST_first)):\n",
    "    Re_Times_first.append(Reduced_ST_first[i][1])\n",
    "plt.hist(Re_Times_first)"
   ]
  },
  {
   "cell_type": "code",
   "execution_count": null,
   "id": "d8a2e968",
   "metadata": {
    "pycharm": {
     "name": "#%%\n"
    }
   },
   "outputs": [],
   "source": [
    "import math\n",
    "from scipy.stats import gaussian_kde\n",
    "#plt.figure(figsize = (14,11),facecolor=(1, 1, 1))\n",
    "\n",
    "kde = gaussian_kde(Re_Times_first)\n",
    "x = np.linspace(min(Re_Times_first),max(Re_Times_first), num=1000)\n",
    "\n",
    "pdf = kde(x)\n",
    "\n",
    "plt.plot(x,pdf,color='red',linewidth=2)\n",
    "plt.xlabel('Temperature', fontsize = 20)\n",
    "plt.title('PDF G4')"
   ]
  },
  {
   "cell_type": "code",
   "execution_count": null,
   "id": "9502c2d3",
   "metadata": {
    "pycharm": {
     "name": "#%%\n"
    }
   },
   "outputs": [],
   "source": []
  },
  {
   "cell_type": "code",
   "execution_count": null,
   "id": "10d47916",
   "metadata": {
    "pycharm": {
     "name": "#%%\n"
    }
   },
   "outputs": [],
   "source": []
  },
  {
   "cell_type": "code",
   "execution_count": null,
   "id": "84ce7654",
   "metadata": {
    "pycharm": {
     "name": "#%%\n"
    }
   },
   "outputs": [],
   "source": []
  },
  {
   "cell_type": "code",
   "execution_count": null,
   "id": "c15b3dba",
   "metadata": {
    "pycharm": {
     "name": "#%%\n"
    }
   },
   "outputs": [],
   "source": [
    "StormTime_second = []\n",
    "Times_second = []\n",
    "count_second = 0\n",
    "for i in range(len(second_cycle)):\n",
    "    begin_bool = False\n",
    "    end_bool = False\n",
    "    for j in range(len(beginstorms_second)):\n",
    "        year_diff = second_cycle[i][0] - beginstorms_second[j][0]\n",
    "        month_diff = second_cycle[i][1] - beginstorms_second[j][1]\n",
    "        day_diff = second_cycle[i][2] - beginstorms_second[j][2]\n",
    "        if((year_diff == 0) & (month_diff == 0) & (day_diff in range(0,5))):\n",
    "            begin_bool = True\n",
    "            break\n",
    "    for k in range(len(endstorms_second)):\n",
    "        year_diff2 = second_cycle[i][0] - endstorms_second[k][0]\n",
    "        month_diff2 = second_cycle[i][1] - endstorms_second[k][1]\n",
    "        day_diff2 = second_cycle[i][2] - endstorms_second[k][2]\n",
    "        if((year_diff2 == 0 ) & (month_diff2 == 0) & (day_diff2 in range(-5,0))):\n",
    "            end_bool = True\n",
    "            break\n",
    "    if(begin_bool & end_bool):\n",
    "        timeday_diff = endstorms_second[k][2] - beginstorms_second[j][2]+1\n",
    "    elif(begin_bool & (~end_bool)):\n",
    "        timeday_diff = second_cycle[i][2] - beginstorms_second[j][2]+1\n",
    "    elif(end_bool & ~begin_bool):\n",
    "        timeday_diff = endstorms_second[k][2] - second_cycle[i][2]+1\n",
    "    else:\n",
    "        timeday_diff = 1\n",
    "        count_second +=1\n",
    "    StormTime_second.append([second_cycle[i], timeday_diff])     \n",
    "    Times_second.append(timeday_diff)"
   ]
  },
  {
   "cell_type": "code",
   "execution_count": null,
   "id": "c2e1fcbd",
   "metadata": {
    "pycharm": {
     "name": "#%%\n"
    }
   },
   "outputs": [],
   "source": [
    "Reduced_ST_second = []\n",
    "StormTime_csecond = StormTime_csecond.copy()\n",
    "Next = False\n",
    "for i in range(len(StormTime_csecond)-1):\n",
    "    if(Next):\n",
    "        Next = False\n",
    "        continue\n",
    "    year_diff = StormTime_csecond[i+1][0][0] - StormTime_csecond[i][0][0]\n",
    "    month_diff = StormTime_csecond[i+1][0][1] - StormTime_csecond[i][0][1]\n",
    "    day_diff = StormTime_csecond[i+1][0][2] - StormTime_csecond[i][0][2]\n",
    "    if((year_diff ==0) & (month_diff == 1) & (day_diff in range(-31,-24))):\n",
    "        Next = True\n",
    "        StormTime_csecond[i][1] = StormTime_second[i][1] + StormTime_second[i+1][1]\n",
    "        Reduced_ST_second.append(StormTime_csecond[i])\n",
    "    else:\n",
    "        Next = False\n",
    "        Reduced_ST_second.append(StormTime_csecond[i])\n",
    "if((~Next)):\n",
    "    Reduced_ST_second.append(StormTime_csecond[len(StormTime_csecond)-1])"
   ]
  },
  {
   "cell_type": "code",
   "execution_count": null,
   "id": "dbfc23a1",
   "metadata": {
    "pycharm": {
     "name": "#%%\n"
    }
   },
   "outputs": [],
   "source": [
    "Re_Times_second = []\n",
    "for i in range(len(Reduced_ST_second)):\n",
    "    Re_Times_second.append(Reduced_ST_second[i][1])\n",
    "plt.hist(Re_Times_second)"
   ]
  },
  {
   "cell_type": "code",
   "execution_count": null,
   "id": "88b7f050",
   "metadata": {
    "pycharm": {
     "name": "#%%\n"
    }
   },
   "outputs": [],
   "source": [
    "StormTime_third = []\n",
    "Times_third = []\n",
    "count_third = 0\n",
    "for i in range(len(third_cycle)):\n",
    "    begin_bool = False\n",
    "    end_bool = False\n",
    "    for j in range(len(third_cycle_begin)):\n",
    "        year_diff = third_cycle[i][0] - third_cycle_begin[j][0]\n",
    "        month_diff = third_cycle[i][1] - third_cycle_begin[j][1]\n",
    "        day_diff = third_cycle[i][2] - third_cycle_begin[j][2]\n",
    "        if((year_diff == 0) & (month_diff == 0) & (day_diff in range(0,5))):\n",
    "            begin_bool = True\n",
    "            break\n",
    "    for k in range(len(third_cycle_end)):\n",
    "        year_diff2 = third_cycle[i][0] - third_cycle_end[k][0]\n",
    "        month_diff2 = third_cycle[i][1] - third_cycle_end[k][1]\n",
    "        day_diff2 = third_cycle[i][2] - third_cycle_end[k][2]\n",
    "        if((year_diff2 == 0 ) & (month_diff2 == 0) & (day_diff2 in range(-5,0))):\n",
    "            end_bool = True\n",
    "            break\n",
    "    if(begin_bool & end_bool):\n",
    "        timeday_diff = third_cycle_end[k][2] - third_cycle_begin[j][2]+1\n",
    "    elif(begin_bool & (~end_bool)):\n",
    "        timeday_diff = third_cycle[i][2] - third_cycle_begin[j][2]+1\n",
    "    elif(end_bool & ~begin_bool):\n",
    "        timeday_diff = third_cycle_end[k][2] - third_cycle[i][2]+1\n",
    "    else:\n",
    "        timeday_diff = 1\n",
    "        count_third +=1\n",
    "        \n",
    "    StormTime_third.append([third_cycle[i], timeday_diff])   \n",
    "    Times_third.append(timeday_diff)"
   ]
  },
  {
   "cell_type": "code",
   "execution_count": null,
   "id": "a78c5ff2",
   "metadata": {
    "pycharm": {
     "name": "#%%\n"
    }
   },
   "outputs": [],
   "source": [
    "Reduced_ST_third = []\n",
    "StormTime_cthird = StormTime_third.copy()\n",
    "Next = False\n",
    "for i in range(len(StormTime_cthird)-1):\n",
    "    if(Next):\n",
    "        Next = False\n",
    "        continue\n",
    "    year_diff = StormTime_cthird[i+1][0][0] - StormTime_cthird[i][0][0]\n",
    "    month_diff = StormTime_cthird[i+1][0][1] - StormTime_cthird[i][0][1]\n",
    "    day_diff = StormTime_cthird[i+1][0][2] - StormTime_cthird[i][0][2]\n",
    "    if((year_diff ==0) & (month_diff == 1) & (day_diff in range(-31,-24))):\n",
    "        Next = True\n",
    "        StormTime_cthird[i][1] = StormTime_third[i][1] + StormTime_third[i+1][1]\n",
    "        Reduced_ST_third.append(StormTime_cthird[i])\n",
    "    else:\n",
    "        Next = False\n",
    "        Reduced_ST_third.append(StormTime_cthird[i])\n",
    "if((~Next)):\n",
    "    Reduced_ST_third.append(StormTime_cthird[len(StormTime_cthird)-1])"
   ]
  },
  {
   "cell_type": "code",
   "execution_count": null,
   "id": "46b1474f",
   "metadata": {
    "pycharm": {
     "name": "#%%\n"
    }
   },
   "outputs": [],
   "source": [
    "Re_Times_third = []\n",
    "for i in range(len(Reduced_ST_third)):\n",
    "    Re_Times_third.append(Reduced_ST_third[i][1])\n",
    "plt.hist(Re_Times_third)"
   ]
  },
  {
   "cell_type": "code",
   "execution_count": null,
   "id": "8441f748",
   "metadata": {
    "pycharm": {
     "name": "#%%\n"
    }
   },
   "outputs": [],
   "source": [
    "Re_Times_third"
   ]
  },
  {
   "cell_type": "code",
   "execution_count": null,
   "id": "418dde55",
   "metadata": {
    "pycharm": {
     "name": "#%%\n"
    }
   },
   "outputs": [],
   "source": [
    "StormTime_fourth = []\n",
    "Times_fourth = []\n",
    "count_fourth =0\n",
    "for i in range(len(fourth_cycle)):\n",
    "    begin_bool = False\n",
    "    end_bool = False\n",
    "    for j in range(len(fourth_cycle_begin)):\n",
    "        year_diff = fourth_cycle[i][0] - fourth_cycle_begin[j][0]\n",
    "        month_diff = fourth_cycle[i][1] - fourth_cycle_begin[j][1]\n",
    "        day_diff = fourth_cycle[i][2] - fourth_cycle_begin[j][2]\n",
    "        if((year_diff == 0) & (month_diff == 0) & (day_diff in range(0,5))):\n",
    "            begin_bool = True\n",
    "            break\n",
    "    for k in range(len(fourth_cycle_end)):\n",
    "        year_diff2 = fourth_cycle[i][0] - fourth_cycle_end[k][0]\n",
    "        month_diff2 = fourth_cycle[i][1] - fourth_cycle_end[k][1]\n",
    "        day_diff2 = fourth_cycle[i][2] - fourth_cycle_end[k][2]\n",
    "        if((year_diff2 == 0 ) & (month_diff2 == 0) & (day_diff2 in range(-5,0))):\n",
    "            end_bool = True\n",
    "            break\n",
    "    if(begin_bool & end_bool):\n",
    "        timeday_diff = fourth_cycle_end[k][2] - fourth_cycle_begin[j][2]+1\n",
    "    elif(begin_bool & (~end_bool)):\n",
    "        timeday_diff = fourth_cycle[i][2] - fourth_cycle_begin[j][2]+1\n",
    "    elif(end_bool & ~begin_bool):\n",
    "        timeday_diff = fourth_cycle_end[k][2] - fourth_cycle[i][2]+1\n",
    "    else:\n",
    "        timeday_diff = 1\n",
    "        count_fourth +=1\n",
    "        \n",
    "    StormTime_fourth.append([fourth_cycle[i], timeday_diff]) \n",
    "    Times_fourth.append(timeday_diff)"
   ]
  },
  {
   "cell_type": "code",
   "execution_count": null,
   "id": "b9699adb",
   "metadata": {
    "pycharm": {
     "name": "#%%\n"
    }
   },
   "outputs": [],
   "source": [
    "Reduced_ST_fourth = []\n",
    "StormTime_cfourth = StormTime_fourth.copy()\n",
    "Next = False\n",
    "for i in range(len(StormTime_cfourth)-1):\n",
    "    if(Next):\n",
    "        Next = False\n",
    "        continue\n",
    "    year_diff = StormTime_cfourth[i+1][0][0] - StormTime_cfourth[i][0][0]\n",
    "    month_diff = StormTime_cfourth[i+1][0][1] - StormTime_cfourth[i][0][1]\n",
    "    day_diff = StormTime_cfourth[i+1][0][2] - StormTime_cfourth[i][0][2]\n",
    "    if((year_diff ==0) & (month_diff == 1) & (day_diff in range(-31,-24))):\n",
    "        Next = True\n",
    "        StormTime_cfourth[i][1] = StormTime_fourth[i][1] + StormTime_fourth[i+1][1]\n",
    "        Reduced_ST_fourth.append(StormTime_cfourth[i])\n",
    "    else:\n",
    "        Next = False\n",
    "        Reduced_ST_fourth.append(StormTime_cfourth[i])\n",
    "if((~Next)):\n",
    "    Reduced_ST_fourth.append(StormTime_cfourth[len(StormTime_cfourth)-1])"
   ]
  },
  {
   "cell_type": "code",
   "execution_count": null,
   "id": "97e85a1d",
   "metadata": {
    "pycharm": {
     "name": "#%%\n"
    }
   },
   "outputs": [],
   "source": [
    "Re_Times_fourth = []\n",
    "for i in range(len(Reduced_ST_fourth)):\n",
    "    Re_Times_fourth.append(Reduced_ST_fourth[i][1])\n",
    "plt.hist(Re_Times_fourth)"
   ]
  },
  {
   "cell_type": "code",
   "execution_count": null,
   "id": "15676ea6",
   "metadata": {
    "pycharm": {
     "name": "#%%\n"
    }
   },
   "outputs": [],
   "source": []
  },
  {
   "cell_type": "code",
   "execution_count": null,
   "id": "a3943c73",
   "metadata": {
    "pycharm": {
     "name": "#%%\n"
    }
   },
   "outputs": [],
   "source": [
    "StormTime_fifth = []\n",
    "Times_fifth = []\n",
    "count_fifth =0\n",
    "for i in range(len(fifth_cycle)):\n",
    "    begin_bool = False\n",
    "    end_bool = False\n",
    "    for j in range(len(fifth_cycle_begin)):\n",
    "        year_diff = fifth_cycle[i][0] - fifth_cycle_begin[j][0]\n",
    "        month_diff = fifth_cycle[i][1] - fifth_cycle_begin[j][1]\n",
    "        day_diff = fifth_cycle[i][2] - fifth_cycle_begin[j][2]\n",
    "        if((year_diff == 0) & (month_diff == 0) & (day_diff in range(0,5))):\n",
    "            begin_bool = True\n",
    "            break\n",
    "    for k in range(len(fifth_cycle_end)):\n",
    "        year_diff2 = fifth_cycle[i][0] - fifth_cycle_end[k][0]\n",
    "        month_diff2 = fifth_cycle[i][1] - fifth_cycle_end[k][1]\n",
    "        day_diff2 = fifth_cycle[i][2] - fifth_cycle_end[k][2]\n",
    "        if((year_diff2 == 0 ) & (month_diff2 == 0) & (day_diff2 in range(-5,0))):\n",
    "            end_bool = True\n",
    "            break\n",
    "    if(begin_bool & end_bool):\n",
    "        timeday_diff = fifth_cycle_end[k][2] - fifth_cycle_begin[j][2]+1\n",
    "    elif(begin_bool & (~end_bool)):\n",
    "        timeday_diff = fifth_cycle[i][2] - fifth_cycle_begin[j][2]+1\n",
    "    elif(end_bool & ~begin_bool):\n",
    "        timeday_diff = fifth_cycle_end[k][2] - fifth_cycle[i][2]+1\n",
    "    else:\n",
    "        timeday_diff = 1\n",
    "        count_fifth +=1\n",
    "        \n",
    "    StormTime_fifth.append([fifth_cycle[i], timeday_diff])\n",
    "    Times_fifth.append(timeday_diff)"
   ]
  },
  {
   "cell_type": "code",
   "execution_count": null,
   "id": "a2f26be1",
   "metadata": {
    "pycharm": {
     "name": "#%%\n"
    }
   },
   "outputs": [],
   "source": [
    "Reduced_ST_fifth = []\n",
    "StormTime_cfifth = StormTime_fifth.copy()\n",
    "Next = False\n",
    "for i in range(len(StormTime_cfifth)-1):\n",
    "    if(Next):\n",
    "        Next = False\n",
    "        continue\n",
    "    year_diff = StormTime_cfifth[i+1][0][0] - StormTime_cfifth[i][0][0]\n",
    "    month_diff = StormTime_cfifth[i+1][0][1] - StormTime_cfifth[i][0][1]\n",
    "    day_diff = StormTime_cfifth[i+1][0][2] - StormTime_cfifth[i][0][2]\n",
    "    if((year_diff ==0) & (month_diff == 1) & (day_diff in range(-31,-24))):\n",
    "        Next = True\n",
    "        StormTime_cfifth[i][1] = StormTime_fifth[i][1] + StormTime_fifth[i+1][1]\n",
    "        Reduced_ST_fifth.append(StormTime_cfifth[i])\n",
    "    else:\n",
    "        Next = False\n",
    "        Reduced_ST_fifth.append(StormTime_cfifth[i])\n",
    "if((~Next)):\n",
    "    Reduced_ST_fifth.append(StormTime_cfifth[len(StormTime_cfifth)-1])"
   ]
  },
  {
   "cell_type": "code",
   "execution_count": null,
   "id": "2292a2e0",
   "metadata": {
    "pycharm": {
     "name": "#%%\n"
    }
   },
   "outputs": [],
   "source": [
    "Re_Times_fifth = []\n",
    "for i in range(len(Reduced_ST_fifth)):\n",
    "    Re_Times_fifth.append(Reduced_ST_fifth[i][1])\n",
    "plt.hist(Re_Times_fifth)"
   ]
  },
  {
   "cell_type": "code",
   "execution_count": null,
   "id": "5ef36a28",
   "metadata": {
    "pycharm": {
     "name": "#%%\n"
    }
   },
   "outputs": [],
   "source": []
  },
  {
   "cell_type": "code",
   "execution_count": null,
   "id": "eb4aaa7b",
   "metadata": {
    "pycharm": {
     "name": "#%%\n"
    }
   },
   "outputs": [],
   "source": [
    "StormTime_sixth = []\n",
    "Times_sixth = []\n",
    "count_sixth = 0\n",
    "for i in range(len(sixth_cycle)):\n",
    "    begin_bool = False\n",
    "    end_bool = False\n",
    "    for j in range(len(sixth_cycle_begin)):\n",
    "        year_diff = sixth_cycle[i][0] - sixth_cycle_begin[j][0]\n",
    "        month_diff = sixth_cycle[i][1] - sixth_cycle_begin[j][1]\n",
    "        day_diff = sixth_cycle[i][2] - sixth_cycle_begin[j][2]\n",
    "        if((year_diff == 0) & (month_diff == 0) & (day_diff in range(0,5))):\n",
    "            begin_bool = True\n",
    "            break\n",
    "    for k in range(len(sixth_cycle_end)):\n",
    "        year_diff2 = sixth_cycle[i][0] - sixth_cycle_end[k][0]\n",
    "        month_diff2 = sixth_cycle[i][1] - sixth_cycle_end[k][1]\n",
    "        day_diff2 = sixth_cycle[i][2] - sixth_cycle_end[k][2]\n",
    "        if((year_diff2 == 0 ) & (month_diff2 == 0) & (day_diff2 in range(-5,0))):\n",
    "            end_bool = True\n",
    "            break\n",
    "    if(begin_bool & end_bool):\n",
    "        timeday_diff = sixth_cycle_end[k][2] - sixth_cycle_begin[j][2]+1\n",
    "    elif(begin_bool & (~end_bool)):\n",
    "        timeday_diff = sixth_cycle[i][2] - sixth_cycle_begin[j][2]+1\n",
    "    elif(end_bool & ~begin_bool):\n",
    "        timeday_diff = sixth_cycle_end[k][2] - sixth_cycle[i][2]+1\n",
    "    else:\n",
    "        timeday_diff = 1\n",
    "        count_sixth +=1\n",
    "        \n",
    "    StormTime_sixth.append([sixth_cycle[i], timeday_diff])    \n",
    "    Times_sixth.append(timeday_diff)"
   ]
  },
  {
   "cell_type": "code",
   "execution_count": null,
   "id": "62f62718",
   "metadata": {
    "pycharm": {
     "name": "#%%\n"
    }
   },
   "outputs": [],
   "source": [
    "Reduced_ST_sixth = []\n",
    "StormTime_csixth = StormTime_sixth.copy()\n",
    "Next = False\n",
    "for i in range(len(StormTime_csixth)-1):\n",
    "    if(Next):\n",
    "        Next = False\n",
    "        continue\n",
    "    year_diff = StormTime_csixth[i+1][0][0] - StormTime_csixth[i][0][0]\n",
    "    month_diff = StormTime_csixth[i+1][0][1] - StormTime_csixth[i][0][1]\n",
    "    day_diff = StormTime_csixth[i+1][0][2] - StormTime_csixth[i][0][2]\n",
    "    if((year_diff ==0) & (month_diff == 1) & (day_diff in range(-31,-24))):\n",
    "        Next = True\n",
    "        StormTime_csixth[i][1] = StormTime_sixth[i][1] + StormTime_sixth[i+1][1]\n",
    "        Reduced_ST_sixth.append(StormTime_csixth[i])\n",
    "    else:\n",
    "        Next = False\n",
    "        Reduced_ST_sixth.append(StormTime_csixth[i])\n",
    "if((~Next)):\n",
    "    Reduced_ST_sixth.append(StormTime_csixth[len(StormTime_csixth)-1])"
   ]
  },
  {
   "cell_type": "code",
   "execution_count": null,
   "id": "e30f93b6",
   "metadata": {
    "pycharm": {
     "name": "#%%\n"
    }
   },
   "outputs": [],
   "source": [
    "Re_Times_sixth = []\n",
    "for i in range(len(Reduced_ST_sixth)):\n",
    "    Re_Times_sixth.append(Reduced_ST_sixth[i][1])\n",
    "plt.hist(Re_Times_sixth)"
   ]
  },
  {
   "cell_type": "code",
   "execution_count": null,
   "id": "05d4fd42",
   "metadata": {
    "pycharm": {
     "name": "#%%\n"
    }
   },
   "outputs": [],
   "source": []
  },
  {
   "cell_type": "code",
   "execution_count": null,
   "id": "0c751bb6",
   "metadata": {
    "pycharm": {
     "name": "#%%\n"
    }
   },
   "outputs": [],
   "source": [
    "StormTime_seventh = []\n",
    "Times_seventh = []\n",
    "count_seventh = 0\n",
    "for i in range(len(seventh_cycle)):\n",
    "    begin_bool = False\n",
    "    end_bool = False\n",
    "    for j in range(len(seventh_cycle_begin)):\n",
    "        year_diff = seventh_cycle[i][0] - seventh_cycle_begin[j][0]\n",
    "        month_diff = seventh_cycle[i][1] - seventh_cycle_begin[j][1]\n",
    "        day_diff = seventh_cycle[i][2] - seventh_cycle_begin[j][2]\n",
    "        if((year_diff == 0) & (month_diff == 0) & (day_diff in range(0,5))):\n",
    "            begin_bool = True\n",
    "            break\n",
    "    for k in range(len(seventh_cycle_end)):\n",
    "        year_diff2 = seventh_cycle[i][0] - seventh_cycle_end[k][0]\n",
    "        month_diff2 = seventh_cycle[i][1] - seventh_cycle_end[k][1]\n",
    "        day_diff2 = seventh_cycle[i][2] - seventh_cycle_end[k][2]\n",
    "        if((year_diff2 == 0 ) & (month_diff2 == 0) & (day_diff2 in range(-5,0))):\n",
    "            end_bool = True\n",
    "            break\n",
    "    if(begin_bool & end_bool):\n",
    "        timeday_diff = seventh_cycle_end[k][2] - seventh_cycle_begin[j][2]+1\n",
    "    elif(begin_bool & (~end_bool)):\n",
    "        timeday_diff = seventh_cycle[i][2] - seventh_cycle_begin[j][2] +1\n",
    "    elif(end_bool & ~begin_bool):\n",
    "        timeday_diff = seventh_cycle_end[k][2] - seventh_cycle[i][2] +1\n",
    "    else:\n",
    "        timeday_diff = 1\n",
    "        count_seventh +=1\n",
    "        \n",
    "    StormTime_seventh.append([seventh_cycle[i], timeday_diff])\n",
    "    Times_seventh.append(timeday_diff)"
   ]
  },
  {
   "cell_type": "code",
   "execution_count": null,
   "id": "8458c9d0",
   "metadata": {
    "pycharm": {
     "name": "#%%\n"
    }
   },
   "outputs": [],
   "source": [
    "Reduced_ST_seventh = []\n",
    "StormTime_cseventh = StormTime_seventh.copy()\n",
    "Next = False\n",
    "for i in range(len(StormTime_cseventh)-1):\n",
    "    if(Next):\n",
    "        Next = False\n",
    "        continue\n",
    "    year_diff = StormTime_cseventh[i+1][0][0] - StormTime_cseventh[i][0][0]\n",
    "    month_diff = StormTime_cseventh[i+1][0][1] - StormTime_cseventh[i][0][1]\n",
    "    day_diff = StormTime_cseventh[i+1][0][2] - StormTime_cseventh[i][0][2]\n",
    "    if((year_diff ==0) & (month_diff == 1) & (day_diff in range(-31,-24))):\n",
    "        Next = True\n",
    "        StormTime_cseventh[i][1] = StormTime_seventh[i][1] + StormTime_seventh[i+1][1]\n",
    "        Reduced_ST_seventh.append(StormTime_cseventh[i])\n",
    "    else:\n",
    "        Next = False\n",
    "        Reduced_ST_seventh.append(StormTime_cseventh[i])\n",
    "if((~Next)):\n",
    "    Reduced_ST_seventh.append(StormTime_cseventh[len(StormTime_cseventh)-1])"
   ]
  },
  {
   "cell_type": "code",
   "execution_count": null,
   "id": "cdb5b374",
   "metadata": {
    "pycharm": {
     "name": "#%%\n"
    }
   },
   "outputs": [],
   "source": [
    "Re_Times_seventh = []\n",
    "for i in range(len(Reduced_ST_seventh)):\n",
    "    Re_Times_seventh.append(Reduced_ST_seventh[i][1])\n",
    "plt.hist(Re_Times_seventh)"
   ]
  },
  {
   "cell_type": "code",
   "execution_count": null,
   "id": "8dba1eac",
   "metadata": {
    "pycharm": {
     "name": "#%%\n"
    }
   },
   "outputs": [],
   "source": []
  },
  {
   "cell_type": "code",
   "execution_count": null,
   "id": "825a4af0",
   "metadata": {
    "pycharm": {
     "name": "#%%\n"
    }
   },
   "outputs": [],
   "source": [
    "StormTime_eighth = []\n",
    "Times_eighth = []\n",
    "count_eighth = 0\n",
    "for i in range(len(eighth_cycle)):\n",
    "    begin_bool = False\n",
    "    end_bool = False\n",
    "    for j in range(len(eighth_cycle_begin)):\n",
    "        year_diff = eighth_cycle[i][0] - eighth_cycle_begin[j][0]\n",
    "        month_diff = eighth_cycle[i][1] - eighth_cycle_begin[j][1]\n",
    "        day_diff = eighth_cycle[i][2] - eighth_cycle_begin[j][2]\n",
    "        if((year_diff == 0) & (month_diff == 0) & (day_diff in range(0,5))):\n",
    "            begin_bool = True\n",
    "    for k in range(len(eighth_cycle_end)):\n",
    "        year_diff2 = eighth_cycle[i][0] - eighth_cycle_end[k][0]\n",
    "        month_diff2 = eighth_cycle[i][1] - eighth_cycle_end[k][1]\n",
    "        day_diff2 = eighth_cycle[i][2] - eighth_cycle_end[k][2]\n",
    "        if((year_diff2 == 0 ) & (month_diff2 == 0) & (day_diff2 in range(-5,0))):\n",
    "            end_bool = True\n",
    "    if(begin_bool & end_bool):\n",
    "        timeday_diff = eighth_cycle_end[k][2] - eighth_cycle_begin[j][2] +1\n",
    "    elif(begin_bool & (~end_bool)):\n",
    "        timeday_diff = eighth_cycle[i][2] - eighth_cycle_begin[j][2] + 1\n",
    "    elif(end_bool & (~begin_bool)):\n",
    "        timeday_diff = eighth_cycle_end[k][2] - eighth_cycle[i][2] +1\n",
    "    else:\n",
    "        timeday_diff = 1\n",
    "        count_eighth += 1\n",
    "    StormTime_eighth.append([eighth_cycle[i], timeday_diff])\n",
    "    Times_eighth.append(timeday_diff)"
   ]
  },
  {
   "cell_type": "code",
   "execution_count": null,
   "id": "7b9f01fc",
   "metadata": {
    "pycharm": {
     "name": "#%%\n"
    }
   },
   "outputs": [],
   "source": [
    "Reduced_ST_eighth = []\n",
    "StormTime_ceighth = StormTime_eighth.copy()\n",
    "Next = False\n",
    "for i in range(len(StormTime_ceighth)-1):\n",
    "    if(Next):\n",
    "        Next = False\n",
    "        continue\n",
    "    year_diff = StormTime_ceighth[i+1][0][0] - StormTime_ceighth[i][0][0]\n",
    "    month_diff = StormTime_ceighth[i+1][0][1] - StormTime_ceighth[i][0][1]\n",
    "    day_diff = StormTime_ceighth[i+1][0][2] - StormTime_ceighth[i][0][2]\n",
    "    if((year_diff ==0) & (month_diff == 1) & (day_diff in range(-31,-24))):\n",
    "        Next = True\n",
    "        StormTime_ceighth[i][1] = StormTime_eighth[i][1] + StormTime_eighth[i+1][1]\n",
    "        Reduced_ST_eighth.append(StormTime_ceighth[i])\n",
    "    else:\n",
    "        Next = False\n",
    "        Reduced_ST_eighth.append(StormTime_ceighth[i])\n",
    "if((~Next)):\n",
    "    Reduced_ST_eighth.append(StormTime_ceighth[len(StormTime_ceighth)-1])"
   ]
  },
  {
   "cell_type": "code",
   "execution_count": null,
   "id": "78401171",
   "metadata": {
    "pycharm": {
     "name": "#%%\n"
    }
   },
   "outputs": [],
   "source": [
    "Re_Times_eighth = []\n",
    "for i in range(len(Reduced_ST_eighth)):\n",
    "    Re_Times_eighth.append(Reduced_ST_eighth[i][1])\n",
    "plt.hist(Re_Times_eighth)"
   ]
  },
  {
   "cell_type": "code",
   "execution_count": null,
   "id": "a962b98a",
   "metadata": {
    "pycharm": {
     "name": "#%%\n"
    }
   },
   "outputs": [],
   "source": [
    "StormTime_eighth"
   ]
  },
  {
   "cell_type": "code",
   "execution_count": null,
   "id": "3353d0d1",
   "metadata": {
    "pycharm": {
     "name": "#%%\n"
    }
   },
   "outputs": [],
   "source": [
    "plt.hist(Times_first)"
   ]
  },
  {
   "cell_type": "code",
   "execution_count": null,
   "id": "828cc5ec",
   "metadata": {
    "pycharm": {
     "name": "#%%\n"
    }
   },
   "outputs": [],
   "source": [
    "Re_Times_first = []\n",
    "for i in range(len(Reduced_ST_first)):\n",
    "    Re_Times_first.append(Reduced_ST_first[i][1])\n",
    "plt.hist(Re_Times_first)"
   ]
  },
  {
   "cell_type": "code",
   "execution_count": null,
   "id": "3759a69e",
   "metadata": {
    "pycharm": {
     "name": "#%%\n"
    }
   },
   "outputs": [],
   "source": [
    "Re_Times_eighth"
   ]
  },
  {
   "cell_type": "code",
   "execution_count": null,
   "id": "a8c714f1",
   "metadata": {
    "pycharm": {
     "name": "#%%\n"
    }
   },
   "outputs": [],
   "source": []
  },
  {
   "cell_type": "code",
   "execution_count": null,
   "id": "afe57fee",
   "metadata": {
    "pycharm": {
     "name": "#%%\n"
    }
   },
   "outputs": [],
   "source": []
  }
 ],
 "metadata": {
  "kernelspec": {
   "display_name": "Python 3 (ipykernel)",
   "language": "python",
   "name": "python3"
  },
  "language_info": {
   "codemirror_mode": {
    "name": "ipython",
    "version": 3
   },
   "file_extension": ".py",
   "mimetype": "text/x-python",
   "name": "python",
   "nbconvert_exporter": "python",
   "pygments_lexer": "ipython3",
   "version": "3.9.12"
  }
 },
 "nbformat": 4,
 "nbformat_minor": 5
}